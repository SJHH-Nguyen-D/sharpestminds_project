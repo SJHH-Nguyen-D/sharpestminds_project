{
  "nbformat": 4,
  "nbformat_minor": 0,
  "metadata": {
    "colab": {
      "name": "HW5_sharpestminds_.ipynb",
      "version": "0.3.2",
      "provenance": [],
      "collapsed_sections": [],
      "toc_visible": true
    },
    "kernelspec": {
      "name": "python3",
      "display_name": "Python 3"
    },
    "accelerator": "TPU"
  },
  "cells": [
    {
      "cell_type": "markdown",
      "metadata": {
        "id": "RcWib3nKlYsz",
        "colab_type": "text"
      },
      "source": [
        "# Employee Performance Data Modelling and Prediction"
      ]
    },
    {
      "cell_type": "markdown",
      "metadata": {
        "id": "LLYxlS0_b0Ur",
        "colab_type": "text"
      },
      "source": [
        "## About\n",
        "We try to predict employee performance scores based 300+ employee demographic characteristics. The dataset in question was acquired as part of a homework assignment and comprises of 20,000 employees and 379 employee characteristics, 1 target variable (employee performance score).\n",
        "\n",
        "This note book details the loading, preprocessing, sampling, feature selection, modeling and write up of the pipeline."
      ]
    },
    {
      "cell_type": "markdown",
      "metadata": {
        "id": "oV4K3c0-X3_Y",
        "colab_type": "text"
      },
      "source": [
        "Setting up the notebook settings"
      ]
    },
    {
      "cell_type": "code",
      "metadata": {
        "id": "tGO5nOCvWoqD",
        "colab_type": "code",
        "outputId": "9bb1e1ef-899c-4b28-e169-2612ccf3b436",
        "colab": {
          "base_uri": "https://localhost:8080/",
          "height": 399
        }
      },
      "source": [
        "!--NotebookApp.iopub_data_rate_limit=1e11"
      ],
      "execution_count": 1,
      "outputs": [
        {
          "output_type": "stream",
          "text": [
            "/bin/bash: --: invalid option\n",
            "Usage:\t/bin/bash [GNU long option] [option] ...\n",
            "\t/bin/bash [GNU long option] [option] script-file ...\n",
            "GNU long options:\n",
            "\t--debug\n",
            "\t--debugger\n",
            "\t--dump-po-strings\n",
            "\t--dump-strings\n",
            "\t--help\n",
            "\t--init-file\n",
            "\t--login\n",
            "\t--noediting\n",
            "\t--noprofile\n",
            "\t--norc\n",
            "\t--posix\n",
            "\t--rcfile\n",
            "\t--restricted\n",
            "\t--verbose\n",
            "\t--version\n",
            "Shell options:\n",
            "\t-ilrsD or -c command or -O shopt_option\t\t(invocation only)\n",
            "\t-abefhkmnptuvxBCHP or -o option\n"
          ],
          "name": "stdout"
        }
      ]
    },
    {
      "cell_type": "code",
      "metadata": {
        "id": "Ky7WF9AuBvkv",
        "colab_type": "code",
        "colab": {}
      },
      "source": [
        "import warnings\n",
        "warnings.filterwarnings('ignore') "
      ],
      "execution_count": 0,
      "outputs": []
    },
    {
      "cell_type": "code",
      "metadata": {
        "id": "WLtSU5oT9EDM",
        "colab_type": "code",
        "colab": {}
      },
      "source": [
        "# !pip install jupyter_contrib_nbextensions\n",
        "# !pip install -U ipykernel\n",
        "# !pip install jupyterthemes"
      ],
      "execution_count": 0,
      "outputs": []
    },
    {
      "cell_type": "markdown",
      "metadata": {
        "id": "8AW_r0tMklda",
        "colab_type": "text"
      },
      "source": [
        "# Project Flow Overview\n",
        "\n",
        "1. Load Data\n",
        "2. Cursory Description of Data\n",
        "3. EDA\n",
        "4. Feature Selection/ Extraction\n",
        "5. Modelling\n",
        "6. Prediction\n",
        "7. Optimization\n",
        "8. Modelling\n",
        "9. End Point\n",
        "10. Conclusion and Discussion"
      ]
    },
    {
      "cell_type": "markdown",
      "metadata": {
        "id": "FZdh_qvRlDW0",
        "colab_type": "text"
      },
      "source": [
        "# 1. Load Data"
      ]
    },
    {
      "cell_type": "code",
      "metadata": {
        "id": "N9aXoJbOJdwo",
        "colab_type": "code",
        "outputId": "fde4e734-2f34-4294-e813-8a69d44d7583",
        "colab": {
          "base_uri": "https://localhost:8080/",
          "height": 124
        }
      },
      "source": [
        "# Run this cell to mount your Google Drive.\n",
        "from google.colab import drive\n",
        "drive.mount('/content/drive/')"
      ],
      "execution_count": 4,
      "outputs": [
        {
          "output_type": "stream",
          "text": [
            "Go to this URL in a browser: https://accounts.google.com/o/oauth2/auth?client_id=947318989803-6bn6qk8qdgf4n4g3pfee6491hc0brc4i.apps.googleusercontent.com&redirect_uri=urn%3Aietf%3Awg%3Aoauth%3A2.0%3Aoob&scope=email%20https%3A%2F%2Fwww.googleapis.com%2Fauth%2Fdocs.test%20https%3A%2F%2Fwww.googleapis.com%2Fauth%2Fdrive%20https%3A%2F%2Fwww.googleapis.com%2Fauth%2Fdrive.photos.readonly%20https%3A%2F%2Fwww.googleapis.com%2Fauth%2Fpeopleapi.readonly&response_type=code\n",
            "\n",
            "Enter your authorization code:\n",
            "··········\n",
            "Mounted at /content/drive/\n"
          ],
          "name": "stdout"
        }
      ]
    },
    {
      "cell_type": "code",
      "metadata": {
        "id": "kp1Y4_ViMIGt",
        "colab_type": "code",
        "colab": {}
      },
      "source": [
        "# get colmumn names for main dataset with key from other dataset\n",
        "import pandas as pd\n",
        "pd.set_option('display.max_rows', 500)\n",
        "pd.options.display.max_seq_items = 2000\n",
        "import numpy as np\n",
        "\n",
        "col_names = pd.read_csv(\"/content/drive/My Drive/sharpestminds_dataset/CodeBook-SELECT.csv\")\n",
        "col_names = col_names.loc[:, \"VarName\"].values"
      ],
      "execution_count": 0,
      "outputs": []
    },
    {
      "cell_type": "code",
      "metadata": {
        "id": "r-aic2XAMYZ4",
        "colab_type": "code",
        "outputId": "f568ec77-d5c5-4706-b1f2-e6dde59a3c7a",
        "colab": {
          "base_uri": "https://localhost:8080/",
          "height": 933
        }
      },
      "source": [
        "# load in the actual dataset\n",
        "df = pd.read_csv(\"/content/drive/My Drive/sharpestminds_dataset/hw5-trainingset-cl3770.csv\", header=\"infer\")\n",
        "df.head()"
      ],
      "execution_count": 6,
      "outputs": [
        {
          "output_type": "execute_result",
          "data": {
            "text/html": [
              "<div>\n",
              "<style scoped>\n",
              "    .dataframe tbody tr th:only-of-type {\n",
              "        vertical-align: middle;\n",
              "    }\n",
              "\n",
              "    .dataframe tbody tr th {\n",
              "        vertical-align: top;\n",
              "    }\n",
              "\n",
              "    .dataframe thead th {\n",
              "        text-align: right;\n",
              "    }\n",
              "</style>\n",
              "<table border=\"1\" class=\"dataframe\">\n",
              "  <thead>\n",
              "    <tr style=\"text-align: right;\">\n",
              "      <th></th>\n",
              "      <th>cntryid</th>\n",
              "      <th>cntryid_e</th>\n",
              "      <th>age_r</th>\n",
              "      <th>gender_r</th>\n",
              "      <th>computerexperience</th>\n",
              "      <th>nativespeaker</th>\n",
              "      <th>edlevel3</th>\n",
              "      <th>monthlyincpr</th>\n",
              "      <th>yearlyincpr</th>\n",
              "      <th>lng_home</th>\n",
              "      <th>cnt_h</th>\n",
              "      <th>cnt_brth</th>\n",
              "      <th>reg_tl2</th>\n",
              "      <th>lng_bq</th>\n",
              "      <th>lng_ci</th>\n",
              "      <th>yrsqual</th>\n",
              "      <th>yrsqual_t</th>\n",
              "      <th>yrsget</th>\n",
              "      <th>vet</th>\n",
              "      <th>ctryqual</th>\n",
              "      <th>birthrgn</th>\n",
              "      <th>nativelang</th>\n",
              "      <th>ctryrgn</th>\n",
              "      <th>imyrs</th>\n",
              "      <th>imyrs_c</th>\n",
              "      <th>imyrcat</th>\n",
              "      <th>ageg5lfs</th>\n",
              "      <th>ageg10lfs</th>\n",
              "      <th>ageg10lfs_t</th>\n",
              "      <th>edcat8</th>\n",
              "      <th>edcat7</th>\n",
              "      <th>edcat6</th>\n",
              "      <th>leaver1624</th>\n",
              "      <th>leavedu</th>\n",
              "      <th>fe12</th>\n",
              "      <th>aetpop</th>\n",
              "      <th>faet12</th>\n",
              "      <th>faet12jr</th>\n",
              "      <th>faet12njr</th>\n",
              "      <th>nfe12</th>\n",
              "      <th>...</th>\n",
              "      <th>v253</th>\n",
              "      <th>v132</th>\n",
              "      <th>v284</th>\n",
              "      <th>v267</th>\n",
              "      <th>v260</th>\n",
              "      <th>v26</th>\n",
              "      <th>v171</th>\n",
              "      <th>v14</th>\n",
              "      <th>v7</th>\n",
              "      <th>v240</th>\n",
              "      <th>v186</th>\n",
              "      <th>v162</th>\n",
              "      <th>v149</th>\n",
              "      <th>v228</th>\n",
              "      <th>v28</th>\n",
              "      <th>v237</th>\n",
              "      <th>v280</th>\n",
              "      <th>v175</th>\n",
              "      <th>v288</th>\n",
              "      <th>v15</th>\n",
              "      <th>v208</th>\n",
              "      <th>v43</th>\n",
              "      <th>v27</th>\n",
              "      <th>v114</th>\n",
              "      <th>v191</th>\n",
              "      <th>v170</th>\n",
              "      <th>v65</th>\n",
              "      <th>v57</th>\n",
              "      <th>v177</th>\n",
              "      <th>v69</th>\n",
              "      <th>v85</th>\n",
              "      <th>v50</th>\n",
              "      <th>v89</th>\n",
              "      <th>v127</th>\n",
              "      <th>v239</th>\n",
              "      <th>v224</th>\n",
              "      <th>v71</th>\n",
              "      <th>v105</th>\n",
              "      <th>row</th>\n",
              "      <th>uni</th>\n",
              "    </tr>\n",
              "  </thead>\n",
              "  <tbody>\n",
              "    <tr>\n",
              "      <th>0</th>\n",
              "      <td>Canada</td>\n",
              "      <td>Canada (English)</td>\n",
              "      <td>NaN</td>\n",
              "      <td>Female</td>\n",
              "      <td>Yes</td>\n",
              "      <td>Yes</td>\n",
              "      <td>Medium</td>\n",
              "      <td>50 to less than 75</td>\n",
              "      <td>50 to less than 75</td>\n",
              "      <td>999</td>\n",
              "      <td>NaN</td>\n",
              "      <td>NaN</td>\n",
              "      <td>99999</td>\n",
              "      <td>eng</td>\n",
              "      <td>eng</td>\n",
              "      <td>12.0</td>\n",
              "      <td>12.0</td>\n",
              "      <td>14.0</td>\n",
              "      <td>False</td>\n",
              "      <td>NaN</td>\n",
              "      <td>NaN</td>\n",
              "      <td>Test language same as native language</td>\n",
              "      <td>North America and Western Europe</td>\n",
              "      <td>NaN</td>\n",
              "      <td>NaN</td>\n",
              "      <td>Non-immigrants</td>\n",
              "      <td>Aged 25-29</td>\n",
              "      <td>25-34</td>\n",
              "      <td>25-34</td>\n",
              "      <td>NaN</td>\n",
              "      <td>Upper secondary (ISCED 3A-B, C long)</td>\n",
              "      <td>Upper secondary (ISCED 3A-B, C long)</td>\n",
              "      <td>NaN</td>\n",
              "      <td>NaN</td>\n",
              "      <td>Participated in FE</td>\n",
              "      <td>AET population</td>\n",
              "      <td>Participated in formal AET</td>\n",
              "      <td>Participated in formal AET for JR reasons</td>\n",
              "      <td>Did not participate in FE for NJR reasons</td>\n",
              "      <td>Did not participate in NFE</td>\n",
              "      <td>...</td>\n",
              "      <td>Never</td>\n",
              "      <td>Every day</td>\n",
              "      <td>At least once a week</td>\n",
              "      <td>Never</td>\n",
              "      <td>At least once a week but not every day</td>\n",
              "      <td>At least once a week</td>\n",
              "      <td>At least once a week but not every day</td>\n",
              "      <td>At least once a week but not every day</td>\n",
              "      <td>At least once a week but not every day</td>\n",
              "      <td>At least once a week but not every day</td>\n",
              "      <td>Never</td>\n",
              "      <td>Never</td>\n",
              "      <td>Less than once a week but at least once a month</td>\n",
              "      <td>NaN</td>\n",
              "      <td>Yes</td>\n",
              "      <td>Every day</td>\n",
              "      <td>Every day</td>\n",
              "      <td>At least once a week but not every day</td>\n",
              "      <td>Never</td>\n",
              "      <td>Less than once a week but at least once a month</td>\n",
              "      <td>Never</td>\n",
              "      <td>Never</td>\n",
              "      <td>To a high extent</td>\n",
              "      <td>To a very high extent</td>\n",
              "      <td>To a high extent</td>\n",
              "      <td>To some extent</td>\n",
              "      <td>To a high extent</td>\n",
              "      <td>To a very high extent</td>\n",
              "      <td>Never</td>\n",
              "      <td>Disagree</td>\n",
              "      <td>Neither agree nor disagree</td>\n",
              "      <td>Agree</td>\n",
              "      <td>NaN</td>\n",
              "      <td>NaN</td>\n",
              "      <td>9999.0</td>\n",
              "      <td>9996.0</td>\n",
              "      <td>9999</td>\n",
              "      <td>9999.0</td>\n",
              "      <td>80219</td>\n",
              "      <td>cl3770</td>\n",
              "    </tr>\n",
              "    <tr>\n",
              "      <th>1</th>\n",
              "      <td>United Kingdom</td>\n",
              "      <td>England (UK)</td>\n",
              "      <td>60.0</td>\n",
              "      <td>Male</td>\n",
              "      <td>Yes</td>\n",
              "      <td>Yes</td>\n",
              "      <td>High</td>\n",
              "      <td>75 to less than 90</td>\n",
              "      <td>75 to less than 90</td>\n",
              "      <td>eng</td>\n",
              "      <td>NaN</td>\n",
              "      <td>United Kingdom of Great Britain and Northern I...</td>\n",
              "      <td>UKJ</td>\n",
              "      <td>eng</td>\n",
              "      <td>eng</td>\n",
              "      <td>15.0</td>\n",
              "      <td>15.0</td>\n",
              "      <td>NaN</td>\n",
              "      <td>NaN</td>\n",
              "      <td>NaN</td>\n",
              "      <td>North America and Western Europe</td>\n",
              "      <td>Test language same as native language</td>\n",
              "      <td>North America and Western Europe</td>\n",
              "      <td>NaN</td>\n",
              "      <td>NaN</td>\n",
              "      <td>Non-immigrants</td>\n",
              "      <td>Aged 60-65</td>\n",
              "      <td>55 plus</td>\n",
              "      <td>55 plus</td>\n",
              "      <td>Tertiary – professional degree (ISCED 5B)</td>\n",
              "      <td>Tertiary – professional degree (ISCED 5B)</td>\n",
              "      <td>Tertiary – professional degree (ISCED 5B)</td>\n",
              "      <td>NaN</td>\n",
              "      <td>21.0</td>\n",
              "      <td>Did not participate in FE</td>\n",
              "      <td>AET population</td>\n",
              "      <td>Did not participate in formal AET</td>\n",
              "      <td>Did not participate in formal AET for JR reasons</td>\n",
              "      <td>Did not participate in FE for NJR reasons</td>\n",
              "      <td>Participated in NFE</td>\n",
              "      <td>...</td>\n",
              "      <td>At least once a week</td>\n",
              "      <td>Every day</td>\n",
              "      <td>At least once a week</td>\n",
              "      <td>At least once a week but not every day</td>\n",
              "      <td>Less than once a month</td>\n",
              "      <td>Rarely</td>\n",
              "      <td>At least once a week but not every day</td>\n",
              "      <td>Less than once a month</td>\n",
              "      <td>Every day</td>\n",
              "      <td>Every day</td>\n",
              "      <td>Less than once a week but at least once a month</td>\n",
              "      <td>Less than once a month</td>\n",
              "      <td>Less than once a week but at least once a month</td>\n",
              "      <td>NaN</td>\n",
              "      <td>Yes</td>\n",
              "      <td>Every day</td>\n",
              "      <td>Every day</td>\n",
              "      <td>At least once a week but not every day</td>\n",
              "      <td>At least once a week but not every day</td>\n",
              "      <td>At least once a week but not every day</td>\n",
              "      <td>Less than once a month</td>\n",
              "      <td>Less than once a month</td>\n",
              "      <td>To a high extent</td>\n",
              "      <td>To a high extent</td>\n",
              "      <td>To a high extent</td>\n",
              "      <td>To a high extent</td>\n",
              "      <td>To a high extent</td>\n",
              "      <td>To a very high extent</td>\n",
              "      <td>Never</td>\n",
              "      <td>Agree</td>\n",
              "      <td>Strongly agree</td>\n",
              "      <td>Agree</td>\n",
              "      <td>NaN</td>\n",
              "      <td>NaN</td>\n",
              "      <td>3118.0</td>\n",
              "      <td>9996.0</td>\n",
              "      <td>2520</td>\n",
              "      <td>9996.0</td>\n",
              "      <td>44314</td>\n",
              "      <td>cl3770</td>\n",
              "    </tr>\n",
              "    <tr>\n",
              "      <th>2</th>\n",
              "      <td>United Kingdom</td>\n",
              "      <td>England (UK)</td>\n",
              "      <td>31.0</td>\n",
              "      <td>Male</td>\n",
              "      <td>Yes</td>\n",
              "      <td>Yes</td>\n",
              "      <td>High</td>\n",
              "      <td>75 to less than 90</td>\n",
              "      <td>75 to less than 90</td>\n",
              "      <td>eng</td>\n",
              "      <td>NaN</td>\n",
              "      <td>United Kingdom of Great Britain and Northern I...</td>\n",
              "      <td>UKI</td>\n",
              "      <td>eng</td>\n",
              "      <td>eng</td>\n",
              "      <td>16.0</td>\n",
              "      <td>16.0</td>\n",
              "      <td>NaN</td>\n",
              "      <td>NaN</td>\n",
              "      <td>NaN</td>\n",
              "      <td>North America and Western Europe</td>\n",
              "      <td>Test language same as native language</td>\n",
              "      <td>North America and Western Europe</td>\n",
              "      <td>NaN</td>\n",
              "      <td>NaN</td>\n",
              "      <td>Non-immigrants</td>\n",
              "      <td>Aged 30-34</td>\n",
              "      <td>25-34</td>\n",
              "      <td>25-34</td>\n",
              "      <td>Tertiary - bachelor/master/research degree (IS...</td>\n",
              "      <td>Tertiary - bachelor/master/research degree (IS...</td>\n",
              "      <td>Tertiary - bachelor/master/research degree (IS...</td>\n",
              "      <td>NaN</td>\n",
              "      <td>NaN</td>\n",
              "      <td>Participated in FE</td>\n",
              "      <td>AET population</td>\n",
              "      <td>Participated in formal AET</td>\n",
              "      <td>Participated in formal AET for JR reasons</td>\n",
              "      <td>Did not participate in FE for NJR reasons</td>\n",
              "      <td>Participated in NFE</td>\n",
              "      <td>...</td>\n",
              "      <td>At least once a week</td>\n",
              "      <td>Less than once a week but at least once a month</td>\n",
              "      <td>Less than once a week but at least once a month</td>\n",
              "      <td>Less than once a month</td>\n",
              "      <td>Less than once a month</td>\n",
              "      <td>Rarely</td>\n",
              "      <td>Less than once a month</td>\n",
              "      <td>At least once a week but not every day</td>\n",
              "      <td>At least once a week but not every day</td>\n",
              "      <td>At least once a week but not every day</td>\n",
              "      <td>Never</td>\n",
              "      <td>Less than once a month</td>\n",
              "      <td>At least once a week but not every day</td>\n",
              "      <td>NaN</td>\n",
              "      <td>Yes</td>\n",
              "      <td>At least once a week but not every day</td>\n",
              "      <td>At least once a week but not every day</td>\n",
              "      <td>Less than once a week but at least once a month</td>\n",
              "      <td>At least once a week but not every day</td>\n",
              "      <td>Less than once a week but at least once a month</td>\n",
              "      <td>Never</td>\n",
              "      <td>Never</td>\n",
              "      <td>To some extent</td>\n",
              "      <td>To a high extent</td>\n",
              "      <td>To a high extent</td>\n",
              "      <td>To a very high extent</td>\n",
              "      <td>To a very high extent</td>\n",
              "      <td>To a very high extent</td>\n",
              "      <td>Less than once a month</td>\n",
              "      <td>Disagree</td>\n",
              "      <td>Strongly agree</td>\n",
              "      <td>Agree</td>\n",
              "      <td>NaN</td>\n",
              "      <td>NaN</td>\n",
              "      <td>2421.0</td>\n",
              "      <td>9996.0</td>\n",
              "      <td>3510</td>\n",
              "      <td>9996.0</td>\n",
              "      <td>91755</td>\n",
              "      <td>cl3770</td>\n",
              "    </tr>\n",
              "    <tr>\n",
              "      <th>3</th>\n",
              "      <td>Norway</td>\n",
              "      <td>Norway</td>\n",
              "      <td>33.0</td>\n",
              "      <td>Female</td>\n",
              "      <td>Yes</td>\n",
              "      <td>No</td>\n",
              "      <td>High</td>\n",
              "      <td>25 to less than 50</td>\n",
              "      <td>25 to less than 50</td>\n",
              "      <td>rus</td>\n",
              "      <td>NaN</td>\n",
              "      <td>NaN</td>\n",
              "      <td>99999</td>\n",
              "      <td>eng</td>\n",
              "      <td>nor</td>\n",
              "      <td>18.0</td>\n",
              "      <td>18.0</td>\n",
              "      <td>NaN</td>\n",
              "      <td>NaN</td>\n",
              "      <td>North America and Western Europe</td>\n",
              "      <td>Central Asia</td>\n",
              "      <td>Test language not same as native language</td>\n",
              "      <td>North America and Western Europe</td>\n",
              "      <td>3.0</td>\n",
              "      <td>0-5 years</td>\n",
              "      <td>In host country 5 or fewer years</td>\n",
              "      <td>Aged 30-34</td>\n",
              "      <td>25-34</td>\n",
              "      <td>25-34</td>\n",
              "      <td>Tertiary – master degree (ISCED 5A)</td>\n",
              "      <td>Tertiary – master/research degree (ISCED 5A/6)</td>\n",
              "      <td>Tertiary – master/research degree (ISCED 5A/6)</td>\n",
              "      <td>NaN</td>\n",
              "      <td>31.0</td>\n",
              "      <td>Did not participate in FE</td>\n",
              "      <td>AET population</td>\n",
              "      <td>Did not participate in formal AET</td>\n",
              "      <td>Did not participate in formal AET for JR reasons</td>\n",
              "      <td>Did not participate in FE for NJR reasons</td>\n",
              "      <td>Participated in NFE</td>\n",
              "      <td>...</td>\n",
              "      <td>At least once a week</td>\n",
              "      <td>Every day</td>\n",
              "      <td>At least once a week</td>\n",
              "      <td>At least once a week but not every day</td>\n",
              "      <td>At least once a week but not every day</td>\n",
              "      <td>At least once a week</td>\n",
              "      <td>At least once a week but not every day</td>\n",
              "      <td>At least once a week but not every day</td>\n",
              "      <td>At least once a week but not every day</td>\n",
              "      <td>Every day</td>\n",
              "      <td>Never</td>\n",
              "      <td>Less than once a month</td>\n",
              "      <td>At least once a week but not every day</td>\n",
              "      <td>NaN</td>\n",
              "      <td>Yes</td>\n",
              "      <td>Every day</td>\n",
              "      <td>Every day</td>\n",
              "      <td>Every day</td>\n",
              "      <td>Less than once a week but at least once a month</td>\n",
              "      <td>At least once a week but not every day</td>\n",
              "      <td>Less than once a month</td>\n",
              "      <td>At least once a week but not every day</td>\n",
              "      <td>To some extent</td>\n",
              "      <td>To a high extent</td>\n",
              "      <td>To some extent</td>\n",
              "      <td>To some extent</td>\n",
              "      <td>To some extent</td>\n",
              "      <td>To a high extent</td>\n",
              "      <td>Less than once a month</td>\n",
              "      <td>Neither agree nor disagree</td>\n",
              "      <td>Disagree</td>\n",
              "      <td>Agree</td>\n",
              "      <td>NaN</td>\n",
              "      <td>NaN</td>\n",
              "      <td>334.0</td>\n",
              "      <td>9996.0</td>\n",
              "      <td>82</td>\n",
              "      <td>9996.0</td>\n",
              "      <td>188729</td>\n",
              "      <td>cl3770</td>\n",
              "    </tr>\n",
              "    <tr>\n",
              "      <th>4</th>\n",
              "      <td>United States</td>\n",
              "      <td>United States</td>\n",
              "      <td>NaN</td>\n",
              "      <td>Male</td>\n",
              "      <td>Yes</td>\n",
              "      <td>No</td>\n",
              "      <td>Medium</td>\n",
              "      <td>10 to less than 25</td>\n",
              "      <td>10 to less than 25</td>\n",
              "      <td>999</td>\n",
              "      <td>NaN</td>\n",
              "      <td>NaN</td>\n",
              "      <td>NaN</td>\n",
              "      <td>eng</td>\n",
              "      <td>eng</td>\n",
              "      <td>12.0</td>\n",
              "      <td>12.0</td>\n",
              "      <td>12.0</td>\n",
              "      <td>False</td>\n",
              "      <td>NaN</td>\n",
              "      <td>NaN</td>\n",
              "      <td>Test language not same as native language</td>\n",
              "      <td>North America and Western Europe</td>\n",
              "      <td>NaN</td>\n",
              "      <td>11-15 years</td>\n",
              "      <td>In host country more than 5 years</td>\n",
              "      <td>Aged 20-24</td>\n",
              "      <td>24 or less</td>\n",
              "      <td>24 or less</td>\n",
              "      <td>Upper secondary (ISCED 3A-B, C long)</td>\n",
              "      <td>Upper secondary (ISCED 3A-B, C long)</td>\n",
              "      <td>Upper secondary (ISCED 3A-B, C long)</td>\n",
              "      <td>Completed ISCED 3 or is still in education, ag...</td>\n",
              "      <td>NaN</td>\n",
              "      <td>Participated in FE</td>\n",
              "      <td>Excluded from AET population</td>\n",
              "      <td>NaN</td>\n",
              "      <td>NaN</td>\n",
              "      <td>NaN</td>\n",
              "      <td>Did not participate in NFE</td>\n",
              "      <td>...</td>\n",
              "      <td>At least once a week</td>\n",
              "      <td>At least once a week but not every day</td>\n",
              "      <td>At least once a week</td>\n",
              "      <td>At least once a week but not every day</td>\n",
              "      <td>Less than once a week but at least once a month</td>\n",
              "      <td>Less than once a week but at least once a month</td>\n",
              "      <td>Less than once a week but at least once a month</td>\n",
              "      <td>Every day</td>\n",
              "      <td>At least once a week but not every day</td>\n",
              "      <td>Less than once a week but at least once a month</td>\n",
              "      <td>Never</td>\n",
              "      <td>Never</td>\n",
              "      <td>At least once a week but not every day</td>\n",
              "      <td>NaN</td>\n",
              "      <td>Yes</td>\n",
              "      <td>At least once a week but not every day</td>\n",
              "      <td>At least once a week but not every day</td>\n",
              "      <td>Never</td>\n",
              "      <td>At least once a week but not every day</td>\n",
              "      <td>At least once a week but not every day</td>\n",
              "      <td>Never</td>\n",
              "      <td>Never</td>\n",
              "      <td>To a very high extent</td>\n",
              "      <td>To a high extent</td>\n",
              "      <td>To a high extent</td>\n",
              "      <td>To a very high extent</td>\n",
              "      <td>To a very high extent</td>\n",
              "      <td>To a very high extent</td>\n",
              "      <td>Never</td>\n",
              "      <td>Strongly disagree</td>\n",
              "      <td>Strongly agree</td>\n",
              "      <td>Strongly agree</td>\n",
              "      <td>NaN</td>\n",
              "      <td>NaN</td>\n",
              "      <td>9999.0</td>\n",
              "      <td>9996.0</td>\n",
              "      <td>9999</td>\n",
              "      <td>9996.0</td>\n",
              "      <td>38262</td>\n",
              "      <td>cl3770</td>\n",
              "    </tr>\n",
              "  </tbody>\n",
              "</table>\n",
              "<p>5 rows × 380 columns</p>\n",
              "</div>"
            ],
            "text/plain": [
              "          cntryid         cntryid_e  age_r  ...    v105     row     uni\n",
              "0          Canada  Canada (English)    NaN  ...  9999.0   80219  cl3770\n",
              "1  United Kingdom      England (UK)   60.0  ...  9996.0   44314  cl3770\n",
              "2  United Kingdom      England (UK)   31.0  ...  9996.0   91755  cl3770\n",
              "3          Norway            Norway   33.0  ...  9996.0  188729  cl3770\n",
              "4   United States     United States    NaN  ...  9996.0   38262  cl3770\n",
              "\n",
              "[5 rows x 380 columns]"
            ]
          },
          "metadata": {
            "tags": []
          },
          "execution_count": 6
        }
      ]
    },
    {
      "cell_type": "markdown",
      "metadata": {
        "id": "Dmvh5FescYh3",
        "colab_type": "text"
      },
      "source": [
        "### The dataset is a 93Mb csv file"
      ]
    },
    {
      "cell_type": "code",
      "metadata": {
        "id": "xyIvEzFWcORw",
        "colab_type": "code",
        "outputId": "64e44a55-fd7c-4784-8ef0-6c3e182545e9",
        "colab": {
          "base_uri": "https://localhost:8080/",
          "height": 34
        }
      },
      "source": [
        "!du -hs \"/content/drive/My Drive/sharpestminds_dataset/hw5-trainingset-cl3770.csv\""
      ],
      "execution_count": 7,
      "outputs": [
        {
          "output_type": "stream",
          "text": [
            "93M\t/content/drive/My Drive/sharpestminds_dataset/hw5-trainingset-cl3770.csv\n"
          ],
          "name": "stdout"
        }
      ]
    },
    {
      "cell_type": "code",
      "metadata": {
        "id": "jVhwlVnWciux",
        "colab_type": "code",
        "outputId": "ff3e6a08-7246-4de7-a9bb-3333101da972",
        "colab": {
          "base_uri": "https://localhost:8080/",
          "height": 330
        }
      },
      "source": [
        "# we have a lot of data here\n",
        "print(\"{} features, {} observations\".format(df.shape[1], df.shape[0]))\n",
        "\n",
        "# we also have a lot of non-numeric data as well\n",
        "print(df.info(memory_usage='deep'))\n",
        "\n",
        "print(df.describe())"
      ],
      "execution_count": 8,
      "outputs": [
        {
          "output_type": "stream",
          "text": [
            "380 features, 20000 observations\n",
            "<class 'pandas.core.frame.DataFrame'>\n",
            "RangeIndex: 20000 entries, 0 to 19999\n",
            "Columns: 380 entries, cntryid to uni\n",
            "dtypes: float64(80), int64(5), object(295)\n",
            "memory usage: 357.9 MB\n",
            "None\n",
            "              age_r       yrsqual  ...          v105            row\n",
            "count  12118.000000  17417.000000  ...  19979.000000   20000.000000\n",
            "mean      39.339412     14.573549  ...   9833.138696   96825.751700\n",
            "std       11.004673      2.703482  ...   1009.110938   57590.955791\n",
            "min       16.000000      5.000000  ...     31.000000      98.000000\n",
            "25%       31.000000     12.000000  ...   9996.000000   46369.000000\n",
            "50%       38.000000     15.000000  ...   9996.000000   94729.000000\n",
            "75%       48.000000     16.000000  ...   9996.000000  147668.500000\n",
            "max       65.000000     22.000000  ...   9999.000000  197786.000000\n",
            "\n",
            "[8 rows x 85 columns]\n"
          ],
          "name": "stdout"
        }
      ]
    },
    {
      "cell_type": "markdown",
      "metadata": {
        "id": "c99SaK94lqzu",
        "colab_type": "text"
      },
      "source": [
        "# 3. EDA - Missing Values"
      ]
    },
    {
      "cell_type": "markdown",
      "metadata": {
        "id": "tbBmc5nQ4kYu",
        "colab_type": "text"
      },
      "source": [
        "### We print out the the counts of observations with missing values in this dataset"
      ]
    },
    {
      "cell_type": "code",
      "metadata": {
        "id": "5Eqs2evmNAQN",
        "colab_type": "code",
        "outputId": "5bb9876f-32ee-4857-8ecc-30672c86696d",
        "colab": {
          "base_uri": "https://localhost:8080/",
          "height": 469
        }
      },
      "source": [
        "import seaborn as sns\n",
        "import matplotlib.pyplot as plt\n",
        "%matplotlib inline\n",
        "\n",
        "# There are a lot of missing values in this dataset\n",
        "print(df.isnull().sum().sort_values(ascending=False)[df.isnull().sum() > 1000][:25])"
      ],
      "execution_count": 9,
      "outputs": [
        {
          "output_type": "stream",
          "text": [
            "v262    20000\n",
            "v44     19997\n",
            "v76     19993\n",
            "v144    19992\n",
            "v199    19991\n",
            "v159    19985\n",
            "v10     19981\n",
            "v172    19977\n",
            "v110    19956\n",
            "v160    19955\n",
            "v100    19955\n",
            "v109    19954\n",
            "v75     19938\n",
            "v211    19938\n",
            "v215    19936\n",
            "v163    19935\n",
            "v220    19927\n",
            "v254    19923\n",
            "v38     19910\n",
            "v129    19910\n",
            "v266    19907\n",
            "v89     19864\n",
            "v127    19828\n",
            "v117    19793\n",
            "v287    19792\n",
            "dtype: int64\n"
          ],
          "name": "stdout"
        }
      ]
    },
    {
      "cell_type": "markdown",
      "metadata": {
        "id": "ShC2uYLM23_d",
        "colab_type": "text"
      },
      "source": [
        "# Dropping Redundant Features\n",
        "\n",
        "Based on the codebook and the naming conventions for this dataset, we will explore and determine which features could be dropped due to overlapping measures. Sometimes this is done as a result of differences in coding schemes or categorical aggregations of the result. We will do some investigation on these features, their level of correlation and multicollinearity with the target variable and decide which features we can drop during the preprocessing step."
      ]
    },
    {
      "cell_type": "code",
      "metadata": {
        "id": "I9r_3DuvqrZc",
        "colab_type": "code",
        "outputId": "2e029240-b546-48c7-e3e9-a12005702d9d",
        "colab": {
          "base_uri": "https://localhost:8080/",
          "height": 225
        }
      },
      "source": [
        "# look at these features individually and drop stepwise after analysis\n",
        "\n",
        "import re\n",
        "\n",
        "pattern_earnhr = re.compile('\\Aearnhr')\n",
        "earnhr = [col for col in df.columns if re.match(pattern_earnhr, col) != None]\n",
        "print(earnhr)\n",
        "\n",
        "pattern_earnm = re.compile('\\Aearnm')\n",
        "earnm = [col for col in df.columns if re.match(pattern_earnm, col) != None]\n",
        "print(earnm)\n",
        "\n",
        "pattern_fn = re.compile('\\Afn')\n",
        "fn = [col for col in df.columns if re.match(pattern_fn, col) != None]\n",
        "print(fn)\n",
        "\n",
        "pattern_ed = re.compile('\\Aed')\n",
        "ed = [col for col in df.columns if re.match(pattern_ed, col) != None]\n",
        "print(ed)\n",
        "\n",
        "pattern_fae = re.compile('\\Afae')\n",
        "fae = [col for col in df.columns if re.match(pattern_fae, col) != None]\n",
        "print(fae)\n",
        "\n",
        "pattern_ict = re.compile('\\Aict')\n",
        "ict = [col for col in df.columns if re.match(pattern_ict, col) != None]\n",
        "print(ict)\n",
        "\n",
        "pattern_nfe12 = re.compile('\\Anfe12')\n",
        "nfe12 = [col for col in df.columns if re.match(pattern_nfe12, col) != None]\n",
        "print(nfe12)\n",
        "\n",
        "pattern_nfehrs = re.compile('\\Anfehrs')\n",
        "nfehrs = [col for col in df.columns if re.match(pattern_nfehrs, col) != None]\n",
        "print(nfehrs)\n",
        "\n",
        "pattern_writ = re.compile('\\Awrit')\n",
        "writ = [col for col in df.columns if re.match(pattern_writ, col) != None]\n",
        "print(writ)\n",
        "\n",
        "pattern_yrs = re.compile('\\Ayrs')\n",
        "yrs = [col for col in df.columns if re.match(pattern_yrs, col) != None]\n",
        "print(yrs)\n",
        "\n",
        "pattern_isco = re.compile('\\Aisco')\n",
        "isco = [col for col in df.columns if re.match(pattern_isco, col) != None]\n",
        "print(isco)\n",
        "\n",
        "pattern_isic = re.compile('\\Aisic')\n",
        "isic = [col for col in df.columns if re.match(pattern_isic, col) != None]\n",
        "print(isic)"
      ],
      "execution_count": 10,
      "outputs": [
        {
          "output_type": "stream",
          "text": [
            "['earnhr', 'earnhrppp', 'earnhrbonus', 'earnhrbonusppp', 'earnhrdcl', 'earnhrbonusdcl']\n",
            "['earnmth', 'earnmthppp', 'earnmthselfppp', 'earnmthbonus', 'earnmthall', 'earnmthallppp', 'earnmthbonusppp', 'earnmthalldcl']\n",
            "['fnfaet12', 'fnfe12jr', 'fnfaet12jr', 'fnfaet12njr']\n",
            "['edlevel3', 'edcat8', 'edcat7', 'edcat6', 'edwork']\n",
            "['faet12', 'faet12jr', 'faet12njr']\n",
            "['icthome', 'icthome_wle_ca', 'ictwork', 'ictwork_wle_ca']\n",
            "['nfe12', 'nfe12jr', 'nfe12njr']\n",
            "['nfehrsnjr', 'nfehrsjr', 'nfehrs']\n",
            "['writhome', 'writhome_wle_ca', 'writwork', 'writwork_wle_ca']\n",
            "['yrsqual', 'yrsqual_t', 'yrsget']\n",
            "['iscoskil4', 'isco1c', 'isco2c', 'isco1l', 'isco2l']\n",
            "['isic1l', 'isic2l', 'isic1c', 'isic2c']\n"
          ],
          "name": "stdout"
        }
      ]
    },
    {
      "cell_type": "markdown",
      "metadata": {
        "id": "Jg2IWfw_ynli",
        "colab_type": "text"
      },
      "source": [
        "### Earnhr Features\n",
        "\n",
        "Earnings on an hourly basis"
      ]
    },
    {
      "cell_type": "code",
      "metadata": {
        "id": "O22qJMWHxrGr",
        "colab_type": "code",
        "outputId": "a0c06490-9089-4f07-dce1-713e365ac6df",
        "colab": {
          "base_uri": "https://localhost:8080/",
          "height": 173
        }
      },
      "source": [
        "# earnhr features\n",
        "earnhr_df = df[earnhr + ['earnflag']]\n",
        "print(\"Percent of missing data by Hourly Earnings\")\n",
        "print((earnhr_df.isnull().sum()/earnhr_df.shape[0] * 100).sort_values(ascending=False))\n"
      ],
      "execution_count": 11,
      "outputs": [
        {
          "output_type": "stream",
          "text": [
            "Percent of missing data by Hourly Earnings\n",
            "earnhrbonusppp    58.395\n",
            "earnhrbonus       58.395\n",
            "earnhrppp         58.160\n",
            "earnhr            58.160\n",
            "earnhrbonusdcl    27.050\n",
            "earnhrdcl         26.815\n",
            "earnflag          21.070\n",
            "dtype: float64\n"
          ],
          "name": "stdout"
        }
      ]
    },
    {
      "cell_type": "code",
      "metadata": {
        "id": "Y90n36IR7oXk",
        "colab_type": "code",
        "outputId": "be833253-5632-4997-e386-7cee375b8d39",
        "colab": {
          "base_uri": "https://localhost:8080/",
          "height": 206
        }
      },
      "source": [
        "earnhr_df.head()"
      ],
      "execution_count": 12,
      "outputs": [
        {
          "output_type": "execute_result",
          "data": {
            "text/html": [
              "<div>\n",
              "<style scoped>\n",
              "    .dataframe tbody tr th:only-of-type {\n",
              "        vertical-align: middle;\n",
              "    }\n",
              "\n",
              "    .dataframe tbody tr th {\n",
              "        vertical-align: top;\n",
              "    }\n",
              "\n",
              "    .dataframe thead th {\n",
              "        text-align: right;\n",
              "    }\n",
              "</style>\n",
              "<table border=\"1\" class=\"dataframe\">\n",
              "  <thead>\n",
              "    <tr style=\"text-align: right;\">\n",
              "      <th></th>\n",
              "      <th>earnhr</th>\n",
              "      <th>earnhrppp</th>\n",
              "      <th>earnhrbonus</th>\n",
              "      <th>earnhrbonusppp</th>\n",
              "      <th>earnhrdcl</th>\n",
              "      <th>earnhrbonusdcl</th>\n",
              "      <th>earnflag</th>\n",
              "    </tr>\n",
              "  </thead>\n",
              "  <tbody>\n",
              "    <tr>\n",
              "      <th>0</th>\n",
              "      <td>NaN</td>\n",
              "      <td>NaN</td>\n",
              "      <td>NaN</td>\n",
              "      <td>NaN</td>\n",
              "      <td>7th decile</td>\n",
              "      <td>7th decile</td>\n",
              "      <td>NaN</td>\n",
              "    </tr>\n",
              "    <tr>\n",
              "      <th>1</th>\n",
              "      <td>NaN</td>\n",
              "      <td>NaN</td>\n",
              "      <td>NaN</td>\n",
              "      <td>NaN</td>\n",
              "      <td>NaN</td>\n",
              "      <td>NaN</td>\n",
              "      <td>Reported directly</td>\n",
              "    </tr>\n",
              "    <tr>\n",
              "      <th>2</th>\n",
              "      <td>NaN</td>\n",
              "      <td>NaN</td>\n",
              "      <td>NaN</td>\n",
              "      <td>NaN</td>\n",
              "      <td>NaN</td>\n",
              "      <td>NaN</td>\n",
              "      <td>Reported directly</td>\n",
              "    </tr>\n",
              "    <tr>\n",
              "      <th>3</th>\n",
              "      <td>NaN</td>\n",
              "      <td>NaN</td>\n",
              "      <td>NaN</td>\n",
              "      <td>NaN</td>\n",
              "      <td>NaN</td>\n",
              "      <td>NaN</td>\n",
              "      <td>Reported directly</td>\n",
              "    </tr>\n",
              "    <tr>\n",
              "      <th>4</th>\n",
              "      <td>NaN</td>\n",
              "      <td>NaN</td>\n",
              "      <td>NaN</td>\n",
              "      <td>NaN</td>\n",
              "      <td>Lowest decile</td>\n",
              "      <td>Lowest decile</td>\n",
              "      <td>Reported directly</td>\n",
              "    </tr>\n",
              "  </tbody>\n",
              "</table>\n",
              "</div>"
            ],
            "text/plain": [
              "   earnhr  earnhrppp  ...  earnhrbonusdcl           earnflag\n",
              "0     NaN        NaN  ...      7th decile                NaN\n",
              "1     NaN        NaN  ...             NaN  Reported directly\n",
              "2     NaN        NaN  ...             NaN  Reported directly\n",
              "3     NaN        NaN  ...             NaN  Reported directly\n",
              "4     NaN        NaN  ...   Lowest decile  Reported directly\n",
              "\n",
              "[5 rows x 7 columns]"
            ]
          },
          "metadata": {
            "tags": []
          },
          "execution_count": 12
        }
      ]
    },
    {
      "cell_type": "markdown",
      "metadata": {
        "id": "n66gKI2AAikk",
        "colab_type": "text"
      },
      "source": [
        "Drop: earnhrbonusppp, earnhrbonus, earnhrppp, earnhr\n",
        "\n",
        "Keep: earnflag, earnhrdcl, earnhrbonusdcl"
      ]
    },
    {
      "cell_type": "code",
      "metadata": {
        "id": "PswB1MzfBwdo",
        "colab_type": "code",
        "colab": {}
      },
      "source": [
        "features_earnhr_drop = ['earnhrbonusppp', 'earnhrbonus', 'earnhrppp', 'earnhr']\n",
        "df.drop(features_earnhr_drop, inplace=True, axis=1)"
      ],
      "execution_count": 0,
      "outputs": []
    },
    {
      "cell_type": "markdown",
      "metadata": {
        "colab_type": "text",
        "id": "a89jfh4My2Yz"
      },
      "source": [
        "### Earnm Features\n",
        "\n",
        "Earnings on a monthly basis"
      ]
    },
    {
      "cell_type": "code",
      "metadata": {
        "colab_type": "code",
        "outputId": "b8f95608-3843-4842-fd71-76510fcd46cb",
        "id": "slIOq9ihy2ZA",
        "colab": {
          "base_uri": "https://localhost:8080/",
          "height": 208
        }
      },
      "source": [
        "# earnm features\n",
        "earnm_df = df[earnm + ['earnflag']]\n",
        "print(\"Percent of missing data by Monthly Earnings\")\n",
        "print((earnm_df.isnull().sum()/earnm_df.shape[0] * 100).sort_values(ascending=False))\n"
      ],
      "execution_count": 14,
      "outputs": [
        {
          "output_type": "stream",
          "text": [
            "Percent of missing data by Monthly Earnings\n",
            "earnmthselfppp     93.370\n",
            "earnmthbonusppp    58.355\n",
            "earnmthbonus       58.355\n",
            "earnmthppp         58.055\n",
            "earnmth            58.055\n",
            "earnmthallppp      51.725\n",
            "earnmthall         51.725\n",
            "earnflag           21.070\n",
            "earnmthalldcl      15.670\n",
            "dtype: float64\n"
          ],
          "name": "stdout"
        }
      ]
    },
    {
      "cell_type": "code",
      "metadata": {
        "id": "iu_-Vl8U1ZMf",
        "colab_type": "code",
        "outputId": "28a5addf-211d-4e69-a635-ceea7ae12f39",
        "colab": {
          "base_uri": "https://localhost:8080/",
          "height": 206
        }
      },
      "source": [
        "earnm_df.head(5)"
      ],
      "execution_count": 15,
      "outputs": [
        {
          "output_type": "execute_result",
          "data": {
            "text/html": [
              "<div>\n",
              "<style scoped>\n",
              "    .dataframe tbody tr th:only-of-type {\n",
              "        vertical-align: middle;\n",
              "    }\n",
              "\n",
              "    .dataframe tbody tr th {\n",
              "        vertical-align: top;\n",
              "    }\n",
              "\n",
              "    .dataframe thead th {\n",
              "        text-align: right;\n",
              "    }\n",
              "</style>\n",
              "<table border=\"1\" class=\"dataframe\">\n",
              "  <thead>\n",
              "    <tr style=\"text-align: right;\">\n",
              "      <th></th>\n",
              "      <th>earnmth</th>\n",
              "      <th>earnmthppp</th>\n",
              "      <th>earnmthselfppp</th>\n",
              "      <th>earnmthbonus</th>\n",
              "      <th>earnmthall</th>\n",
              "      <th>earnmthallppp</th>\n",
              "      <th>earnmthbonusppp</th>\n",
              "      <th>earnmthalldcl</th>\n",
              "      <th>earnflag</th>\n",
              "    </tr>\n",
              "  </thead>\n",
              "  <tbody>\n",
              "    <tr>\n",
              "      <th>0</th>\n",
              "      <td>NaN</td>\n",
              "      <td>NaN</td>\n",
              "      <td>NaN</td>\n",
              "      <td>NaN</td>\n",
              "      <td>NaN</td>\n",
              "      <td>NaN</td>\n",
              "      <td>NaN</td>\n",
              "      <td>6th decile</td>\n",
              "      <td>NaN</td>\n",
              "    </tr>\n",
              "    <tr>\n",
              "      <th>1</th>\n",
              "      <td>NaN</td>\n",
              "      <td>NaN</td>\n",
              "      <td>4915.959463</td>\n",
              "      <td>NaN</td>\n",
              "      <td>3333.333333</td>\n",
              "      <td>4915.959463</td>\n",
              "      <td>NaN</td>\n",
              "      <td>2nd decile</td>\n",
              "      <td>Reported directly</td>\n",
              "    </tr>\n",
              "    <tr>\n",
              "      <th>2</th>\n",
              "      <td>NaN</td>\n",
              "      <td>NaN</td>\n",
              "      <td>4485.813010</td>\n",
              "      <td>NaN</td>\n",
              "      <td>3041.666667</td>\n",
              "      <td>4485.813010</td>\n",
              "      <td>NaN</td>\n",
              "      <td>2nd decile</td>\n",
              "      <td>Reported directly</td>\n",
              "    </tr>\n",
              "    <tr>\n",
              "      <th>3</th>\n",
              "      <td>NaN</td>\n",
              "      <td>NaN</td>\n",
              "      <td>3153.961720</td>\n",
              "      <td>NaN</td>\n",
              "      <td>28000.000000</td>\n",
              "      <td>3153.961720</td>\n",
              "      <td>NaN</td>\n",
              "      <td>7th decile</td>\n",
              "      <td>Reported directly</td>\n",
              "    </tr>\n",
              "    <tr>\n",
              "      <th>4</th>\n",
              "      <td>NaN</td>\n",
              "      <td>NaN</td>\n",
              "      <td>NaN</td>\n",
              "      <td>NaN</td>\n",
              "      <td>NaN</td>\n",
              "      <td>NaN</td>\n",
              "      <td>NaN</td>\n",
              "      <td>9th decile</td>\n",
              "      <td>Reported directly</td>\n",
              "    </tr>\n",
              "  </tbody>\n",
              "</table>\n",
              "</div>"
            ],
            "text/plain": [
              "   earnmth  earnmthppp  ...  earnmthalldcl           earnflag\n",
              "0      NaN         NaN  ...     6th decile                NaN\n",
              "1      NaN         NaN  ...     2nd decile  Reported directly\n",
              "2      NaN         NaN  ...     2nd decile  Reported directly\n",
              "3      NaN         NaN  ...     7th decile  Reported directly\n",
              "4      NaN         NaN  ...     9th decile  Reported directly\n",
              "\n",
              "[5 rows x 9 columns]"
            ]
          },
          "metadata": {
            "tags": []
          },
          "execution_count": 15
        }
      ]
    },
    {
      "cell_type": "markdown",
      "metadata": {
        "id": "n166L1z1CNBm",
        "colab_type": "text"
      },
      "source": [
        "Drop: earnmthbonusppp, earnmthselfppp, earnmthbonus, earnmthppp, earnmth, earnmthallppp, earnmthall\n",
        "\n",
        "\n",
        "Keep: earnflag, earnmthalldcl"
      ]
    },
    {
      "cell_type": "code",
      "metadata": {
        "id": "hm7-lILhDLXp",
        "colab_type": "code",
        "colab": {}
      },
      "source": [
        "features_earnm_drop = ['earnmthbonusppp', 'earnmthselfppp', 'earnmthbonus', 'earnmthppp', 'earnmth', 'earnmthallppp', 'earnmthall']\n",
        "df.drop(features_earnm_drop, inplace=True, axis=1)"
      ],
      "execution_count": 0,
      "outputs": []
    },
    {
      "cell_type": "code",
      "metadata": {
        "id": "ffUWHyLgG6KL",
        "colab_type": "code",
        "outputId": "f1c8e4b7-fa14-4238-d8f1-66b9047c94a8",
        "colab": {
          "base_uri": "https://localhost:8080/",
          "height": 69
        }
      },
      "source": [
        "df.earnmthalldcl.unique()"
      ],
      "execution_count": 17,
      "outputs": [
        {
          "output_type": "execute_result",
          "data": {
            "text/plain": [
              "array(['6th decile', '2nd decile', '7th decile', '9th decile',\n",
              "       '3rd decile', 'Highest decile', '5th decile', nan, 'Lowest decile',\n",
              "       '8th decile', '4th decile'], dtype=object)"
            ]
          },
          "metadata": {
            "tags": []
          },
          "execution_count": 17
        }
      ]
    },
    {
      "cell_type": "code",
      "metadata": {
        "id": "fwfBHUh-Ew8a",
        "colab_type": "code",
        "colab": {}
      },
      "source": [
        "# ordinalize the string values of this earnmthalldcl\n",
        "\n",
        "df['earnmthalldcl'] = pd.Categorical(df['earnmthalldcl'], \n",
        "                                  categories=['Lowest decile', \n",
        "                                                '2nd decile', \n",
        "                                                '3rd decile', \n",
        "                                                '4th decile', \n",
        "                                                '5th decile', \n",
        "                                                '6th decile', \n",
        "                                                '7th decile',\n",
        "                                                '8th decile', \n",
        "                                                '9th decile', \n",
        "                                                'Highest decile'], \n",
        "                                  ordered=True\n",
        "                                 )"
      ],
      "execution_count": 0,
      "outputs": []
    },
    {
      "cell_type": "code",
      "metadata": {
        "id": "2yFACrRnHpo3",
        "colab_type": "code",
        "outputId": "5d4e1f34-a260-46a8-9451-443e925272bf",
        "colab": {
          "base_uri": "https://localhost:8080/",
          "height": 156
        }
      },
      "source": [
        "df['earnmthalldcl'].head()"
      ],
      "execution_count": 19,
      "outputs": [
        {
          "output_type": "execute_result",
          "data": {
            "text/plain": [
              "0    6th decile\n",
              "1    2nd decile\n",
              "2    2nd decile\n",
              "3    7th decile\n",
              "4    9th decile\n",
              "Name: earnmthalldcl, dtype: category\n",
              "Categories (10, object): [Lowest decile < 2nd decile < 3rd decile < 4th decile ... 7th decile <\n",
              "                          8th decile < 9th decile < Highest decile]"
            ]
          },
          "metadata": {
            "tags": []
          },
          "execution_count": 19
        }
      ]
    },
    {
      "cell_type": "markdown",
      "metadata": {
        "colab_type": "text",
        "id": "ERdDD5XC0CQ8"
      },
      "source": [
        "### fn Features\n",
        "\n",
        "Formal or information education within the last 12 months"
      ]
    },
    {
      "cell_type": "code",
      "metadata": {
        "colab_type": "code",
        "outputId": "70e67e1d-e39a-4b6a-f403-60cf5f331d38",
        "id": "QDBFvozw0Fhh",
        "colab": {
          "base_uri": "https://localhost:8080/",
          "height": 139
        }
      },
      "source": [
        "# fn features\n",
        "fn_df = df[fn + ['fe12']]\n",
        "print(\"Percent of missing data by Formal Education\")\n",
        "print((fn_df.isnull().sum()/fn_df.shape[0] * 100).sort_values(ascending=False))"
      ],
      "execution_count": 20,
      "outputs": [
        {
          "output_type": "stream",
          "text": [
            "Percent of missing data by Formal Education\n",
            "fnfaet12njr    5.200\n",
            "fnfaet12jr     5.200\n",
            "fnfaet12       5.170\n",
            "fnfe12jr       0.435\n",
            "fe12           0.000\n",
            "dtype: float64\n"
          ],
          "name": "stdout"
        }
      ]
    },
    {
      "cell_type": "code",
      "metadata": {
        "id": "k4CMfqOH0x2s",
        "colab_type": "code",
        "outputId": "0a504e9f-9edf-4f36-b651-a2f952542c17",
        "colab": {
          "base_uri": "https://localhost:8080/",
          "height": 293
        }
      },
      "source": [
        "fn_df.head()"
      ],
      "execution_count": 21,
      "outputs": [
        {
          "output_type": "execute_result",
          "data": {
            "text/html": [
              "<div>\n",
              "<style scoped>\n",
              "    .dataframe tbody tr th:only-of-type {\n",
              "        vertical-align: middle;\n",
              "    }\n",
              "\n",
              "    .dataframe tbody tr th {\n",
              "        vertical-align: top;\n",
              "    }\n",
              "\n",
              "    .dataframe thead th {\n",
              "        text-align: right;\n",
              "    }\n",
              "</style>\n",
              "<table border=\"1\" class=\"dataframe\">\n",
              "  <thead>\n",
              "    <tr style=\"text-align: right;\">\n",
              "      <th></th>\n",
              "      <th>fnfaet12</th>\n",
              "      <th>fnfe12jr</th>\n",
              "      <th>fnfaet12jr</th>\n",
              "      <th>fnfaet12njr</th>\n",
              "      <th>fe12</th>\n",
              "    </tr>\n",
              "  </thead>\n",
              "  <tbody>\n",
              "    <tr>\n",
              "      <th>0</th>\n",
              "      <td>Participated in formal and/or non-formal AET</td>\n",
              "      <td>Participated in FE or NFE for JR reasons</td>\n",
              "      <td>Participated in formal or non-formal AET for J...</td>\n",
              "      <td>Did not participate in formal or non-formal AE...</td>\n",
              "      <td>Participated in FE</td>\n",
              "    </tr>\n",
              "    <tr>\n",
              "      <th>1</th>\n",
              "      <td>Participated in formal and/or non-formal AET</td>\n",
              "      <td>Participated in FE or NFE for JR reasons</td>\n",
              "      <td>Participated in formal or non-formal AET for J...</td>\n",
              "      <td>Did not participate in formal or non-formal AE...</td>\n",
              "      <td>Did not participate in FE</td>\n",
              "    </tr>\n",
              "    <tr>\n",
              "      <th>2</th>\n",
              "      <td>Participated in formal and/or non-formal AET</td>\n",
              "      <td>Participated in FE or NFE for JR reasons</td>\n",
              "      <td>Participated in formal or non-formal AET for J...</td>\n",
              "      <td>Did not participate in formal or non-formal AE...</td>\n",
              "      <td>Participated in FE</td>\n",
              "    </tr>\n",
              "    <tr>\n",
              "      <th>3</th>\n",
              "      <td>Participated in formal and/or non-formal AET</td>\n",
              "      <td>Participated in FE or NFE for JR reasons</td>\n",
              "      <td>Participated in formal or non-formal AET for J...</td>\n",
              "      <td>Did not participate in formal or non-formal AE...</td>\n",
              "      <td>Did not participate in FE</td>\n",
              "    </tr>\n",
              "    <tr>\n",
              "      <th>4</th>\n",
              "      <td>NaN</td>\n",
              "      <td>Participated in FE or NFE for JR reasons</td>\n",
              "      <td>NaN</td>\n",
              "      <td>NaN</td>\n",
              "      <td>Participated in FE</td>\n",
              "    </tr>\n",
              "  </tbody>\n",
              "</table>\n",
              "</div>"
            ],
            "text/plain": [
              "                                       fnfaet12  ...                       fe12\n",
              "0  Participated in formal and/or non-formal AET  ...         Participated in FE\n",
              "1  Participated in formal and/or non-formal AET  ...  Did not participate in FE\n",
              "2  Participated in formal and/or non-formal AET  ...         Participated in FE\n",
              "3  Participated in formal and/or non-formal AET  ...  Did not participate in FE\n",
              "4                                           NaN  ...         Participated in FE\n",
              "\n",
              "[5 rows x 5 columns]"
            ]
          },
          "metadata": {
            "tags": []
          },
          "execution_count": 21
        }
      ]
    },
    {
      "cell_type": "markdown",
      "metadata": {
        "id": "VpVfobzVDyxP",
        "colab_type": "text"
      },
      "source": [
        "Drop: fnfaet12njr, fnfaet12jr, fnfaet12, fnfe12jr\n",
        "\n",
        "Keep: fe12"
      ]
    },
    {
      "cell_type": "code",
      "metadata": {
        "id": "-VP6mzWFD8-x",
        "colab_type": "code",
        "colab": {}
      },
      "source": [
        "features_fn_drop = ['fnfaet12njr', 'fnfaet12jr', 'fnfaet12', 'fnfe12jr']\n",
        "df.drop(features_fn_drop, inplace=True, axis=1)"
      ],
      "execution_count": 0,
      "outputs": []
    },
    {
      "cell_type": "markdown",
      "metadata": {
        "colab_type": "text",
        "id": "ODGaaCb20EZ1"
      },
      "source": [
        "### ed Features\n",
        "\n",
        "Highest level of formal education."
      ]
    },
    {
      "cell_type": "code",
      "metadata": {
        "colab_type": "code",
        "outputId": "70c5be14-e87a-496d-80d9-793bdd1e24e0",
        "id": "g5xP8ubs0FWq",
        "colab": {
          "base_uri": "https://localhost:8080/",
          "height": 139
        }
      },
      "source": [
        "# ed features\n",
        "ed_df = df[ed]\n",
        "print(\"Percent of missing data by Education\")\n",
        "print((ed_df.isnull().sum()/ed_df.shape[0] * 100).sort_values(ascending=False))"
      ],
      "execution_count": 23,
      "outputs": [
        {
          "output_type": "stream",
          "text": [
            "Percent of missing data by Education\n",
            "edcat8      16.935\n",
            "edlevel3     0.930\n",
            "edcat6       0.060\n",
            "edcat7       0.060\n",
            "edwork       0.005\n",
            "dtype: float64\n"
          ],
          "name": "stdout"
        }
      ]
    },
    {
      "cell_type": "code",
      "metadata": {
        "id": "WqD1HBfz2Z04",
        "colab_type": "code",
        "outputId": "dd593c15-f862-4dca-f1b7-65dc2535bc7e",
        "colab": {
          "base_uri": "https://localhost:8080/",
          "height": 276
        }
      },
      "source": [
        "ed_df.head()"
      ],
      "execution_count": 24,
      "outputs": [
        {
          "output_type": "execute_result",
          "data": {
            "text/html": [
              "<div>\n",
              "<style scoped>\n",
              "    .dataframe tbody tr th:only-of-type {\n",
              "        vertical-align: middle;\n",
              "    }\n",
              "\n",
              "    .dataframe tbody tr th {\n",
              "        vertical-align: top;\n",
              "    }\n",
              "\n",
              "    .dataframe thead th {\n",
              "        text-align: right;\n",
              "    }\n",
              "</style>\n",
              "<table border=\"1\" class=\"dataframe\">\n",
              "  <thead>\n",
              "    <tr style=\"text-align: right;\">\n",
              "      <th></th>\n",
              "      <th>edlevel3</th>\n",
              "      <th>edcat8</th>\n",
              "      <th>edcat7</th>\n",
              "      <th>edcat6</th>\n",
              "      <th>edwork</th>\n",
              "    </tr>\n",
              "  </thead>\n",
              "  <tbody>\n",
              "    <tr>\n",
              "      <th>0</th>\n",
              "      <td>Medium</td>\n",
              "      <td>NaN</td>\n",
              "      <td>Upper secondary (ISCED 3A-B, C long)</td>\n",
              "      <td>Upper secondary (ISCED 3A-B, C long)</td>\n",
              "      <td>In education and work</td>\n",
              "    </tr>\n",
              "    <tr>\n",
              "      <th>1</th>\n",
              "      <td>High</td>\n",
              "      <td>Tertiary – professional degree (ISCED 5B)</td>\n",
              "      <td>Tertiary – professional degree (ISCED 5B)</td>\n",
              "      <td>Tertiary – professional degree (ISCED 5B)</td>\n",
              "      <td>In work only</td>\n",
              "    </tr>\n",
              "    <tr>\n",
              "      <th>2</th>\n",
              "      <td>High</td>\n",
              "      <td>Tertiary - bachelor/master/research degree (IS...</td>\n",
              "      <td>Tertiary - bachelor/master/research degree (IS...</td>\n",
              "      <td>Tertiary - bachelor/master/research degree (IS...</td>\n",
              "      <td>In education and work</td>\n",
              "    </tr>\n",
              "    <tr>\n",
              "      <th>3</th>\n",
              "      <td>High</td>\n",
              "      <td>Tertiary – master degree (ISCED 5A)</td>\n",
              "      <td>Tertiary – master/research degree (ISCED 5A/6)</td>\n",
              "      <td>Tertiary – master/research degree (ISCED 5A/6)</td>\n",
              "      <td>In work only</td>\n",
              "    </tr>\n",
              "    <tr>\n",
              "      <th>4</th>\n",
              "      <td>Medium</td>\n",
              "      <td>Upper secondary (ISCED 3A-B, C long)</td>\n",
              "      <td>Upper secondary (ISCED 3A-B, C long)</td>\n",
              "      <td>Upper secondary (ISCED 3A-B, C long)</td>\n",
              "      <td>In education and work</td>\n",
              "    </tr>\n",
              "  </tbody>\n",
              "</table>\n",
              "</div>"
            ],
            "text/plain": [
              "  edlevel3  ...                 edwork\n",
              "0   Medium  ...  In education and work\n",
              "1     High  ...           In work only\n",
              "2     High  ...  In education and work\n",
              "3     High  ...           In work only\n",
              "4   Medium  ...  In education and work\n",
              "\n",
              "[5 rows x 5 columns]"
            ]
          },
          "metadata": {
            "tags": []
          },
          "execution_count": 24
        }
      ]
    },
    {
      "cell_type": "markdown",
      "metadata": {
        "id": "OZNkR5yrE90p",
        "colab_type": "text"
      },
      "source": [
        "Drop: edcat8, edwork, edcat6, edlevel3\n",
        "\n",
        "Keep: edcat7"
      ]
    },
    {
      "cell_type": "code",
      "metadata": {
        "id": "fDC4mwYJFbk2",
        "colab_type": "code",
        "colab": {}
      },
      "source": [
        "features_ed_drop = ['edcat8', 'edwork', 'edcat6', 'edlevel3']\n",
        "df.drop(features_ed_drop, inplace=True, axis=1)"
      ],
      "execution_count": 0,
      "outputs": []
    },
    {
      "cell_type": "code",
      "metadata": {
        "id": "jVz0Z3_XIJWr",
        "colab_type": "code",
        "colab": {}
      },
      "source": [
        "# Ordinalize the edcat7 categorical feature\n",
        "\n",
        "df['edcat7'] = pd.Categorical(df['edcat7'],\n",
        "                          categories=['Primary or less (ISCED 1 or less)',\n",
        "                                     'Lower secondary (ISCED 2, ISCED 3C short)',\n",
        "                                     'Upper secondary (ISCED 3A-B, C long)',\n",
        "                                     'Post-secondary, non-tertiary (ISCED 4A-B-C)',\n",
        "                                     'Tertiary – bachelor degree (ISCED 5A)',\n",
        "                                     'Tertiary – master/research degree (ISCED 5A/6)\\xa0',\n",
        "                                     'Tertiary - bachelor/master/research degree (ISCED 5A/6)',\n",
        "                                     'Tertiary – professional degree (ISCED 5B)'],\n",
        "                          ordered=True)"
      ],
      "execution_count": 0,
      "outputs": []
    },
    {
      "cell_type": "code",
      "metadata": {
        "id": "NzE7SWbsJaN9",
        "colab_type": "code",
        "outputId": "6a3a1dd8-2735-4bd5-86f1-17bd28d2f4c9",
        "colab": {
          "base_uri": "https://localhost:8080/",
          "height": 191
        }
      },
      "source": [
        "df['edcat7'].head()"
      ],
      "execution_count": 27,
      "outputs": [
        {
          "output_type": "execute_result",
          "data": {
            "text/plain": [
              "0                 Upper secondary (ISCED 3A-B, C long)\n",
              "1            Tertiary – professional degree (ISCED 5B)\n",
              "2    Tertiary - bachelor/master/research degree (IS...\n",
              "3      Tertiary – master/research degree (ISCED 5A/6) \n",
              "4                 Upper secondary (ISCED 3A-B, C long)\n",
              "Name: edcat7, dtype: category\n",
              "Categories (8, object): [Primary or less (ISCED 1 or less) < Lower secondary (ISCED 2, ISCED 3C short) <\n",
              "                         Upper secondary (ISCED 3A-B, C long) < Post-secondary, non-tertiary (ISCED 4A-B-C) <\n",
              "                         Tertiary – bachelor degree (ISCED 5A) < Tertiary – master/research degree (ISCED 5A/6) <\n",
              "                         Tertiary - bachelor/master/research degree (IS... < Tertiary – professional degree (ISCED 5B)]"
            ]
          },
          "metadata": {
            "tags": []
          },
          "execution_count": 27
        }
      ]
    },
    {
      "cell_type": "markdown",
      "metadata": {
        "colab_type": "text",
        "id": "gm4Iv-Ox0E2r"
      },
      "source": [
        "### fae Features\n",
        "\n",
        "Formal AET"
      ]
    },
    {
      "cell_type": "code",
      "metadata": {
        "colab_type": "code",
        "outputId": "50baa442-2239-4291-a83a-ae0c19cbcc63",
        "id": "_pc1KSBo0FLc",
        "colab": {
          "base_uri": "https://localhost:8080/",
          "height": 104
        }
      },
      "source": [
        "# FAE features\n",
        "fae_df = df[fae]\n",
        "print(\"Percent of missing data by Formal AET\")\n",
        "print((fae_df.isnull().sum()/fae_df.shape[0] * 100).sort_values(ascending=False))"
      ],
      "execution_count": 28,
      "outputs": [
        {
          "output_type": "stream",
          "text": [
            "Percent of missing data by Formal AET\n",
            "faet12njr    5.205\n",
            "faet12jr     5.205\n",
            "faet12       5.170\n",
            "dtype: float64\n"
          ],
          "name": "stdout"
        }
      ]
    },
    {
      "cell_type": "code",
      "metadata": {
        "id": "ccA43DlB4Jwe",
        "colab_type": "code",
        "outputId": "84b90560-4ac6-4a1b-d3f4-2505208fcf90",
        "colab": {
          "base_uri": "https://localhost:8080/",
          "height": 206
        }
      },
      "source": [
        "fae_df.head()"
      ],
      "execution_count": 29,
      "outputs": [
        {
          "output_type": "execute_result",
          "data": {
            "text/html": [
              "<div>\n",
              "<style scoped>\n",
              "    .dataframe tbody tr th:only-of-type {\n",
              "        vertical-align: middle;\n",
              "    }\n",
              "\n",
              "    .dataframe tbody tr th {\n",
              "        vertical-align: top;\n",
              "    }\n",
              "\n",
              "    .dataframe thead th {\n",
              "        text-align: right;\n",
              "    }\n",
              "</style>\n",
              "<table border=\"1\" class=\"dataframe\">\n",
              "  <thead>\n",
              "    <tr style=\"text-align: right;\">\n",
              "      <th></th>\n",
              "      <th>faet12</th>\n",
              "      <th>faet12jr</th>\n",
              "      <th>faet12njr</th>\n",
              "    </tr>\n",
              "  </thead>\n",
              "  <tbody>\n",
              "    <tr>\n",
              "      <th>0</th>\n",
              "      <td>Participated in formal AET</td>\n",
              "      <td>Participated in formal AET for JR reasons</td>\n",
              "      <td>Did not participate in FE for NJR reasons</td>\n",
              "    </tr>\n",
              "    <tr>\n",
              "      <th>1</th>\n",
              "      <td>Did not participate in formal AET</td>\n",
              "      <td>Did not participate in formal AET for JR reasons</td>\n",
              "      <td>Did not participate in FE for NJR reasons</td>\n",
              "    </tr>\n",
              "    <tr>\n",
              "      <th>2</th>\n",
              "      <td>Participated in formal AET</td>\n",
              "      <td>Participated in formal AET for JR reasons</td>\n",
              "      <td>Did not participate in FE for NJR reasons</td>\n",
              "    </tr>\n",
              "    <tr>\n",
              "      <th>3</th>\n",
              "      <td>Did not participate in formal AET</td>\n",
              "      <td>Did not participate in formal AET for JR reasons</td>\n",
              "      <td>Did not participate in FE for NJR reasons</td>\n",
              "    </tr>\n",
              "    <tr>\n",
              "      <th>4</th>\n",
              "      <td>NaN</td>\n",
              "      <td>NaN</td>\n",
              "      <td>NaN</td>\n",
              "    </tr>\n",
              "  </tbody>\n",
              "</table>\n",
              "</div>"
            ],
            "text/plain": [
              "                              faet12  ...                                  faet12njr\n",
              "0         Participated in formal AET  ...  Did not participate in FE for NJR reasons\n",
              "1  Did not participate in formal AET  ...  Did not participate in FE for NJR reasons\n",
              "2         Participated in formal AET  ...  Did not participate in FE for NJR reasons\n",
              "3  Did not participate in formal AET  ...  Did not participate in FE for NJR reasons\n",
              "4                                NaN  ...                                        NaN\n",
              "\n",
              "[5 rows x 3 columns]"
            ]
          },
          "metadata": {
            "tags": []
          },
          "execution_count": 29
        }
      ]
    },
    {
      "cell_type": "markdown",
      "metadata": {
        "id": "3UuXtcB3F5ga",
        "colab_type": "text"
      },
      "source": [
        "Drop: faet12njr, faet12hr\n",
        "\n",
        "Keep: faet12"
      ]
    },
    {
      "cell_type": "code",
      "metadata": {
        "id": "QQy8uCrZGAe0",
        "colab_type": "code",
        "colab": {}
      },
      "source": [
        "features_fae_drop = ['faet12njr', 'faet12jr']\n",
        "df.drop(features_fae_drop, inplace=True, axis=1)"
      ],
      "execution_count": 0,
      "outputs": []
    },
    {
      "cell_type": "markdown",
      "metadata": {
        "colab_type": "text",
        "id": "-8XS7uBr0FBS"
      },
      "source": [
        "### ict Features\n",
        "\n",
        "Index of Information, Communication and Technology capabilities"
      ]
    },
    {
      "cell_type": "code",
      "metadata": {
        "colab_type": "code",
        "outputId": "cae1b602-6f00-4351-9c80-936a0020dc33",
        "id": "LRHNgd7z0FBW",
        "colab": {
          "base_uri": "https://localhost:8080/",
          "height": 121
        }
      },
      "source": [
        "# earnm features\n",
        "ict_df = df[ict]\n",
        "print(\"Percent of missing data by ICT\")\n",
        "print((ict_df.isnull().sum()/ict_df.shape[0] * 100).sort_values(ascending=False))"
      ],
      "execution_count": 31,
      "outputs": [
        {
          "output_type": "stream",
          "text": [
            "Percent of missing data by ICT\n",
            "ictwork           7.495\n",
            "icthome           7.180\n",
            "ictwork_wle_ca    6.775\n",
            "icthome_wle_ca    6.770\n",
            "dtype: float64\n"
          ],
          "name": "stdout"
        }
      ]
    },
    {
      "cell_type": "code",
      "metadata": {
        "id": "puaFf5Si6WK3",
        "colab_type": "code",
        "outputId": "a3ce7554-2a13-4162-8779-7f6054dd4b86",
        "colab": {
          "base_uri": "https://localhost:8080/",
          "height": 206
        }
      },
      "source": [
        "ict_df.head()"
      ],
      "execution_count": 32,
      "outputs": [
        {
          "output_type": "execute_result",
          "data": {
            "text/html": [
              "<div>\n",
              "<style scoped>\n",
              "    .dataframe tbody tr th:only-of-type {\n",
              "        vertical-align: middle;\n",
              "    }\n",
              "\n",
              "    .dataframe tbody tr th {\n",
              "        vertical-align: top;\n",
              "    }\n",
              "\n",
              "    .dataframe thead th {\n",
              "        text-align: right;\n",
              "    }\n",
              "</style>\n",
              "<table border=\"1\" class=\"dataframe\">\n",
              "  <thead>\n",
              "    <tr style=\"text-align: right;\">\n",
              "      <th></th>\n",
              "      <th>icthome</th>\n",
              "      <th>icthome_wle_ca</th>\n",
              "      <th>ictwork</th>\n",
              "      <th>ictwork_wle_ca</th>\n",
              "    </tr>\n",
              "  </thead>\n",
              "  <tbody>\n",
              "    <tr>\n",
              "      <th>0</th>\n",
              "      <td>2.261395</td>\n",
              "      <td>More than 40% to 60%</td>\n",
              "      <td>2.624086</td>\n",
              "      <td>More than 60% to 80%</td>\n",
              "    </tr>\n",
              "    <tr>\n",
              "      <th>1</th>\n",
              "      <td>3.538845</td>\n",
              "      <td>More than 80%</td>\n",
              "      <td>2.237029</td>\n",
              "      <td>More than 60% to 80%</td>\n",
              "    </tr>\n",
              "    <tr>\n",
              "      <th>2</th>\n",
              "      <td>2.624791</td>\n",
              "      <td>More than 60% to 80%</td>\n",
              "      <td>2.067996</td>\n",
              "      <td>More than 40% to 60%</td>\n",
              "    </tr>\n",
              "    <tr>\n",
              "      <th>3</th>\n",
              "      <td>3.479338</td>\n",
              "      <td>More than 80%</td>\n",
              "      <td>4.466779</td>\n",
              "      <td>More than 80%</td>\n",
              "    </tr>\n",
              "    <tr>\n",
              "      <th>4</th>\n",
              "      <td>2.645463</td>\n",
              "      <td>More than 60% to 80%</td>\n",
              "      <td>0.665753</td>\n",
              "      <td>Lowest to 20%</td>\n",
              "    </tr>\n",
              "  </tbody>\n",
              "</table>\n",
              "</div>"
            ],
            "text/plain": [
              "    icthome        icthome_wle_ca   ictwork        ictwork_wle_ca\n",
              "0  2.261395  More than 40% to 60%  2.624086  More than 60% to 80%\n",
              "1  3.538845         More than 80%  2.237029  More than 60% to 80%\n",
              "2  2.624791  More than 60% to 80%  2.067996  More than 40% to 60%\n",
              "3  3.479338         More than 80%  4.466779         More than 80%\n",
              "4  2.645463  More than 60% to 80%  0.665753         Lowest to 20%"
            ]
          },
          "metadata": {
            "tags": []
          },
          "execution_count": 32
        }
      ]
    },
    {
      "cell_type": "markdown",
      "metadata": {
        "id": "3Qbo1S7U691C",
        "colab_type": "text"
      },
      "source": [
        "Drop: 'icthome_wle_ca', 'ictwork_wle_ca' \n",
        "\n",
        "Keep: ictwork, icthome"
      ]
    },
    {
      "cell_type": "code",
      "metadata": {
        "id": "cnja-WwkG-yz",
        "colab_type": "code",
        "colab": {}
      },
      "source": [
        "features_ict_drop = [ 'icthome_wle_ca', 'ictwork_wle_ca' ]\n",
        "df.drop(features_ict_drop, inplace=True, axis=1)"
      ],
      "execution_count": 0,
      "outputs": []
    },
    {
      "cell_type": "markdown",
      "metadata": {
        "colab_type": "text",
        "id": "D1o51vYG0FLa"
      },
      "source": [
        "### nfe12 Features\n",
        "\n",
        "Only informal education within the last 12 months"
      ]
    },
    {
      "cell_type": "code",
      "metadata": {
        "colab_type": "code",
        "outputId": "b791a0f2-1daf-4cf5-9812-9b856f0277ff",
        "id": "O5V5XJYf0E2v",
        "colab": {
          "base_uri": "https://localhost:8080/",
          "height": 104
        }
      },
      "source": [
        "# nfe12 features\n",
        "earnm_nfe12 = df[nfe12]\n",
        "print(\"Percent of missing data by Informal Education with the last 12 months\")\n",
        "print((earnm_nfe12.isnull().sum()/earnm_df.shape[0] * 100).sort_values(ascending=False))"
      ],
      "execution_count": 34,
      "outputs": [
        {
          "output_type": "stream",
          "text": [
            "Percent of missing data by Informal Education with the last 12 months\n",
            "nfe12njr    0.42\n",
            "nfe12jr     0.42\n",
            "nfe12       0.42\n",
            "dtype: float64\n"
          ],
          "name": "stdout"
        }
      ]
    },
    {
      "cell_type": "code",
      "metadata": {
        "id": "_MnBjXmW9Gpp",
        "colab_type": "code",
        "outputId": "d92ef4f3-9e06-4810-b9ce-96c896fc0542",
        "colab": {
          "base_uri": "https://localhost:8080/",
          "height": 206
        }
      },
      "source": [
        "earnm_nfe12.head()"
      ],
      "execution_count": 35,
      "outputs": [
        {
          "output_type": "execute_result",
          "data": {
            "text/html": [
              "<div>\n",
              "<style scoped>\n",
              "    .dataframe tbody tr th:only-of-type {\n",
              "        vertical-align: middle;\n",
              "    }\n",
              "\n",
              "    .dataframe tbody tr th {\n",
              "        vertical-align: top;\n",
              "    }\n",
              "\n",
              "    .dataframe thead th {\n",
              "        text-align: right;\n",
              "    }\n",
              "</style>\n",
              "<table border=\"1\" class=\"dataframe\">\n",
              "  <thead>\n",
              "    <tr style=\"text-align: right;\">\n",
              "      <th></th>\n",
              "      <th>nfe12</th>\n",
              "      <th>nfe12jr</th>\n",
              "      <th>nfe12njr</th>\n",
              "    </tr>\n",
              "  </thead>\n",
              "  <tbody>\n",
              "    <tr>\n",
              "      <th>0</th>\n",
              "      <td>Did not participate in NFE</td>\n",
              "      <td>Did not participate in NFE for JR reasons</td>\n",
              "      <td>Did not participate in NFE for NJR reasons</td>\n",
              "    </tr>\n",
              "    <tr>\n",
              "      <th>1</th>\n",
              "      <td>Participated in NFE</td>\n",
              "      <td>Participated in NFE for JR reasons</td>\n",
              "      <td>Did not participate in NFE for NJR reasons</td>\n",
              "    </tr>\n",
              "    <tr>\n",
              "      <th>2</th>\n",
              "      <td>Participated in NFE</td>\n",
              "      <td>Did not participate in NFE for JR reasons</td>\n",
              "      <td>Participated in NFE for NJR reasons</td>\n",
              "    </tr>\n",
              "    <tr>\n",
              "      <th>3</th>\n",
              "      <td>Participated in NFE</td>\n",
              "      <td>Participated in NFE for JR reasons</td>\n",
              "      <td>Did not participate in NFE for NJR reasons</td>\n",
              "    </tr>\n",
              "    <tr>\n",
              "      <th>4</th>\n",
              "      <td>Did not participate in NFE</td>\n",
              "      <td>Did not participate in NFE for JR reasons</td>\n",
              "      <td>Did not participate in NFE for NJR reasons</td>\n",
              "    </tr>\n",
              "  </tbody>\n",
              "</table>\n",
              "</div>"
            ],
            "text/plain": [
              "                        nfe12  ...                                    nfe12njr\n",
              "0  Did not participate in NFE  ...  Did not participate in NFE for NJR reasons\n",
              "1         Participated in NFE  ...  Did not participate in NFE for NJR reasons\n",
              "2         Participated in NFE  ...         Participated in NFE for NJR reasons\n",
              "3         Participated in NFE  ...  Did not participate in NFE for NJR reasons\n",
              "4  Did not participate in NFE  ...  Did not participate in NFE for NJR reasons\n",
              "\n",
              "[5 rows x 3 columns]"
            ]
          },
          "metadata": {
            "tags": []
          },
          "execution_count": 35
        }
      ]
    },
    {
      "cell_type": "markdown",
      "metadata": {
        "id": "Xf0VflMEHbw1",
        "colab_type": "text"
      },
      "source": [
        "Drop: nfe12jr, nfe12njr\n",
        "\n",
        "Keep: nfe12"
      ]
    },
    {
      "cell_type": "code",
      "metadata": {
        "id": "BbpPV40XHe4d",
        "colab_type": "code",
        "colab": {}
      },
      "source": [
        "features_nfe12_drop = ['nfe12jr', 'nfe12njr']\n",
        "df.drop(features_nfe12_drop, inplace=True, axis=1)"
      ],
      "execution_count": 0,
      "outputs": []
    },
    {
      "cell_type": "markdown",
      "metadata": {
        "colab_type": "text",
        "id": "FD5bdEmS0FWi"
      },
      "source": [
        "### nfehrs Features"
      ]
    },
    {
      "cell_type": "code",
      "metadata": {
        "colab_type": "code",
        "outputId": "10fc4776-2c49-4238-c4ad-b8e70ff82cf8",
        "id": "cPySrEtU0EaD",
        "colab": {
          "base_uri": "https://localhost:8080/",
          "height": 104
        }
      },
      "source": [
        "# nfehrs features\n",
        "nfehrs_df = df[nfehrs]\n",
        "print(\"Percent of missing data by Informal Education Hours\")\n",
        "print((nfehrs_df.isnull().sum()/nfehrs_df.shape[0] * 100).sort_values(ascending=False))"
      ],
      "execution_count": 37,
      "outputs": [
        {
          "output_type": "stream",
          "text": [
            "Percent of missing data by Informal Education Hours\n",
            "nfehrsjr     51.365\n",
            "nfehrsnjr    51.365\n",
            "nfehrs       39.775\n",
            "dtype: float64\n"
          ],
          "name": "stdout"
        }
      ]
    },
    {
      "cell_type": "code",
      "metadata": {
        "id": "A2x6CTWZ9Xvx",
        "colab_type": "code",
        "outputId": "4adbb347-d6fc-4cec-acc6-449c9e26764f",
        "colab": {
          "base_uri": "https://localhost:8080/",
          "height": 206
        }
      },
      "source": [
        "nfehrs_df.head()"
      ],
      "execution_count": 38,
      "outputs": [
        {
          "output_type": "execute_result",
          "data": {
            "text/html": [
              "<div>\n",
              "<style scoped>\n",
              "    .dataframe tbody tr th:only-of-type {\n",
              "        vertical-align: middle;\n",
              "    }\n",
              "\n",
              "    .dataframe tbody tr th {\n",
              "        vertical-align: top;\n",
              "    }\n",
              "\n",
              "    .dataframe thead th {\n",
              "        text-align: right;\n",
              "    }\n",
              "</style>\n",
              "<table border=\"1\" class=\"dataframe\">\n",
              "  <thead>\n",
              "    <tr style=\"text-align: right;\">\n",
              "      <th></th>\n",
              "      <th>nfehrsnjr</th>\n",
              "      <th>nfehrsjr</th>\n",
              "      <th>nfehrs</th>\n",
              "    </tr>\n",
              "  </thead>\n",
              "  <tbody>\n",
              "    <tr>\n",
              "      <th>0</th>\n",
              "      <td>NaN</td>\n",
              "      <td>NaN</td>\n",
              "      <td>NaN</td>\n",
              "    </tr>\n",
              "    <tr>\n",
              "      <th>1</th>\n",
              "      <td>0.0</td>\n",
              "      <td>40.0</td>\n",
              "      <td>40.0</td>\n",
              "    </tr>\n",
              "    <tr>\n",
              "      <th>2</th>\n",
              "      <td>NaN</td>\n",
              "      <td>NaN</td>\n",
              "      <td>40.0</td>\n",
              "    </tr>\n",
              "    <tr>\n",
              "      <th>3</th>\n",
              "      <td>NaN</td>\n",
              "      <td>NaN</td>\n",
              "      <td>320.0</td>\n",
              "    </tr>\n",
              "    <tr>\n",
              "      <th>4</th>\n",
              "      <td>NaN</td>\n",
              "      <td>NaN</td>\n",
              "      <td>NaN</td>\n",
              "    </tr>\n",
              "  </tbody>\n",
              "</table>\n",
              "</div>"
            ],
            "text/plain": [
              "   nfehrsnjr  nfehrsjr  nfehrs\n",
              "0        NaN       NaN     NaN\n",
              "1        0.0      40.0    40.0\n",
              "2        NaN       NaN    40.0\n",
              "3        NaN       NaN   320.0\n",
              "4        NaN       NaN     NaN"
            ]
          },
          "metadata": {
            "tags": []
          },
          "execution_count": 38
        }
      ]
    },
    {
      "cell_type": "markdown",
      "metadata": {
        "id": "5K8SozQjHwFv",
        "colab_type": "text"
      },
      "source": [
        "Drop: nfehrsjr, nfehrsnjr\n",
        "\n",
        "Keep: nfehrs"
      ]
    },
    {
      "cell_type": "code",
      "metadata": {
        "id": "75fuofvhHwRN",
        "colab_type": "code",
        "colab": {}
      },
      "source": [
        "features_nfehrs = ['nfehrsjr', 'nfehrsnjr']\n",
        "df.drop(features_nfehrs, inplace=True, axis=1)"
      ],
      "execution_count": 0,
      "outputs": []
    },
    {
      "cell_type": "markdown",
      "metadata": {
        "colab_type": "text",
        "id": "Uxv-ShKO0FhY"
      },
      "source": [
        "### writ Features\n",
        "\n",
        "Writing capabilities"
      ]
    },
    {
      "cell_type": "code",
      "metadata": {
        "colab_type": "code",
        "outputId": "2fb56c62-f9f5-44f3-c730-f452839948d0",
        "id": "6pW5XzB00CRF",
        "colab": {
          "base_uri": "https://localhost:8080/",
          "height": 121
        }
      },
      "source": [
        "# writ features\n",
        "writ_df = df[writ]\n",
        "print(\"Percent of missing data by Writing Capabilities\")\n",
        "print((writ_df.isnull().sum()/writ_df.shape[0] * 100).sort_values(ascending=False))"
      ],
      "execution_count": 40,
      "outputs": [
        {
          "output_type": "stream",
          "text": [
            "Percent of missing data by Writing Capabilities\n",
            "writhome           4.705\n",
            "writwork           1.900\n",
            "writwork_wle_ca    0.000\n",
            "writhome_wle_ca    0.000\n",
            "dtype: float64\n"
          ],
          "name": "stdout"
        }
      ]
    },
    {
      "cell_type": "code",
      "metadata": {
        "id": "XdDec82M901V",
        "colab_type": "code",
        "outputId": "73fb4567-c684-49cc-8677-3afffb5aa450",
        "colab": {
          "base_uri": "https://localhost:8080/",
          "height": 206
        }
      },
      "source": [
        "writ_df.head()"
      ],
      "execution_count": 41,
      "outputs": [
        {
          "output_type": "execute_result",
          "data": {
            "text/html": [
              "<div>\n",
              "<style scoped>\n",
              "    .dataframe tbody tr th:only-of-type {\n",
              "        vertical-align: middle;\n",
              "    }\n",
              "\n",
              "    .dataframe tbody tr th {\n",
              "        vertical-align: top;\n",
              "    }\n",
              "\n",
              "    .dataframe thead th {\n",
              "        text-align: right;\n",
              "    }\n",
              "</style>\n",
              "<table border=\"1\" class=\"dataframe\">\n",
              "  <thead>\n",
              "    <tr style=\"text-align: right;\">\n",
              "      <th></th>\n",
              "      <th>writhome</th>\n",
              "      <th>writhome_wle_ca</th>\n",
              "      <th>writwork</th>\n",
              "      <th>writwork_wle_ca</th>\n",
              "    </tr>\n",
              "  </thead>\n",
              "  <tbody>\n",
              "    <tr>\n",
              "      <th>0</th>\n",
              "      <td>2.574343</td>\n",
              "      <td>More than 60% to 80%</td>\n",
              "      <td>3.690521</td>\n",
              "      <td>More than 80%</td>\n",
              "    </tr>\n",
              "    <tr>\n",
              "      <th>1</th>\n",
              "      <td>3.116459</td>\n",
              "      <td>More than 80%</td>\n",
              "      <td>3.101801</td>\n",
              "      <td>More than 80%</td>\n",
              "    </tr>\n",
              "    <tr>\n",
              "      <th>2</th>\n",
              "      <td>2.979574</td>\n",
              "      <td>More than 80%</td>\n",
              "      <td>2.818857</td>\n",
              "      <td>More than 80%</td>\n",
              "    </tr>\n",
              "    <tr>\n",
              "      <th>3</th>\n",
              "      <td>3.036055</td>\n",
              "      <td>More than 80%</td>\n",
              "      <td>3.690521</td>\n",
              "      <td>More than 80%</td>\n",
              "    </tr>\n",
              "    <tr>\n",
              "      <th>4</th>\n",
              "      <td>2.675496</td>\n",
              "      <td>More than 60% to 80%</td>\n",
              "      <td>0.056130</td>\n",
              "      <td>Lowest to 20%</td>\n",
              "    </tr>\n",
              "  </tbody>\n",
              "</table>\n",
              "</div>"
            ],
            "text/plain": [
              "   writhome       writhome_wle_ca  writwork writwork_wle_ca\n",
              "0  2.574343  More than 60% to 80%  3.690521   More than 80%\n",
              "1  3.116459         More than 80%  3.101801   More than 80%\n",
              "2  2.979574         More than 80%  2.818857   More than 80%\n",
              "3  3.036055         More than 80%  3.690521   More than 80%\n",
              "4  2.675496  More than 60% to 80%  0.056130   Lowest to 20%"
            ]
          },
          "metadata": {
            "tags": []
          },
          "execution_count": 41
        }
      ]
    },
    {
      "cell_type": "markdown",
      "metadata": {
        "id": "8jPAMbduIyqh",
        "colab_type": "text"
      },
      "source": [
        "Drop: writhome_wle_ca, writwork_wle_ca\n",
        "\n",
        "Keep: writhome, writwork"
      ]
    },
    {
      "cell_type": "code",
      "metadata": {
        "id": "KwVTnHFEIy1-",
        "colab_type": "code",
        "colab": {}
      },
      "source": [
        "features_writ_drop = [ 'writhome_wle_ca', 'writwork_wle_ca' ]\n",
        "df.drop(features_writ_drop, inplace=True, axis=1)"
      ],
      "execution_count": 0,
      "outputs": []
    },
    {
      "cell_type": "markdown",
      "metadata": {
        "id": "OuZSWKJD-Gsj",
        "colab_type": "text"
      },
      "source": [
        "## yrs features\n",
        "\n",
        "Imputed years of formal education needed to get the job (self-reported - estimated), Highest level of education obtained imputed into years of education (estimated), Derived variable on total years of schooling during lifetime - top coded at 24 (Trend)"
      ]
    },
    {
      "cell_type": "code",
      "metadata": {
        "id": "h1VsQT4v-E3V",
        "colab_type": "code",
        "outputId": "70d46e2e-34fc-4296-9692-1f23eda669f9",
        "colab": {
          "base_uri": "https://localhost:8080/",
          "height": 104
        }
      },
      "source": [
        "# writ features\n",
        "yrs_df = df[yrs]\n",
        "print(\"Percent of missing data by Writing Capabilities\")\n",
        "print((yrs_df.isnull().sum()/yrs_df.shape[0] * 100).sort_values(ascending=False))"
      ],
      "execution_count": 43,
      "outputs": [
        {
          "output_type": "stream",
          "text": [
            "Percent of missing data by Writing Capabilities\n",
            "yrsget       22.005\n",
            "yrsqual_t    13.845\n",
            "yrsqual      12.915\n",
            "dtype: float64\n"
          ],
          "name": "stdout"
        }
      ]
    },
    {
      "cell_type": "code",
      "metadata": {
        "id": "Q2iRTfWW-vKD",
        "colab_type": "code",
        "outputId": "fa354463-0527-4b0e-9b83-a4ba03b4af13",
        "colab": {
          "base_uri": "https://localhost:8080/",
          "height": 206
        }
      },
      "source": [
        "yrs_df.head()"
      ],
      "execution_count": 44,
      "outputs": [
        {
          "output_type": "execute_result",
          "data": {
            "text/html": [
              "<div>\n",
              "<style scoped>\n",
              "    .dataframe tbody tr th:only-of-type {\n",
              "        vertical-align: middle;\n",
              "    }\n",
              "\n",
              "    .dataframe tbody tr th {\n",
              "        vertical-align: top;\n",
              "    }\n",
              "\n",
              "    .dataframe thead th {\n",
              "        text-align: right;\n",
              "    }\n",
              "</style>\n",
              "<table border=\"1\" class=\"dataframe\">\n",
              "  <thead>\n",
              "    <tr style=\"text-align: right;\">\n",
              "      <th></th>\n",
              "      <th>yrsqual</th>\n",
              "      <th>yrsqual_t</th>\n",
              "      <th>yrsget</th>\n",
              "    </tr>\n",
              "  </thead>\n",
              "  <tbody>\n",
              "    <tr>\n",
              "      <th>0</th>\n",
              "      <td>12.0</td>\n",
              "      <td>12.0</td>\n",
              "      <td>14.0</td>\n",
              "    </tr>\n",
              "    <tr>\n",
              "      <th>1</th>\n",
              "      <td>15.0</td>\n",
              "      <td>15.0</td>\n",
              "      <td>NaN</td>\n",
              "    </tr>\n",
              "    <tr>\n",
              "      <th>2</th>\n",
              "      <td>16.0</td>\n",
              "      <td>16.0</td>\n",
              "      <td>NaN</td>\n",
              "    </tr>\n",
              "    <tr>\n",
              "      <th>3</th>\n",
              "      <td>18.0</td>\n",
              "      <td>18.0</td>\n",
              "      <td>NaN</td>\n",
              "    </tr>\n",
              "    <tr>\n",
              "      <th>4</th>\n",
              "      <td>12.0</td>\n",
              "      <td>12.0</td>\n",
              "      <td>12.0</td>\n",
              "    </tr>\n",
              "  </tbody>\n",
              "</table>\n",
              "</div>"
            ],
            "text/plain": [
              "   yrsqual  yrsqual_t  yrsget\n",
              "0     12.0       12.0    14.0\n",
              "1     15.0       15.0     NaN\n",
              "2     16.0       16.0     NaN\n",
              "3     18.0       18.0     NaN\n",
              "4     12.0       12.0    12.0"
            ]
          },
          "metadata": {
            "tags": []
          },
          "execution_count": 44
        }
      ]
    },
    {
      "cell_type": "markdown",
      "metadata": {
        "id": "OTD4VAmyKjRj",
        "colab_type": "text"
      },
      "source": [
        "Drop: yrsget, yrsqual\n",
        "\n",
        "Keep: yrsqual_t"
      ]
    },
    {
      "cell_type": "code",
      "metadata": {
        "id": "1hRxoeYJKjbc",
        "colab_type": "code",
        "colab": {}
      },
      "source": [
        "features_yrs_drop = ['yrsget', 'yrsqual']\n",
        "df.drop(features_yrs_drop, inplace=True, axis=1)"
      ],
      "execution_count": 0,
      "outputs": []
    },
    {
      "cell_type": "markdown",
      "metadata": {
        "id": "F_KjX1AK_kss",
        "colab_type": "text"
      },
      "source": [
        "\n",
        "## yearlyincpr\n",
        "\n",
        "Yearly income percentile rank category (estimated)"
      ]
    },
    {
      "cell_type": "code",
      "metadata": {
        "id": "wU88wO-w_NU6",
        "colab_type": "code",
        "outputId": "9805d277-41a8-4033-82fe-1f9730373d9a",
        "colab": {
          "base_uri": "https://localhost:8080/",
          "height": 52
        }
      },
      "source": [
        "print(\"Percent of missing data by Yearly Income PCT rank category\")\n",
        "print((df.yearlyincpr.isnull().sum()/df.yearlyincpr.shape[0]) * 100)"
      ],
      "execution_count": 46,
      "outputs": [
        {
          "output_type": "stream",
          "text": [
            "Percent of missing data by Yearly Income PCT rank category\n",
            "16.195\n"
          ],
          "name": "stdout"
        }
      ]
    },
    {
      "cell_type": "code",
      "metadata": {
        "id": "iTa9WUwn_I2e",
        "colab_type": "code",
        "outputId": "9c664b60-b1f2-4aac-9be3-92fa27ede15c",
        "colab": {
          "base_uri": "https://localhost:8080/",
          "height": 139
        }
      },
      "source": [
        "df.yearlyincpr.value_counts()"
      ],
      "execution_count": 47,
      "outputs": [
        {
          "output_type": "execute_result",
          "data": {
            "text/plain": [
              "50 to less than 75    4221\n",
              "75 to less than 90    3967\n",
              "90 or more            3903\n",
              "25 to less than 50    2747\n",
              "10 to less than 25    1111\n",
              "Less than 10           812\n",
              "Name: yearlyincpr, dtype: int64"
            ]
          },
          "metadata": {
            "tags": []
          },
          "execution_count": 47
        }
      ]
    },
    {
      "cell_type": "code",
      "metadata": {
        "id": "tc35Vlj9C-Mj",
        "colab_type": "code",
        "outputId": "bf37186f-1562-4865-b045-c279dc49cb5b",
        "colab": {
          "base_uri": "https://localhost:8080/",
          "height": 394
        }
      },
      "source": [
        "df.loc[:10, ['yearlyincpr', 'earnmthalldcl']]"
      ],
      "execution_count": 48,
      "outputs": [
        {
          "output_type": "execute_result",
          "data": {
            "text/html": [
              "<div>\n",
              "<style scoped>\n",
              "    .dataframe tbody tr th:only-of-type {\n",
              "        vertical-align: middle;\n",
              "    }\n",
              "\n",
              "    .dataframe tbody tr th {\n",
              "        vertical-align: top;\n",
              "    }\n",
              "\n",
              "    .dataframe thead th {\n",
              "        text-align: right;\n",
              "    }\n",
              "</style>\n",
              "<table border=\"1\" class=\"dataframe\">\n",
              "  <thead>\n",
              "    <tr style=\"text-align: right;\">\n",
              "      <th></th>\n",
              "      <th>yearlyincpr</th>\n",
              "      <th>earnmthalldcl</th>\n",
              "    </tr>\n",
              "  </thead>\n",
              "  <tbody>\n",
              "    <tr>\n",
              "      <th>0</th>\n",
              "      <td>50 to less than 75</td>\n",
              "      <td>6th decile</td>\n",
              "    </tr>\n",
              "    <tr>\n",
              "      <th>1</th>\n",
              "      <td>75 to less than 90</td>\n",
              "      <td>2nd decile</td>\n",
              "    </tr>\n",
              "    <tr>\n",
              "      <th>2</th>\n",
              "      <td>75 to less than 90</td>\n",
              "      <td>2nd decile</td>\n",
              "    </tr>\n",
              "    <tr>\n",
              "      <th>3</th>\n",
              "      <td>25 to less than 50</td>\n",
              "      <td>7th decile</td>\n",
              "    </tr>\n",
              "    <tr>\n",
              "      <th>4</th>\n",
              "      <td>10 to less than 25</td>\n",
              "      <td>9th decile</td>\n",
              "    </tr>\n",
              "    <tr>\n",
              "      <th>5</th>\n",
              "      <td>25 to less than 50</td>\n",
              "      <td>6th decile</td>\n",
              "    </tr>\n",
              "    <tr>\n",
              "      <th>6</th>\n",
              "      <td>50 to less than 75</td>\n",
              "      <td>3rd decile</td>\n",
              "    </tr>\n",
              "    <tr>\n",
              "      <th>7</th>\n",
              "      <td>90 or more</td>\n",
              "      <td>Highest decile</td>\n",
              "    </tr>\n",
              "    <tr>\n",
              "      <th>8</th>\n",
              "      <td>25 to less than 50</td>\n",
              "      <td>5th decile</td>\n",
              "    </tr>\n",
              "    <tr>\n",
              "      <th>9</th>\n",
              "      <td>75 to less than 90</td>\n",
              "      <td>2nd decile</td>\n",
              "    </tr>\n",
              "    <tr>\n",
              "      <th>10</th>\n",
              "      <td>90 or more</td>\n",
              "      <td>Highest decile</td>\n",
              "    </tr>\n",
              "  </tbody>\n",
              "</table>\n",
              "</div>"
            ],
            "text/plain": [
              "           yearlyincpr   earnmthalldcl\n",
              "0   50 to less than 75      6th decile\n",
              "1   75 to less than 90      2nd decile\n",
              "2   75 to less than 90      2nd decile\n",
              "3   25 to less than 50      7th decile\n",
              "4   10 to less than 25      9th decile\n",
              "5   25 to less than 50      6th decile\n",
              "6   50 to less than 75      3rd decile\n",
              "7           90 or more  Highest decile\n",
              "8   25 to less than 50      5th decile\n",
              "9   75 to less than 90      2nd decile\n",
              "10          90 or more  Highest decile"
            ]
          },
          "metadata": {
            "tags": []
          },
          "execution_count": 48
        }
      ]
    },
    {
      "cell_type": "markdown",
      "metadata": {
        "id": "G_urVYihLmvc",
        "colab_type": "text"
      },
      "source": [
        "Keep: yearlyincpr"
      ]
    },
    {
      "cell_type": "code",
      "metadata": {
        "id": "c1f_Dr5yCO_E",
        "colab_type": "code",
        "colab": {}
      },
      "source": [
        "# ordinalize yearlyincpr\n",
        "\n",
        "df.yearlyincpr = pd.Categorical(df['yearlyincpr'], \n",
        "                                categories=[\"Less than 10\", \"10 to less than 25\", \n",
        "                                            \"25 to less than 50\", '50 to less than 75', \n",
        "                                            '75 to less than 90', '90 or more'], \n",
        "                                ordered=False)"
      ],
      "execution_count": 0,
      "outputs": []
    },
    {
      "cell_type": "code",
      "metadata": {
        "id": "nrAIX6ZYUIZg",
        "colab_type": "code",
        "colab": {}
      },
      "source": [
        "# ordinalize iscoskil4\n",
        "\n",
        "df.iscoskil4 = pd.Categorical(df['iscoskil4'], \n",
        "                categories=['Elementary occupations', \n",
        "                            'Skilled occupations',\n",
        "                            'Semi-skilled blue-collar occupations', \n",
        "                            'Semi-skilled white-collar occupations'], \n",
        "                ordered=True)"
      ],
      "execution_count": 0,
      "outputs": []
    },
    {
      "cell_type": "markdown",
      "metadata": {
        "colab_type": "text",
        "id": "eoXUFTh6n0Gj"
      },
      "source": [
        "\n",
        "## ISCO features\n",
        "\n",
        "Occupational classification of respondent's job "
      ]
    },
    {
      "cell_type": "code",
      "metadata": {
        "colab_type": "code",
        "outputId": "a8ac0dd9-25c8-4e91-d0cf-6625689b6321",
        "id": "6A6jq4gVn0Gv",
        "colab": {
          "base_uri": "https://localhost:8080/",
          "height": 139
        }
      },
      "source": [
        "# isic features\n",
        "isco_df = df[isco]\n",
        "print(\"Percent of missing data by Industry classification\")\n",
        "print(((isco_df.isnull().sum()/isco_df.shape[0]) * 100).sort_values(ascending=False))"
      ],
      "execution_count": 51,
      "outputs": [
        {
          "output_type": "stream",
          "text": [
            "Percent of missing data by Industry classification\n",
            "iscoskil4    1.2\n",
            "isco2l       0.0\n",
            "isco1l       0.0\n",
            "isco2c       0.0\n",
            "isco1c       0.0\n",
            "dtype: float64\n"
          ],
          "name": "stdout"
        }
      ]
    },
    {
      "cell_type": "code",
      "metadata": {
        "colab_type": "code",
        "outputId": "b5bb5730-176f-433e-862d-5d15efea0799",
        "id": "yAe7-DWQn0G-",
        "colab": {
          "base_uri": "https://localhost:8080/",
          "height": 206
        }
      },
      "source": [
        "isco_df.head()"
      ],
      "execution_count": 52,
      "outputs": [
        {
          "output_type": "execute_result",
          "data": {
            "text/html": [
              "<div>\n",
              "<style scoped>\n",
              "    .dataframe tbody tr th:only-of-type {\n",
              "        vertical-align: middle;\n",
              "    }\n",
              "\n",
              "    .dataframe tbody tr th {\n",
              "        vertical-align: top;\n",
              "    }\n",
              "\n",
              "    .dataframe thead th {\n",
              "        text-align: right;\n",
              "    }\n",
              "</style>\n",
              "<table border=\"1\" class=\"dataframe\">\n",
              "  <thead>\n",
              "    <tr style=\"text-align: right;\">\n",
              "      <th></th>\n",
              "      <th>iscoskil4</th>\n",
              "      <th>isco1c</th>\n",
              "      <th>isco2c</th>\n",
              "      <th>isco1l</th>\n",
              "      <th>isco2l</th>\n",
              "    </tr>\n",
              "  </thead>\n",
              "  <tbody>\n",
              "    <tr>\n",
              "      <th>0</th>\n",
              "      <td>Skilled occupations</td>\n",
              "      <td>3</td>\n",
              "      <td>9999</td>\n",
              "      <td>9996</td>\n",
              "      <td>9996</td>\n",
              "    </tr>\n",
              "    <tr>\n",
              "      <th>1</th>\n",
              "      <td>Skilled occupations</td>\n",
              "      <td>3</td>\n",
              "      <td>31</td>\n",
              "      <td>9996</td>\n",
              "      <td>9996</td>\n",
              "    </tr>\n",
              "    <tr>\n",
              "      <th>2</th>\n",
              "      <td>Skilled occupations</td>\n",
              "      <td>2</td>\n",
              "      <td>24</td>\n",
              "      <td>9996</td>\n",
              "      <td>9996</td>\n",
              "    </tr>\n",
              "    <tr>\n",
              "      <th>3</th>\n",
              "      <td>Skilled occupations</td>\n",
              "      <td>3</td>\n",
              "      <td>33</td>\n",
              "      <td>9996</td>\n",
              "      <td>9996</td>\n",
              "    </tr>\n",
              "    <tr>\n",
              "      <th>4</th>\n",
              "      <td>Semi-skilled blue-collar occupations</td>\n",
              "      <td>8</td>\n",
              "      <td>83</td>\n",
              "      <td>9996</td>\n",
              "      <td>9996</td>\n",
              "    </tr>\n",
              "  </tbody>\n",
              "</table>\n",
              "</div>"
            ],
            "text/plain": [
              "                              iscoskil4  isco1c  isco2c  isco1l  isco2l\n",
              "0                   Skilled occupations       3    9999    9996    9996\n",
              "1                   Skilled occupations       3      31    9996    9996\n",
              "2                   Skilled occupations       2      24    9996    9996\n",
              "3                   Skilled occupations       3      33    9996    9996\n",
              "4  Semi-skilled blue-collar occupations       8      83    9996    9996"
            ]
          },
          "metadata": {
            "tags": []
          },
          "execution_count": 52
        }
      ]
    },
    {
      "cell_type": "markdown",
      "metadata": {
        "colab_type": "text",
        "id": "pn8OP1lVn0HI"
      },
      "source": [
        "Drop: isco2l, isco1l, isco1c\n",
        "\n",
        "Keep: isco2c"
      ]
    },
    {
      "cell_type": "code",
      "metadata": {
        "colab_type": "code",
        "id": "TwCyu6wyn0HK",
        "colab": {}
      },
      "source": [
        "features_isco_drop = ['isco2l', 'isco1l', 'isco1c']\n",
        "df.drop(features_isco_drop, inplace=True, axis=1)"
      ],
      "execution_count": 0,
      "outputs": []
    },
    {
      "cell_type": "markdown",
      "metadata": {
        "colab_type": "text",
        "id": "nwmFbEJHOL_7"
      },
      "source": [
        "\n",
        "## isic features\n",
        "\n",
        "Industrial classification of respondent's job "
      ]
    },
    {
      "cell_type": "code",
      "metadata": {
        "colab_type": "code",
        "outputId": "d7b8286f-0cb6-4146-8026-9859b43b635b",
        "id": "NWbDrYkuOL__",
        "colab": {
          "base_uri": "https://localhost:8080/",
          "height": 121
        }
      },
      "source": [
        "# isic features\n",
        "isic_df = df[isic]\n",
        "print(\"Percent of missing data by Industry classification\")\n",
        "print(((isic_df.isnull().sum()/isic_df.shape[0]) * 100).sort_values(ascending=False))"
      ],
      "execution_count": 54,
      "outputs": [
        {
          "output_type": "stream",
          "text": [
            "Percent of missing data by Industry classification\n",
            "isic2l    6.08\n",
            "isic2c    0.43\n",
            "isic1c    0.00\n",
            "isic1l    0.00\n",
            "dtype: float64\n"
          ],
          "name": "stdout"
        }
      ]
    },
    {
      "cell_type": "code",
      "metadata": {
        "colab_type": "code",
        "outputId": "ecead599-99fa-4b39-c321-7a7c6dbb9c17",
        "id": "zjKbbdB5OMAJ",
        "colab": {
          "base_uri": "https://localhost:8080/",
          "height": 206
        }
      },
      "source": [
        "isic_df.head()"
      ],
      "execution_count": 55,
      "outputs": [
        {
          "output_type": "execute_result",
          "data": {
            "text/html": [
              "<div>\n",
              "<style scoped>\n",
              "    .dataframe tbody tr th:only-of-type {\n",
              "        vertical-align: middle;\n",
              "    }\n",
              "\n",
              "    .dataframe tbody tr th {\n",
              "        vertical-align: top;\n",
              "    }\n",
              "\n",
              "    .dataframe thead th {\n",
              "        text-align: right;\n",
              "    }\n",
              "</style>\n",
              "<table border=\"1\" class=\"dataframe\">\n",
              "  <thead>\n",
              "    <tr style=\"text-align: right;\">\n",
              "      <th></th>\n",
              "      <th>isic1l</th>\n",
              "      <th>isic2l</th>\n",
              "      <th>isic1c</th>\n",
              "      <th>isic2c</th>\n",
              "    </tr>\n",
              "  </thead>\n",
              "  <tbody>\n",
              "    <tr>\n",
              "      <th>0</th>\n",
              "      <td>9999</td>\n",
              "      <td>NaN</td>\n",
              "      <td>M</td>\n",
              "      <td>9999</td>\n",
              "    </tr>\n",
              "    <tr>\n",
              "      <th>1</th>\n",
              "      <td>9996</td>\n",
              "      <td>9996</td>\n",
              "      <td>C</td>\n",
              "      <td>25</td>\n",
              "    </tr>\n",
              "    <tr>\n",
              "      <th>2</th>\n",
              "      <td>9996</td>\n",
              "      <td>9996</td>\n",
              "      <td>D</td>\n",
              "      <td>35</td>\n",
              "    </tr>\n",
              "    <tr>\n",
              "      <th>3</th>\n",
              "      <td>9996</td>\n",
              "      <td>9996</td>\n",
              "      <td>N</td>\n",
              "      <td>82</td>\n",
              "    </tr>\n",
              "    <tr>\n",
              "      <th>4</th>\n",
              "      <td>9996</td>\n",
              "      <td>9996</td>\n",
              "      <td>G</td>\n",
              "      <td>45</td>\n",
              "    </tr>\n",
              "  </tbody>\n",
              "</table>\n",
              "</div>"
            ],
            "text/plain": [
              "  isic1l isic2l isic1c isic2c\n",
              "0   9999    NaN      M   9999\n",
              "1   9996   9996      C     25\n",
              "2   9996   9996      D     35\n",
              "3   9996   9996      N     82\n",
              "4   9996   9996      G     45"
            ]
          },
          "metadata": {
            "tags": []
          },
          "execution_count": 55
        }
      ]
    },
    {
      "cell_type": "markdown",
      "metadata": {
        "id": "uWVEEwDjOqQy",
        "colab_type": "text"
      },
      "source": [
        "Drop: isic2l, isic1l, isic2c\n",
        "\n",
        "Keep: isic1c"
      ]
    },
    {
      "cell_type": "code",
      "metadata": {
        "id": "xkxHGNBUO4ga",
        "colab_type": "code",
        "colab": {}
      },
      "source": [
        "features_isic_drop = ['isic2l', 'isic1l', 'isic2c']\n",
        "df.drop(features_isic_drop, inplace=True, axis=1)"
      ],
      "execution_count": 0,
      "outputs": []
    },
    {
      "cell_type": "markdown",
      "metadata": {
        "id": "Bq7-u81IUGU3",
        "colab_type": "text"
      },
      "source": [
        "# Preprocessing (Dropping and Replacing) for Missing/Unavailable Value Encodings"
      ]
    },
    {
      "cell_type": "markdown",
      "metadata": {
        "id": "RYQR39H2CUzu",
        "colab_type": "text"
      },
      "source": [
        "With this particular dataset, some missing or unavailable column values are encoded as a numeric value. Some particular values that were used to encode these values are: 999, 9996, 9997, 9998, 9999, 99999. Let's have a look at them first. Our next step would be to map these values to np.nan for imputation afterwards. We make a list of these notable features."
      ]
    },
    {
      "cell_type": "markdown",
      "metadata": {
        "id": "duzUFBFlD4_1",
        "colab_type": "text"
      },
      "source": [
        "Also note that for some features, the integer values or float are actually strings, thus making the feature column itself an object column. What we would want here is to cast these specifically as integers, after having dealt with the letter encodings. Using Int64\n",
        "* ~~v71~~ -> cast letters to np.nan, cast values to np.nan, cast all to Int64\n",
        "* ~~v105~~ -> drop\n",
        "\n",
        "Letter columns that use numeric encodings to indicate missing:\n",
        "* ~~isic1c~~ -> replace num string as np.nan"
      ]
    },
    {
      "cell_type": "code",
      "metadata": {
        "id": "UfOEeaVXC4xO",
        "colab_type": "code",
        "colab": {}
      },
      "source": [
        "possible_missing_data_codes = ['999', 9995, '9995', 9996, '9996' ,9997, 9998,'9998', 9999, '9999', '99999']"
      ],
      "execution_count": 0,
      "outputs": []
    },
    {
      "cell_type": "markdown",
      "metadata": {
        "id": "DyRo61874BsA",
        "colab_type": "text"
      },
      "source": [
        "Drop v105 because it is the same as isic features and we already drop those. \n",
        "\n",
        "We then impute the missing/unavailable encoded values in isic1c with np.nan"
      ]
    },
    {
      "cell_type": "code",
      "metadata": {
        "id": "JIa_TpnXTxiz",
        "colab_type": "code",
        "colab": {}
      },
      "source": [
        "# v105 is to v71 what isic1l is to isic1c; one refers to industry of last job and one refers to industry of current job\n",
        "df.drop(['v71', 'v105'], inplace=True, axis=1)"
      ],
      "execution_count": 0,
      "outputs": []
    },
    {
      "cell_type": "code",
      "metadata": {
        "id": "ziVlHDOMWmvX",
        "colab_type": "code",
        "outputId": "db789803-59d8-4993-ff7f-3be43a071517",
        "colab": {
          "base_uri": "https://localhost:8080/",
          "height": 69
        }
      },
      "source": [
        "df.isic1c.unique()"
      ],
      "execution_count": 59,
      "outputs": [
        {
          "output_type": "execute_result",
          "data": {
            "text/plain": [
              "array(['M', 'C', 'D', 'N', 'G', 'P', 'I', 'O', 'K', 'F', 'A', 'L', 'R',\n",
              "       '9996', 'Q', 'H', 'J', '9999', 'B', '9995', 'T', '9998', 'S', 'E',\n",
              "       '9997'], dtype=object)"
            ]
          },
          "metadata": {
            "tags": []
          },
          "execution_count": 59
        }
      ]
    },
    {
      "cell_type": "code",
      "metadata": {
        "id": "OJXs2B9QTLss",
        "colab_type": "code",
        "colab": {}
      },
      "source": [
        "missing_values_to_replace = ['9995', '9996', '9997', '9998', '9999']\n",
        "\n",
        "df['isic1c'].replace(to_replace=missing_values_to_replace, value=np.nan, inplace=True)"
      ],
      "execution_count": 0,
      "outputs": []
    },
    {
      "cell_type": "markdown",
      "metadata": {
        "id": "n7Fu3ndX_8Eb",
        "colab_type": "text"
      },
      "source": [
        "# Drop Missing Data by Axes"
      ]
    },
    {
      "cell_type": "markdown",
      "metadata": {
        "id": "KoSrbh7Un5wJ",
        "colab_type": "text"
      },
      "source": [
        "## Missing Data Proportion by Columns\n",
        "We will want to drop a number of the columns have have a significant amount of its data missing. Some features have disproportionately more data missing than others and there will be no way to impute those features. In which case dropping those features might be the best course of action to clean up the dataset. Feature column values that have a proportion of their data missing equal to or greater than an arbitrary threshold will have their columns dropped. Afterwards, a row-wise operation of this procedure will be further applied to include cleaner samples in the dataset. \n",
        "________________\n",
        "\n",
        "We will examine to see which features reach this threshold requirement to be dropped before we do any such dropping. \n",
        "____________ \n",
        "\n",
        "Afterwards, we will want to smarly impute the remaining missing data points as much as we can."
      ]
    },
    {
      "cell_type": "code",
      "metadata": {
        "id": "D-V0WcWv8hOs",
        "colab_type": "code",
        "outputId": "97c5577f-eb9b-49e0-d945-511970f56033",
        "colab": {
          "base_uri": "https://localhost:8080/",
          "height": 52
        }
      },
      "source": [
        "# features by % of missing data\n",
        "dropthreshold = 50\n",
        "\n",
        "pct_missing_list = list([col for col in df.columns if df[col].isnull().sum()/df.shape[0] * 100 >= dropthreshold])\n",
        "pm_list = []\n",
        "\n",
        "\n",
        "for col in df.columns:\n",
        "    if df[col].isnull().sum()/df.shape[0] * 100 >= dropthreshold:\n",
        "        pm_list.append(df[col].isnull().sum()/df.shape[0] * 100)\n",
        "        \n",
        "dropped_columns_dataframe = pd.DataFrame(pm_list, columns=['% Missing Data'], index=pct_missing_list).sort_values(by='% Missing Data', ascending=False)\n",
        "\n",
        "# get the data points in the dataframe that have >= 50% of their data missing\n",
        "df_col_drop_gtoe_50 = df[pct_missing_list]\n",
        "kept_feat_cols = list(set(df.columns) - set(pct_missing_list))\n",
        "reduced_df = df[kept_feat_cols]\n",
        "\n",
        "print(\"The features with {}% or more of it's data missing will be dropped from the dataset.\".format(dropthreshold))\n",
        "print(\"{} Columns will be dropped, which constitutes a {}% drop in the number of features from the original dataset\".format(\n",
        "    len(df.columns) - len(kept_feat_cols), \n",
        "    ((len(df.columns) - len(kept_feat_cols)) / len(df.columns)) * 100\n",
        ")\n",
        "     )\n",
        "\n",
        "# save the results to csv to look at later\n",
        "dropped_columns_dataframe.to_csv('./features_greater_50_percent_missing_data_by_cols.csv')\n",
        "\n",
        "# write out the dataframe after having dropped the columns\n",
        "reduced_df.to_csv('./reduced_df_gtoe_{}_missing_df.csv'.format(dropthreshold))"
      ],
      "execution_count": 61,
      "outputs": [
        {
          "output_type": "stream",
          "text": [
            "The features with 50% or more of it's data missing will be dropped from the dataset.\n",
            "125 Columns will be dropped, which constitutes a 36.65689149560117% drop in the number of features from the original dataset\n"
          ],
          "name": "stdout"
        }
      ]
    },
    {
      "cell_type": "code",
      "metadata": {
        "id": "selF5Fh8brN1",
        "colab_type": "code",
        "colab": {}
      },
      "source": [
        "def report_missing(preproc_data, postproc_data, axis=1, dropthreshold=None):\n",
        "    \"\"\" dataset in dataframe format passed in is before and after dropping feature columns or rows. \"\"\"\n",
        "    print(\"The features with {}% or more of it's data missing will be dropped from the dataset.\".format(dropthreshold))\n",
        "    \n",
        "    if axis == 1:\n",
        "        print(\"{} Columns will be dropped, which constitutes a {}% drop in the number of features from the original dataset\".format(\n",
        "        len(preproc_data.columns) - len(postproc_data.columns), \n",
        "        ((len(preproc_data.columns) - len(postproc_data.columns)) / len(preproc_data.columns)) * 100\n",
        "    )\n",
        "         )\n",
        "    \n",
        "    else:\n",
        "        print(\"{} Data Points will be dropped, which constitutes a {}% drop in the number of data points from the original dataset\".format(\n",
        "        preproc_data.shape[0] - postproc_data.shape[0], \n",
        "        ((preproc_data.shape[0] - postproc_data.shape[0]) / preproc_data.shape[0]) * 100\n",
        "    )\n",
        "         )\n",
        "    \n"
      ],
      "execution_count": 0,
      "outputs": []
    },
    {
      "cell_type": "markdown",
      "metadata": {
        "id": "f7KwoFyV4DyC",
        "colab_type": "text"
      },
      "source": [
        "## Missing Data Proportion By Row \n",
        "An alternative strategy would be just to drop all of the rows with missing values. This step requires a little more wor as we will have more than 0 data points that have missing values and require imputation of missing values.\n",
        "\n",
        "\n",
        "Lets first drop any data ROWS with 20% or more missing values and see what we end up with.\n",
        "\n",
        "________________\n",
        "\n",
        "\n",
        "Just a refresher on how to how to conditionally select rows from a data frame:\n",
        "\n",
        "To select rows whose column value equals a scalar, some_value, use ==:\n",
        "df.loc[df['column_name'] == some_value]\n",
        "\n",
        "\n",
        "To select rows whose column value is in an iterable, some_values, use isin:\n",
        "df.loc[df['column_name'].isin(some_values)]\n",
        "\n",
        "Combine multiple conditions with &:\n",
        "df.loc[(df['column_name'] >= A) & (df['column_name'] <= B)]\n",
        "\n",
        "Conditionally set values\n",
        "df[label] = df.variable.where('label' == 'another_label')\n",
        "\n",
        "\n",
        "\n"
      ]
    },
    {
      "cell_type": "code",
      "metadata": {
        "id": "g3PETq5SC7wr",
        "colab_type": "code",
        "outputId": "3b29d514-fab8-4222-e94e-eed8df449e99",
        "colab": {
          "base_uri": "https://localhost:8080/",
          "height": 52
        }
      },
      "source": [
        "# Data points with percentage of data missing and greater will be dropped from the dataset\n",
        "dropthreshold = 20\n",
        "\n",
        "# get the data points in the dataframe that have >= 30% of their data missing\n",
        "to_drop_df = reduced_df.loc[(reduced_df.isnull().sum(axis=1)/reduced_df.shape[1]*100) >= dropthreshold]\n",
        "row_reduced_df = reduced_df.loc[(\n",
        "    reduced_df.isnull().sum(axis=1) / reduced_df.shape[1]*100 < dropthreshold\n",
        ")]\n",
        "\n",
        "report_missing(reduced_df, row_reduced_df, axis=0, dropthreshold=dropthreshold)\n",
        "\n",
        "# give the new dataframe a better name\n",
        "final_kept_df = row_reduced_df\n",
        "\n",
        "# save the dataframe to disk after the processing\n",
        "final_kept_df.to_csv('./final_kept_df.csv')"
      ],
      "execution_count": 63,
      "outputs": [
        {
          "output_type": "stream",
          "text": [
            "The features with 20% or more of it's data missing will be dropped from the dataset.\n",
            "1304 Data Points will be dropped, which constitutes a 6.52% drop in the number of data points from the original dataset\n"
          ],
          "name": "stdout"
        }
      ]
    },
    {
      "cell_type": "markdown",
      "metadata": {
        "id": "A6RsGfvzzPce",
        "colab_type": "text"
      },
      "source": [
        "## Missing Data by Data Type\n",
        "We can see that there are a considerable amount of missing values for this dataset. We will have to dig in to understand which features would have missing values, and can we come up with a strategy to handle it."
      ]
    },
    {
      "cell_type": "code",
      "metadata": {
        "id": "LAGegy6qZyLH",
        "colab_type": "code",
        "outputId": "ab212a90-bbd6-4dd9-8edf-9fd0dd6eb591",
        "colab": {
          "base_uri": "https://localhost:8080/",
          "height": 52
        }
      },
      "source": [
        "# separate out the numeric and categorical variables to see how much of each are missing\n",
        "def df_by_type_splitter(dataframe):\n",
        "    \"\"\" a larger dataframe into immediately identifiable numeric and other type dataframes\"\"\"\n",
        "    num_df = dataframe._get_numeric_data().copy()\n",
        "    cat_df = dataframe.select_dtypes(exclude = [int, float]).copy()\n",
        "\n",
        "    return num_df, cat_df\n",
        "\n",
        "\n",
        "numeric_df, categorical_df = df_by_type_splitter(row_reduced_df)\n",
        "\n",
        "\n",
        "print(\"Number of Numeric Features: {}\".format(numeric_df.shape[1]))\n",
        "print(\"Number of Categorical Features: {}\".format(categorical_df.shape[1]))"
      ],
      "execution_count": 64,
      "outputs": [
        {
          "output_type": "stream",
          "text": [
            "Number of Numeric Features: 31\n",
            "Number of Categorical Features: 185\n"
          ],
          "name": "stdout"
        }
      ]
    },
    {
      "cell_type": "markdown",
      "metadata": {
        "id": "Yc54cbPazRx-",
        "colab_type": "text"
      },
      "source": [
        "## Numeric Feature Missing Values\n",
        "\n",
        "It still appears that after dropping the data points and features with a majority of their data points missing, that about a third of the numeric features containg NaN/missing values in more than 20% of their data points."
      ]
    },
    {
      "cell_type": "code",
      "metadata": {
        "id": "83BqJ9XwGdyJ",
        "colab_type": "code",
        "outputId": "a6980621-d787-416e-bc89-6c0478f158ea",
        "colab": {
          "base_uri": "https://localhost:8080/",
          "height": 604
        }
      },
      "source": [
        "# take a look at the missing values from the numeric features dataframe\n",
        "print(\"Proportionally, numeric features contribute {0:.2f}% of the total features in the dataset\".format(numeric_df.shape[1]/final_kept_df.shape[1]*100))\n",
        "a = pd.Series(numeric_df.isnull().sum().sort_values(ascending=False)/(numeric_df.shape[0]) * 100)\n",
        "print(a[:12])\n",
        "a.plot(kind='bar')\n",
        "\n",
        "# 9 numeric features of 37 with more than 20% of it's data missing\n",
        "print(\"The number of numeric features with more than 20% of its values missing is: {}, which is {}% of all numeric features\".format(9, (9/numeric_df.shape[1]*100)))"
      ],
      "execution_count": 65,
      "outputs": [
        {
          "output_type": "stream",
          "text": [
            "Proportionally, numeric features contribute 14.35% of the total features in the dataset\n",
            "leavedu        44.228712\n",
            "v202           39.120668\n",
            "age_r          38.928113\n",
            "v231           38.350449\n",
            "nfehrs         38.088361\n",
            "v272           37.836970\n",
            "v52            37.601626\n",
            "v33            37.569534\n",
            "v63            36.360719\n",
            "yrsqual_t      13.441378\n",
            "learnatwork     7.980317\n",
            "v135            7.541720\n",
            "dtype: float64\n",
            "The number of numeric features with more than 20% of its values missing is: 9, which is 29.03225806451613% of all numeric features\n"
          ],
          "name": "stdout"
        },
        {
          "output_type": "display_data",
          "data": {
            "image/png": "[encoded data removed]",
            "text/plain": [
              "<Figure size 432x288 with 1 Axes>"
            ]
          },
          "metadata": {
            "tags": []
          }
        }
      ]
    },
    {
      "cell_type": "markdown",
      "metadata": {
        "id": "M_ufjLzSH34y",
        "colab_type": "text"
      },
      "source": [
        "We are going to explore correlation/collinearity between the numeric features and drop redundant features."
      ]
    },
    {
      "cell_type": "code",
      "metadata": {
        "id": "EN8_YTMoMhfb",
        "colab_type": "code",
        "outputId": "29dafbf7-bc5f-46f9-ab3b-508ad8a03cd0",
        "colab": {
          "base_uri": "https://localhost:8080/",
          "height": 69
        }
      },
      "source": [
        "# categorical feature with numeric encoding\n",
        "\n",
        "cat_feat_with_num_encoding = ['v224','v239', 'isco2c']\n",
        "for i in cat_feat_with_num_encoding:\n",
        "    print(\"This categorical feature with numeric encodings has {} unique values: {}\".format(i, len(numeric_df[i].unique())))"
      ],
      "execution_count": 66,
      "outputs": [
        {
          "output_type": "stream",
          "text": [
            "This categorical feature with numeric encodings has v224 unique values: 27\n",
            "This categorical feature with numeric encodings has v239 unique values: 413\n",
            "This categorical feature with numeric encodings has isco2c unique values: 50\n"
          ],
          "name": "stdout"
        }
      ]
    },
    {
      "cell_type": "markdown",
      "metadata": {
        "id": "v-w24rJslxoA",
        "colab_type": "text"
      },
      "source": [
        "Although semantically inappropriate, let's, as an exercise, treat these high-category numerically encoded features as numeric features. Depening on the results of our exploration, we may go back to treating these features as categorical variables in the final model."
      ]
    },
    {
      "cell_type": "markdown",
      "metadata": {
        "id": "KsUsMHe6IPht",
        "colab_type": "text"
      },
      "source": [
        "## Pre-Imputer Imputation for numeric features\n",
        "Some further processing can be done before the imputation step such as (dropping,casting, merging, etc). The next few segments of code will go through the next preprocessing steps as outlined above."
      ]
    },
    {
      "cell_type": "code",
      "metadata": {
        "id": "sEL-EAuXNRLB",
        "colab_type": "code",
        "colab": {}
      },
      "source": [
        "# we drop 'age_r' as there is another categorical feature containing the same demographic information with more completeness, with the tradeoff of numeric granularity\n",
        "\n",
        "numeric_df.drop(columns='age_r', inplace=True, axis=1)"
      ],
      "execution_count": 0,
      "outputs": []
    },
    {
      "cell_type": "code",
      "metadata": {
        "id": "w_A3eDpsNoZo",
        "colab_type": "code",
        "colab": {}
      },
      "source": [
        "# we drop 'row' because this is a pretty useless category\n",
        "\n",
        "numeric_df.drop(columns='row', inplace=True, axis=1)"
      ],
      "execution_count": 0,
      "outputs": []
    },
    {
      "cell_type": "markdown",
      "metadata": {
        "id": "KMjmxE2kBITx",
        "colab_type": "text"
      },
      "source": [
        "Because v239 has many numeric encodings as a categorical feature, we can initially treat it as a numeric feature and then see whether there is a relationship between it and the response variable: 'job_performance'. We keep the variable if it is a strong predictor of employee job performance; otherwise, we drop the largely-categorized variable."
      ]
    },
    {
      "cell_type": "markdown",
      "metadata": {
        "id": "eF57e0tuILMz",
        "colab_type": "text"
      },
      "source": [
        "As we can gleen from the heatmap below in Seaborn, there is no correlation between the feature v239 (current occupation) and job performance of an employee, if current occuptational coding were treated as a numeric variable."
      ]
    },
    {
      "cell_type": "code",
      "metadata": {
        "id": "ukoedFzgIJBK",
        "colab_type": "code",
        "outputId": "29186d96-528f-46d4-efd7-5a6f9f0b3714",
        "colab": {
          "base_uri": "https://localhost:8080/",
          "height": 295
        }
      },
      "source": [
        "import seaborn as sns\n",
        "\n",
        "o = pd.DataFrame(numeric_df['v239'].fillna(value=numeric_df['v239'].median()))\n",
        "o['job_performance'] = numeric_df['job_performance']\n",
        "corr = o.corr()\n",
        "sns.heatmap(corr, annot=True)"
      ],
      "execution_count": 69,
      "outputs": [
        {
          "output_type": "execute_result",
          "data": {
            "text/plain": [
              "<matplotlib.axes._subplots.AxesSubplot at 0x7f0d7fc71b70>"
            ]
          },
          "metadata": {
            "tags": []
          },
          "execution_count": 69
        },
        {
          "output_type": "display_data",
          "data": {
            "image/png": "[encoded data removed]",
            "text/plain": [
              "<Figure size 432x288 with 2 Axes>"
            ]
          },
          "metadata": {
            "tags": []
          }
        }
      ]
    },
    {
      "cell_type": "markdown",
      "metadata": {
        "id": "TJLuT4IRKl51",
        "colab_type": "text"
      },
      "source": [
        "What happens when we look at v239 as a categorical feature? Well, we don't really get to see much of anything at all from onehot encoding this highly categorized feature."
      ]
    },
    {
      "cell_type": "code",
      "metadata": {
        "id": "crCGh2PkJyk0",
        "colab_type": "code",
        "outputId": "d9e5b886-c666-45be-a5ca-d143449d19a5",
        "colab": {
          "base_uri": "https://localhost:8080/",
          "height": 500
        }
      },
      "source": [
        "get_dummy_features = pd.get_dummies(o['v239'], drop_first=True)\n",
        "temp_df_dummies = pd.concat([o[['job_performance']], get_dummy_features], axis=1).iloc[4:10]\n",
        "print(temp_df_dummies.head())\n",
        "\n",
        "corr = temp_df_dummies.corr()\n",
        "sns.heatmap(corr, annot=True)"
      ],
      "execution_count": 70,
      "outputs": [
        {
          "output_type": "stream",
          "text": [
            "   job_performance  7.0  8.0  12.0  ...  9996.0  9997.0  9998.0  9999.0\n",
            "4      2079.471114    0    0     0  ...       0       0       0       1\n",
            "5      3197.167530    0    0     0  ...       0       0       0       0\n",
            "6      2627.234538    0    0     0  ...       0       0       0       0\n",
            "7      3147.474706    0    0     0  ...       0       0       0       1\n",
            "8      2618.112809    0    0     0  ...       0       0       0       1\n",
            "\n",
            "[5 rows x 412 columns]\n"
          ],
          "name": "stdout"
        },
        {
          "output_type": "execute_result",
          "data": {
            "text/plain": [
              "<matplotlib.axes._subplots.AxesSubplot at 0x7f0d7d34b630>"
            ]
          },
          "metadata": {
            "tags": []
          },
          "execution_count": 70
        },
        {
          "output_type": "display_data",
          "data": {
            "image/png": "[encoded data removed]",
            "text/plain": [
              "<Figure size 432x288 with 2 Axes>"
            ]
          },
          "metadata": {
            "tags": []
          }
        }
      ]
    },
    {
      "cell_type": "markdown",
      "metadata": {
        "id": "nXUJicmjlT_4",
        "colab_type": "text"
      },
      "source": [
        "So it looks like for now, it is safe to drop this feature"
      ]
    },
    {
      "cell_type": "code",
      "metadata": {
        "id": "4V7Recx4lZGV",
        "colab_type": "code",
        "colab": {}
      },
      "source": [
        "# Dropping feature 'v239'\n",
        "\n",
        "numeric_df.drop('v239', axis=1, inplace=True)"
      ],
      "execution_count": 0,
      "outputs": []
    },
    {
      "cell_type": "markdown",
      "metadata": {
        "id": "DrUGXvK_B6J4",
        "colab_type": "text"
      },
      "source": [
        "We will then choose to impute the rest of the missing numeric features, during our imputation step."
      ]
    },
    {
      "cell_type": "markdown",
      "metadata": {
        "id": "VJAWL1hje97q",
        "colab_type": "text"
      },
      "source": [
        "## Examination of the categorical features"
      ]
    },
    {
      "cell_type": "code",
      "metadata": {
        "id": "Q0u62ihTGiV-",
        "colab_type": "code",
        "outputId": "0f110904-4775-4796-f0db-5103a802f2eb",
        "colab": {
          "base_uri": "https://localhost:8080/",
          "height": 761
        }
      },
      "source": [
        "# take a look at the missing values for categorical features dataframe\n",
        "print(\"Proportionally, categorical features contribute {0:.2f}% of the total features in the dataset\".format(categorical_df.shape[1]/final_kept_df.shape[1]*100))\n",
        "print((categorical_df.isnull().sum().sort_values(ascending=False)/(categorical_df.shape[0]) * 100 )[:20])\n",
        "b = pd.Series(categorical_df.isnull().sum().sort_values(ascending=False)/(categorical_df.shape[0]) * 100 )\n",
        "b.plot(kind='bar')\n",
        "\n",
        "# 17 features with more than 20% of its values missing of 205 features\n",
        "print(\"The number of categorical features with more than 20% of its values missing is: {}, which is {}% of all categorical features\".format(17, 17/categorical_df.shape[1]*100))"
      ],
      "execution_count": 72,
      "outputs": [
        {
          "output_type": "stream",
          "text": [
            "Proportionally, categorical features contribute 85.65% of the total features in the dataset\n",
            "ctryqual          47.432606\n",
            "v291              45.811938\n",
            "v137              45.250321\n",
            "cnt_brth          43.993368\n",
            "v3                39.190201\n",
            "birthrgn          37.366282\n",
            "v269              35.761660\n",
            "v91               35.745614\n",
            "v47               33.290543\n",
            "v236              33.178220\n",
            "v289              27.251819\n",
            "v96               24.919769\n",
            "earnhrbonusdcl    22.368421\n",
            "earnhrdcl         22.117030\n",
            "v255              21.266581\n",
            "v212              21.074027\n",
            "reg_tl2           20.180787\n",
            "v62               17.233633\n",
            "earnflag          16.714805\n",
            "v8                16.442020\n",
            "dtype: float64\n",
            "The number of categorical features with more than 20% of its values missing is: 17, which is 9.18918918918919% of all categorical features\n"
          ],
          "name": "stdout"
        },
        {
          "output_type": "display_data",
          "data": {
            "image/png": "[encoded data removed]",
            "text/plain": [
              "<Figure size 432x288 with 1 Axes>"
            ]
          },
          "metadata": {
            "tags": []
          }
        }
      ]
    },
    {
      "cell_type": "code",
      "metadata": {
        "id": "KgWo8NI_6gMx",
        "colab_type": "code",
        "outputId": "82c5e03a-d897-4947-ea7f-9a1456dd806e",
        "colab": {
          "base_uri": "https://localhost:8080/",
          "height": 52
        }
      },
      "source": [
        "temp = pd.DataFrame(categorical_df.columns, columns=['feature_name'])\n",
        "temp['num_unique_values'] = [len(categorical_df[col].unique()) for col in categorical_df.columns]\n",
        "print(\"There are {} features that have <=10 unique values in feature column, which could benefit greatly from categorization.\".format(temp[temp['num_unique_values'] <= 10].sort_values('num_unique_values', ascending=False).shape[0]))\n",
        "print(\"This is {0:.2f}% of the categorical features that could benefit from categorization optimization\".format(temp[temp['num_unique_values'] <= 10].shape[0]/categorical_df.shape[1] * 100))"
      ],
      "execution_count": 73,
      "outputs": [
        {
          "output_type": "stream",
          "text": [
            "There are 171 features that have <=10 unique values in feature column, which could benefit greatly from categorization.\n",
            "This is 92.43% of the categorical features that could benefit from categorization optimization\n"
          ],
          "name": "stdout"
        }
      ]
    },
    {
      "cell_type": "code",
      "metadata": {
        "id": "bESORlL79TkV",
        "colab_type": "code",
        "outputId": "4025ddb2-e65c-4511-8182-b162905b26cc",
        "colab": {
          "base_uri": "https://localhost:8080/",
          "height": 104
        }
      },
      "source": [
        "# we can see that the categorical features, because of many data points and features there are, contribute heavily to the memory usage\n",
        "\n",
        "categorical_df.info(memory_usage='deep')"
      ],
      "execution_count": 74,
      "outputs": [
        {
          "output_type": "stream",
          "text": [
            "<class 'pandas.core.frame.DataFrame'>\n",
            "Int64Index: 18696 entries, 0 to 19999\n",
            "Columns: 185 entries, v85 to v74\n",
            "dtypes: category(4), object(181)\n",
            "memory usage: 231.8 MB\n"
          ],
          "name": "stdout"
        }
      ]
    },
    {
      "cell_type": "code",
      "metadata": {
        "id": "aGGRPorcNRT9",
        "colab_type": "code",
        "outputId": "2113d258-5439-415d-c012-513f803ec9bb",
        "colab": {
          "base_uri": "https://localhost:8080/",
          "height": 208
        }
      },
      "source": [
        "# have a look at the memory usage of the top 10 object columns before categorization\n",
        "\n",
        "categorical_df[[col for col in categorical_df.columns if len(categorical_df[col].unique()) <= 10]].memory_usage(deep=True)[:10].sort_values(ascending=False)"
      ],
      "execution_count": 75,
      "outputs": [
        {
          "output_type": "execute_result",
          "data": {
            "text/plain": [
              "v122                  1774191\n",
              "v34                   1416454\n",
              "planning_wle_ca       1387720\n",
              "influence_wle_ca      1383578\n",
              "v200                  1348598\n",
              "v85                   1252554\n",
              "ageg10lfs             1171450\n",
              "computerexperience    1121515\n",
              "v227                  1107972\n",
              "Index                  149568\n",
              "dtype: int64"
            ]
          },
          "metadata": {
            "tags": []
          },
          "execution_count": 75
        }
      ]
    },
    {
      "cell_type": "markdown",
      "metadata": {
        "id": "3HHdHET99HIP",
        "colab_type": "text"
      },
      "source": [
        "We can cast some of the object features to category to better optimize for memory usage and computation, however  we can only do this after the nan values and other values are imputed."
      ]
    },
    {
      "cell_type": "markdown",
      "metadata": {
        "id": "VVdPuwT73xDS",
        "colab_type": "text"
      },
      "source": [
        "## Unique categorical groupings in the categorical features \n",
        "\n",
        "Just to get a little perspective on how many categories there are for the dataset, we will print each of their unique values for the first several features. This will help us have an idea of how much the dataset will ballon once we onehot encode for each categorical feature value."
      ]
    },
    {
      "cell_type": "code",
      "metadata": {
        "id": "OfCdT__8nJA9",
        "colab_type": "code",
        "outputId": "2e6b21cd-276e-484f-cbbc-91f317098a4c",
        "colab": {
          "base_uri": "https://localhost:8080/",
          "height": 1000
        }
      },
      "source": [
        "# unique values for each categorical feature. need to know how what encoding scheme we should use\n",
        "\n",
        "num_cat_gtoe_10 = []\n",
        "for column in categorical_df.columns:\n",
        "    if len(categorical_df[column].unique()) >= 10:\n",
        "        print(f\"######### {column} ##########\")\n",
        "        print(categorical_df[column].unique()) # returns np.ndarray\n",
        "        print(\"Number of unique values: {}\\n\".format(len(categorical_df[column].unique())))\n",
        "        num_cat_gtoe_10.append(column)\n",
        "print(\"There are {} categorical columns with more than 10 categories\".format(len(num_cat_gtoe_10)))"
      ],
      "execution_count": 76,
      "outputs": [
        {
          "output_type": "stream",
          "text": [
            "######### earnmthalldcl ##########\n",
            "[6th decile, 2nd decile, 7th decile, 9th decile, 3rd decile, ..., 5th decile, NaN, Lowest decile, 8th decile, 4th decile]\n",
            "Length: 11\n",
            "Categories (10, object): [Lowest decile < 2nd decile < 3rd decile < 4th decile ... 7th decile <\n",
            "                          8th decile < 9th decile < Highest decile]\n",
            "Number of unique values: 11\n",
            "\n",
            "######### lng_bq ##########\n",
            "['eng' 'rus' 'tur' 'swe' 'deu' 'kor' 'ita' 'pol' 'fra' 'jpn' 'nld' 'spa'\n",
            " 'slv' 'dan' 'slk' 'heb' 'ces' 'est' 'ell' 'fin' 'nor' 'ara' 'cat' 'lit'\n",
            " '999' 'glg' 'hun']\n",
            "Number of unique values: 27\n",
            "\n",
            "######### reg_tl2 ##########\n",
            "['99999' 'UKJ' 'UKI' nan 'RU40' 'SE11' 'KR01' 'IE02' 'SG00' 'PL22' 'UKD'\n",
            " 'RU28' 'FR71' 'JPH' 'UKH' 'NL3' 'FR10' 'CL09' 'JPD' 'KR03' 'KR05' 'ES12'\n",
            " 'KR04' 'RU74' 'FR22' 'KR02' 'FR81' 'SI01' 'FR43' 'DK04' 'PL11' 'UKG'\n",
            " 'UKF' 'ES13' 'BE2' 'RU64' 'SK02' 'PL12' 'IL04' 'ES22' 'FR21' 'JPG' 'CZ05'\n",
            " 'PL43' 'ES30' 'ES61' 'RU45' 'JPC' 'JPF' 'RU50' 'CL05' 'JPE' 'UKC' 'EE00'\n",
            " 'CZ08' 'GR3' 'FR51' 'JPJ' 'FR30' 'SK01' 'PL32' 'CL13' 'SE33' 'ES51'\n",
            " 'FR24' 'ES70' 'RU01' 'FR52' 'RU19' 'NL4' 'RU27' 'KR06' 'JPI' 'RU54'\n",
            " 'PL63' 'UKE' 'PL41' 'RU41' 'UKN' 'PL21' 'RU22' 'DK01' 'CZ01' 'PL61'\n",
            " 'RU39' 'CZ04' 'JPB' 'NL2' 'FR82' 'NZ01' 'PL52' 'ES52' 'FR23' 'CZ07'\n",
            " 'SE22' 'FR61' 'FR62' 'RU65' 'PL51' 'CL08' 'RU37' 'SK03' 'PL33' 'RU08'\n",
            " 'SE31' 'IL07' 'NZ02' 'IL02' 'PL31' 'RU58' 'PL42' 'ES42' 'GR2' 'ES53'\n",
            " 'SE12' 'UKK' 'IL05' 'RU56' 'CZ06' 'ES23' 'ES62' 'ES21' 'ES41' 'RU67'\n",
            " 'LT08' 'CZ03' 'GR1' 'ES24' 'IE01' 'PL34' 'JPA' 'LT04' 'FR42' 'FR41' 'NL1'\n",
            " 'SE21' 'RU44' 'SI02' 'PL62' 'LT05' 'ES11' 'LT09' 'CZ02' 'RU15' 'FR83'\n",
            " 'DK02' 'FR25' 'ES43' 'CL02' 'IL01' 'ES63' 'CL06' 'IL06' 'DK05' 'RU16'\n",
            " 'SK04' 'DK03' 'CL07' 'LT07' 'IL03' 'LT02' 'FR72' 'LT06' 'SE23' 'CL01'\n",
            " 'FR53' 'CL14' 'LT03' 'GR4' 'LT01' 'LT10' 'FR26' 'KR07' 'SE32' 'FR63'\n",
            " 'CL10']\n",
            "Number of unique values: 176\n",
            "\n",
            "######### earnhrdcl ##########\n",
            "['7th decile' nan 'Lowest decile' '2nd decile' 'Highest decile'\n",
            " '5th decile' '3rd decile' '4th decile' '6th decile' '9th decile'\n",
            " '8th decile']\n",
            "Number of unique values: 11\n",
            "\n",
            "######### isic1c ##########\n",
            "['M' 'C' 'D' 'N' 'G' 'P' 'I' 'O' 'K' 'F' 'A' 'L' 'R' 'Q' 'H' 'J' nan 'B'\n",
            " 'T' 'S' 'E']\n",
            "Number of unique values: 21\n",
            "\n",
            "######### cntryid ##########\n",
            "['Canada' 'United Kingdom' 'Norway' 'United States' 'Russian Federation'\n",
            " 'Turkey' 'Sweden' 'Germany' 'Korea' 'Ireland' 'Singapore' 'Italy'\n",
            " 'Poland' 'France' 'Japan' 'Netherlands' 'Chile' 'Spain' 'Slovenia'\n",
            " 'Denmark' 'Belgium' 'Slovak Republic' 'Israel' 'Czech Republic' 'Estonia'\n",
            " 'Greece' 'Finland' 'Austria' 'New Zealand' 'Lithuania']\n",
            "Number of unique values: 30\n",
            "\n",
            "######### cntryid_e ##########\n",
            "['Canada (English)' 'England (UK)' 'Norway' 'United States'\n",
            " 'Russian Federation' 'Turkey' 'Sweden' 'Germany' 'Korea' 'Ireland'\n",
            " 'Singapore' 'Italy' 'Poland' 'France' 'Japan' 'Netherlands' 'Chile'\n",
            " 'Spain' 'Slovenia' 'Denmark' 'Canada (French)' 'Flanders (Belgium)'\n",
            " 'Slovak Republic' 'Israel' 'Czech Republic' 'Estonia' 'Greece' 'Finland'\n",
            " 'Austria' 'Northern Ireland (UK)' 'New Zealand' 'Lithuania' nan]\n",
            "Number of unique values: 33\n",
            "\n",
            "######### v31 ##########\n",
            "['General programmes' 'Engineering, manufacturing and construction'\n",
            " 'Social sciences, business and law' nan\n",
            " 'Science, mathematics and computing' 'Agriculture and veterinary'\n",
            " 'Health and welfare' 'Humanities, languages and arts' 'Services'\n",
            " 'Teacher training and education science']\n",
            "Number of unique values: 10\n",
            "\n",
            "######### lng_home ##########\n",
            "['999' 'eng' 'rus' 'kor' 'pol' 'fra' 'jpn' 'lit' 'nld' 'spa' 'slv' 'dan'\n",
            " 'slk' 'heb' 'ces' 'est' 'ell' 'fin' 'deu' 'nor' 'ita' 'cat' 'ara' 'glg'\n",
            " 'guj' 'hye' 'eus' 'por' 'hun' 'hrv' 'zho' 'swe' 'tam' nan 'fas' 'kur'\n",
            " 'ber' 'ben' 'srp' 'tur' 'hin' 'ron' 'sin' 'urd' 'run' 'phi' 'gla' 'bul'\n",
            " 'sla' 'pap']\n",
            "Number of unique values: 50\n",
            "\n",
            "######### lng_ci ##########\n",
            "['eng' 'nor' 'rus' 'tur' 'swe' 'deu' 'kor' 'ita' 'pol' 'fra' 'jpn' 'nld'\n",
            " 'spa' 'slv' 'dan' 'slk' 'heb' 'ces' 'est' 'ell' 'fin' 'cat' 'ara' 'lit'\n",
            " '999' 'glg' 'eus' nan 'hun']\n",
            "Number of unique values: 29\n",
            "\n",
            "######### v59 ##########\n",
            "[nan 'ISCED 5B'\n",
            " 'ISCED 5A bachelor degree, 5A master degree, and 6 (without distinction)'\n",
            " 'ISCED 5A, master degree' 'ISCED 3 (without distinction A-B-C, 2y+)'\n",
            " 'ISCED 5A, bachelor degree' 'ISCED 3A-B' 'ISCED 4A-B'\n",
            " 'ISCED 3C 2 years or more' 'Foreign qualification' 'ISCED 6' 'ISCED 2'\n",
            " 'ISCED 4 (without distinction A-B-C)' 'ISCED 3C shorter than 2 years'\n",
            " 'ISCED 1' 'ISCED 4C' 'No formal qualification or below ISCED 1']\n",
            "Number of unique values: 17\n",
            "\n",
            "######### v92 ##########\n",
            "[nan 'Full-time employed (self-employed, employee)' 'Unemployed'\n",
            " 'Part-time employed (self-employed, employee)'\n",
            " 'Fulfilling domestic tasks or looking after children/family'\n",
            " 'Pupil, student' 'Apprentice, internship' 'Permanently disabled' 'Other'\n",
            " 'In retirement or early retirement'\n",
            " 'In compulsory military or community service']\n",
            "Number of unique values: 11\n",
            "\n",
            "######### v212 ##########\n",
            "[nan 'ISCED 3 (without distinction A-B-C, 2y+)' 'ISCED 5B'\n",
            " 'ISCED 5A, bachelor degree' 'ISCED 3A-B' 'ISCED 4C' 'ISCED 4A-B'\n",
            " 'ISCED 5A, master degree'\n",
            " 'ISCED 5A bachelor degree, 5A master degree, and 6 (without distinction)'\n",
            " 'ISCED 6' 'ISCED 1' 'ISCED 4 (without distinction A-B-C)' 'ISCED 2'\n",
            " 'No formal qualification or below ISCED 1' 'ISCED 3C 2 years or more'\n",
            " 'ISCED 3C shorter than 2 years']\n",
            "Number of unique values: 16\n",
            "\n",
            "######### v19 ##########\n",
            "['Aged 20-24' nan 'Aged 25-29' 'Aged 30-34' 'Aged 35-39' 'Aged 40-44'\n",
            " 'Aged 19 or younger' 'Aged 45-49' 'Aged 50-54' 'Aged 55 or older']\n",
            "Number of unique values: 10\n",
            "\n",
            "######### cnt_brth ##########\n",
            "[nan 'United Kingdom of Great Britain and Northern Ireland'\n",
            " 'Russian Federation' 'Turkey' 'Republic of Korea' 'Malaysia' 'Poland'\n",
            " 'France' 'Japan' 'Lithuania' 'Netherlands' 'Chile' 'Ethiopia' 'Spain'\n",
            " 'Croatia' 'Denmark' 'Belgium' 'Slovakia' 'Israel' 'Czech Republic'\n",
            " 'Venezuela (Bolivarian Republic of)' 'Canada' 'Estonia' 'Greece'\n",
            " 'Finland' 'South Africa' 'Austria' 'Republic of Moldova' 'Algeria'\n",
            " 'Italy' 'Morocco' 'Singapore' 'China' 'Australia' 'Colombia' 'Ghana'\n",
            " 'Argentina' 'India' 'Slovenia' 'Armenia' 'Dominican Republic' 'Zimbabwe'\n",
            " 'Tunisia' 'Germany' 'Ukraine' 'Cuba' 'Brazil' 'Uzbekistan' 'Switzerland'\n",
            " 'Senegal' 'Philippines' 'Egypt'\n",
            " 'The former Yugoslav Republic of Macedonia' 'Bosnia and Herzegovina'\n",
            " 'United States of America' 'Peru' 'Thailand' 'Congo' 'Romania'\n",
            " 'Afghanistan' 'Mexico' 'Saint Lucia' 'Bangladesh' 'Kenya' 'Bolivia'\n",
            " 'Paraguay' 'Indonesia' 'Serbia' 'Cyprus' 'Portugal' 'Ireland' 'Sri Lanka'\n",
            " 'Myanmar' 'Belarus' 'Burundi' 'Cameroon' 'Azerbaijan' 'Mauritius' 'Iraq'\n",
            " 'Albania' 'Viet Nam' 'Sweden' 'Latvia'\n",
            " 'Hong Kong Special Administrative Region of China' 'Norway'\n",
            " 'Trinidad and Tobago' 'Nigeria' 'Kyrgyzstan']\n",
            "Number of unique values: 88\n",
            "\n",
            "######### earnhrbonusdcl ##########\n",
            "['7th decile' nan 'Lowest decile' '8th decile' '2nd decile'\n",
            " 'Highest decile' '6th decile' '3rd decile' '4th decile' '5th decile'\n",
            " '9th decile']\n",
            "Number of unique values: 11\n",
            "\n",
            "######### ageg5lfs ##########\n",
            "['Aged 25-29' 'Aged 60-65' 'Aged 30-34' 'Aged 20-24' 'Aged 35-39'\n",
            " 'Aged 40-44' 'Aged 45-49' 'Aged 55-59' 'Aged 50-54' 'Aged 16-19']\n",
            "Number of unique values: 10\n",
            "\n",
            "######### ctryqual ##########\n",
            "[nan 'North America and Western Europe' 'Central and Eastern Europe'\n",
            " 'East Asia and the Pacific (richer countries)'\n",
            " 'East Asia and the Pacific (poorer countries)' 'Sub-Saharan Africa'\n",
            " 'Latin America and the Caribbean' 'Arab States' 'South and West Asia'\n",
            " 'Central Asia']\n",
            "Number of unique values: 10\n",
            "\n",
            "######### birthrgn ##########\n",
            "[nan 'North America and Western Europe' 'Central Asia'\n",
            " 'Central and Eastern Europe'\n",
            " 'East Asia and the Pacific (richer countries)'\n",
            " 'East Asia and the Pacific (poorer countries)'\n",
            " 'Latin America and the Caribbean' 'Sub-Saharan Africa' 'Arab States'\n",
            " 'South and West Asia']\n",
            "Number of unique values: 10\n",
            "\n",
            "There are 19 categorical columns with more than 10 categories\n"
          ],
          "name": "stdout"
        }
      ]
    },
    {
      "cell_type": "markdown",
      "metadata": {
        "id": "WjjAdbrm6j6l",
        "colab_type": "text"
      },
      "source": [
        "## Impressions on missing categorical data\n",
        "Proportionally, there are more missing numerical feature values than there are categorical feature values. There are some categorical feature values that use numeric values to indicate a discrete category or range. This can be gleened by particular values such as '9999' or '999' to indicate a missing value or distinct category. Some of the features that encode their values as such include:\n",
        "* ~~reg_tl2~~\n",
        "* ~~lng_home~~\n",
        "* ~~ageg10lfs~~\n",
        "* ~~ageg10lfs_t~~\n",
        "\n",
        "These features are seemingly identical, and therefore we select one to keep and we drop the other:\n",
        "* ~~ageg10lfs~~\n",
        "* ~~ageg10lfs_t~~\n",
        "\n",
        "One feature has 946 unique values which probably indicates that the values maybe numeric in nature as opposed to categorical. There are also two alphabetical letter values feature, namely : 'C' and 'G'. These values will be imputed as np.nan values before the the numeric casting of the feature column. Additionally, the numeric values in this feature are actually strings and will have to be forced cast to int or float values\n",
        "* ~~v71~~\n",
        "\n",
        "Another categorical feature uses extensive numerical coding, interleaved with few alphabetic numeric coding. The instict is to cast the alphabetical coding can be cast to np.nan before the entire feature category can be cast as a numeric column, however, after looking at the value_counts for each of categories in this feature, we can decide to leave it alone as there are a signficant numer of data points that use the alphabetical encoding:\n",
        "* ~~isic2c~~\n",
        "\n",
        "Can be cast to numeric:\n",
        "* ~~isic2l~~\n",
        "\n",
        "This feature seems to be a more granular subfeature of 'cntryrgn' and a few other of the country based features, however this feature has significantly more unique values (176 unique values). As it is a sparser representation of the other superfeatures, it can be dropped:\n",
        "* ~~reg_tl2~~\n",
        "\n",
        "There are a lot of missing values for the lng_home feature when we look at the value_counts. If questionnaire was completed in English, and the language of the exercise was done in English, then may be safe to assume that the primary language spoken at home maybe the same language. Therefore, we will apply this logic for all the missing values in the lng_home feature. These are the language categorical variables.\n",
        "* ~~lng_bq~~\n",
        "* ~~lng_ci~~\n",
        "* ~~lng_home~~\n",
        "\n",
        "Some features have exactly only one categorical value. These can be dropped as they do no add further information\n",
        "* ~~uni -> only value is 'cl3770'~~\n",
        "\n",
        "Instead of 'No' as the other binary value in a categorical feature, this feature has NaN instead... This value will have to be replaced with the string 'No':\n",
        "* ~~v270~~\n",
        "\n",
        "Some features have a large category space, which would balloon the dataset once onehot-encoded. There are 24 columns with more than 10 categories and they are: \n",
        "* ['isic1l', 'ageg5lfs', 'v71', 'earnmthalldcl', 'earnhrdcl', 'ctryqual', 'cntryid', 'reg_tl2', 'cnt_brth', 'isic1c', 'lng_ci', 'cntryid_e', 'v92', 'v59', 'edcat8', 'v31', 'lng_bq', 'v19', 'isic2l', 'lng_home', 'birthrgn', 'v212', 'earnhrbonusdcl', 'isic2c']\n",
        "\n",
        "There are also many seemingly highly correlated and repeated features that can be dropped which pertain to information about which country or region an employee is from:\n",
        "* 'ctryrgn', 'ctryqual', 'birthrgn', 'cntryid_e', 'cntryid'\n",
        "\n",
        "Our best bet would be to select to keep just one of these features - preferrably a feature with a relatively low number of categories, and then drop the rest.\n",
        "\n",
        "Therefore we will try to do our best to reduce the number of categories by possibly coming up with higher level categories to encompass these features or cast them as numeric features if the majority of their values are numerically encoded."
      ]
    },
    {
      "cell_type": "markdown",
      "metadata": {
        "id": "hbP4o1MWdok5",
        "colab_type": "text"
      },
      "source": [
        "## Pre-Imputer Imputation for categorical features\n",
        "Therefore, some of the imputation and preprocessing can be done before the encoding step of the preprocessing portion of the pipeline (dropping,casting, merging, etc). The next few segments of code will go through the next preprocessing steps as outlined above."
      ]
    },
    {
      "cell_type": "code",
      "metadata": {
        "id": "PmrAYnBWVYco",
        "colab_type": "code",
        "outputId": "6d1cbf89-7d8c-422c-ee8f-e67f37f77a7e",
        "colab": {
          "base_uri": "https://localhost:8080/",
          "height": 34
        }
      },
      "source": [
        "# NaN's -> 'No' for 'v270'\n",
        "\n",
        "values = {'v270': 'No'}\n",
        "categorical_df.fillna(value=values, inplace=True)\n",
        "print(categorical_df['v270'].unique())"
      ],
      "execution_count": 77,
      "outputs": [
        {
          "output_type": "stream",
          "text": [
            "['Yes' 'No']\n"
          ],
          "name": "stdout"
        }
      ]
    },
    {
      "cell_type": "code",
      "metadata": {
        "id": "TWjzCLPDFXc4",
        "colab_type": "code",
        "colab": {}
      },
      "source": [
        "# address missing values for lng_home  and the other language features\n",
        "\n",
        "categorical_df['lng_home'] = categorical_df['lng_bq'].where(categorical_df['lng_bq'] == categorical_df['lng_ci'])\n",
        "\n",
        "# language features\n",
        "import re\n",
        "language = ['lng_bq', 'lng_ci', 'lng_home']\n",
        "num_pattern = re.compile('\\d\\d\\d')\n",
        "\n",
        "# replace the 999 value with np.nan\n",
        "for col in language:\n",
        "    categorical_df[col].replace(to_replace=num_pattern, value=np.nan, inplace=True)"
      ],
      "execution_count": 0,
      "outputs": []
    },
    {
      "cell_type": "code",
      "metadata": {
        "id": "ly3EHoPutlhU",
        "colab_type": "code",
        "outputId": "bd2e2021-664a-4aa2-e0bc-90d2a84639ad",
        "colab": {
          "base_uri": "https://localhost:8080/",
          "height": 52
        }
      },
      "source": [
        "# categorical features with only one value\n",
        "\n",
        "for column in categorical_df.columns:\n",
        "    if len(categorical_df[column].unique()) <=1:\n",
        "        print(column)\n",
        "        print(\"The only unique value for {} is: {}\".format(column, categorical_df[column].unique()))\n",
        "\n",
        "# dropping column 'uni' with value only cl3770\n",
        "categorical_df.drop(columns='uni', inplace=True, axis=1)"
      ],
      "execution_count": 79,
      "outputs": [
        {
          "output_type": "stream",
          "text": [
            "uni\n",
            "The only unique value for uni is: ['cl3770']\n"
          ],
          "name": "stdout"
        }
      ]
    },
    {
      "cell_type": "code",
      "metadata": {
        "id": "j3tGFRn35ETy",
        "colab_type": "code",
        "colab": {}
      },
      "source": [
        "# addressing the missing values of feature reg_tl2\n",
        "\n",
        "categorical_df.drop(columns='reg_tl2', inplace=True, axis=1)"
      ],
      "execution_count": 0,
      "outputs": []
    },
    {
      "cell_type": "code",
      "metadata": {
        "id": "d3wrlIP8DQzP",
        "colab_type": "code",
        "colab": {}
      },
      "source": [
        "# from here, we select only one of these to keep and we will drop the rest\n",
        "\n",
        "country_features = ['ctryrgn', 'ctryqual', 'birthrgn', 'cntryid_e', 'cntryid']\n",
        "# categorical_df[country_features].head()\n",
        "\n",
        "# we decide to only keep the ctryrgn and drop the rest for now, however, cntryid is another candidate to keep if we wanted more granularity with respect to country information\n",
        "categorical_df.drop(columns=['ctryqual', 'birthrgn', 'cntryid_e', 'cntryid'], inplace=True, axis=1)"
      ],
      "execution_count": 0,
      "outputs": []
    },
    {
      "cell_type": "code",
      "metadata": {
        "id": "Qq7HttdTEh3s",
        "colab_type": "code",
        "colab": {}
      },
      "source": [
        "# we drop 'ageg10lfs_t' because it contains identical values to 'ageg10lfs'\n",
        "\n",
        "categorical_df.drop(columns='ageg10lfs_t', inplace=True, axis=1)"
      ],
      "execution_count": 0,
      "outputs": []
    },
    {
      "cell_type": "code",
      "metadata": {
        "id": "zVl4dECJ4JOT",
        "colab_type": "code",
        "colab": {}
      },
      "source": [
        "# drop dupe education columns\n",
        "\n",
        "categorical_df.drop(columns=['v59', 'v212'], inplace=True, axis=1)"
      ],
      "execution_count": 0,
      "outputs": []
    },
    {
      "cell_type": "code",
      "metadata": {
        "id": "nTOpWmzgNvJ-",
        "colab_type": "code",
        "colab": {}
      },
      "source": [
        "# drop neet because only one value\n",
        "\n",
        "categorical_df.drop('neet', inplace=True, axis=1)"
      ],
      "execution_count": 0,
      "outputs": []
    },
    {
      "cell_type": "markdown",
      "metadata": {
        "id": "Zm4fxtICmwD0",
        "colab_type": "text"
      },
      "source": [
        "### Setting Ordinality to Categorical Features\n",
        "\n",
        "Although we touched on setting the ordinality of some of the object or categorical features earlier, now would be the time to go through the rest of the categorical features and set the ordinality for them. Unfortunately, unless you do some NLU, and NLP with another feature, we may have to go through each of the features and handcraft ordinality from the text data ourselves. \n"
      ]
    },
    {
      "cell_type": "code",
      "metadata": {
        "id": "34-ixme1iYcC",
        "colab_type": "code",
        "colab": {}
      },
      "source": [
        "def categorical_look_filter(dataset):\n",
        "    \"\"\" For each feature in a pandas dataset, print out the unique values in the dataset.\"\"\"\n",
        "    \n",
        "    bin_feats = []\n",
        "    multicat_feats = []\n",
        "    \n",
        "    for col in dataset.columns:\n",
        "    # Binary\n",
        "        if 'Yes' in dataset[col].unique() or len(dataset[col].unique()) == 2:\n",
        "             \n",
        "            bin_feats.append(col)\n",
        "    # Multi-Category\n",
        "        else:\n",
        "            multicat_feats.append(col)\n",
        "\n",
        "    return bin_feats, multicat_feats\n",
        "    \n",
        "bin_features, multicategory_features = categorical_look_filter(categorical_df)"
      ],
      "execution_count": 0,
      "outputs": []
    },
    {
      "cell_type": "code",
      "metadata": {
        "id": "vT1Ol9pxzKUC",
        "colab_type": "code",
        "colab": {}
      },
      "source": [
        "other_bin_features = [\"faet12\", 'v46', 'earnflag', 'v53', 'nfe12', 'nativelang', 'v205', 'nopaidworkever', 'v84', 'paidwork5', 'fe12', 'paidwork12', 'aetpop']\n",
        "binary_df = categorical_df[bin_features + other_bin_features]"
      ],
      "execution_count": 0,
      "outputs": []
    },
    {
      "cell_type": "markdown",
      "metadata": {
        "id": "WtnnRgst7m0T",
        "colab_type": "text"
      },
      "source": [
        "### Encoding Binary Features\n",
        "We use a combination of pd.Categorical and mappings to encode these features."
      ]
    },
    {
      "cell_type": "code",
      "metadata": {
        "id": "EXc8O2Z0G_Es",
        "colab_type": "code",
        "colab": {}
      },
      "source": [
        "# Mapping Binary Cases for these series\n",
        "\n",
        "binary_df = binary_df.replace(to_replace={'Yes': 1, 'No': 0})\n",
        "binary_df = binary_df.replace(to_replace={'Male': 1, 'Female': 0})\n",
        "binary_df['faet12'] = binary_df['faet12'].map({'Did not participate in formal AET': 0, 'Participated in formal AET': 1})\n",
        "binary_df['v46'] = binary_df['v46'].map({'One job or business': 0, 'More than one job or business': 1})\n",
        "binary_df['earnflag'] = binary_df['earnflag'].map({'Earnings and/or bonuses imputed': 0, 'Reported directly': 1})\n",
        "binary_df['v53'] = binary_df['v53'].map({'Employee': 0, 'Self-employed': 1})\n",
        "binary_df['nfe12'] = binary_df['nfe12'].map({'Did not participate in NFE': 0, 'Participated in NFE': 1})\n",
        "binary_df['nativelang'] = binary_df['nativelang'].map({'Test language not same as native language': 0, 'Test language same as native language': 1})\n",
        "binary_df['v205'] = binary_df['v205'].map({'Unemployed': 0, 'Employed': 1, 'Out of the labour force': 2})"
      ],
      "execution_count": 0,
      "outputs": []
    },
    {
      "cell_type": "code",
      "metadata": {
        "id": "RRDVq1rgW-Qy",
        "colab_type": "code",
        "colab": {}
      },
      "source": [
        "# These columns are apparently dataframes, so I have to switch over to using the replace method with dictionaries instead\n",
        "\n",
        "binary_df['nopaidworkever'] = binary_df['nopaidworkever'].replace({\"Has not has paid work ever\": 0, \"Has had paid work\": 1})\n",
        "binary_df['v84'] = binary_df['v84'].replace({\"Recent work experience in last 12 months\": 0, \"Currently working (paid or unpaid)\": 1})\n",
        "binary_df['paidwork5'] = binary_df['paidwork5'].replace({\"Has not had paid work in past 5 years\": 0, \"Has had paid work in past 5 years\": 1})\n",
        "binary_df['fe12'] = binary_df['fe12'].replace({\"Did not participate in FE\": 0, \"Participated in FE\": 1})\n",
        "binary_df['paidwork12'] = binary_df['paidwork12'].replace({\"Has not had paid work during the 12 months preceding the survey\": 0, \"Has had paid work during the 12 months preceding the survey\": 1})\n",
        "binary_df['aetpop'] = binary_df['aetpop'].replace({\"Excluded from AET population\": 0, \"AET population\": 1})"
      ],
      "execution_count": 0,
      "outputs": []
    },
    {
      "cell_type": "code",
      "metadata": {
        "id": "o7kN0KI0WNN8",
        "colab_type": "code",
        "outputId": "2920ccb1-bf10-4708-b7b6-de25200668a3",
        "colab": {
          "base_uri": "https://localhost:8080/",
          "height": 34
        }
      },
      "source": [
        "binary_df.shape"
      ],
      "execution_count": 89,
      "outputs": [
        {
          "output_type": "execute_result",
          "data": {
            "text/plain": [
              "(18696, 46)"
            ]
          },
          "metadata": {
            "tags": []
          },
          "execution_count": 89
        }
      ]
    },
    {
      "cell_type": "code",
      "metadata": {
        "id": "xZoNByMGX_bu",
        "colab_type": "code",
        "outputId": "9f05688a-ef57-4e95-e4ab-a3846abef740",
        "colab": {
          "base_uri": "https://localhost:8080/",
          "height": 226
        }
      },
      "source": [
        "binary_df.head()"
      ],
      "execution_count": 90,
      "outputs": [
        {
          "output_type": "execute_result",
          "data": {
            "text/html": [
              "<div>\n",
              "<style scoped>\n",
              "    .dataframe tbody tr th:only-of-type {\n",
              "        vertical-align: middle;\n",
              "    }\n",
              "\n",
              "    .dataframe tbody tr th {\n",
              "        vertical-align: top;\n",
              "    }\n",
              "\n",
              "    .dataframe thead th {\n",
              "        text-align: right;\n",
              "    }\n",
              "</style>\n",
              "<table border=\"1\" class=\"dataframe\">\n",
              "  <thead>\n",
              "    <tr style=\"text-align: right;\">\n",
              "      <th></th>\n",
              "      <th>computerexperience</th>\n",
              "      <th>v227</th>\n",
              "      <th>v84</th>\n",
              "      <th>v102</th>\n",
              "      <th>v17</th>\n",
              "      <th>v201</th>\n",
              "      <th>v250</th>\n",
              "      <th>v255</th>\n",
              "      <th>v188</th>\n",
              "      <th>v28</th>\n",
              "      <th>v101</th>\n",
              "      <th>v115</th>\n",
              "      <th>nativespeaker</th>\n",
              "      <th>gender_r</th>\n",
              "      <th>v225</th>\n",
              "      <th>v251</th>\n",
              "      <th>v176</th>\n",
              "      <th>paidwork12</th>\n",
              "      <th>v270</th>\n",
              "      <th>v142</th>\n",
              "      <th>v153</th>\n",
              "      <th>v285</th>\n",
              "      <th>v90</th>\n",
              "      <th>aetpop</th>\n",
              "      <th>v258</th>\n",
              "      <th>paidwork5</th>\n",
              "      <th>nopaidworkever</th>\n",
              "      <th>v60</th>\n",
              "      <th>v157</th>\n",
              "      <th>v152</th>\n",
              "      <th>v256</th>\n",
              "      <th>fe12</th>\n",
              "      <th>v74</th>\n",
              "      <th>faet12</th>\n",
              "      <th>v46</th>\n",
              "      <th>earnflag</th>\n",
              "      <th>v53</th>\n",
              "      <th>nfe12</th>\n",
              "      <th>nativelang</th>\n",
              "      <th>v205</th>\n",
              "      <th>nopaidworkever</th>\n",
              "      <th>v84</th>\n",
              "      <th>paidwork5</th>\n",
              "      <th>fe12</th>\n",
              "      <th>paidwork12</th>\n",
              "      <th>aetpop</th>\n",
              "    </tr>\n",
              "  </thead>\n",
              "  <tbody>\n",
              "    <tr>\n",
              "      <th>0</th>\n",
              "      <td>1.0</td>\n",
              "      <td>0.0</td>\n",
              "      <td>1</td>\n",
              "      <td>0.0</td>\n",
              "      <td>0.0</td>\n",
              "      <td>1</td>\n",
              "      <td>1.0</td>\n",
              "      <td>1.0</td>\n",
              "      <td>0.0</td>\n",
              "      <td>1.0</td>\n",
              "      <td>0.0</td>\n",
              "      <td>0.0</td>\n",
              "      <td>1.0</td>\n",
              "      <td>0</td>\n",
              "      <td>0.0</td>\n",
              "      <td>0.0</td>\n",
              "      <td>0.0</td>\n",
              "      <td>1</td>\n",
              "      <td>1</td>\n",
              "      <td>1.0</td>\n",
              "      <td>NaN</td>\n",
              "      <td>0.0</td>\n",
              "      <td>1.0</td>\n",
              "      <td>1</td>\n",
              "      <td>1.0</td>\n",
              "      <td>1</td>\n",
              "      <td>1</td>\n",
              "      <td>0.0</td>\n",
              "      <td>1.0</td>\n",
              "      <td>1</td>\n",
              "      <td>NaN</td>\n",
              "      <td>1</td>\n",
              "      <td>1.0</td>\n",
              "      <td>1.0</td>\n",
              "      <td>0.0</td>\n",
              "      <td>NaN</td>\n",
              "      <td>0.0</td>\n",
              "      <td>0.0</td>\n",
              "      <td>1.0</td>\n",
              "      <td>1</td>\n",
              "      <td>1</td>\n",
              "      <td>1</td>\n",
              "      <td>1</td>\n",
              "      <td>1</td>\n",
              "      <td>1</td>\n",
              "      <td>1</td>\n",
              "    </tr>\n",
              "    <tr>\n",
              "      <th>1</th>\n",
              "      <td>1.0</td>\n",
              "      <td>1.0</td>\n",
              "      <td>1</td>\n",
              "      <td>0.0</td>\n",
              "      <td>0.0</td>\n",
              "      <td>1</td>\n",
              "      <td>1.0</td>\n",
              "      <td>NaN</td>\n",
              "      <td>0.0</td>\n",
              "      <td>1.0</td>\n",
              "      <td>1.0</td>\n",
              "      <td>NaN</td>\n",
              "      <td>1.0</td>\n",
              "      <td>1</td>\n",
              "      <td>1.0</td>\n",
              "      <td>NaN</td>\n",
              "      <td>1.0</td>\n",
              "      <td>1</td>\n",
              "      <td>1</td>\n",
              "      <td>1.0</td>\n",
              "      <td>0.0</td>\n",
              "      <td>1.0</td>\n",
              "      <td>0.0</td>\n",
              "      <td>1</td>\n",
              "      <td>1.0</td>\n",
              "      <td>1</td>\n",
              "      <td>1</td>\n",
              "      <td>1.0</td>\n",
              "      <td>1.0</td>\n",
              "      <td>1</td>\n",
              "      <td>0.0</td>\n",
              "      <td>0</td>\n",
              "      <td>0.0</td>\n",
              "      <td>0.0</td>\n",
              "      <td>0.0</td>\n",
              "      <td>1.0</td>\n",
              "      <td>1.0</td>\n",
              "      <td>1.0</td>\n",
              "      <td>1.0</td>\n",
              "      <td>1</td>\n",
              "      <td>1</td>\n",
              "      <td>1</td>\n",
              "      <td>1</td>\n",
              "      <td>0</td>\n",
              "      <td>1</td>\n",
              "      <td>1</td>\n",
              "    </tr>\n",
              "    <tr>\n",
              "      <th>2</th>\n",
              "      <td>1.0</td>\n",
              "      <td>1.0</td>\n",
              "      <td>1</td>\n",
              "      <td>1.0</td>\n",
              "      <td>0.0</td>\n",
              "      <td>1</td>\n",
              "      <td>1.0</td>\n",
              "      <td>NaN</td>\n",
              "      <td>0.0</td>\n",
              "      <td>1.0</td>\n",
              "      <td>1.0</td>\n",
              "      <td>NaN</td>\n",
              "      <td>1.0</td>\n",
              "      <td>1</td>\n",
              "      <td>1.0</td>\n",
              "      <td>NaN</td>\n",
              "      <td>1.0</td>\n",
              "      <td>1</td>\n",
              "      <td>1</td>\n",
              "      <td>1.0</td>\n",
              "      <td>NaN</td>\n",
              "      <td>0.0</td>\n",
              "      <td>1.0</td>\n",
              "      <td>1</td>\n",
              "      <td>1.0</td>\n",
              "      <td>1</td>\n",
              "      <td>1</td>\n",
              "      <td>0.0</td>\n",
              "      <td>1.0</td>\n",
              "      <td>1</td>\n",
              "      <td>NaN</td>\n",
              "      <td>1</td>\n",
              "      <td>1.0</td>\n",
              "      <td>1.0</td>\n",
              "      <td>0.0</td>\n",
              "      <td>1.0</td>\n",
              "      <td>1.0</td>\n",
              "      <td>1.0</td>\n",
              "      <td>1.0</td>\n",
              "      <td>1</td>\n",
              "      <td>1</td>\n",
              "      <td>1</td>\n",
              "      <td>1</td>\n",
              "      <td>1</td>\n",
              "      <td>1</td>\n",
              "      <td>1</td>\n",
              "    </tr>\n",
              "    <tr>\n",
              "      <th>3</th>\n",
              "      <td>1.0</td>\n",
              "      <td>1.0</td>\n",
              "      <td>1</td>\n",
              "      <td>0.0</td>\n",
              "      <td>1.0</td>\n",
              "      <td>1</td>\n",
              "      <td>1.0</td>\n",
              "      <td>NaN</td>\n",
              "      <td>1.0</td>\n",
              "      <td>1.0</td>\n",
              "      <td>1.0</td>\n",
              "      <td>NaN</td>\n",
              "      <td>0.0</td>\n",
              "      <td>0</td>\n",
              "      <td>1.0</td>\n",
              "      <td>NaN</td>\n",
              "      <td>0.0</td>\n",
              "      <td>1</td>\n",
              "      <td>1</td>\n",
              "      <td>1.0</td>\n",
              "      <td>0.0</td>\n",
              "      <td>1.0</td>\n",
              "      <td>0.0</td>\n",
              "      <td>1</td>\n",
              "      <td>1.0</td>\n",
              "      <td>1</td>\n",
              "      <td>1</td>\n",
              "      <td>1.0</td>\n",
              "      <td>1.0</td>\n",
              "      <td>1</td>\n",
              "      <td>0.0</td>\n",
              "      <td>0</td>\n",
              "      <td>0.0</td>\n",
              "      <td>0.0</td>\n",
              "      <td>0.0</td>\n",
              "      <td>1.0</td>\n",
              "      <td>1.0</td>\n",
              "      <td>1.0</td>\n",
              "      <td>0.0</td>\n",
              "      <td>1</td>\n",
              "      <td>1</td>\n",
              "      <td>1</td>\n",
              "      <td>1</td>\n",
              "      <td>0</td>\n",
              "      <td>1</td>\n",
              "      <td>1</td>\n",
              "    </tr>\n",
              "    <tr>\n",
              "      <th>4</th>\n",
              "      <td>1.0</td>\n",
              "      <td>0.0</td>\n",
              "      <td>1</td>\n",
              "      <td>0.0</td>\n",
              "      <td>0.0</td>\n",
              "      <td>1</td>\n",
              "      <td>1.0</td>\n",
              "      <td>0.0</td>\n",
              "      <td>0.0</td>\n",
              "      <td>1.0</td>\n",
              "      <td>0.0</td>\n",
              "      <td>1.0</td>\n",
              "      <td>0.0</td>\n",
              "      <td>1</td>\n",
              "      <td>0.0</td>\n",
              "      <td>0.0</td>\n",
              "      <td>0.0</td>\n",
              "      <td>1</td>\n",
              "      <td>1</td>\n",
              "      <td>1.0</td>\n",
              "      <td>NaN</td>\n",
              "      <td>0.0</td>\n",
              "      <td>1.0</td>\n",
              "      <td>0</td>\n",
              "      <td>1.0</td>\n",
              "      <td>1</td>\n",
              "      <td>1</td>\n",
              "      <td>0.0</td>\n",
              "      <td>1.0</td>\n",
              "      <td>1</td>\n",
              "      <td>NaN</td>\n",
              "      <td>1</td>\n",
              "      <td>1.0</td>\n",
              "      <td>NaN</td>\n",
              "      <td>0.0</td>\n",
              "      <td>1.0</td>\n",
              "      <td>0.0</td>\n",
              "      <td>0.0</td>\n",
              "      <td>0.0</td>\n",
              "      <td>1</td>\n",
              "      <td>1</td>\n",
              "      <td>1</td>\n",
              "      <td>1</td>\n",
              "      <td>1</td>\n",
              "      <td>1</td>\n",
              "      <td>0</td>\n",
              "    </tr>\n",
              "  </tbody>\n",
              "</table>\n",
              "</div>"
            ],
            "text/plain": [
              "   computerexperience  v227  v84  v102  ...  paidwork5  fe12  paidwork12  aetpop\n",
              "0                 1.0   0.0    1   0.0  ...          1     1           1       1\n",
              "1                 1.0   1.0    1   0.0  ...          1     0           1       1\n",
              "2                 1.0   1.0    1   1.0  ...          1     1           1       1\n",
              "3                 1.0   1.0    1   0.0  ...          1     0           1       1\n",
              "4                 1.0   0.0    1   0.0  ...          1     1           1       0\n",
              "\n",
              "[5 rows x 46 columns]"
            ]
          },
          "metadata": {
            "tags": []
          },
          "execution_count": 90
        }
      ]
    },
    {
      "cell_type": "markdown",
      "metadata": {
        "id": "MxxGZFB5fuU8",
        "colab_type": "text"
      },
      "source": [
        "## Label Encoding\n",
        "\n",
        "Before you can even impute for the missing values and setting up ordinality with the categorical features, you must first set up the label encoding scheme for each feature. Later, we can use the inverse encoding scheme to set up the ordinality mapping of each categorical feature."
      ]
    },
    {
      "cell_type": "markdown",
      "metadata": {
        "id": "0S1xUXlLdill",
        "colab_type": "text"
      },
      "source": [
        "You have to do encoding before you can impute for missing value. Therefore the plan is:\n",
        "\n",
        "\n",
        "1.   Use the label encoder to encode the string values in the features (LabelEncoder.fit_transform(X)).\n",
        "2.   Impute for the missing values (missing_imputer.fit_transform(X))\n",
        "3.   Using the inverse mapping (with LabelEncoder.inverse_transform(X)) for the label encoding, set up the ordinality of the ordinal features using the specified ordinality mapping. \n",
        "\n",
        "\n"
      ]
    },
    {
      "cell_type": "markdown",
      "metadata": {
        "id": "icJ_3aPNJxkY",
        "colab_type": "text"
      },
      "source": [
        "### Nominal Cateogrical Encodings"
      ]
    },
    {
      "cell_type": "markdown",
      "metadata": {
        "id": "7WNqAdXWZERM",
        "colab_type": "text"
      },
      "source": [
        "Note: you can get the original encoding scheme back from the encoder with the le.classes_ method, which will return a list of all the unique classes in each feature. These features classes are assigned numeric encodings, based on their index in the alphabetically ordered list of the collection of all the possible classes in that feature."
      ]
    },
    {
      "cell_type": "code",
      "metadata": {
        "id": "5_9Rfq9ugQdE",
        "colab_type": "code",
        "colab": {}
      },
      "source": [
        "from sklearn.preprocessing import LabelEncoder, OneHotEncoder\n",
        "\n",
        "nominal_multicategorical_feats = [\"v3\", 'ctryrgn', 'v91', 'lng_home', 'cnt_brth', 'lng_ci', 'v31', 'v96', \"isic1c\", \"v92\", \"v88\", \"v140\", \"v137\"]\n",
        "nominal_df = categorical_df[nominal_multicategorical_feats]\n",
        "nominal_categorical_encoding_manifest = {}\n",
        "\n",
        "##### Using LabelEncoding to Encode\n",
        "# temporarily fill nan values with an encoding, and then after labelencoding, inverse transform, set nans back to np.nan and then impute for missing\n",
        "nominal_df.fillna('Null', inplace=True)\n",
        "\n",
        "for col in nominal_df.columns:\n",
        "    le = LabelEncoder()\n",
        "    le.fit(nominal_df[col].values.ravel())\n",
        "    nominal_df[col] = le.transform(nominal_df[col].values.ravel())\n",
        "    null_index = list(le.classes_).index('Null')\n",
        "    nominal_categorical_encoding_manifest[col] = list(le.classes_)\n",
        "#     print(f\"{col}: {null_index}, type: {type(null_index)}\\n\")\n",
        "    nominal_df[col].replace(to_replace=list(le.classes_).index('Null'), value=np.nan, inplace=True)\n",
        "    le = None"
      ],
      "execution_count": 0,
      "outputs": []
    },
    {
      "cell_type": "code",
      "metadata": {
        "id": "kfjVCevyYngq",
        "colab_type": "code",
        "outputId": "9f78ade2-6e07-49a8-d5d2-4a25f69c45d3",
        "colab": {
          "base_uri": "https://localhost:8080/",
          "height": 34
        }
      },
      "source": [
        "nominal_df.shape"
      ],
      "execution_count": 92,
      "outputs": [
        {
          "output_type": "execute_result",
          "data": {
            "text/plain": [
              "(18696, 13)"
            ]
          },
          "metadata": {
            "tags": []
          },
          "execution_count": 92
        }
      ]
    },
    {
      "cell_type": "code",
      "metadata": {
        "id": "WBaPsPku6gWn",
        "colab_type": "code",
        "outputId": "d1553521-8a40-4ad9-ad06-b27abe3ad59c",
        "colab": {
          "base_uri": "https://localhost:8080/",
          "height": 206
        }
      },
      "source": [
        "nominal_df.head()"
      ],
      "execution_count": 93,
      "outputs": [
        {
          "output_type": "execute_result",
          "data": {
            "text/html": [
              "<div>\n",
              "<style scoped>\n",
              "    .dataframe tbody tr th:only-of-type {\n",
              "        vertical-align: middle;\n",
              "    }\n",
              "\n",
              "    .dataframe tbody tr th {\n",
              "        vertical-align: top;\n",
              "    }\n",
              "\n",
              "    .dataframe thead th {\n",
              "        text-align: right;\n",
              "    }\n",
              "</style>\n",
              "<table border=\"1\" class=\"dataframe\">\n",
              "  <thead>\n",
              "    <tr style=\"text-align: right;\">\n",
              "      <th></th>\n",
              "      <th>v3</th>\n",
              "      <th>ctryrgn</th>\n",
              "      <th>v91</th>\n",
              "      <th>lng_home</th>\n",
              "      <th>cnt_brth</th>\n",
              "      <th>lng_ci</th>\n",
              "      <th>v31</th>\n",
              "      <th>v96</th>\n",
              "      <th>isic1c</th>\n",
              "      <th>v92</th>\n",
              "      <th>v88</th>\n",
              "      <th>v140</th>\n",
              "      <th>v137</th>\n",
              "    </tr>\n",
              "  </thead>\n",
              "  <tbody>\n",
              "    <tr>\n",
              "      <th>0</th>\n",
              "      <td>NaN</td>\n",
              "      <td>3.0</td>\n",
              "      <td>NaN</td>\n",
              "      <td>7.0</td>\n",
              "      <td>NaN</td>\n",
              "      <td>7.0</td>\n",
              "      <td>2.0</td>\n",
              "      <td>NaN</td>\n",
              "      <td>12.0</td>\n",
              "      <td>NaN</td>\n",
              "      <td>1.0</td>\n",
              "      <td>2.0</td>\n",
              "      <td>NaN</td>\n",
              "    </tr>\n",
              "    <tr>\n",
              "      <th>1</th>\n",
              "      <td>NaN</td>\n",
              "      <td>3.0</td>\n",
              "      <td>3.0</td>\n",
              "      <td>7.0</td>\n",
              "      <td>82.0</td>\n",
              "      <td>7.0</td>\n",
              "      <td>1.0</td>\n",
              "      <td>NaN</td>\n",
              "      <td>2.0</td>\n",
              "      <td>2.0</td>\n",
              "      <td>1.0</td>\n",
              "      <td>3.0</td>\n",
              "      <td>2.0</td>\n",
              "    </tr>\n",
              "    <tr>\n",
              "      <th>2</th>\n",
              "      <td>NaN</td>\n",
              "      <td>3.0</td>\n",
              "      <td>4.0</td>\n",
              "      <td>7.0</td>\n",
              "      <td>82.0</td>\n",
              "      <td>7.0</td>\n",
              "      <td>8.0</td>\n",
              "      <td>NaN</td>\n",
              "      <td>3.0</td>\n",
              "      <td>2.0</td>\n",
              "      <td>1.0</td>\n",
              "      <td>2.0</td>\n",
              "      <td>NaN</td>\n",
              "    </tr>\n",
              "    <tr>\n",
              "      <th>3</th>\n",
              "      <td>NaN</td>\n",
              "      <td>3.0</td>\n",
              "      <td>4.0</td>\n",
              "      <td>NaN</td>\n",
              "      <td>NaN</td>\n",
              "      <td>20.0</td>\n",
              "      <td>8.0</td>\n",
              "      <td>NaN</td>\n",
              "      <td>13.0</td>\n",
              "      <td>2.0</td>\n",
              "      <td>1.0</td>\n",
              "      <td>2.0</td>\n",
              "      <td>4.0</td>\n",
              "    </tr>\n",
              "    <tr>\n",
              "      <th>4</th>\n",
              "      <td>NaN</td>\n",
              "      <td>3.0</td>\n",
              "      <td>NaN</td>\n",
              "      <td>7.0</td>\n",
              "      <td>NaN</td>\n",
              "      <td>7.0</td>\n",
              "      <td>NaN</td>\n",
              "      <td>3.0</td>\n",
              "      <td>6.0</td>\n",
              "      <td>2.0</td>\n",
              "      <td>1.0</td>\n",
              "      <td>2.0</td>\n",
              "      <td>NaN</td>\n",
              "    </tr>\n",
              "  </tbody>\n",
              "</table>\n",
              "</div>"
            ],
            "text/plain": [
              "   v3  ctryrgn  v91  lng_home  cnt_brth  ...  isic1c  v92  v88  v140  v137\n",
              "0 NaN      3.0  NaN       7.0       NaN  ...    12.0  NaN  1.0   2.0   NaN\n",
              "1 NaN      3.0  3.0       7.0      82.0  ...     2.0  2.0  1.0   3.0   2.0\n",
              "2 NaN      3.0  4.0       7.0      82.0  ...     3.0  2.0  1.0   2.0   NaN\n",
              "3 NaN      3.0  4.0       NaN       NaN  ...    13.0  2.0  1.0   2.0   4.0\n",
              "4 NaN      3.0  NaN       7.0       NaN  ...     6.0  2.0  1.0   2.0   NaN\n",
              "\n",
              "[5 rows x 13 columns]"
            ]
          },
          "metadata": {
            "tags": []
          },
          "execution_count": 93
        }
      ]
    },
    {
      "cell_type": "markdown",
      "metadata": {
        "id": "d51Px7hnKUrx",
        "colab_type": "text"
      },
      "source": [
        "### Ordinal Categorical Features"
      ]
    },
    {
      "cell_type": "code",
      "metadata": {
        "id": "gSXHiDzlBT5l",
        "colab_type": "code",
        "colab": {}
      },
      "source": [
        "# set ordinality to categorical features with some degree of scale. We can do this by creating a dictionary of the mappings per suspected ordinal feature\n",
        "ordinality_mapping = [\n",
        "    [[\"v233\", \"v280\", \"v103\", \"v15\", \"v24\", \"v108\", \"v218\", \"v171\", \"v189\", \n",
        "     \"v204\", \"v166\", \"v267\", \"v292\", \"v155\", \"v165\", \"v190\", \"v288\", \n",
        "     \"v276\",\"v43\", \"v197\", \"v214\", \"v7\", \"v175\", \"v139\", \"v123\", \"v14\", \"v178\",\n",
        "    \"v34\", \"v106\", \"v246\", \"v131\", \"v111\", \"v173\", \"v260\", \"v164\", \"v186\", \"v240\", \"v208\",\n",
        "    \"v275\", \"v132\", \"v141\", \"v25\", \"v177\", \"v149\", \"v23\", \"v193\", \"v237\", \"v162\", \"v146\",\n",
        "    \"v277\", \"v40\", \"v73\", \"v195\"], \n",
        "     ['Never','Less than once a month','Less than once a week but at least once a month','At least once a week but not every day','Every day']],\n",
        "    [['v244', \"v65\", \"v263\", \"v158\", \"v57\", \"v170\", \"v198\", \"v278\", \"v25\", \"v191\", \"v114\", \"v27\"], ['Not at all','Very little', 'To some extent', 'To a high extent','To a very high extent']],\n",
        "    [\"ageg10lfs\", ['24 or less','25-34', '35-44','45-54', '55 plus']],\n",
        "    [\"v151\", ['Aged 15 or younger', 'Aged 16-19', 'Aged 20-24', 'Aged 25-29','Aged 30-34', 'Aged 35 or older']],\n",
        "    [\"v181\", ['Extremely dissatisfied', 'Dissatisfied', 'Neither satisfied nor dissatisfied', 'Satisfied', 'Extremely satisfied']],\n",
        "    [\"v271\", ['Straightforward','Moderate','Complex']],\n",
        "    [\"v122\", ['No', 'Yes, unpaid work for family business', 'Yes, paid work one job or business','Yes, paid work more than one job or business or number of jobs/businesses missing']], \n",
        "    [[\"v247\", \"v134\", \"v13\", \"v18\", \"v26\", \"v124\", \"v99\", \"v282\", \"v51\", \"v2\", \"v248\"], ['Never','Rarely','Less than once a week' ,'At least once a week']], \n",
        "    [[\"v291\", \"v77\"], ['None of the time', 'Up to a quarter of the time','Up to half of the time','More than half of the time','All of the time']],\n",
        "    [\"v269\", ['Not useful at all', 'Somewhat useful' , 'Moderately useful','Very useful']],\n",
        "    [[\"v216\", \"v124\"], ['Rarely or never','Less than once a week', 'At least once a week']],\n",
        "    [[\"v253\", \"v284\"], ['Never', 'Rarely', 'Less than once a week but at least once a month', 'At least once a week']],\n",
        "    [\"ageg5lfs\", ['Aged 16-19','Aged 20-24','Aged 25-29','Aged 30-34','Aged 35-39', 'Aged 40-44', 'Aged 45-49','Aged 50-54','Aged 55-59','Aged 60-65']],\n",
        "    [\"v289\", ['No income', 'Lowest quintile','Next lowest quintile','Mid-level quintile', 'Next to highest quintile' ,'Highest quintile']],\n",
        "    [\"v261\", ['0 - 20 hours','21 - 40 hours', '41 - 60 hours' , '61 - 80 hours', '81 - 100 hours', 'More than 100 hours']],\n",
        "    [\"monthlyincpr\", ['Less than 10','10 to less than 25', '25 to less than 50', '50 to less than 75', '75 to less than 90', '90 or more']],\n",
        "    [\"v221\", ['None','Less than 1 month','1 to 6 months','7 to 11 months', '1 or 2 years','3 years or more']],\n",
        "    [[\"v85\", \"v50\", \"v69\"], ['Strongly disagree', 'Disagree', 'Neither agree nor disagree', 'Agree', 'Strongly agree']],\n",
        "    [[\"readhome_wle_ca\", \"influence_wle_ca\", \"readytolearn_wle_ca\", \n",
        "     \"learnatwork_wle_ca\", \"readwork_wle_ca\", \"planning_wle_ca\", \"taskdisc_wle_ca\"], ['All zero response', 'Lowest to 20%', 'More than 20% to 40%', 'More than 40% to 60%', 'More than 60% to 80%', 'More than 80%']],\n",
        "    [[\"v82\", \"v70\"], ['Employee, not supervisor', 'Self-employed, not supervisor','Employee, supervising fewer than 5 people', 'Employee, supervising more than 5 people', 'Self-employed, supervisor']],\n",
        "    [\"v200\", ['Not definable', 'Less than high school', 'High school' 'Above high school']],\n",
        "    [\"v62\", ['A higher level would be needed', 'This level is necessary', 'A lower level would be sufficient']],\n",
        "    [\"v236\", ['No, not at all', 'There were no such costs', 'No employer or prospective employer at that time' ,'Yes, partly', 'Yes, totally']],\n",
        "    [\"v19\", ['Aged 19 or younger', 'Aged 20-24', 'Aged 25-29', 'Aged 30-34' ,'Aged 35-39' ,'Aged 40-44', 'Aged 45-49', 'Aged 50-54', 'Aged 55 or older']],\n",
        "    [[\"earnhrbonusdcl\", \"earnhrdcl\"], ['Lowest decile','2nd decile', '3rd decile', '4th decile', '5th decile', '6th decile', '7th decile', '8th decile', '9th decile', 'Highest decile']],\n",
        "    [\"imyrcat\", ['In host country 5 or fewer years', 'In host country more than 5 years', 'Non-immigrants']],\n",
        "    [\"v48\", ['1 to 10 people', '11 to 50 people', '51 to 250 people', 'More than 1000 people', '251 to 1000 people']],\n",
        "    [\"v47\", ['Days', 'Weeks',  'Hours']],\n",
        "    [\"v94\", ['Respondent reported no learning activities', 'Respondent reported 1 learning activity', 'Respondent reported learning activities but number is not known', 'Respondent reported more than 1 learning activity']],\n",
        "    [\"v8\", ['Decreased', 'Stayed more or less the same', 'Increased']]\n",
        "]"
      ],
      "execution_count": 0,
      "outputs": []
    },
    {
      "cell_type": "code",
      "metadata": {
        "id": "2FHw0WSzVrza",
        "colab_type": "code",
        "colab": {}
      },
      "source": [
        "ordinal_features = []\n",
        "\n",
        "for mask, cat in ordinality_mapping:\n",
        "    if isinstance(mask, list):\n",
        "        for label in mask:\n",
        "#             print(f\"{label}: {cat}\")\n",
        "            ordinal_features.append(label)\n",
        "\n",
        "    elif isinstance(mask, str):\n",
        "#         print(f\"{mask}: {cat}\")\n",
        "        ordinal_features.append(mask)\n",
        "\n",
        "ordinal_df = categorical_df[ordinal_features]\n",
        "ordinal_df.fillna('Null', inplace=True)"
      ],
      "execution_count": 0,
      "outputs": []
    },
    {
      "cell_type": "code",
      "metadata": {
        "id": "MeX6Ybe98Xv-",
        "colab_type": "code",
        "outputId": "88c40004-3022-485d-cf0e-b20c9e555802",
        "colab": {
          "base_uri": "https://localhost:8080/",
          "height": 34
        }
      },
      "source": [
        "ordinal_df.shape"
      ],
      "execution_count": 96,
      "outputs": [
        {
          "output_type": "execute_result",
          "data": {
            "text/plain": [
              "(18696, 116)"
            ]
          },
          "metadata": {
            "tags": []
          },
          "execution_count": 96
        }
      ]
    },
    {
      "cell_type": "code",
      "metadata": {
        "id": "ReP6xyZyEVEg",
        "colab_type": "code",
        "colab": {}
      },
      "source": [
        "# mapping the values based on the ordinality mapping\n",
        "# some of these features, for some reason, are dataframes, so you have to convert them to series as an intermediary\n",
        "# and then do inplace replacement of the string values with the mapping.\n",
        "# the integere mapping here implies ordinality, where as the integer label encoding for the nominal features doesn't\n",
        "\n",
        "for mask, cat in ordinality_mapping:\n",
        "    if isinstance(mask, list):\n",
        "        for label in mask:\n",
        "            indiv_feat_mapping = {key: val for val, key in enumerate(cat)}\n",
        "            series = pd.Series(ordinal_df[label].values.ravel())\n",
        "            ordinal_df[label] = series.map(indiv_feat_mapping)\n",
        "\n",
        "    elif isinstance(mask, str):\n",
        "        indiv_feat_mapping = {key: val for val, key in enumerate(cat)}\n",
        "        series = pd.Series(ordinal_df[mask].values.ravel())\n",
        "        ordinal_df[mask] = series.map(indiv_feat_mapping)"
      ],
      "execution_count": 0,
      "outputs": []
    },
    {
      "cell_type": "code",
      "metadata": {
        "id": "VmDBWiKjnBa3",
        "colab_type": "code",
        "outputId": "0cdefffe-6183-45d6-f6aa-5782fd3e5d8a",
        "colab": {
          "base_uri": "https://localhost:8080/",
          "height": 208
        }
      },
      "source": [
        "# look at num missing values\n",
        "\n",
        "ordinal_features_to_drop = [\"v278\", \"v25\", \"v124\", \"v25\", \"v124\", \"v200\"]\n",
        "(ordinal_df[ordinal_features_to_drop].isnull().sum()/ordinal_df[ordinal_features_to_drop].shape[0] * 100).sort_values(ascending=False)"
      ],
      "execution_count": 98,
      "outputs": [
        {
          "output_type": "execute_result",
          "data": {
            "text/plain": [
              "v124    100.000000\n",
              "v124    100.000000\n",
              "v25     100.000000\n",
              "v25     100.000000\n",
              "v124    100.000000\n",
              "v124    100.000000\n",
              "v25     100.000000\n",
              "v25     100.000000\n",
              "v278    100.000000\n",
              "v200     95.539153\n",
              "dtype: float64"
            ]
          },
          "metadata": {
            "tags": []
          },
          "execution_count": 98
        }
      ]
    },
    {
      "cell_type": "code",
      "metadata": {
        "id": "x7rWkTLleSFA",
        "colab_type": "code",
        "colab": {}
      },
      "source": [
        "# The above features have too many features missing, so we will drop them\n",
        "\n",
        "ordinal_df.drop(ordinal_features_to_drop, inplace=True, axis=1)"
      ],
      "execution_count": 0,
      "outputs": []
    },
    {
      "cell_type": "code",
      "metadata": {
        "id": "9Hm6XAYQebOQ",
        "colab_type": "code",
        "outputId": "90bdd30e-07a0-4d04-e0b2-5aa106f60ffe",
        "colab": {
          "base_uri": "https://localhost:8080/",
          "height": 34
        }
      },
      "source": [
        "ordinal_df.shape"
      ],
      "execution_count": 100,
      "outputs": [
        {
          "output_type": "execute_result",
          "data": {
            "text/plain": [
              "(18696, 110)"
            ]
          },
          "metadata": {
            "tags": []
          },
          "execution_count": 100
        }
      ]
    },
    {
      "cell_type": "code",
      "metadata": {
        "id": "fVNode5seoH7",
        "colab_type": "code",
        "outputId": "f1233ba9-3d1e-4e8b-c0bf-e78b2aec5e77",
        "colab": {
          "base_uri": "https://localhost:8080/",
          "height": 255
        }
      },
      "source": [
        "ordinal_df.head()"
      ],
      "execution_count": 101,
      "outputs": [
        {
          "output_type": "execute_result",
          "data": {
            "text/html": [
              "<div>\n",
              "<style scoped>\n",
              "    .dataframe tbody tr th:only-of-type {\n",
              "        vertical-align: middle;\n",
              "    }\n",
              "\n",
              "    .dataframe tbody tr th {\n",
              "        vertical-align: top;\n",
              "    }\n",
              "\n",
              "    .dataframe thead th {\n",
              "        text-align: right;\n",
              "    }\n",
              "</style>\n",
              "<table border=\"1\" class=\"dataframe\">\n",
              "  <thead>\n",
              "    <tr style=\"text-align: right;\">\n",
              "      <th></th>\n",
              "      <th>v233</th>\n",
              "      <th>v280</th>\n",
              "      <th>v103</th>\n",
              "      <th>v15</th>\n",
              "      <th>v24</th>\n",
              "      <th>v108</th>\n",
              "      <th>v218</th>\n",
              "      <th>v171</th>\n",
              "      <th>v189</th>\n",
              "      <th>v204</th>\n",
              "      <th>v166</th>\n",
              "      <th>v267</th>\n",
              "      <th>v292</th>\n",
              "      <th>v155</th>\n",
              "      <th>v165</th>\n",
              "      <th>v190</th>\n",
              "      <th>v288</th>\n",
              "      <th>v276</th>\n",
              "      <th>v43</th>\n",
              "      <th>v197</th>\n",
              "      <th>v214</th>\n",
              "      <th>v7</th>\n",
              "      <th>v175</th>\n",
              "      <th>v139</th>\n",
              "      <th>v123</th>\n",
              "      <th>v14</th>\n",
              "      <th>v178</th>\n",
              "      <th>v34</th>\n",
              "      <th>v106</th>\n",
              "      <th>v246</th>\n",
              "      <th>v131</th>\n",
              "      <th>v111</th>\n",
              "      <th>v173</th>\n",
              "      <th>v260</th>\n",
              "      <th>v164</th>\n",
              "      <th>v186</th>\n",
              "      <th>v240</th>\n",
              "      <th>v208</th>\n",
              "      <th>v275</th>\n",
              "      <th>v132</th>\n",
              "      <th>...</th>\n",
              "      <th>v18</th>\n",
              "      <th>v26</th>\n",
              "      <th>v99</th>\n",
              "      <th>v282</th>\n",
              "      <th>v51</th>\n",
              "      <th>v2</th>\n",
              "      <th>v248</th>\n",
              "      <th>v291</th>\n",
              "      <th>v77</th>\n",
              "      <th>v269</th>\n",
              "      <th>v216</th>\n",
              "      <th>v253</th>\n",
              "      <th>v284</th>\n",
              "      <th>ageg5lfs</th>\n",
              "      <th>v289</th>\n",
              "      <th>v261</th>\n",
              "      <th>monthlyincpr</th>\n",
              "      <th>v221</th>\n",
              "      <th>v85</th>\n",
              "      <th>v50</th>\n",
              "      <th>v69</th>\n",
              "      <th>readhome_wle_ca</th>\n",
              "      <th>influence_wle_ca</th>\n",
              "      <th>readytolearn_wle_ca</th>\n",
              "      <th>learnatwork_wle_ca</th>\n",
              "      <th>readwork_wle_ca</th>\n",
              "      <th>planning_wle_ca</th>\n",
              "      <th>taskdisc_wle_ca</th>\n",
              "      <th>v82</th>\n",
              "      <th>v70</th>\n",
              "      <th>v62</th>\n",
              "      <th>v236</th>\n",
              "      <th>v19</th>\n",
              "      <th>earnhrbonusdcl</th>\n",
              "      <th>earnhrdcl</th>\n",
              "      <th>imyrcat</th>\n",
              "      <th>v48</th>\n",
              "      <th>v47</th>\n",
              "      <th>v94</th>\n",
              "      <th>v8</th>\n",
              "    </tr>\n",
              "  </thead>\n",
              "  <tbody>\n",
              "    <tr>\n",
              "      <th>0</th>\n",
              "      <td>4.0</td>\n",
              "      <td>4.0</td>\n",
              "      <td>4.0</td>\n",
              "      <td>2.0</td>\n",
              "      <td>0.0</td>\n",
              "      <td>4.0</td>\n",
              "      <td>0.0</td>\n",
              "      <td>3.0</td>\n",
              "      <td>2.0</td>\n",
              "      <td>4.0</td>\n",
              "      <td>4.0</td>\n",
              "      <td>0.0</td>\n",
              "      <td>0.0</td>\n",
              "      <td>4.0</td>\n",
              "      <td>4.0</td>\n",
              "      <td>2.0</td>\n",
              "      <td>0.0</td>\n",
              "      <td>4.0</td>\n",
              "      <td>0.0</td>\n",
              "      <td>4.0</td>\n",
              "      <td>4.0</td>\n",
              "      <td>3.0</td>\n",
              "      <td>3.0</td>\n",
              "      <td>4.0</td>\n",
              "      <td>1.0</td>\n",
              "      <td>3.0</td>\n",
              "      <td>2.0</td>\n",
              "      <td>4.0</td>\n",
              "      <td>0.0</td>\n",
              "      <td>3.0</td>\n",
              "      <td>4.0</td>\n",
              "      <td>3.0</td>\n",
              "      <td>4.0</td>\n",
              "      <td>3.0</td>\n",
              "      <td>4.0</td>\n",
              "      <td>0.0</td>\n",
              "      <td>3.0</td>\n",
              "      <td>0.0</td>\n",
              "      <td>4.0</td>\n",
              "      <td>4.0</td>\n",
              "      <td>...</td>\n",
              "      <td>3.0</td>\n",
              "      <td>3.0</td>\n",
              "      <td>3.0</td>\n",
              "      <td>2.0</td>\n",
              "      <td>3.0</td>\n",
              "      <td>3.0</td>\n",
              "      <td>2.0</td>\n",
              "      <td>NaN</td>\n",
              "      <td>1.0</td>\n",
              "      <td>NaN</td>\n",
              "      <td>2.0</td>\n",
              "      <td>0.0</td>\n",
              "      <td>3.0</td>\n",
              "      <td>2.0</td>\n",
              "      <td>NaN</td>\n",
              "      <td>NaN</td>\n",
              "      <td>3.0</td>\n",
              "      <td>2.0</td>\n",
              "      <td>2.0</td>\n",
              "      <td>3.0</td>\n",
              "      <td>1.0</td>\n",
              "      <td>4.0</td>\n",
              "      <td>5.0</td>\n",
              "      <td>4.0</td>\n",
              "      <td>5.0</td>\n",
              "      <td>5.0</td>\n",
              "      <td>5.0</td>\n",
              "      <td>2.0</td>\n",
              "      <td>0.0</td>\n",
              "      <td>0.0</td>\n",
              "      <td>1.0</td>\n",
              "      <td>NaN</td>\n",
              "      <td>1.0</td>\n",
              "      <td>6.0</td>\n",
              "      <td>6.0</td>\n",
              "      <td>2.0</td>\n",
              "      <td>1.0</td>\n",
              "      <td>NaN</td>\n",
              "      <td>NaN</td>\n",
              "      <td>2.0</td>\n",
              "    </tr>\n",
              "    <tr>\n",
              "      <th>1</th>\n",
              "      <td>4.0</td>\n",
              "      <td>4.0</td>\n",
              "      <td>3.0</td>\n",
              "      <td>3.0</td>\n",
              "      <td>1.0</td>\n",
              "      <td>1.0</td>\n",
              "      <td>4.0</td>\n",
              "      <td>3.0</td>\n",
              "      <td>3.0</td>\n",
              "      <td>4.0</td>\n",
              "      <td>3.0</td>\n",
              "      <td>3.0</td>\n",
              "      <td>0.0</td>\n",
              "      <td>3.0</td>\n",
              "      <td>2.0</td>\n",
              "      <td>4.0</td>\n",
              "      <td>3.0</td>\n",
              "      <td>4.0</td>\n",
              "      <td>1.0</td>\n",
              "      <td>2.0</td>\n",
              "      <td>NaN</td>\n",
              "      <td>4.0</td>\n",
              "      <td>3.0</td>\n",
              "      <td>4.0</td>\n",
              "      <td>4.0</td>\n",
              "      <td>1.0</td>\n",
              "      <td>4.0</td>\n",
              "      <td>4.0</td>\n",
              "      <td>1.0</td>\n",
              "      <td>4.0</td>\n",
              "      <td>0.0</td>\n",
              "      <td>4.0</td>\n",
              "      <td>3.0</td>\n",
              "      <td>1.0</td>\n",
              "      <td>4.0</td>\n",
              "      <td>2.0</td>\n",
              "      <td>4.0</td>\n",
              "      <td>1.0</td>\n",
              "      <td>3.0</td>\n",
              "      <td>4.0</td>\n",
              "      <td>...</td>\n",
              "      <td>0.0</td>\n",
              "      <td>1.0</td>\n",
              "      <td>3.0</td>\n",
              "      <td>3.0</td>\n",
              "      <td>3.0</td>\n",
              "      <td>3.0</td>\n",
              "      <td>3.0</td>\n",
              "      <td>4.0</td>\n",
              "      <td>NaN</td>\n",
              "      <td>1.0</td>\n",
              "      <td>0.0</td>\n",
              "      <td>3.0</td>\n",
              "      <td>3.0</td>\n",
              "      <td>9.0</td>\n",
              "      <td>5.0</td>\n",
              "      <td>1.0</td>\n",
              "      <td>4.0</td>\n",
              "      <td>NaN</td>\n",
              "      <td>4.0</td>\n",
              "      <td>3.0</td>\n",
              "      <td>3.0</td>\n",
              "      <td>5.0</td>\n",
              "      <td>3.0</td>\n",
              "      <td>4.0</td>\n",
              "      <td>NaN</td>\n",
              "      <td>5.0</td>\n",
              "      <td>4.0</td>\n",
              "      <td>1.0</td>\n",
              "      <td>1.0</td>\n",
              "      <td>NaN</td>\n",
              "      <td>NaN</td>\n",
              "      <td>1.0</td>\n",
              "      <td>NaN</td>\n",
              "      <td>NaN</td>\n",
              "      <td>NaN</td>\n",
              "      <td>2.0</td>\n",
              "      <td>NaN</td>\n",
              "      <td>1.0</td>\n",
              "      <td>3.0</td>\n",
              "      <td>NaN</td>\n",
              "    </tr>\n",
              "    <tr>\n",
              "      <th>2</th>\n",
              "      <td>4.0</td>\n",
              "      <td>3.0</td>\n",
              "      <td>3.0</td>\n",
              "      <td>2.0</td>\n",
              "      <td>2.0</td>\n",
              "      <td>1.0</td>\n",
              "      <td>3.0</td>\n",
              "      <td>1.0</td>\n",
              "      <td>1.0</td>\n",
              "      <td>4.0</td>\n",
              "      <td>2.0</td>\n",
              "      <td>1.0</td>\n",
              "      <td>4.0</td>\n",
              "      <td>2.0</td>\n",
              "      <td>0.0</td>\n",
              "      <td>3.0</td>\n",
              "      <td>3.0</td>\n",
              "      <td>2.0</td>\n",
              "      <td>0.0</td>\n",
              "      <td>3.0</td>\n",
              "      <td>NaN</td>\n",
              "      <td>3.0</td>\n",
              "      <td>2.0</td>\n",
              "      <td>3.0</td>\n",
              "      <td>3.0</td>\n",
              "      <td>3.0</td>\n",
              "      <td>2.0</td>\n",
              "      <td>4.0</td>\n",
              "      <td>0.0</td>\n",
              "      <td>2.0</td>\n",
              "      <td>4.0</td>\n",
              "      <td>3.0</td>\n",
              "      <td>1.0</td>\n",
              "      <td>1.0</td>\n",
              "      <td>4.0</td>\n",
              "      <td>0.0</td>\n",
              "      <td>3.0</td>\n",
              "      <td>0.0</td>\n",
              "      <td>2.0</td>\n",
              "      <td>2.0</td>\n",
              "      <td>...</td>\n",
              "      <td>2.0</td>\n",
              "      <td>1.0</td>\n",
              "      <td>3.0</td>\n",
              "      <td>2.0</td>\n",
              "      <td>3.0</td>\n",
              "      <td>NaN</td>\n",
              "      <td>3.0</td>\n",
              "      <td>NaN</td>\n",
              "      <td>NaN</td>\n",
              "      <td>0.0</td>\n",
              "      <td>1.0</td>\n",
              "      <td>3.0</td>\n",
              "      <td>2.0</td>\n",
              "      <td>3.0</td>\n",
              "      <td>5.0</td>\n",
              "      <td>2.0</td>\n",
              "      <td>4.0</td>\n",
              "      <td>NaN</td>\n",
              "      <td>4.0</td>\n",
              "      <td>3.0</td>\n",
              "      <td>1.0</td>\n",
              "      <td>4.0</td>\n",
              "      <td>3.0</td>\n",
              "      <td>5.0</td>\n",
              "      <td>NaN</td>\n",
              "      <td>3.0</td>\n",
              "      <td>4.0</td>\n",
              "      <td>1.0</td>\n",
              "      <td>1.0</td>\n",
              "      <td>NaN</td>\n",
              "      <td>NaN</td>\n",
              "      <td>0.0</td>\n",
              "      <td>NaN</td>\n",
              "      <td>NaN</td>\n",
              "      <td>NaN</td>\n",
              "      <td>2.0</td>\n",
              "      <td>NaN</td>\n",
              "      <td>0.0</td>\n",
              "      <td>1.0</td>\n",
              "      <td>NaN</td>\n",
              "    </tr>\n",
              "    <tr>\n",
              "      <th>3</th>\n",
              "      <td>4.0</td>\n",
              "      <td>4.0</td>\n",
              "      <td>4.0</td>\n",
              "      <td>3.0</td>\n",
              "      <td>2.0</td>\n",
              "      <td>3.0</td>\n",
              "      <td>4.0</td>\n",
              "      <td>3.0</td>\n",
              "      <td>2.0</td>\n",
              "      <td>3.0</td>\n",
              "      <td>2.0</td>\n",
              "      <td>3.0</td>\n",
              "      <td>NaN</td>\n",
              "      <td>4.0</td>\n",
              "      <td>0.0</td>\n",
              "      <td>3.0</td>\n",
              "      <td>2.0</td>\n",
              "      <td>3.0</td>\n",
              "      <td>3.0</td>\n",
              "      <td>4.0</td>\n",
              "      <td>NaN</td>\n",
              "      <td>3.0</td>\n",
              "      <td>4.0</td>\n",
              "      <td>2.0</td>\n",
              "      <td>4.0</td>\n",
              "      <td>3.0</td>\n",
              "      <td>3.0</td>\n",
              "      <td>4.0</td>\n",
              "      <td>3.0</td>\n",
              "      <td>2.0</td>\n",
              "      <td>NaN</td>\n",
              "      <td>3.0</td>\n",
              "      <td>3.0</td>\n",
              "      <td>3.0</td>\n",
              "      <td>4.0</td>\n",
              "      <td>0.0</td>\n",
              "      <td>4.0</td>\n",
              "      <td>1.0</td>\n",
              "      <td>4.0</td>\n",
              "      <td>4.0</td>\n",
              "      <td>...</td>\n",
              "      <td>3.0</td>\n",
              "      <td>3.0</td>\n",
              "      <td>2.0</td>\n",
              "      <td>3.0</td>\n",
              "      <td>3.0</td>\n",
              "      <td>3.0</td>\n",
              "      <td>3.0</td>\n",
              "      <td>NaN</td>\n",
              "      <td>NaN</td>\n",
              "      <td>2.0</td>\n",
              "      <td>2.0</td>\n",
              "      <td>3.0</td>\n",
              "      <td>3.0</td>\n",
              "      <td>3.0</td>\n",
              "      <td>2.0</td>\n",
              "      <td>1.0</td>\n",
              "      <td>2.0</td>\n",
              "      <td>NaN</td>\n",
              "      <td>1.0</td>\n",
              "      <td>3.0</td>\n",
              "      <td>2.0</td>\n",
              "      <td>5.0</td>\n",
              "      <td>5.0</td>\n",
              "      <td>2.0</td>\n",
              "      <td>NaN</td>\n",
              "      <td>4.0</td>\n",
              "      <td>3.0</td>\n",
              "      <td>1.0</td>\n",
              "      <td>1.0</td>\n",
              "      <td>NaN</td>\n",
              "      <td>NaN</td>\n",
              "      <td>0.0</td>\n",
              "      <td>NaN</td>\n",
              "      <td>NaN</td>\n",
              "      <td>NaN</td>\n",
              "      <td>0.0</td>\n",
              "      <td>NaN</td>\n",
              "      <td>1.0</td>\n",
              "      <td>3.0</td>\n",
              "      <td>NaN</td>\n",
              "    </tr>\n",
              "    <tr>\n",
              "      <th>4</th>\n",
              "      <td>0.0</td>\n",
              "      <td>3.0</td>\n",
              "      <td>0.0</td>\n",
              "      <td>3.0</td>\n",
              "      <td>2.0</td>\n",
              "      <td>0.0</td>\n",
              "      <td>3.0</td>\n",
              "      <td>2.0</td>\n",
              "      <td>3.0</td>\n",
              "      <td>4.0</td>\n",
              "      <td>4.0</td>\n",
              "      <td>3.0</td>\n",
              "      <td>3.0</td>\n",
              "      <td>1.0</td>\n",
              "      <td>2.0</td>\n",
              "      <td>3.0</td>\n",
              "      <td>3.0</td>\n",
              "      <td>2.0</td>\n",
              "      <td>0.0</td>\n",
              "      <td>4.0</td>\n",
              "      <td>1.0</td>\n",
              "      <td>3.0</td>\n",
              "      <td>0.0</td>\n",
              "      <td>4.0</td>\n",
              "      <td>2.0</td>\n",
              "      <td>4.0</td>\n",
              "      <td>3.0</td>\n",
              "      <td>0.0</td>\n",
              "      <td>0.0</td>\n",
              "      <td>1.0</td>\n",
              "      <td>4.0</td>\n",
              "      <td>3.0</td>\n",
              "      <td>4.0</td>\n",
              "      <td>2.0</td>\n",
              "      <td>4.0</td>\n",
              "      <td>0.0</td>\n",
              "      <td>2.0</td>\n",
              "      <td>0.0</td>\n",
              "      <td>2.0</td>\n",
              "      <td>3.0</td>\n",
              "      <td>...</td>\n",
              "      <td>3.0</td>\n",
              "      <td>NaN</td>\n",
              "      <td>3.0</td>\n",
              "      <td>3.0</td>\n",
              "      <td>3.0</td>\n",
              "      <td>3.0</td>\n",
              "      <td>3.0</td>\n",
              "      <td>NaN</td>\n",
              "      <td>3.0</td>\n",
              "      <td>NaN</td>\n",
              "      <td>2.0</td>\n",
              "      <td>3.0</td>\n",
              "      <td>3.0</td>\n",
              "      <td>1.0</td>\n",
              "      <td>1.0</td>\n",
              "      <td>1.0</td>\n",
              "      <td>1.0</td>\n",
              "      <td>2.0</td>\n",
              "      <td>4.0</td>\n",
              "      <td>4.0</td>\n",
              "      <td>0.0</td>\n",
              "      <td>5.0</td>\n",
              "      <td>4.0</td>\n",
              "      <td>5.0</td>\n",
              "      <td>2.0</td>\n",
              "      <td>5.0</td>\n",
              "      <td>3.0</td>\n",
              "      <td>2.0</td>\n",
              "      <td>0.0</td>\n",
              "      <td>0.0</td>\n",
              "      <td>2.0</td>\n",
              "      <td>NaN</td>\n",
              "      <td>1.0</td>\n",
              "      <td>0.0</td>\n",
              "      <td>0.0</td>\n",
              "      <td>1.0</td>\n",
              "      <td>1.0</td>\n",
              "      <td>NaN</td>\n",
              "      <td>0.0</td>\n",
              "      <td>0.0</td>\n",
              "    </tr>\n",
              "  </tbody>\n",
              "</table>\n",
              "<p>5 rows × 110 columns</p>\n",
              "</div>"
            ],
            "text/plain": [
              "   v233  v280  v103  v15  v24  v108  ...  earnhrdcl  imyrcat  v48  v47  v94   v8\n",
              "0   4.0   4.0   4.0  2.0  0.0   4.0  ...        6.0      2.0  1.0  NaN  NaN  2.0\n",
              "1   4.0   4.0   3.0  3.0  1.0   1.0  ...        NaN      2.0  NaN  1.0  3.0  NaN\n",
              "2   4.0   3.0   3.0  2.0  2.0   1.0  ...        NaN      2.0  NaN  0.0  1.0  NaN\n",
              "3   4.0   4.0   4.0  3.0  2.0   3.0  ...        NaN      0.0  NaN  1.0  3.0  NaN\n",
              "4   0.0   3.0   0.0  3.0  2.0   0.0  ...        0.0      1.0  1.0  NaN  0.0  0.0\n",
              "\n",
              "[5 rows x 110 columns]"
            ]
          },
          "metadata": {
            "tags": []
          },
          "execution_count": 101
        }
      ]
    },
    {
      "cell_type": "markdown",
      "metadata": {
        "id": "VPoirdUXfEdS",
        "colab_type": "text"
      },
      "source": [
        "Putting all the hard work of preprocessing our categorical features together back into one dataframe"
      ]
    },
    {
      "cell_type": "code",
      "metadata": {
        "id": "dpGlxmi9e26b",
        "colab_type": "code",
        "colab": {}
      },
      "source": [
        "categorical_df = pd.concat([binary_df, ordinal_df, nominal_df], axis=1)"
      ],
      "execution_count": 0,
      "outputs": []
    },
    {
      "cell_type": "code",
      "metadata": {
        "id": "lj5o1fVrfKge",
        "colab_type": "code",
        "outputId": "4722e195-d386-4d3f-8c80-affe5b414fdc",
        "colab": {
          "base_uri": "https://localhost:8080/",
          "height": 34
        }
      },
      "source": [
        "categorical_df.shape"
      ],
      "execution_count": 103,
      "outputs": [
        {
          "output_type": "execute_result",
          "data": {
            "text/plain": [
              "(18696, 169)"
            ]
          },
          "metadata": {
            "tags": []
          },
          "execution_count": 103
        }
      ]
    },
    {
      "cell_type": "code",
      "metadata": {
        "id": "0CZ2IxYcfMIq",
        "colab_type": "code",
        "outputId": "419d43e9-31a1-406a-ca8e-6209a8fa3702",
        "colab": {
          "base_uri": "https://localhost:8080/",
          "height": 255
        }
      },
      "source": [
        "categorical_df.head()"
      ],
      "execution_count": 104,
      "outputs": [
        {
          "output_type": "execute_result",
          "data": {
            "text/html": [
              "<div>\n",
              "<style scoped>\n",
              "    .dataframe tbody tr th:only-of-type {\n",
              "        vertical-align: middle;\n",
              "    }\n",
              "\n",
              "    .dataframe tbody tr th {\n",
              "        vertical-align: top;\n",
              "    }\n",
              "\n",
              "    .dataframe thead th {\n",
              "        text-align: right;\n",
              "    }\n",
              "</style>\n",
              "<table border=\"1\" class=\"dataframe\">\n",
              "  <thead>\n",
              "    <tr style=\"text-align: right;\">\n",
              "      <th></th>\n",
              "      <th>computerexperience</th>\n",
              "      <th>v227</th>\n",
              "      <th>v84</th>\n",
              "      <th>v102</th>\n",
              "      <th>v17</th>\n",
              "      <th>v201</th>\n",
              "      <th>v250</th>\n",
              "      <th>v255</th>\n",
              "      <th>v188</th>\n",
              "      <th>v28</th>\n",
              "      <th>v101</th>\n",
              "      <th>v115</th>\n",
              "      <th>nativespeaker</th>\n",
              "      <th>gender_r</th>\n",
              "      <th>v225</th>\n",
              "      <th>v251</th>\n",
              "      <th>v176</th>\n",
              "      <th>paidwork12</th>\n",
              "      <th>v270</th>\n",
              "      <th>v142</th>\n",
              "      <th>v153</th>\n",
              "      <th>v285</th>\n",
              "      <th>v90</th>\n",
              "      <th>aetpop</th>\n",
              "      <th>v258</th>\n",
              "      <th>paidwork5</th>\n",
              "      <th>nopaidworkever</th>\n",
              "      <th>v60</th>\n",
              "      <th>v157</th>\n",
              "      <th>v152</th>\n",
              "      <th>v256</th>\n",
              "      <th>fe12</th>\n",
              "      <th>v74</th>\n",
              "      <th>faet12</th>\n",
              "      <th>v46</th>\n",
              "      <th>earnflag</th>\n",
              "      <th>v53</th>\n",
              "      <th>nfe12</th>\n",
              "      <th>nativelang</th>\n",
              "      <th>v205</th>\n",
              "      <th>...</th>\n",
              "      <th>ageg5lfs</th>\n",
              "      <th>v289</th>\n",
              "      <th>v261</th>\n",
              "      <th>monthlyincpr</th>\n",
              "      <th>v221</th>\n",
              "      <th>v85</th>\n",
              "      <th>v50</th>\n",
              "      <th>v69</th>\n",
              "      <th>readhome_wle_ca</th>\n",
              "      <th>influence_wle_ca</th>\n",
              "      <th>readytolearn_wle_ca</th>\n",
              "      <th>learnatwork_wle_ca</th>\n",
              "      <th>readwork_wle_ca</th>\n",
              "      <th>planning_wle_ca</th>\n",
              "      <th>taskdisc_wle_ca</th>\n",
              "      <th>v82</th>\n",
              "      <th>v70</th>\n",
              "      <th>v62</th>\n",
              "      <th>v236</th>\n",
              "      <th>v19</th>\n",
              "      <th>earnhrbonusdcl</th>\n",
              "      <th>earnhrdcl</th>\n",
              "      <th>imyrcat</th>\n",
              "      <th>v48</th>\n",
              "      <th>v47</th>\n",
              "      <th>v94</th>\n",
              "      <th>v8</th>\n",
              "      <th>v3</th>\n",
              "      <th>ctryrgn</th>\n",
              "      <th>v91</th>\n",
              "      <th>lng_home</th>\n",
              "      <th>cnt_brth</th>\n",
              "      <th>lng_ci</th>\n",
              "      <th>v31</th>\n",
              "      <th>v96</th>\n",
              "      <th>isic1c</th>\n",
              "      <th>v92</th>\n",
              "      <th>v88</th>\n",
              "      <th>v140</th>\n",
              "      <th>v137</th>\n",
              "    </tr>\n",
              "  </thead>\n",
              "  <tbody>\n",
              "    <tr>\n",
              "      <th>0</th>\n",
              "      <td>1.0</td>\n",
              "      <td>0.0</td>\n",
              "      <td>1</td>\n",
              "      <td>0.0</td>\n",
              "      <td>0.0</td>\n",
              "      <td>1</td>\n",
              "      <td>1.0</td>\n",
              "      <td>1.0</td>\n",
              "      <td>0.0</td>\n",
              "      <td>1.0</td>\n",
              "      <td>0.0</td>\n",
              "      <td>0.0</td>\n",
              "      <td>1.0</td>\n",
              "      <td>0</td>\n",
              "      <td>0.0</td>\n",
              "      <td>0.0</td>\n",
              "      <td>0.0</td>\n",
              "      <td>1</td>\n",
              "      <td>1</td>\n",
              "      <td>1.0</td>\n",
              "      <td>NaN</td>\n",
              "      <td>0.0</td>\n",
              "      <td>1.0</td>\n",
              "      <td>1</td>\n",
              "      <td>1.0</td>\n",
              "      <td>1</td>\n",
              "      <td>1</td>\n",
              "      <td>0.0</td>\n",
              "      <td>1.0</td>\n",
              "      <td>1</td>\n",
              "      <td>NaN</td>\n",
              "      <td>1</td>\n",
              "      <td>1.0</td>\n",
              "      <td>1.0</td>\n",
              "      <td>0.0</td>\n",
              "      <td>NaN</td>\n",
              "      <td>0.0</td>\n",
              "      <td>0.0</td>\n",
              "      <td>1.0</td>\n",
              "      <td>1</td>\n",
              "      <td>...</td>\n",
              "      <td>2.0</td>\n",
              "      <td>NaN</td>\n",
              "      <td>NaN</td>\n",
              "      <td>3.0</td>\n",
              "      <td>2.0</td>\n",
              "      <td>2.0</td>\n",
              "      <td>3.0</td>\n",
              "      <td>1.0</td>\n",
              "      <td>4.0</td>\n",
              "      <td>5.0</td>\n",
              "      <td>4.0</td>\n",
              "      <td>5.0</td>\n",
              "      <td>5.0</td>\n",
              "      <td>5.0</td>\n",
              "      <td>2.0</td>\n",
              "      <td>0.0</td>\n",
              "      <td>0.0</td>\n",
              "      <td>1.0</td>\n",
              "      <td>NaN</td>\n",
              "      <td>1.0</td>\n",
              "      <td>6.0</td>\n",
              "      <td>6.0</td>\n",
              "      <td>2.0</td>\n",
              "      <td>1.0</td>\n",
              "      <td>NaN</td>\n",
              "      <td>NaN</td>\n",
              "      <td>2.0</td>\n",
              "      <td>NaN</td>\n",
              "      <td>3.0</td>\n",
              "      <td>NaN</td>\n",
              "      <td>7.0</td>\n",
              "      <td>NaN</td>\n",
              "      <td>7.0</td>\n",
              "      <td>2.0</td>\n",
              "      <td>NaN</td>\n",
              "      <td>12.0</td>\n",
              "      <td>NaN</td>\n",
              "      <td>1.0</td>\n",
              "      <td>2.0</td>\n",
              "      <td>NaN</td>\n",
              "    </tr>\n",
              "    <tr>\n",
              "      <th>1</th>\n",
              "      <td>1.0</td>\n",
              "      <td>1.0</td>\n",
              "      <td>1</td>\n",
              "      <td>0.0</td>\n",
              "      <td>0.0</td>\n",
              "      <td>1</td>\n",
              "      <td>1.0</td>\n",
              "      <td>NaN</td>\n",
              "      <td>0.0</td>\n",
              "      <td>1.0</td>\n",
              "      <td>1.0</td>\n",
              "      <td>NaN</td>\n",
              "      <td>1.0</td>\n",
              "      <td>1</td>\n",
              "      <td>1.0</td>\n",
              "      <td>NaN</td>\n",
              "      <td>1.0</td>\n",
              "      <td>1</td>\n",
              "      <td>1</td>\n",
              "      <td>1.0</td>\n",
              "      <td>0.0</td>\n",
              "      <td>1.0</td>\n",
              "      <td>0.0</td>\n",
              "      <td>1</td>\n",
              "      <td>1.0</td>\n",
              "      <td>1</td>\n",
              "      <td>1</td>\n",
              "      <td>1.0</td>\n",
              "      <td>1.0</td>\n",
              "      <td>1</td>\n",
              "      <td>0.0</td>\n",
              "      <td>0</td>\n",
              "      <td>0.0</td>\n",
              "      <td>0.0</td>\n",
              "      <td>0.0</td>\n",
              "      <td>1.0</td>\n",
              "      <td>1.0</td>\n",
              "      <td>1.0</td>\n",
              "      <td>1.0</td>\n",
              "      <td>1</td>\n",
              "      <td>...</td>\n",
              "      <td>9.0</td>\n",
              "      <td>5.0</td>\n",
              "      <td>1.0</td>\n",
              "      <td>4.0</td>\n",
              "      <td>NaN</td>\n",
              "      <td>4.0</td>\n",
              "      <td>3.0</td>\n",
              "      <td>3.0</td>\n",
              "      <td>5.0</td>\n",
              "      <td>3.0</td>\n",
              "      <td>4.0</td>\n",
              "      <td>NaN</td>\n",
              "      <td>5.0</td>\n",
              "      <td>4.0</td>\n",
              "      <td>1.0</td>\n",
              "      <td>1.0</td>\n",
              "      <td>NaN</td>\n",
              "      <td>NaN</td>\n",
              "      <td>1.0</td>\n",
              "      <td>NaN</td>\n",
              "      <td>NaN</td>\n",
              "      <td>NaN</td>\n",
              "      <td>2.0</td>\n",
              "      <td>NaN</td>\n",
              "      <td>1.0</td>\n",
              "      <td>3.0</td>\n",
              "      <td>NaN</td>\n",
              "      <td>NaN</td>\n",
              "      <td>3.0</td>\n",
              "      <td>3.0</td>\n",
              "      <td>7.0</td>\n",
              "      <td>82.0</td>\n",
              "      <td>7.0</td>\n",
              "      <td>1.0</td>\n",
              "      <td>NaN</td>\n",
              "      <td>2.0</td>\n",
              "      <td>2.0</td>\n",
              "      <td>1.0</td>\n",
              "      <td>3.0</td>\n",
              "      <td>2.0</td>\n",
              "    </tr>\n",
              "    <tr>\n",
              "      <th>2</th>\n",
              "      <td>1.0</td>\n",
              "      <td>1.0</td>\n",
              "      <td>1</td>\n",
              "      <td>1.0</td>\n",
              "      <td>0.0</td>\n",
              "      <td>1</td>\n",
              "      <td>1.0</td>\n",
              "      <td>NaN</td>\n",
              "      <td>0.0</td>\n",
              "      <td>1.0</td>\n",
              "      <td>1.0</td>\n",
              "      <td>NaN</td>\n",
              "      <td>1.0</td>\n",
              "      <td>1</td>\n",
              "      <td>1.0</td>\n",
              "      <td>NaN</td>\n",
              "      <td>1.0</td>\n",
              "      <td>1</td>\n",
              "      <td>1</td>\n",
              "      <td>1.0</td>\n",
              "      <td>NaN</td>\n",
              "      <td>0.0</td>\n",
              "      <td>1.0</td>\n",
              "      <td>1</td>\n",
              "      <td>1.0</td>\n",
              "      <td>1</td>\n",
              "      <td>1</td>\n",
              "      <td>0.0</td>\n",
              "      <td>1.0</td>\n",
              "      <td>1</td>\n",
              "      <td>NaN</td>\n",
              "      <td>1</td>\n",
              "      <td>1.0</td>\n",
              "      <td>1.0</td>\n",
              "      <td>0.0</td>\n",
              "      <td>1.0</td>\n",
              "      <td>1.0</td>\n",
              "      <td>1.0</td>\n",
              "      <td>1.0</td>\n",
              "      <td>1</td>\n",
              "      <td>...</td>\n",
              "      <td>3.0</td>\n",
              "      <td>5.0</td>\n",
              "      <td>2.0</td>\n",
              "      <td>4.0</td>\n",
              "      <td>NaN</td>\n",
              "      <td>4.0</td>\n",
              "      <td>3.0</td>\n",
              "      <td>1.0</td>\n",
              "      <td>4.0</td>\n",
              "      <td>3.0</td>\n",
              "      <td>5.0</td>\n",
              "      <td>NaN</td>\n",
              "      <td>3.0</td>\n",
              "      <td>4.0</td>\n",
              "      <td>1.0</td>\n",
              "      <td>1.0</td>\n",
              "      <td>NaN</td>\n",
              "      <td>NaN</td>\n",
              "      <td>0.0</td>\n",
              "      <td>NaN</td>\n",
              "      <td>NaN</td>\n",
              "      <td>NaN</td>\n",
              "      <td>2.0</td>\n",
              "      <td>NaN</td>\n",
              "      <td>0.0</td>\n",
              "      <td>1.0</td>\n",
              "      <td>NaN</td>\n",
              "      <td>NaN</td>\n",
              "      <td>3.0</td>\n",
              "      <td>4.0</td>\n",
              "      <td>7.0</td>\n",
              "      <td>82.0</td>\n",
              "      <td>7.0</td>\n",
              "      <td>8.0</td>\n",
              "      <td>NaN</td>\n",
              "      <td>3.0</td>\n",
              "      <td>2.0</td>\n",
              "      <td>1.0</td>\n",
              "      <td>2.0</td>\n",
              "      <td>NaN</td>\n",
              "    </tr>\n",
              "    <tr>\n",
              "      <th>3</th>\n",
              "      <td>1.0</td>\n",
              "      <td>1.0</td>\n",
              "      <td>1</td>\n",
              "      <td>0.0</td>\n",
              "      <td>1.0</td>\n",
              "      <td>1</td>\n",
              "      <td>1.0</td>\n",
              "      <td>NaN</td>\n",
              "      <td>1.0</td>\n",
              "      <td>1.0</td>\n",
              "      <td>1.0</td>\n",
              "      <td>NaN</td>\n",
              "      <td>0.0</td>\n",
              "      <td>0</td>\n",
              "      <td>1.0</td>\n",
              "      <td>NaN</td>\n",
              "      <td>0.0</td>\n",
              "      <td>1</td>\n",
              "      <td>1</td>\n",
              "      <td>1.0</td>\n",
              "      <td>0.0</td>\n",
              "      <td>1.0</td>\n",
              "      <td>0.0</td>\n",
              "      <td>1</td>\n",
              "      <td>1.0</td>\n",
              "      <td>1</td>\n",
              "      <td>1</td>\n",
              "      <td>1.0</td>\n",
              "      <td>1.0</td>\n",
              "      <td>1</td>\n",
              "      <td>0.0</td>\n",
              "      <td>0</td>\n",
              "      <td>0.0</td>\n",
              "      <td>0.0</td>\n",
              "      <td>0.0</td>\n",
              "      <td>1.0</td>\n",
              "      <td>1.0</td>\n",
              "      <td>1.0</td>\n",
              "      <td>0.0</td>\n",
              "      <td>1</td>\n",
              "      <td>...</td>\n",
              "      <td>3.0</td>\n",
              "      <td>2.0</td>\n",
              "      <td>1.0</td>\n",
              "      <td>2.0</td>\n",
              "      <td>NaN</td>\n",
              "      <td>1.0</td>\n",
              "      <td>3.0</td>\n",
              "      <td>2.0</td>\n",
              "      <td>5.0</td>\n",
              "      <td>5.0</td>\n",
              "      <td>2.0</td>\n",
              "      <td>NaN</td>\n",
              "      <td>4.0</td>\n",
              "      <td>3.0</td>\n",
              "      <td>1.0</td>\n",
              "      <td>1.0</td>\n",
              "      <td>NaN</td>\n",
              "      <td>NaN</td>\n",
              "      <td>0.0</td>\n",
              "      <td>NaN</td>\n",
              "      <td>NaN</td>\n",
              "      <td>NaN</td>\n",
              "      <td>0.0</td>\n",
              "      <td>NaN</td>\n",
              "      <td>1.0</td>\n",
              "      <td>3.0</td>\n",
              "      <td>NaN</td>\n",
              "      <td>NaN</td>\n",
              "      <td>3.0</td>\n",
              "      <td>4.0</td>\n",
              "      <td>NaN</td>\n",
              "      <td>NaN</td>\n",
              "      <td>20.0</td>\n",
              "      <td>8.0</td>\n",
              "      <td>NaN</td>\n",
              "      <td>13.0</td>\n",
              "      <td>2.0</td>\n",
              "      <td>1.0</td>\n",
              "      <td>2.0</td>\n",
              "      <td>4.0</td>\n",
              "    </tr>\n",
              "    <tr>\n",
              "      <th>4</th>\n",
              "      <td>1.0</td>\n",
              "      <td>0.0</td>\n",
              "      <td>1</td>\n",
              "      <td>0.0</td>\n",
              "      <td>0.0</td>\n",
              "      <td>1</td>\n",
              "      <td>1.0</td>\n",
              "      <td>0.0</td>\n",
              "      <td>0.0</td>\n",
              "      <td>1.0</td>\n",
              "      <td>0.0</td>\n",
              "      <td>1.0</td>\n",
              "      <td>0.0</td>\n",
              "      <td>1</td>\n",
              "      <td>0.0</td>\n",
              "      <td>0.0</td>\n",
              "      <td>0.0</td>\n",
              "      <td>1</td>\n",
              "      <td>1</td>\n",
              "      <td>1.0</td>\n",
              "      <td>NaN</td>\n",
              "      <td>0.0</td>\n",
              "      <td>1.0</td>\n",
              "      <td>0</td>\n",
              "      <td>1.0</td>\n",
              "      <td>1</td>\n",
              "      <td>1</td>\n",
              "      <td>0.0</td>\n",
              "      <td>1.0</td>\n",
              "      <td>1</td>\n",
              "      <td>NaN</td>\n",
              "      <td>1</td>\n",
              "      <td>1.0</td>\n",
              "      <td>NaN</td>\n",
              "      <td>0.0</td>\n",
              "      <td>1.0</td>\n",
              "      <td>0.0</td>\n",
              "      <td>0.0</td>\n",
              "      <td>0.0</td>\n",
              "      <td>1</td>\n",
              "      <td>...</td>\n",
              "      <td>1.0</td>\n",
              "      <td>1.0</td>\n",
              "      <td>1.0</td>\n",
              "      <td>1.0</td>\n",
              "      <td>2.0</td>\n",
              "      <td>4.0</td>\n",
              "      <td>4.0</td>\n",
              "      <td>0.0</td>\n",
              "      <td>5.0</td>\n",
              "      <td>4.0</td>\n",
              "      <td>5.0</td>\n",
              "      <td>2.0</td>\n",
              "      <td>5.0</td>\n",
              "      <td>3.0</td>\n",
              "      <td>2.0</td>\n",
              "      <td>0.0</td>\n",
              "      <td>0.0</td>\n",
              "      <td>2.0</td>\n",
              "      <td>NaN</td>\n",
              "      <td>1.0</td>\n",
              "      <td>0.0</td>\n",
              "      <td>0.0</td>\n",
              "      <td>1.0</td>\n",
              "      <td>1.0</td>\n",
              "      <td>NaN</td>\n",
              "      <td>0.0</td>\n",
              "      <td>0.0</td>\n",
              "      <td>NaN</td>\n",
              "      <td>3.0</td>\n",
              "      <td>NaN</td>\n",
              "      <td>7.0</td>\n",
              "      <td>NaN</td>\n",
              "      <td>7.0</td>\n",
              "      <td>NaN</td>\n",
              "      <td>3.0</td>\n",
              "      <td>6.0</td>\n",
              "      <td>2.0</td>\n",
              "      <td>1.0</td>\n",
              "      <td>2.0</td>\n",
              "      <td>NaN</td>\n",
              "    </tr>\n",
              "  </tbody>\n",
              "</table>\n",
              "<p>5 rows × 169 columns</p>\n",
              "</div>"
            ],
            "text/plain": [
              "   computerexperience  v227  v84  v102  v17  ...  isic1c  v92  v88  v140  v137\n",
              "0                 1.0   0.0    1   0.0  0.0  ...    12.0  NaN  1.0   2.0   NaN\n",
              "1                 1.0   1.0    1   0.0  0.0  ...     2.0  2.0  1.0   3.0   2.0\n",
              "2                 1.0   1.0    1   1.0  0.0  ...     3.0  2.0  1.0   2.0   NaN\n",
              "3                 1.0   1.0    1   0.0  1.0  ...    13.0  2.0  1.0   2.0   4.0\n",
              "4                 1.0   0.0    1   0.0  0.0  ...     6.0  2.0  1.0   2.0   NaN\n",
              "\n",
              "[5 rows x 169 columns]"
            ]
          },
          "metadata": {
            "tags": []
          },
          "execution_count": 104
        }
      ]
    },
    {
      "cell_type": "markdown",
      "metadata": {
        "id": "HCFvnIGg4aUp",
        "colab_type": "text"
      },
      "source": [
        "## Imputation for Missing Values\n",
        "We want to then use an informed approach to imputation of missing data values. One method could be the use of KNN imputation or random forest and proximity matrix to imputing the missing values for our dataset with some similarity metric.\n",
        "\n",
        "We need to import for missing values first because we can apply the astype 'category' to these categorical, and oridinal features."
      ]
    },
    {
      "cell_type": "code",
      "metadata": {
        "id": "9GHjiOiAh8J4",
        "colab_type": "code",
        "colab": {}
      },
      "source": [
        "# !pip install missingpy"
      ],
      "execution_count": 0,
      "outputs": []
    },
    {
      "cell_type": "markdown",
      "metadata": {
        "id": "Qqp5c26kfq81",
        "colab_type": "text"
      },
      "source": [
        "We combine the numeric dataframe back with the categorical dataframe at this point."
      ]
    },
    {
      "cell_type": "code",
      "metadata": {
        "id": "jaOkDCh4NJip",
        "colab_type": "code",
        "colab": {}
      },
      "source": [
        "final_df = pd.concat([numeric_df, categorical_df], axis=1)"
      ],
      "execution_count": 0,
      "outputs": []
    },
    {
      "cell_type": "markdown",
      "metadata": {
        "id": "_JGqbdM0g-Hs",
        "colab_type": "text"
      },
      "source": [
        "### Final bit of preprocessing"
      ]
    },
    {
      "cell_type": "code",
      "metadata": {
        "id": "bei1DtyUhCn2",
        "colab_type": "code",
        "colab": {}
      },
      "source": [
        "occupational_feats = ['v224', 'isco2c']\n",
        "values_to_replace = [9995, 9996, 9997, 9998, 9999]\n",
        "\n",
        "for col in occupational_feats:\n",
        "    for val in values_to_replace:\n",
        "        final_df.loc[final_df[col] == val, col] = np.nan"
      ],
      "execution_count": 0,
      "outputs": []
    },
    {
      "cell_type": "code",
      "metadata": {
        "id": "IpcSbmbwrOvM",
        "colab_type": "code",
        "colab": {}
      },
      "source": [
        "final_df.drop('v224', inplace=True, axis=1)"
      ],
      "execution_count": 0,
      "outputs": []
    },
    {
      "cell_type": "code",
      "metadata": {
        "id": "K6wEhHnA-Pwp",
        "colab_type": "code",
        "outputId": "93454af3-2b1a-4aaf-dfdd-c5503505c60e",
        "colab": {
          "base_uri": "https://localhost:8080/",
          "height": 121
        }
      },
      "source": [
        "((final_df.isnull()/final_df.shape[0]) * 100).sum().sort_values(ascending=False)[:5]"
      ],
      "execution_count": 109,
      "outputs": [
        {
          "output_type": "execute_result",
          "data": {
            "text/plain": [
              "v291        49.363500\n",
              "v137        45.250321\n",
              "leavedu     44.228712\n",
              "cnt_brth    43.993368\n",
              "v269        39.955071\n",
              "dtype: float64"
            ]
          },
          "metadata": {
            "tags": []
          },
          "execution_count": 109
        }
      ]
    },
    {
      "cell_type": "code",
      "metadata": {
        "id": "6V6eXdpqd-el",
        "colab_type": "code",
        "colab": {}
      },
      "source": [
        "\n",
        "# Split into features and class\n",
        "\n",
        "X = final_df.loc[:, final_df.columns != 'job_performance'].values\n",
        "y = final_df['job_performance'].values"
      ],
      "execution_count": 0,
      "outputs": []
    },
    {
      "cell_type": "code",
      "metadata": {
        "id": "TUENOIw-rduQ",
        "colab_type": "code",
        "outputId": "a7da12cd-c511-49ee-f0b1-564a4ea0f49f",
        "colab": {
          "base_uri": "https://localhost:8080/",
          "height": 124
        }
      },
      "source": [
        "!pip install missingpy"
      ],
      "execution_count": 111,
      "outputs": [
        {
          "output_type": "stream",
          "text": [
            "Collecting missingpy\n",
            "\u001b[?25l  Downloading https://files.pythonhosted.org/packages/b5/be/998d04d27054b58f0974b5f09f8457778a0a72d4355e0b7ae877b6cfb850/missingpy-0.2.0-py3-none-any.whl (49kB)\n",
            "\u001b[K     |████████████████████████████████| 51kB 2.2MB/s \n",
            "\u001b[?25hInstalling collected packages: missingpy\n",
            "Successfully installed missingpy-0.2.0\n"
          ],
          "name": "stdout"
        }
      ]
    },
    {
      "cell_type": "markdown",
      "metadata": {
        "id": "4Enub0l1iisZ",
        "colab_type": "text"
      },
      "source": [
        "You could use either Missing Forest Imputation or KNN imputation. We decide to go with KNN imputation instead."
      ]
    },
    {
      "cell_type": "code",
      "metadata": {
        "id": "ParmpYEOiguF",
        "colab_type": "code",
        "colab": {}
      },
      "source": [
        "# Let X be an array containing missing values\n",
        "# from missingpy import MissForest\n",
        "# imputer = MissForest()\n",
        "# X_imputed = imputer.fit_transform(X)\n"
      ],
      "execution_count": 0,
      "outputs": []
    },
    {
      "cell_type": "code",
      "metadata": {
        "id": "YSEwyHGiiBFe",
        "colab_type": "code",
        "outputId": "882970f6-54c0-446f-870b-f9d30dbbc9c4",
        "colab": {
          "base_uri": "https://localhost:8080/",
          "height": 124
        }
      },
      "source": [
        "# missing value imputation with KNN\n",
        "from timeit import default_timer\n",
        "from missingpy import KNNImputer, MissForest\n",
        "\n",
        "knn = KNNImputer(n_neighbors=3, weights=\"uniform\",\n",
        "                 metric=\"masked_euclidean\", row_max_missing=0.8,\n",
        "                 col_max_missing=0.8, copy=True)\n",
        "\n",
        "start_timer = default_timer()\n",
        "knn_missing_imputation = knn.fit_transform(X)\n",
        "end_timer = default_timer()\n",
        "print(\"{}s\".format((end_timer - start_timer)/10))"
      ],
      "execution_count": 112,
      "outputs": [
        {
          "output_type": "stream",
          "text": [
            "/usr/local/lib/python3.6/dist-packages/sklearn/utils/validation.py:432: DeprecationWarning: 'warn_on_dtype' is deprecated in version 0.21 and will be removed in 0.23. Don't set `warn_on_dtype` to remove this warning.\n",
            "  DeprecationWarning)\n",
            "/usr/local/lib/python3.6/dist-packages/sklearn/utils/validation.py:432: DeprecationWarning: 'warn_on_dtype' is deprecated in version 0.21 and will be removed in 0.23. Don't set `warn_on_dtype` to remove this warning.\n",
            "  DeprecationWarning)\n"
          ],
          "name": "stderr"
        },
        {
          "output_type": "stream",
          "text": [
            "30.483398664900005s\n"
          ],
          "name": "stdout"
        }
      ]
    },
    {
      "cell_type": "code",
      "metadata": {
        "id": "8QF7xzvJ9G2y",
        "colab_type": "code",
        "colab": {}
      },
      "source": [
        "# we see that the imputation actually works\n",
        "\n",
        "assert len(knn_missing_imputation) == final_df.shape[0]"
      ],
      "execution_count": 0,
      "outputs": []
    },
    {
      "cell_type": "code",
      "metadata": {
        "id": "9GtiGhdZxHDa",
        "colab_type": "code",
        "outputId": "3666552e-a7b5-49d6-c1db-af1fda050d51",
        "colab": {
          "base_uri": "https://localhost:8080/",
          "height": 255
        }
      },
      "source": [
        "#The imputation goes back into the dataframe\n",
        "\n",
        "final_df_imputed = pd.DataFrame(knn_missing_imputation, columns = final_df.columns[final_df.columns != 'job_performance'])\n",
        "final_df_imputed['job_performance'] = pd.Series(y)\n",
        "final_df_imputed.head()"
      ],
      "execution_count": 114,
      "outputs": [
        {
          "output_type": "execute_result",
          "data": {
            "text/html": [
              "<div>\n",
              "<style scoped>\n",
              "    .dataframe tbody tr th:only-of-type {\n",
              "        vertical-align: middle;\n",
              "    }\n",
              "\n",
              "    .dataframe tbody tr th {\n",
              "        vertical-align: top;\n",
              "    }\n",
              "\n",
              "    .dataframe thead th {\n",
              "        text-align: right;\n",
              "    }\n",
              "</style>\n",
              "<table border=\"1\" class=\"dataframe\">\n",
              "  <thead>\n",
              "    <tr style=\"text-align: right;\">\n",
              "      <th></th>\n",
              "      <th>v97</th>\n",
              "      <th>influence</th>\n",
              "      <th>writhome</th>\n",
              "      <th>readytolearn</th>\n",
              "      <th>planning</th>\n",
              "      <th>v135</th>\n",
              "      <th>v231</th>\n",
              "      <th>v272</th>\n",
              "      <th>v63</th>\n",
              "      <th>readwork</th>\n",
              "      <th>ictwork</th>\n",
              "      <th>isco2c</th>\n",
              "      <th>yrsqual_t</th>\n",
              "      <th>v235</th>\n",
              "      <th>v202</th>\n",
              "      <th>icthome</th>\n",
              "      <th>nfehrs</th>\n",
              "      <th>taskdisc</th>\n",
              "      <th>leavedu</th>\n",
              "      <th>readhome</th>\n",
              "      <th>writwork</th>\n",
              "      <th>v1</th>\n",
              "      <th>v33</th>\n",
              "      <th>v52</th>\n",
              "      <th>learnatwork</th>\n",
              "      <th>v242</th>\n",
              "      <th>computerexperience</th>\n",
              "      <th>v227</th>\n",
              "      <th>v84</th>\n",
              "      <th>v102</th>\n",
              "      <th>v17</th>\n",
              "      <th>v201</th>\n",
              "      <th>v250</th>\n",
              "      <th>v255</th>\n",
              "      <th>v188</th>\n",
              "      <th>v28</th>\n",
              "      <th>v101</th>\n",
              "      <th>v115</th>\n",
              "      <th>nativespeaker</th>\n",
              "      <th>gender_r</th>\n",
              "      <th>...</th>\n",
              "      <th>v289</th>\n",
              "      <th>v261</th>\n",
              "      <th>monthlyincpr</th>\n",
              "      <th>v221</th>\n",
              "      <th>v85</th>\n",
              "      <th>v50</th>\n",
              "      <th>v69</th>\n",
              "      <th>readhome_wle_ca</th>\n",
              "      <th>influence_wle_ca</th>\n",
              "      <th>readytolearn_wle_ca</th>\n",
              "      <th>learnatwork_wle_ca</th>\n",
              "      <th>readwork_wle_ca</th>\n",
              "      <th>planning_wle_ca</th>\n",
              "      <th>taskdisc_wle_ca</th>\n",
              "      <th>v82</th>\n",
              "      <th>v70</th>\n",
              "      <th>v62</th>\n",
              "      <th>v236</th>\n",
              "      <th>v19</th>\n",
              "      <th>earnhrbonusdcl</th>\n",
              "      <th>earnhrdcl</th>\n",
              "      <th>imyrcat</th>\n",
              "      <th>v48</th>\n",
              "      <th>v47</th>\n",
              "      <th>v94</th>\n",
              "      <th>v8</th>\n",
              "      <th>v3</th>\n",
              "      <th>ctryrgn</th>\n",
              "      <th>v91</th>\n",
              "      <th>lng_home</th>\n",
              "      <th>cnt_brth</th>\n",
              "      <th>lng_ci</th>\n",
              "      <th>v31</th>\n",
              "      <th>v96</th>\n",
              "      <th>isic1c</th>\n",
              "      <th>v92</th>\n",
              "      <th>v88</th>\n",
              "      <th>v140</th>\n",
              "      <th>v137</th>\n",
              "      <th>job_performance</th>\n",
              "    </tr>\n",
              "  </thead>\n",
              "  <tbody>\n",
              "    <tr>\n",
              "      <th>0</th>\n",
              "      <td>1.0</td>\n",
              "      <td>2.778923</td>\n",
              "      <td>2.574343</td>\n",
              "      <td>2.588515</td>\n",
              "      <td>3.734814</td>\n",
              "      <td>38.333333</td>\n",
              "      <td>21.666667</td>\n",
              "      <td>2007.666667</td>\n",
              "      <td>2080.000000</td>\n",
              "      <td>2.860090</td>\n",
              "      <td>2.624086</td>\n",
              "      <td>38.666667</td>\n",
              "      <td>12.0</td>\n",
              "      <td>38.0</td>\n",
              "      <td>21.666667</td>\n",
              "      <td>2.261395</td>\n",
              "      <td>33.333333</td>\n",
              "      <td>1.466427</td>\n",
              "      <td>23.666667</td>\n",
              "      <td>2.671265</td>\n",
              "      <td>3.690521</td>\n",
              "      <td>38.333333</td>\n",
              "      <td>3.333333</td>\n",
              "      <td>3.666667</td>\n",
              "      <td>3.449136</td>\n",
              "      <td>2.0</td>\n",
              "      <td>1.0</td>\n",
              "      <td>0.0</td>\n",
              "      <td>1.0</td>\n",
              "      <td>0.0</td>\n",
              "      <td>0.0</td>\n",
              "      <td>1.0</td>\n",
              "      <td>1.0</td>\n",
              "      <td>1.000000</td>\n",
              "      <td>0.0</td>\n",
              "      <td>1.0</td>\n",
              "      <td>0.0</td>\n",
              "      <td>0.000000</td>\n",
              "      <td>1.0</td>\n",
              "      <td>0.0</td>\n",
              "      <td>...</td>\n",
              "      <td>3.666667</td>\n",
              "      <td>2.0</td>\n",
              "      <td>3.0</td>\n",
              "      <td>2.000000</td>\n",
              "      <td>2.0</td>\n",
              "      <td>3.0</td>\n",
              "      <td>1.0</td>\n",
              "      <td>4.0</td>\n",
              "      <td>5.0</td>\n",
              "      <td>4.0</td>\n",
              "      <td>5.000000</td>\n",
              "      <td>5.0</td>\n",
              "      <td>5.0</td>\n",
              "      <td>2.0</td>\n",
              "      <td>0.0</td>\n",
              "      <td>0.000000</td>\n",
              "      <td>1.000000</td>\n",
              "      <td>2.000000</td>\n",
              "      <td>1.000000</td>\n",
              "      <td>6.000000</td>\n",
              "      <td>6.000000</td>\n",
              "      <td>2.0</td>\n",
              "      <td>1.000000</td>\n",
              "      <td>0.333333</td>\n",
              "      <td>3.0</td>\n",
              "      <td>2.000000</td>\n",
              "      <td>2.0</td>\n",
              "      <td>3.0</td>\n",
              "      <td>2.333333</td>\n",
              "      <td>7.0</td>\n",
              "      <td>46.0</td>\n",
              "      <td>7.0</td>\n",
              "      <td>2.000000</td>\n",
              "      <td>7.0</td>\n",
              "      <td>12.0</td>\n",
              "      <td>2.0</td>\n",
              "      <td>1.0</td>\n",
              "      <td>2.0</td>\n",
              "      <td>2.666667</td>\n",
              "      <td>2381.623056</td>\n",
              "    </tr>\n",
              "    <tr>\n",
              "      <th>1</th>\n",
              "      <td>40.0</td>\n",
              "      <td>1.912440</td>\n",
              "      <td>3.116459</td>\n",
              "      <td>2.570880</td>\n",
              "      <td>1.958027</td>\n",
              "      <td>40.000000</td>\n",
              "      <td>21.000000</td>\n",
              "      <td>1972.000000</td>\n",
              "      <td>808.666667</td>\n",
              "      <td>3.299227</td>\n",
              "      <td>2.237029</td>\n",
              "      <td>31.000000</td>\n",
              "      <td>15.0</td>\n",
              "      <td>40.0</td>\n",
              "      <td>21.000000</td>\n",
              "      <td>3.538845</td>\n",
              "      <td>40.000000</td>\n",
              "      <td>1.106760</td>\n",
              "      <td>21.000000</td>\n",
              "      <td>3.663056</td>\n",
              "      <td>3.101801</td>\n",
              "      <td>40.000000</td>\n",
              "      <td>4.000000</td>\n",
              "      <td>40.000000</td>\n",
              "      <td>2.704957</td>\n",
              "      <td>4.0</td>\n",
              "      <td>1.0</td>\n",
              "      <td>1.0</td>\n",
              "      <td>1.0</td>\n",
              "      <td>0.0</td>\n",
              "      <td>0.0</td>\n",
              "      <td>1.0</td>\n",
              "      <td>1.0</td>\n",
              "      <td>0.666667</td>\n",
              "      <td>0.0</td>\n",
              "      <td>1.0</td>\n",
              "      <td>1.0</td>\n",
              "      <td>0.333333</td>\n",
              "      <td>1.0</td>\n",
              "      <td>1.0</td>\n",
              "      <td>...</td>\n",
              "      <td>5.000000</td>\n",
              "      <td>1.0</td>\n",
              "      <td>4.0</td>\n",
              "      <td>4.666667</td>\n",
              "      <td>4.0</td>\n",
              "      <td>3.0</td>\n",
              "      <td>3.0</td>\n",
              "      <td>5.0</td>\n",
              "      <td>3.0</td>\n",
              "      <td>4.0</td>\n",
              "      <td>3.000000</td>\n",
              "      <td>5.0</td>\n",
              "      <td>4.0</td>\n",
              "      <td>1.0</td>\n",
              "      <td>1.0</td>\n",
              "      <td>2.000000</td>\n",
              "      <td>1.000000</td>\n",
              "      <td>1.000000</td>\n",
              "      <td>2.000000</td>\n",
              "      <td>7.333333</td>\n",
              "      <td>7.666667</td>\n",
              "      <td>2.0</td>\n",
              "      <td>3.000000</td>\n",
              "      <td>1.000000</td>\n",
              "      <td>3.0</td>\n",
              "      <td>1.666667</td>\n",
              "      <td>3.0</td>\n",
              "      <td>3.0</td>\n",
              "      <td>3.000000</td>\n",
              "      <td>7.0</td>\n",
              "      <td>82.0</td>\n",
              "      <td>7.0</td>\n",
              "      <td>1.000000</td>\n",
              "      <td>5.0</td>\n",
              "      <td>2.0</td>\n",
              "      <td>2.0</td>\n",
              "      <td>1.0</td>\n",
              "      <td>3.0</td>\n",
              "      <td>2.000000</td>\n",
              "      <td>2866.885957</td>\n",
              "    </tr>\n",
              "    <tr>\n",
              "      <th>2</th>\n",
              "      <td>10.0</td>\n",
              "      <td>2.063495</td>\n",
              "      <td>2.979574</td>\n",
              "      <td>2.955430</td>\n",
              "      <td>1.958027</td>\n",
              "      <td>50.000000</td>\n",
              "      <td>24.000000</td>\n",
              "      <td>2004.000000</td>\n",
              "      <td>720.000000</td>\n",
              "      <td>2.146608</td>\n",
              "      <td>2.067996</td>\n",
              "      <td>24.000000</td>\n",
              "      <td>16.0</td>\n",
              "      <td>50.0</td>\n",
              "      <td>24.000000</td>\n",
              "      <td>2.624791</td>\n",
              "      <td>40.000000</td>\n",
              "      <td>1.181746</td>\n",
              "      <td>24.666667</td>\n",
              "      <td>2.513366</td>\n",
              "      <td>2.818857</td>\n",
              "      <td>50.000000</td>\n",
              "      <td>3.000000</td>\n",
              "      <td>10.000000</td>\n",
              "      <td>2.622412</td>\n",
              "      <td>3.0</td>\n",
              "      <td>1.0</td>\n",
              "      <td>1.0</td>\n",
              "      <td>1.0</td>\n",
              "      <td>1.0</td>\n",
              "      <td>0.0</td>\n",
              "      <td>1.0</td>\n",
              "      <td>1.0</td>\n",
              "      <td>1.000000</td>\n",
              "      <td>0.0</td>\n",
              "      <td>1.0</td>\n",
              "      <td>1.0</td>\n",
              "      <td>1.000000</td>\n",
              "      <td>1.0</td>\n",
              "      <td>1.0</td>\n",
              "      <td>...</td>\n",
              "      <td>5.000000</td>\n",
              "      <td>2.0</td>\n",
              "      <td>4.0</td>\n",
              "      <td>3.666667</td>\n",
              "      <td>4.0</td>\n",
              "      <td>3.0</td>\n",
              "      <td>1.0</td>\n",
              "      <td>4.0</td>\n",
              "      <td>3.0</td>\n",
              "      <td>5.0</td>\n",
              "      <td>3.000000</td>\n",
              "      <td>3.0</td>\n",
              "      <td>4.0</td>\n",
              "      <td>1.0</td>\n",
              "      <td>1.0</td>\n",
              "      <td>1.666667</td>\n",
              "      <td>1.000000</td>\n",
              "      <td>0.000000</td>\n",
              "      <td>1.666667</td>\n",
              "      <td>5.666667</td>\n",
              "      <td>3.333333</td>\n",
              "      <td>2.0</td>\n",
              "      <td>1.333333</td>\n",
              "      <td>0.000000</td>\n",
              "      <td>1.0</td>\n",
              "      <td>1.333333</td>\n",
              "      <td>3.0</td>\n",
              "      <td>3.0</td>\n",
              "      <td>4.000000</td>\n",
              "      <td>7.0</td>\n",
              "      <td>82.0</td>\n",
              "      <td>7.0</td>\n",
              "      <td>8.000000</td>\n",
              "      <td>4.0</td>\n",
              "      <td>3.0</td>\n",
              "      <td>2.0</td>\n",
              "      <td>1.0</td>\n",
              "      <td>2.0</td>\n",
              "      <td>2.333333</td>\n",
              "      <td>2871.232434</td>\n",
              "    </tr>\n",
              "    <tr>\n",
              "      <th>3</th>\n",
              "      <td>9.0</td>\n",
              "      <td>2.793739</td>\n",
              "      <td>3.036055</td>\n",
              "      <td>1.555305</td>\n",
              "      <td>1.647927</td>\n",
              "      <td>40.000000</td>\n",
              "      <td>31.000000</td>\n",
              "      <td>2008.000000</td>\n",
              "      <td>173.000000</td>\n",
              "      <td>2.530622</td>\n",
              "      <td>4.466779</td>\n",
              "      <td>33.000000</td>\n",
              "      <td>18.0</td>\n",
              "      <td>40.0</td>\n",
              "      <td>31.000000</td>\n",
              "      <td>3.479338</td>\n",
              "      <td>320.000000</td>\n",
              "      <td>1.181746</td>\n",
              "      <td>31.000000</td>\n",
              "      <td>3.612399</td>\n",
              "      <td>3.690521</td>\n",
              "      <td>40.000000</td>\n",
              "      <td>2.000000</td>\n",
              "      <td>9.000000</td>\n",
              "      <td>1.636855</td>\n",
              "      <td>2.0</td>\n",
              "      <td>1.0</td>\n",
              "      <td>1.0</td>\n",
              "      <td>1.0</td>\n",
              "      <td>0.0</td>\n",
              "      <td>1.0</td>\n",
              "      <td>1.0</td>\n",
              "      <td>1.0</td>\n",
              "      <td>1.000000</td>\n",
              "      <td>1.0</td>\n",
              "      <td>1.0</td>\n",
              "      <td>1.0</td>\n",
              "      <td>0.000000</td>\n",
              "      <td>0.0</td>\n",
              "      <td>0.0</td>\n",
              "      <td>...</td>\n",
              "      <td>2.000000</td>\n",
              "      <td>1.0</td>\n",
              "      <td>2.0</td>\n",
              "      <td>4.666667</td>\n",
              "      <td>1.0</td>\n",
              "      <td>3.0</td>\n",
              "      <td>2.0</td>\n",
              "      <td>5.0</td>\n",
              "      <td>5.0</td>\n",
              "      <td>2.0</td>\n",
              "      <td>3.666667</td>\n",
              "      <td>4.0</td>\n",
              "      <td>3.0</td>\n",
              "      <td>1.0</td>\n",
              "      <td>1.0</td>\n",
              "      <td>2.000000</td>\n",
              "      <td>1.333333</td>\n",
              "      <td>0.000000</td>\n",
              "      <td>4.000000</td>\n",
              "      <td>3.666667</td>\n",
              "      <td>2.000000</td>\n",
              "      <td>0.0</td>\n",
              "      <td>0.666667</td>\n",
              "      <td>1.000000</td>\n",
              "      <td>3.0</td>\n",
              "      <td>0.666667</td>\n",
              "      <td>3.0</td>\n",
              "      <td>3.0</td>\n",
              "      <td>4.000000</td>\n",
              "      <td>21.0</td>\n",
              "      <td>64.0</td>\n",
              "      <td>20.0</td>\n",
              "      <td>8.000000</td>\n",
              "      <td>4.0</td>\n",
              "      <td>13.0</td>\n",
              "      <td>2.0</td>\n",
              "      <td>1.0</td>\n",
              "      <td>2.0</td>\n",
              "      <td>4.000000</td>\n",
              "      <td>2601.625461</td>\n",
              "    </tr>\n",
              "    <tr>\n",
              "      <th>4</th>\n",
              "      <td>5.0</td>\n",
              "      <td>2.425363</td>\n",
              "      <td>2.675496</td>\n",
              "      <td>3.345168</td>\n",
              "      <td>1.752098</td>\n",
              "      <td>33.000000</td>\n",
              "      <td>20.333333</td>\n",
              "      <td>2006.000000</td>\n",
              "      <td>1.210000</td>\n",
              "      <td>3.130518</td>\n",
              "      <td>0.665753</td>\n",
              "      <td>83.000000</td>\n",
              "      <td>12.0</td>\n",
              "      <td>33.0</td>\n",
              "      <td>20.333333</td>\n",
              "      <td>2.645463</td>\n",
              "      <td>20.000000</td>\n",
              "      <td>1.349476</td>\n",
              "      <td>20.333333</td>\n",
              "      <td>3.145437</td>\n",
              "      <td>0.056130</td>\n",
              "      <td>33.000000</td>\n",
              "      <td>1.000000</td>\n",
              "      <td>4.333333</td>\n",
              "      <td>1.287352</td>\n",
              "      <td>6.0</td>\n",
              "      <td>1.0</td>\n",
              "      <td>0.0</td>\n",
              "      <td>1.0</td>\n",
              "      <td>0.0</td>\n",
              "      <td>0.0</td>\n",
              "      <td>1.0</td>\n",
              "      <td>1.0</td>\n",
              "      <td>0.000000</td>\n",
              "      <td>0.0</td>\n",
              "      <td>1.0</td>\n",
              "      <td>0.0</td>\n",
              "      <td>1.000000</td>\n",
              "      <td>0.0</td>\n",
              "      <td>1.0</td>\n",
              "      <td>...</td>\n",
              "      <td>1.000000</td>\n",
              "      <td>1.0</td>\n",
              "      <td>1.0</td>\n",
              "      <td>2.000000</td>\n",
              "      <td>4.0</td>\n",
              "      <td>4.0</td>\n",
              "      <td>0.0</td>\n",
              "      <td>5.0</td>\n",
              "      <td>4.0</td>\n",
              "      <td>5.0</td>\n",
              "      <td>2.000000</td>\n",
              "      <td>5.0</td>\n",
              "      <td>3.0</td>\n",
              "      <td>2.0</td>\n",
              "      <td>0.0</td>\n",
              "      <td>0.000000</td>\n",
              "      <td>2.000000</td>\n",
              "      <td>0.333333</td>\n",
              "      <td>1.000000</td>\n",
              "      <td>0.000000</td>\n",
              "      <td>0.000000</td>\n",
              "      <td>1.0</td>\n",
              "      <td>1.000000</td>\n",
              "      <td>1.000000</td>\n",
              "      <td>0.0</td>\n",
              "      <td>0.000000</td>\n",
              "      <td>2.0</td>\n",
              "      <td>3.0</td>\n",
              "      <td>3.333333</td>\n",
              "      <td>7.0</td>\n",
              "      <td>8.0</td>\n",
              "      <td>7.0</td>\n",
              "      <td>5.666667</td>\n",
              "      <td>3.0</td>\n",
              "      <td>6.0</td>\n",
              "      <td>2.0</td>\n",
              "      <td>1.0</td>\n",
              "      <td>2.0</td>\n",
              "      <td>2.666667</td>\n",
              "      <td>2079.471114</td>\n",
              "    </tr>\n",
              "  </tbody>\n",
              "</table>\n",
              "<p>5 rows × 196 columns</p>\n",
              "</div>"
            ],
            "text/plain": [
              "    v97  influence  writhome  ...  v140      v137  job_performance\n",
              "0   1.0   2.778923  2.574343  ...   2.0  2.666667      2381.623056\n",
              "1  40.0   1.912440  3.116459  ...   3.0  2.000000      2866.885957\n",
              "2  10.0   2.063495  2.979574  ...   2.0  2.333333      2871.232434\n",
              "3   9.0   2.793739  3.036055  ...   2.0  4.000000      2601.625461\n",
              "4   5.0   2.425363  2.675496  ...   2.0  2.666667      2079.471114\n",
              "\n",
              "[5 rows x 196 columns]"
            ]
          },
          "metadata": {
            "tags": []
          },
          "execution_count": 114
        }
      ]
    },
    {
      "cell_type": "code",
      "metadata": {
        "colab_type": "code",
        "id": "8rHopzwXVAAR",
        "colab": {}
      },
      "source": [
        "# new set of ordinal features after some of them have beend dropped\n",
        "# we won't have to do anything with ordinal features again\n",
        "\n",
        "ordinal_features = list(set(ordinal_features) - set(['v124', 'v200', 'v25', 'v278']))"
      ],
      "execution_count": 0,
      "outputs": []
    },
    {
      "cell_type": "markdown",
      "metadata": {
        "id": "-iniONbC3h5W",
        "colab_type": "text"
      },
      "source": [
        "## One Hot Encoding for Nominal Features\n",
        "\n",
        "We had to temporarily label encoded the nominal categorical features becuase"
      ]
    },
    {
      "cell_type": "code",
      "metadata": {
        "id": "KrkFeNnnXZlr",
        "colab_type": "code",
        "colab": {}
      },
      "source": [
        "final_df_imputed[nominal_multicategorical_feats]= final_df_imputed[nominal_multicategorical_feats].applymap(lambda x: np.round(x)).astype('int64')"
      ],
      "execution_count": 0,
      "outputs": []
    },
    {
      "cell_type": "markdown",
      "metadata": {
        "id": "DA2sP7-3cRMY",
        "colab_type": "text"
      },
      "source": [
        "Reverse the labeling before the onehotencoding so that we can tell what the groupings are from the column headers after 1HE."
      ]
    },
    {
      "cell_type": "code",
      "metadata": {
        "id": "dBg2_FtAfoAd",
        "colab_type": "code",
        "colab": {
          "base_uri": "https://localhost:8080/",
          "height": 206
        },
        "outputId": "70605ab9-07e9-42eb-e443-8de4809a48ff"
      },
      "source": [
        "from sklearn.preprocessing import LabelEncoder\n",
        "\n",
        "final_df_imputed[nominal_multicategorical_feats].head()"
      ],
      "execution_count": 117,
      "outputs": [
        {
          "output_type": "execute_result",
          "data": {
            "text/html": [
              "<div>\n",
              "<style scoped>\n",
              "    .dataframe tbody tr th:only-of-type {\n",
              "        vertical-align: middle;\n",
              "    }\n",
              "\n",
              "    .dataframe tbody tr th {\n",
              "        vertical-align: top;\n",
              "    }\n",
              "\n",
              "    .dataframe thead th {\n",
              "        text-align: right;\n",
              "    }\n",
              "</style>\n",
              "<table border=\"1\" class=\"dataframe\">\n",
              "  <thead>\n",
              "    <tr style=\"text-align: right;\">\n",
              "      <th></th>\n",
              "      <th>v3</th>\n",
              "      <th>ctryrgn</th>\n",
              "      <th>v91</th>\n",
              "      <th>lng_home</th>\n",
              "      <th>cnt_brth</th>\n",
              "      <th>lng_ci</th>\n",
              "      <th>v31</th>\n",
              "      <th>v96</th>\n",
              "      <th>isic1c</th>\n",
              "      <th>v92</th>\n",
              "      <th>v88</th>\n",
              "      <th>v140</th>\n",
              "      <th>v137</th>\n",
              "    </tr>\n",
              "  </thead>\n",
              "  <tbody>\n",
              "    <tr>\n",
              "      <th>0</th>\n",
              "      <td>2</td>\n",
              "      <td>3</td>\n",
              "      <td>2</td>\n",
              "      <td>7</td>\n",
              "      <td>46</td>\n",
              "      <td>7</td>\n",
              "      <td>2</td>\n",
              "      <td>7</td>\n",
              "      <td>12</td>\n",
              "      <td>2</td>\n",
              "      <td>1</td>\n",
              "      <td>2</td>\n",
              "      <td>3</td>\n",
              "    </tr>\n",
              "    <tr>\n",
              "      <th>1</th>\n",
              "      <td>3</td>\n",
              "      <td>3</td>\n",
              "      <td>3</td>\n",
              "      <td>7</td>\n",
              "      <td>82</td>\n",
              "      <td>7</td>\n",
              "      <td>1</td>\n",
              "      <td>5</td>\n",
              "      <td>2</td>\n",
              "      <td>2</td>\n",
              "      <td>1</td>\n",
              "      <td>3</td>\n",
              "      <td>2</td>\n",
              "    </tr>\n",
              "    <tr>\n",
              "      <th>2</th>\n",
              "      <td>3</td>\n",
              "      <td>3</td>\n",
              "      <td>4</td>\n",
              "      <td>7</td>\n",
              "      <td>82</td>\n",
              "      <td>7</td>\n",
              "      <td>8</td>\n",
              "      <td>4</td>\n",
              "      <td>3</td>\n",
              "      <td>2</td>\n",
              "      <td>1</td>\n",
              "      <td>2</td>\n",
              "      <td>2</td>\n",
              "    </tr>\n",
              "    <tr>\n",
              "      <th>3</th>\n",
              "      <td>3</td>\n",
              "      <td>3</td>\n",
              "      <td>4</td>\n",
              "      <td>21</td>\n",
              "      <td>64</td>\n",
              "      <td>20</td>\n",
              "      <td>8</td>\n",
              "      <td>4</td>\n",
              "      <td>13</td>\n",
              "      <td>2</td>\n",
              "      <td>1</td>\n",
              "      <td>2</td>\n",
              "      <td>4</td>\n",
              "    </tr>\n",
              "    <tr>\n",
              "      <th>4</th>\n",
              "      <td>2</td>\n",
              "      <td>3</td>\n",
              "      <td>3</td>\n",
              "      <td>7</td>\n",
              "      <td>8</td>\n",
              "      <td>7</td>\n",
              "      <td>6</td>\n",
              "      <td>3</td>\n",
              "      <td>6</td>\n",
              "      <td>2</td>\n",
              "      <td>1</td>\n",
              "      <td>2</td>\n",
              "      <td>3</td>\n",
              "    </tr>\n",
              "  </tbody>\n",
              "</table>\n",
              "</div>"
            ],
            "text/plain": [
              "   v3  ctryrgn  v91  lng_home  cnt_brth  ...  isic1c  v92  v88  v140  v137\n",
              "0   2        3    2         7        46  ...      12    2    1     2     3\n",
              "1   3        3    3         7        82  ...       2    2    1     3     2\n",
              "2   3        3    4         7        82  ...       3    2    1     2     2\n",
              "3   3        3    4        21        64  ...      13    2    1     2     4\n",
              "4   2        3    3         7         8  ...       6    2    1     2     3\n",
              "\n",
              "[5 rows x 13 columns]"
            ]
          },
          "metadata": {
            "tags": []
          },
          "execution_count": 117
        }
      ]
    },
    {
      "cell_type": "code",
      "metadata": {
        "id": "X4_3YmWGvJ25",
        "colab_type": "code",
        "colab": {}
      },
      "source": [
        "# we use the dictionary of kvps for the nominal categorical values we created earlier\n",
        "np.random.seed(123)\n",
        "\n",
        "null_dict = {}\n",
        "\n",
        "assert len(nominal_multicategorical_feats) == len(nominal_categorical_encoding_manifest)\n",
        "\n",
        "for key, value in nominal_categorical_encoding_manifest.items():\n",
        "    null_dict[key] = value.index('Null')\n",
        "    null_replacement = value.index('Null')\n",
        "    \n",
        "    while null_replacement == value.index('Null'):\n",
        "        null_replacement = np.random.randint(low=0, high=len(value))                                \n",
        "        \n",
        "    final_df_imputed.loc[final_df_imputed[key] == value.index('Null'), key] = null_replacement                       "
      ],
      "execution_count": 0,
      "outputs": []
    },
    {
      "cell_type": "code",
      "metadata": {
        "id": "0wAATuGHA3ZH",
        "colab_type": "code",
        "colab": {}
      },
      "source": [
        "# ensure that the replacement for the null value of the value pair holds true to this condition\n",
        "\n",
        "for col, null_value in null_dict.items():\n",
        "    assert null_value not in test[col].unique(), \"The previous null value encoding has not yet been replaced with a new random value encoding\""
      ],
      "execution_count": 0,
      "outputs": []
    },
    {
      "cell_type": "code",
      "metadata": {
        "id": "nSS1fbd-CFqb",
        "colab_type": "code",
        "colab": {
          "base_uri": "https://localhost:8080/",
          "height": 34
        },
        "outputId": "cbe22fff-7082-427f-8303-4f185f5fa756"
      },
      "source": [
        "# now retrieve the string value from the values list of the nominal_categorical_encoding_manifest dictionary\n",
        "# and replace it with the corresponding indexed encoding, and then apply the onehotencoding on these values\n",
        "\n",
        "start_time = default_timer()\n",
        "\n",
        "for key, values in nominal_categorical_encoding_manifest.items():\n",
        "    for value in values:\n",
        "        final_df_imputed.loc[final_df_imputed[key] == values.index(value), key] = values[values.index(value)]\n",
        "        \n",
        "end_time = default_timer()\n",
        "\n",
        "print(\"The replacement operation took {}s\".format((end_time-start_time)/1000))"
      ],
      "execution_count": 160,
      "outputs": [
        {
          "output_type": "stream",
          "text": [
            "The replacement operation took 0.002341657330999624s\n"
          ],
          "name": "stdout"
        }
      ]
    },
    {
      "cell_type": "code",
      "metadata": {
        "id": "7sI0lH--J0RF",
        "colab_type": "code",
        "colab": {
          "base_uri": "https://localhost:8080/",
          "height": 553
        },
        "outputId": "b833a705-6133-4aa2-9a90-35a08ed06d64"
      },
      "source": [
        "final_df_imputed[nominal_categorical_encoding_manifest.keys()].head()"
      ],
      "execution_count": 161,
      "outputs": [
        {
          "output_type": "execute_result",
          "data": {
            "text/html": [
              "<div>\n",
              "<style scoped>\n",
              "    .dataframe tbody tr th:only-of-type {\n",
              "        vertical-align: middle;\n",
              "    }\n",
              "\n",
              "    .dataframe tbody tr th {\n",
              "        vertical-align: top;\n",
              "    }\n",
              "\n",
              "    .dataframe thead th {\n",
              "        text-align: right;\n",
              "    }\n",
              "</style>\n",
              "<table border=\"1\" class=\"dataframe\">\n",
              "  <thead>\n",
              "    <tr style=\"text-align: right;\">\n",
              "      <th></th>\n",
              "      <th>v3</th>\n",
              "      <th>ctryrgn</th>\n",
              "      <th>v91</th>\n",
              "      <th>lng_home</th>\n",
              "      <th>cnt_brth</th>\n",
              "      <th>lng_ci</th>\n",
              "      <th>v31</th>\n",
              "      <th>v96</th>\n",
              "      <th>isic1c</th>\n",
              "      <th>v92</th>\n",
              "      <th>v88</th>\n",
              "      <th>v140</th>\n",
              "      <th>v137</th>\n",
              "    </tr>\n",
              "  </thead>\n",
              "  <tbody>\n",
              "    <tr>\n",
              "      <th>0</th>\n",
              "      <td>An apprenticeship or other training scheme</td>\n",
              "      <td>North America and Western Europe</td>\n",
              "      <td>Only outside working hours</td>\n",
              "      <td>eng</td>\n",
              "      <td>Lithuania</td>\n",
              "      <td>eng</td>\n",
              "      <td>General programmes</td>\n",
              "      <td>Per year</td>\n",
              "      <td>M</td>\n",
              "      <td>Full-time employed (self-employed, employee)</td>\n",
              "      <td>Employed or self employed</td>\n",
              "      <td>The private sector (for example a company)</td>\n",
              "      <td>A seminar or workshop</td>\n",
              "    </tr>\n",
              "    <tr>\n",
              "      <th>1</th>\n",
              "      <td>An indefinite contract</td>\n",
              "      <td>North America and Western Europe</td>\n",
              "      <td>Only during working hours</td>\n",
              "      <td>eng</td>\n",
              "      <td>United Kingdom of Great Britain and Northern I...</td>\n",
              "      <td>eng</td>\n",
              "      <td>Engineering, manufacturing and construction</td>\n",
              "      <td>Per two weeks</td>\n",
              "      <td>C</td>\n",
              "      <td>Full-time employed (self-employed, employee)</td>\n",
              "      <td>Employed or self employed</td>\n",
              "      <td>The public sector (for example the local gover...</td>\n",
              "      <td>An organised session for on-the-job training o...</td>\n",
              "    </tr>\n",
              "    <tr>\n",
              "      <th>2</th>\n",
              "      <td>An indefinite contract</td>\n",
              "      <td>North America and Western Europe</td>\n",
              "      <td>Only outside working hours</td>\n",
              "      <td>eng</td>\n",
              "      <td>United Kingdom of Great Britain and Northern I...</td>\n",
              "      <td>eng</td>\n",
              "      <td>Social sciences, business and law</td>\n",
              "      <td>Per month</td>\n",
              "      <td>D</td>\n",
              "      <td>Full-time employed (self-employed, employee)</td>\n",
              "      <td>Employed or self employed</td>\n",
              "      <td>The private sector (for example a company)</td>\n",
              "      <td>An organised session for on-the-job training o...</td>\n",
              "    </tr>\n",
              "    <tr>\n",
              "      <th>3</th>\n",
              "      <td>An indefinite contract</td>\n",
              "      <td>North America and Western Europe</td>\n",
              "      <td>Only outside working hours</td>\n",
              "      <td>rus</td>\n",
              "      <td>Russian Federation</td>\n",
              "      <td>nor</td>\n",
              "      <td>Social sciences, business and law</td>\n",
              "      <td>Per month</td>\n",
              "      <td>N</td>\n",
              "      <td>Full-time employed (self-employed, employee)</td>\n",
              "      <td>Employed or self employed</td>\n",
              "      <td>The private sector (for example a company)</td>\n",
              "      <td>Other kind of course or private lesson</td>\n",
              "    </tr>\n",
              "    <tr>\n",
              "      <th>4</th>\n",
              "      <td>An apprenticeship or other training scheme</td>\n",
              "      <td>North America and Western Europe</td>\n",
              "      <td>Only during working hours</td>\n",
              "      <td>eng</td>\n",
              "      <td>Bangladesh</td>\n",
              "      <td>eng</td>\n",
              "      <td>Science, mathematics and computing</td>\n",
              "      <td>Per hour</td>\n",
              "      <td>G</td>\n",
              "      <td>Full-time employed (self-employed, employee)</td>\n",
              "      <td>Employed or self employed</td>\n",
              "      <td>The private sector (for example a company)</td>\n",
              "      <td>A seminar or workshop</td>\n",
              "    </tr>\n",
              "  </tbody>\n",
              "</table>\n",
              "</div>"
            ],
            "text/plain": [
              "                                           v3  ...                                               v137\n",
              "0  An apprenticeship or other training scheme  ...                              A seminar or workshop\n",
              "1                      An indefinite contract  ...  An organised session for on-the-job training o...\n",
              "2                      An indefinite contract  ...  An organised session for on-the-job training o...\n",
              "3                      An indefinite contract  ...             Other kind of course or private lesson\n",
              "4  An apprenticeship or other training scheme  ...                              A seminar or workshop\n",
              "\n",
              "[5 rows x 13 columns]"
            ]
          },
          "metadata": {
            "tags": []
          },
          "execution_count": 161
        }
      ]
    },
    {
      "cell_type": "markdown",
      "metadata": {
        "id": "14l__FRyLZfs",
        "colab_type": "text"
      },
      "source": [
        "# Test Bed"
      ]
    },
    {
      "cell_type": "code",
      "metadata": {
        "id": "qEg0yPNVX9lG",
        "colab_type": "code",
        "colab": {}
      },
      "source": [
        "# Using Dummies to OneHotEncoder, usable code snippet for dummies\n",
        "# dummy_na=True provides an extra column for the nan values, which are 1HE\n",
        "fakes = final_df_imputed.copy()\n",
        "\n",
        "for col in nominal_categorical_encoding_manifest.keys():\n",
        "    fakes = pd.concat([fakes, pd.get_dummies(fakes[col], prefix=col, dummy_na=False)],axis=1).drop([col],axis=1)"
      ],
      "execution_count": 0,
      "outputs": []
    },
    {
      "cell_type": "code",
      "metadata": {
        "id": "YHG2pHHBb9ff",
        "colab_type": "code",
        "colab": {}
      },
      "source": [
        "fakes.head()"
      ],
      "execution_count": 0,
      "outputs": []
    },
    {
      "cell_type": "code",
      "metadata": {
        "colab_type": "code",
        "id": "0x5H97z8VAA6",
        "colab": {}
      },
      "source": [
        "# mapping the values based on the ordinality mapping\n",
        "# some of these features, for some reason, are dataframes, so you have to convert them to series as an intermediary\n",
        "# and then do inplace replacement of the string values with the mapping.\n",
        "# the integere mapping here implies ordinality, where as the integer label encoding for the nominal features doesn't\n",
        "\n",
        "for mask, cat in ordinality_mapping:\n",
        "    if isinstance(mask, list):\n",
        "        for label in mask:\n",
        "            indiv_feat_mapping = {key: val for val, key in enumerate(cat)}\n",
        "            series = pd.Series(ordinal_df[label].values.ravel())\n",
        "            ordinal_df[label] = series.map(indiv_feat_mapping)\n",
        "\n",
        "    elif isinstance(mask, str):\n",
        "        indiv_feat_mapping = {key: val for val, key in enumerate(cat)}\n",
        "        series = pd.Series(ordinal_df[mask].values.ravel())\n",
        "        ordinal_df[mask] = series.map(indiv_feat_mapping)"
      ],
      "execution_count": 0,
      "outputs": []
    },
    {
      "cell_type": "markdown",
      "metadata": {
        "id": "um24MZGnJjqm",
        "colab_type": "text"
      },
      "source": [
        "## Feature Selection: Forward Selection\n",
        "\n",
        "We enter our feature selection step of the pipeline and we use an out of the box forward feature selection method from ML XTend to pick the features that result in the best predictive ability of our models. There are a number of different feature selection techniques that we could use (and we may explore that in the future), but for now, using a simple forward selection process is what we are going to stick with."
      ]
    },
    {
      "cell_type": "code",
      "metadata": {
        "id": "SiRZoYt-6wmh",
        "colab_type": "code",
        "colab": {}
      },
      "source": [
        "!pip install mlxtend"
      ],
      "execution_count": 0,
      "outputs": []
    },
    {
      "cell_type": "code",
      "metadata": {
        "id": "gbnKukKT66cQ",
        "colab_type": "code",
        "colab": {}
      },
      "source": [
        "from mlxtend.feature_selection import SequentialFeatureSelector as sfs\n",
        "from sklearn.ensemble import RandomForestClassifier\n",
        "from sklearn.model_selection import train_test_split\n",
        "\n",
        "\n",
        "# Train/test split\n",
        "X_train, X_test, y_train, y_test = train_test_split(\n",
        "    df.values[:,:-1],\n",
        "    df.values[:,-1:],\n",
        "    test_size=0.25,\n",
        "    random_state=42)\n",
        "\n",
        "y_train = y_train.ravel()\n",
        "y_test = y_test.ravel()\n",
        "\n",
        "\n",
        "# Build RF classifier to use in feature selection\n",
        "clf = RandomForestClassifier(n_estimators=100, n_jobs=-1)\n",
        "\n",
        "# Build step forward feature selection\n",
        "sfs1 = sfs(clf,\n",
        "           k_features=5,\n",
        "           forward=True,\n",
        "           floating=False,\n",
        "           verbose=2,\n",
        "           scoring='accuracy',\n",
        "           cv=5)\n",
        "\n",
        "# Perform SFFS\n",
        "sfs1 = sfs1.fit(X_train, y_train)"
      ],
      "execution_count": 0,
      "outputs": []
    },
    {
      "cell_type": "markdown",
      "metadata": {
        "id": "BX1-22kQqcyB",
        "colab_type": "text"
      },
      "source": [
        "# Dev Branch 1 - Data Visualization for EDA"
      ]
    },
    {
      "cell_type": "code",
      "metadata": {
        "id": "2dPcM7UuxkWK",
        "colab_type": "code",
        "colab": {}
      },
      "source": [
        "# Here, we plot the several categorical variables of interest against the job performance metric to visualize the distribution of job performance among the categories\n",
        "# Make the plots a little bigger\n",
        "sns.set(rc={'figure.figsize':(11.7,8.27)})\n",
        "\n",
        "feature_labels = [i for i in drop_null_missing_df.columns if i != \"job_performance\"]\n",
        "\n",
        "# create a FacetGrib object, on which to map your dataframe data onto\n",
        "g = sns.FacetGrid(drop_null_missing_df, col=\"cntryid\")\n",
        "\n",
        "# Using the FacetGrid.map() function, we will be able to visualize our data. \n",
        "# Provide the map() function with a mapping function and the name of the numeric class variable in your dataframe to plot against\n",
        "# each of your categorical variables\n",
        "g.map(plt.hist, \"job_performance\", alpha=0.7)\n",
        "g.add_legend()"
      ],
      "execution_count": 0,
      "outputs": []
    },
    {
      "cell_type": "code",
      "metadata": {
        "id": "ZlvfFNv6So1S",
        "colab_type": "code",
        "colab": {}
      },
      "source": [
        "# Distribution plots per categorical variable. Using A facetGrid object with the sns.distplot mapping\n",
        "# function works a little differently so you will have to specify a things like row_order\n",
        "categories_list = drop_null_missing_df.cntryid.value_counts().index\n",
        "\n",
        "g = sns.FacetGrid(drop_null_missing_df, row=\"cntryid\", row_order=categories_list,\n",
        "                  height=2.0, aspect=3,)\n",
        "g.map(sns.distplot, \"job_performance\", hist=True, rug=True);"
      ],
      "execution_count": 0,
      "outputs": []
    },
    {
      "cell_type": "code",
      "metadata": {
        "id": "v4VMMccVCdHX",
        "colab_type": "code",
        "colab": {}
      },
      "source": [
        "# groupby country id\n",
        "grouped = drop_null_missing_df.groupby(\"cntryid\").groups\n",
        "print(grouped)"
      ],
      "execution_count": 0,
      "outputs": []
    },
    {
      "cell_type": "code",
      "metadata": {
        "id": "6CO8samBPrJ9",
        "colab_type": "code",
        "colab": {}
      },
      "source": [
        "# Plot the facetgrid for every feature against the job_performance metric\n",
        "for feature in feature_labels:\n",
        "    cat_list = drop_null_missing_df[feature].value_counts().index\n",
        "    g = sns.FacetGrid(drop_null_missing_df, row=feature, row_order=cat_list,\n",
        "                      height=1.7, aspect=4)\n",
        "    g.map(sns.distplot, \"job_performance\", hist=True, rug=True);"
      ],
      "execution_count": 0,
      "outputs": []
    },
    {
      "cell_type": "markdown",
      "metadata": {
        "id": "O_sjwvIKpwbn",
        "colab_type": "text"
      },
      "source": [
        "# Dev Branch 1 - Handling Missing Values - Imputation Step\n",
        "\n",
        "When we pick an imputation strategy for the our data, we have to consider our data is numeric or non-numeric. We also have to consider whether the variable is nominally categorical or ordinally categorical to determine what type of transformative encoding scheme we can apply to those features.\n",
        "\n",
        "We also have to consider that the implications that one-hot encoding would have on our tabular dataset when we already have so many features."
      ]
    },
    {
      "cell_type": "markdown",
      "metadata": {
        "id": "rpmKCm-kGL1w",
        "colab_type": "text"
      },
      "source": [
        "## Imputation with a Strategy - EDA\n",
        "\n",
        "Before we even start imputng, we would want to visually understand the distribution and nature of our missing data.  For example, if the data has seasonality, it would make little sense to impute with a mean value, however - if the data are constant, it may a good idea to impute the missing data value with the mean or median value."
      ]
    },
    {
      "cell_type": "code",
      "metadata": {
        "id": "kYJag0GyFEhW",
        "colab_type": "code",
        "colab": {}
      },
      "source": [
        "# Plot the missing data features\n",
        "\n",
        "missing_val_features = [feature for feature in df if df[feature].isnull().sum() != 0]\n",
        "\n",
        "print(\"There are {} features with missing values\".format(len(missing_val_features)))\n",
        "\n",
        "for i in missing_val_features:\n",
        "    print(\"### {} ###\".format(i))\n",
        "    print(df[i].value_counts())\n",
        "    print(\"\\n\")"
      ],
      "execution_count": 0,
      "outputs": []
    },
    {
      "cell_type": "code",
      "metadata": {
        "id": "LO-VRi-hUgab",
        "colab_type": "code",
        "colab": {}
      },
      "source": [
        "# each element in df.dtypes is the datatype of that feature\n",
        "print(df[missing_val_features].dtypes[:10]) # i is the string of datatypes"
      ],
      "execution_count": 0,
      "outputs": []
    },
    {
      "cell_type": "code",
      "metadata": {
        "id": "96-NzVzrO_Oi",
        "colab_type": "code",
        "colab": {}
      },
      "source": [
        "# have a look at the distribution of the missing values in the features that were dropped containing\n",
        "# missing values\n",
        "\n",
        "# for feature in missing_val_features:\n",
        "#     if df[feature].dtype == \"object\":\n",
        "#         fig = plt.figure(1, figsize=(8, 14), frameon=False, dpi=100)\n",
        "#         g = sns.FacetGrid(df, col=feature)\n",
        "#         g.map(plt.hist, \"job_performance\", alpha=0.7)"
      ],
      "execution_count": 0,
      "outputs": []
    },
    {
      "cell_type": "markdown",
      "metadata": {
        "id": "ZKKHKBn3vo6F",
        "colab_type": "text"
      },
      "source": [
        "## Univariate Crosstab Analysis\n",
        "\n",
        "From what we can see, a portion of our data are categorical variables and it will be important to visually explore and visualize using cross tabulation, which is available from the pandas API."
      ]
    },
    {
      "cell_type": "markdown",
      "metadata": {
        "id": "ZLK_6SQQyArr",
        "colab_type": "text"
      },
      "source": [
        "### Cross Tab Frequency Plots of Features that were dropped due to missing values"
      ]
    },
    {
      "cell_type": "code",
      "metadata": {
        "id": "E0uHYdP5vlcw",
        "colab_type": "code",
        "colab": {}
      },
      "source": [
        "# # create a cross tabulation for each categorical feature and then plot it\n",
        "# # These are frequency plots of each of the values that are categorical\n",
        "# # these plots include the features that were dro\n",
        "\n",
        "# for feature in missing_val_features:\n",
        "#     if df[feature].dtype == \"object\":\n",
        "#         tabulation = pd.crosstab(index=df[feature], columns=\"count\")\n",
        "#         tabulation.plot.bar(color=\"green\")"
      ],
      "execution_count": 0,
      "outputs": []
    },
    {
      "cell_type": "markdown",
      "metadata": {
        "id": "Ol9ldL7ZyHVM",
        "colab_type": "text"
      },
      "source": [
        "### Cross tab frequency plots of categorical features that did not contain any missing values"
      ]
    },
    {
      "cell_type": "code",
      "metadata": {
        "id": "GSLNED39yG9K",
        "colab_type": "code",
        "colab": {}
      },
      "source": [
        "# for feature in feature_labels:\n",
        "#     if drop_null_missing_df[feature].dtype == \"object\":\n",
        "#         tabulation = pd.crosstab(index=drop_null_missing_df[feature], columns=\"count\")\n",
        "#         tabulation.plot.bar(color=\"purple\")"
      ],
      "execution_count": 0,
      "outputs": []
    },
    {
      "cell_type": "markdown",
      "metadata": {
        "id": "D5bVhtyp1bOW",
        "colab_type": "text"
      },
      "source": [
        "## Bivarate Analysis using Box Plots"
      ]
    },
    {
      "cell_type": "code",
      "metadata": {
        "id": "LBN6aCyO1kWP",
        "colab_type": "code",
        "colab": {}
      },
      "source": [
        "# sns.set(style=\"whitegrid\")\n",
        "\n",
        "# for feature in feature_labels:\n",
        "#     if drop_null_missing_df[feature].dtype == \"object\":\n",
        "#         g = sns.catplot(x=feature, \n",
        "#                     y=\"job_performance\", \n",
        "#                     data=drop_null_missing_df,\n",
        "#                     palette=\"Set2\",\n",
        "#                    kind=\"box\")\n",
        "#         g.set_xticklabels(rotation=90)"
      ],
      "execution_count": 0,
      "outputs": []
    },
    {
      "cell_type": "markdown",
      "metadata": {
        "id": "buUHOd-mmcBO",
        "colab_type": "text"
      },
      "source": [
        "# Dev Branch 1 - Pre-Processing: Encoding Categorical Variables\n",
        "\n",
        "For simplicity sake, we go with a one hot encoding scheme for our variables, knowing full well that this will lead to a very sparse datset. We will try and not think too hard about this at this time."
      ]
    },
    {
      "cell_type": "code",
      "metadata": {
        "id": "e0-9CVkcnFQ7",
        "colab_type": "code",
        "colab": {}
      },
      "source": [
        "features_df = drop_null_missing_df.loc[:, drop_null_missing_df.columns != 'job_performance'] # print(pd.get_dummies(data))\n",
        "\n",
        "# Separate out the features from the class\n",
        "dummy_features = pd.get_dummies(drop_null_missing_df.loc[:, drop_null_missing_df.columns != 'job_performance'])\n",
        "X = dummy_features.values\n",
        "y = drop_null_missing_df.loc[:, \"job_performance\"].values\n",
        "\n",
        "dummy_features = pd.get_dummies(drop_null_missing_df.loc[:, drop_null_missing_df.columns != 'job_performance'])\n",
        "dummy_features[\"job_performance\"] = y\n",
        "\n",
        "print(\"Shape of features dataframe before dummification: {}\".format(features_df.shape))\n",
        "print(\"Shape of features dataframe after dummification: {}\".format(dummy_features.shape))\n",
        "print(\"The dataframe has increase {0:.1f}x in feature size after dummification\".format(dummy_features.shape[1]/features_df.shape[1]))"
      ],
      "execution_count": 0,
      "outputs": []
    },
    {
      "cell_type": "code",
      "metadata": {
        "id": "r_7DeDfdx6lB",
        "colab_type": "code",
        "colab": {}
      },
      "source": [
        "# we also need to reset the index\n",
        "dummy_features = dummy_features.reset_index()\n",
        "dummy_features = dummy_features.iloc[:, 2:]"
      ],
      "execution_count": 0,
      "outputs": []
    },
    {
      "cell_type": "markdown",
      "metadata": {
        "id": "P5sUalIx6kBx",
        "colab_type": "text"
      },
      "source": [
        "Indeed, we are working with a much more sparse dataset after we have assigned dummy variables to the categorical features"
      ]
    },
    {
      "cell_type": "code",
      "metadata": {
        "id": "rwcHh42w6rYD",
        "colab_type": "code",
        "colab": {}
      },
      "source": [
        "# Due to the sheer volume of encodings for these listed columns, we will keep these as typed\n",
        "# as integers as opposed to the nominal nature of the their encoding\n",
        "\n",
        "iscolc_columns = [\"isco1c\", \"isco2c\", \"isco1l\", \"isco2l\"]\n",
        "for col in iscolc_columns:\n",
        "    print(f\"#### {i} ###\")\n",
        "    print(drop_null_missing_df[col].value_counts()) #remember, value_counts() is a method\n",
        "    print(\"\\n\")"
      ],
      "execution_count": 0,
      "outputs": []
    },
    {
      "cell_type": "markdown",
      "metadata": {
        "id": "1ThimKJveRr3",
        "colab_type": "text"
      },
      "source": [
        " Multiple Correspondence Analysis with the mca package\n",
        " \n",
        " tetrachoric correlation matrix"
      ]
    },
    {
      "cell_type": "markdown",
      "metadata": {
        "id": "wVWlxUBCp4CH",
        "colab_type": "text"
      },
      "source": [
        "# Separate the Features from the Class Variable"
      ]
    },
    {
      "cell_type": "markdown",
      "metadata": {
        "id": "hvaQzvVdwFf7",
        "colab_type": "text"
      },
      "source": [
        "## Subsetting the dataset\n",
        "We are randomly sampling the dataset for  subset that data so that we can  train much faster."
      ]
    },
    {
      "cell_type": "code",
      "metadata": {
        "id": "GgM1ZnKNwEgB",
        "colab_type": "code",
        "colab": {}
      },
      "source": [
        "subdf = df.sample(n=int(0.6*df.shape[0]), random_state=123)\n",
        "subdf.head(2)"
      ],
      "execution_count": 0,
      "outputs": []
    },
    {
      "cell_type": "markdown",
      "metadata": {
        "id": "nWi977G3nTQs",
        "colab_type": "text"
      },
      "source": [
        "## Non-scaled data partitioning"
      ]
    },
    {
      "cell_type": "code",
      "metadata": {
        "id": "8QQul_MRo-Qn",
        "colab_type": "code",
        "colab": {}
      },
      "source": [
        "from sklearn.model_selection import train_test_split\n",
        "\n",
        "# split into training and testing sets\n",
        "X_train, X_test, y_train, y_test = train_test_split(X,y,test_size=0.30,random_state=42)"
      ],
      "execution_count": 0,
      "outputs": []
    },
    {
      "cell_type": "markdown",
      "metadata": {
        "id": "5H6or-lC9uM2",
        "colab_type": "text"
      },
      "source": [
        "## Standardizing and Normalizing our data\n",
        "\n",
        "Some of the models we use are sensitive to scaling and perform better with it. Some do not require it."
      ]
    },
    {
      "cell_type": "code",
      "metadata": {
        "id": "um-sYGcA9thZ",
        "colab_type": "code",
        "colab": {}
      },
      "source": [
        "from sklearn.preprocessing import StandardScaler\n",
        "\n",
        "scaler = StandardScaler(copy=True, with_mean=True, with_std=True)\n",
        "scaled_X = scaler.fit_transform(X)\n",
        "scaled_y = scaler.fit_transform(y.reshape(-1,1))\n",
        "\n",
        "# split into training and testing sets\n",
        "X_train_scaled, X_test_scaled, y_train_scaled, y_test_scaled = train_test_split(\n",
        "                                                    scaled_X,\n",
        "                                                    y,\n",
        "                                                    test_size=0.30,\n",
        "                                                    random_state=42\n",
        "                                                   )"
      ],
      "execution_count": 0,
      "outputs": []
    },
    {
      "cell_type": "markdown",
      "metadata": {
        "id": "kofMoVAHcmPm",
        "colab_type": "text"
      },
      "source": [
        "# Dev Branch 1a - Create Null Models\n",
        "\n",
        "In this block, we will create our null models to build upon. We will be using SVR, Linear Regression, MLPs and simple neural networks to start off."
      ]
    },
    {
      "cell_type": "markdown",
      "metadata": {
        "id": "W3GuRO7GLst-",
        "colab_type": "text"
      },
      "source": [
        "## Dev Branch 1a -  Simple Linear Regression"
      ]
    },
    {
      "cell_type": "code",
      "metadata": {
        "id": "tyf23iwzclap",
        "colab_type": "code",
        "colab": {}
      },
      "source": [
        "# Simple Linear Model\n",
        "\n",
        "from sklearn.linear_model import LinearRegression\n",
        "\n",
        "# normalization of your features is not advised here because it makes it hard to interpret \n",
        "# the coefficients and they don't normalize well.\n",
        "\n",
        "lm = LinearRegression(fit_intercept=True, normalize=True, copy_X=True, n_jobs=None)\n",
        "lm.fit(X_train, y_train)\n",
        "\n",
        "print(\"Linear Model Score: {}\\n\".format(lm.score(X_train, y_train)))\n",
        "print(\"Linear Model Coefficient:\\n {}\\n\".format(lm.coef_[:10]))\n",
        "print(\"Linear Model Intercept: {}\\n\".format(lm.intercept_ ))\n",
        "y_pred = lm.predict(X_test)"
      ],
      "execution_count": 0,
      "outputs": []
    },
    {
      "cell_type": "code",
      "metadata": {
        "id": "Y7iZFhFgFiqN",
        "colab_type": "code",
        "colab": {}
      },
      "source": [
        "inverse_y_pred = scaler.inverse_transform(y_pred)\n",
        "print(\"Inverse transform of mse pred\\n{}\\n\".format(inverse_y_pred))"
      ],
      "execution_count": 0,
      "outputs": []
    },
    {
      "cell_type": "markdown",
      "metadata": {
        "id": "m47JngTwrH3h",
        "colab_type": "text"
      },
      "source": [
        "## Conclusion\n",
        "Surprisingly, a high dimensional linear model predicting job performance scores, with default parameters,  returns a relatively high coefficient of determination R2 of 0.33490222049791485, wrt to the number of features."
      ]
    },
    {
      "cell_type": "markdown",
      "metadata": {
        "id": "Wzd0EbhRPZ0e",
        "colab_type": "text"
      },
      "source": [
        "## Dev Branch 1a - Support Vector Regression"
      ]
    },
    {
      "cell_type": "code",
      "metadata": {
        "id": "NBiFcxr_PX1w",
        "colab_type": "code",
        "colab": {}
      },
      "source": [
        "# Support Vector Machine for Regression\n",
        "from sklearn.svm import SVR\n",
        "import timeit\n",
        "\n",
        "svr = SVR(kernel=\"rbf\", degree=3, gamma=\"auto_deprecated\", coef0=0.0, tol=0.001, \n",
        "          C=1.0, epsilon=0.1, shrinking=True, cache_size=200, verbose=False, \n",
        "          max_iter=-1)\n",
        "\n",
        "# Using the normalized inputs\n",
        "start_time = timeit.default_timer()\n",
        "y_pred = svr.fit(X_train_scaled, y_train)\n",
        "end_time = timeit.default_timer()\n",
        "print(\"Run time: {}\".format(end_time - start_time))\n",
        "\n",
        "print(\"SVR Model Score: {}\\n\".format(svr.score(X_train_scaled, y_train)))\n",
        "print(\"SVR Model Params:\\n {}\\n\".format(svr.get_params))\n",
        "y_pred = svr.predict(X_test_scaled)\n",
        "print(\"y_pred: \\n{}\".format(y_pred))\n",
        "print()"
      ],
      "execution_count": 0,
      "outputs": []
    },
    {
      "cell_type": "markdown",
      "metadata": {
        "id": "dYLGKWRBqfLQ",
        "colab_type": "text"
      },
      "source": [
        "## Conclusion\n",
        "As we can expect from this high dimensional data modelling, we get a terrible R^2 coefficient of determination of the prediction error of 0.09891703260752771"
      ]
    },
    {
      "cell_type": "markdown",
      "metadata": {
        "id": "LDqlyEnnYaje",
        "colab_type": "text"
      },
      "source": [
        "## Dev Branch 1a - Support Vector Regression with Different kernels"
      ]
    },
    {
      "cell_type": "code",
      "metadata": {
        "id": "Gq-Ay9CeYXbG",
        "colab_type": "code",
        "colab": {}
      },
      "source": [
        "svr_rbf = SVR(kernel='rbf', C=100, gamma=0.1, epsilon=.1)\n",
        "svr_lin = SVR(kernel='linear', C=100, gamma='auto')\n",
        "svr_poly = SVR(kernel='poly', C=100, gamma='auto', degree=3, epsilon=.1,\n",
        "               coef0=1)\n",
        "\n",
        "lw = 2\n",
        "\n",
        "svrs = [svr_rbf, svr_lin, svr_poly]\n",
        "kernel_label = ['RBF', 'Linear', 'Polynomial']\n",
        "model_color = ['m', 'c', 'g']"
      ],
      "execution_count": 0,
      "outputs": []
    },
    {
      "cell_type": "code",
      "metadata": {
        "id": "aQVc93oEvdNO",
        "colab_type": "code",
        "colab": {}
      },
      "source": [
        "y_train_scaled"
      ],
      "execution_count": 0,
      "outputs": []
    },
    {
      "cell_type": "code",
      "metadata": {
        "id": "32_XEagzYlSj",
        "colab_type": "code",
        "colab": {}
      },
      "source": [
        "# plot the results\n",
        "# ig, axes = plt.subplots(nrows=1, ncols=3, figsize=(15, 10), sharey=True)\n",
        "# for ix, svr in enumerate(svrs):\n",
        "#     axes[ix].plot(X_train_scaled, svr.fit(X_train_scaled, y_train_scaled).predict(X_test_scaled), color=model_color[ix], lw=lw,\n",
        "#                   label='{} model'.format(kernel_label[ix]))\n",
        "#     axes[ix].scatter(X_train_scaled[svr.support_], \n",
        "#                      y_train_scaled[svr.support_], \n",
        "#                      facecolor=\"none\", \n",
        "#                      edgecolor=model_color[ix], \n",
        "#                      s=50, \n",
        "#                      label='{} support vectors'.format(kernel_label[ix]))\n",
        "#     axes[ix].scatter(X_train_scaled[np.setdiff1d(np.arange(len(X_train_scaled)), svr.support_)], \n",
        "#                      y_train_scaled[np.setdiff1d(np.arange(len(X_train_scaled)), svr.support_)],\n",
        "#                      facecolor=\"none\", \n",
        "#                      edgecolor=\"k\", s=50,\n",
        "#                      label='other training data')\n",
        "#     axes[ix].legend(loc='upper center', bbox_to_anchor=(0.5, 1.1),\n",
        "#                     ncol=1, fancybox=True, shadow=True)\n",
        "\n",
        "# fig.text(0.5, 0.04, 'data', ha='center', va='center')\n",
        "# fig.text(0.06, 0.5, 'target', ha='center', va='center', rotation='vertical')\n",
        "# fig.suptitle(\"Support Vector Regression\", fontsize=14)\n",
        "# plt.show()"
      ],
      "execution_count": 0,
      "outputs": []
    },
    {
      "cell_type": "markdown",
      "metadata": {
        "colab_type": "text",
        "id": "uovtpBXaxkgm"
      },
      "source": [
        "# 1b - Using Feature Extraction and Factor Analysis\n",
        "\n",
        "We run multiple null models, after having reduced the number of dimensions and exploring the components of maximum variance from our data.\n",
        "\n",
        "Assumptions for Factor Analysis\n",
        "\n",
        "Assumptions:\n",
        "\n",
        "1. There are no outliers in data.\n",
        "2. Sample size should be greater than the factor.\n",
        "3. There should not be perfect multicollinearity.\n",
        "4. There should not be homoscedasticity between the variables.\n",
        "\n",
        "\n",
        "Types of Factor Analysis\n",
        "\n",
        "* Exploratory Factor Analysis: It is the most popular factor analysis approach among social and management researchers. Its basic assumption is that any observed variable is directly associated with any factor.\n",
        "\n",
        "* Confirmatory Factor Analysis (CFA): Its basic assumption is that each factor is associated with a particular set of observed variables. CFA confirms what is expected on the basic.\n"
      ]
    },
    {
      "cell_type": "markdown",
      "metadata": {
        "colab_type": "text",
        "id": "LQm04n3Kxkgu"
      },
      "source": [
        "## Dev Branch 1b - Simple Linear Regression"
      ]
    },
    {
      "cell_type": "code",
      "metadata": {
        "colab_type": "code",
        "id": "LZsUYhkdxkgx",
        "colab": {}
      },
      "source": [
        "# Simple Linear Model\n",
        "\n",
        "from sklearn.linear_model import LinearRegression\n",
        "\n",
        "# normalization of your features is not advised here because it makes it hard to interpret \n",
        "# the coefficients and they don't normalize well.\n",
        "\n",
        "lm = LinearRegression(fit_intercept=True, normalize=True, copy_X=True, n_jobs=None)\n",
        "lm.fit(X_train, y_train)\n",
        "\n",
        "print(\"Linear Model Score: {}\\n\".format(lm.score(X_train, y_train)))\n",
        "print(\"Linear Model Coefficient:\\n {}\\n\".format(lm.coef_))\n",
        "print(\"Linear Model Intercept: {}\\n\".format(lm.intercept_ ))\n",
        "y_pred = lm.predict(X_test)"
      ],
      "execution_count": 0,
      "outputs": []
    },
    {
      "cell_type": "markdown",
      "metadata": {
        "colab_type": "text",
        "id": "GJUmAHCBxkg_"
      },
      "source": [
        "## Plot SLR model performance"
      ]
    },
    {
      "cell_type": "code",
      "metadata": {
        "colab_type": "code",
        "id": "95QecFkUxkhB",
        "colab": {}
      },
      "source": [
        "# plt.scatter(X_train, y_train)\n",
        "# plt.plot(np.sort(X_test, axis=0),y_pred)\n",
        "# plt.show()"
      ],
      "execution_count": 0,
      "outputs": []
    },
    {
      "cell_type": "markdown",
      "metadata": {
        "colab_type": "text",
        "id": "J85swW5txkhH"
      },
      "source": [
        "## Dev Branch 1b -  Support Vector Regression"
      ]
    },
    {
      "cell_type": "code",
      "metadata": {
        "colab_type": "code",
        "id": "xM-HcU6hxkhI",
        "colab": {}
      },
      "source": [
        "# Support Vector Machine for Regression\n",
        "from sklearn.svm import SVR\n",
        "import timeit\n",
        "\n",
        "svr = SVR(kernel=\"rbf\", degree=3, gamma=\"auto_deprecated\", coef0=0.0, tol=0.001, \n",
        "          C=1.0, epsilon=0.1, shrinking=True, cache_size=200, verbose=False, \n",
        "          max_iter=-1)\n",
        "\n",
        "# X_train_scaled\n",
        "start_time = timeit.default_timer()\n",
        "y_pred = svr.fit(X_train, y_train)\n",
        "end_time = timeit.default_timer()\n",
        "print(\"Run time: {}\".format(end_time - start_time))\n",
        "\n",
        "print(\"SVR Model Score: {}\\n\".format(svr.score(X_train, y_train)))\n",
        "print(\"SVR Model Params:\\n {}\\n\".format(svr.get_params))\n",
        "y_pred = svr.predict(X_test)\n",
        "print(\"y_pred: \\n{}\".format(y_pred))"
      ],
      "execution_count": 0,
      "outputs": []
    },
    {
      "cell_type": "markdown",
      "metadata": {
        "colab_type": "text",
        "id": "V8Uc1rc6xkhR"
      },
      "source": [
        "## Plot SVR model performance"
      ]
    },
    {
      "cell_type": "code",
      "metadata": {
        "colab_type": "code",
        "id": "Dmq7b6t6xkhS",
        "colab": {}
      },
      "source": [
        "fig = plt.figure()\n",
        "plt.show()"
      ],
      "execution_count": 0,
      "outputs": []
    },
    {
      "cell_type": "code",
      "metadata": {
        "id": "JLZf-3Z2RlZ8",
        "colab_type": "code",
        "colab": {}
      },
      "source": [
        "# !pip install tpot"
      ],
      "execution_count": 0,
      "outputs": []
    },
    {
      "cell_type": "markdown",
      "metadata": {
        "colab_type": "text",
        "id": "1G9C7IiCxkhY"
      },
      "source": [
        "## Dev Branch 1b -TPOT Model Performance"
      ]
    },
    {
      "cell_type": "markdown",
      "metadata": {
        "id": "JdLlrOs5V0TN",
        "colab_type": "text"
      },
      "source": [
        "Teapot does hyperparameter tuning, model selection and preprocessing all in one pipeline. It takes a while to train the say the least. We will select the best parameter from training on the null dataset (without any feature engineering) to see if we can get a functioning model from this exercise"
      ]
    },
    {
      "cell_type": "code",
      "metadata": {
        "id": "FjhIijPNXEnN",
        "colab_type": "code",
        "colab": {}
      },
      "source": [
        "import timeit\n",
        "from tpot import TPOTClassifier\n",
        "from sklearn.metrics import (\n",
        "    confusion_matrix,\n",
        "    roc_auc_score,\n",
        "    precision_recall_fscore_support,\n",
        "    accuracy_score,\n",
        ")\n",
        "from pprint import pprint\n",
        "\n",
        "\n",
        "tpot = TPOTClassifier(generations=5, population_size=50, verbosity=2, n_jobs=-1)\n",
        "\n",
        "prec_rec_fsc_sup = [\"precision\", \"recall\", \"fscore\", \"support\"]\n",
        "\n",
        "start_time = timeit.default_timer()\n",
        "tpot.fit(X_train, y_train)\n",
        "y_pred = tpot.predict(X_test)\n",
        "end_time = timeit.default_timer()\n",
        "runtime = end_time - start_time\n",
        "print(f\"Total runtime for the {name} dataset: {runtime}s\")\n",
        "\n",
        "\n",
        "print(\"\\nConfusion Matrix for the {} dataset\\n{}\\n\".format(confusion_matrix(name, y_test, y_pred)))\n",
        "\n",
        "print(\"Precision/Recall/FScore/Support for the {} dataset\".format(name))\n",
        "for met, val in zip(prec_rec_fsc_sup, precision_recall_fscore_support(y_test, y_pred)):\n",
        "    pprint(\"{}: {}\".format(met, val))\n",
        "\n",
        "print(\"Accuracy score for the {} dataset: {}\".format(name, accuracy_score(y_test, y_pred)))"
      ],
      "execution_count": 0,
      "outputs": []
    },
    {
      "cell_type": "markdown",
      "metadata": {
        "id": "BTfWeQOiXSSB",
        "colab_type": "text"
      },
      "source": [
        "\n",
        "# Best Performing Models\n",
        "1. LinearSVC\n",
        "Best pipeline: LinearSVC(PolynomialFeatures(input_matrix, degree=2, include_bias=False, interaction_only=False), C=20.0, dual=False, loss=squared_hinge, penalty=l2, tol=0.1)\n",
        "Total runtime: 45.1908969899996s\n",
        "Average Accuracy Score: 0.9666666666666667\n",
        "Best Accuracy Score: 0.9825757575757577\n",
        "\n",
        "2. \n",
        "\n",
        "# Wine Dataset\n",
        "1. GradientBoostingClassifier\n",
        "Best pipeline: GradientBoostingClassifier(input_matrix, learning_rate=0.5, max_depth=3, max_features=0.1, min_samples_leaf=1, min_samples_split=4, n_estimators=100, subsample=0.6500000000000001)\n",
        "Total runtime: 63.685036884999136s\n",
        "Average Accuracy Score: 0.9722222222222222\n",
        "Best Accuracy Score: 0.9928571428571429\n"
      ]
    },
    {
      "cell_type": "markdown",
      "metadata": {
        "id": "sQjp7HwPRlqa",
        "colab_type": "text"
      },
      "source": [
        "# Hyperparameter Tuning\n",
        "\n",
        "After a while, you start getting an intuition of which hyperparameters are more important than others."
      ]
    },
    {
      "cell_type": "code",
      "metadata": {
        "id": "o9-TvxlyRgNJ",
        "colab_type": "code",
        "colab": {}
      },
      "source": [
        "grid search, beam search, bayesian optimization, random search"
      ],
      "execution_count": 0,
      "outputs": []
    },
    {
      "cell_type": "markdown",
      "metadata": {
        "id": "a_lhLXO3ODHS",
        "colab_type": "text"
      },
      "source": [
        "The most successful people are the most effective communicators of results and your visualizations, and why your work matters and what you found"
      ]
    },
    {
      "cell_type": "markdown",
      "metadata": {
        "id": "mQ45fXy-SkH7",
        "colab_type": "text"
      },
      "source": [
        "# Things to do for next week\n",
        "\n",
        "combine all the models into a single classifier\n",
        "weighted stacking of models\n",
        "you can learn this weighting through meta weighting\n",
        "\n",
        "boosting is usually based on weak sequential classifiers\n",
        "this deals with hard edge cases with weak classifiers\n",
        "\n",
        "learn about about whether your model is over fitting\n",
        "to plot, save the RMSE, for each model, and then plot them on a line chart\n",
        "per epoch to see how the different models faired in terms of the number of \n",
        "accuracy vs epochs\n",
        "\n",
        "Also useful for plotting the effects of differnt settings fo different hyperparameters on performance using parallel coordinates\n",
        "\n",
        "experiment managers, such as Sacred, build your own tools for your own experiments. \n",
        "\n",
        "keep iterating model development\n",
        "\n",
        "Finally, think about how do you deploy this model.\n",
        "Deploy this with client facing user input through an app.\n",
        "\n",
        "How do you display this projec tot someone and make it look nice. \n",
        "\n",
        "Simple interface so that they can get predictions for the model. Think about the context , what the model does. \n",
        "Existing tools exist. Think about simple servers, where a user will serve a request, run the model, and then serve the prediction. Just in the http request. You don't even have an interface, you can just have a simple API\n",
        "\n",
        "read about how models get deployed at inference time. Look at AWS EC2 and lambda. How do you deal with data. do you persist those user requests, and things like.\n",
        "Read into flask.\n",
        "\n",
        "set up a siimple server that can handle requests. How to launch an ec2 (hosting servers) instqance and how to store data in an s3 bucket. Dynamo for databases. Lambda for inference that is adaptable.\n",
        "\n",
        "GCP, AWS. server.\n",
        "\n",
        "Think about presentation."
      ]
    }
  ]
}