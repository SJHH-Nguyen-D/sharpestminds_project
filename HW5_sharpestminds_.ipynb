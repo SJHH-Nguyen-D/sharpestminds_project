{
  "nbformat": 4,
  "nbformat_minor": 0,
  "metadata": {
    "colab": {
      "name": "HW5_sharpestminds_.ipynb",
      "version": "0.3.2",
      "provenance": [],
      "collapsed_sections": []
    },
    "kernelspec": {
      "name": "python3",
      "display_name": "Python 3"
    },
    "accelerator": "TPU"
  },
  "cells": [
    {
      "cell_type": "markdown",
      "metadata": {
        "id": "RcWib3nKlYsz",
        "colab_type": "text"
      },
      "source": [
        "# Employee Performance Data Modelling and Prediction"
      ]
    },
    {
      "cell_type": "markdown",
      "metadata": {
        "id": "LLYxlS0_b0Ur",
        "colab_type": "text"
      },
      "source": [
        "## About\n",
        "We try to predict employee performance scores based 300+ employee demographic characteristics. The dataset in question was acquired as part of a homework assignment and comprises of 20,000 employees and 379 employee characteristics, 1 target variable (employee performance score).\n",
        "\n",
        "This note book details the loading, preprocessing, sampling, feature selection, modeling and write up of the pipeline."
      ]
    },
    {
      "cell_type": "markdown",
      "metadata": {
        "id": "oV4K3c0-X3_Y",
        "colab_type": "text"
      },
      "source": [
        "Setting up the notebook settings"
      ]
    },
    {
      "cell_type": "code",
      "metadata": {
        "id": "tGO5nOCvWoqD",
        "colab_type": "code",
        "outputId": "dab63017-0ae2-4069-fdfa-288f491eafb8",
        "colab": {
          "base_uri": "https://localhost:8080/",
          "height": 399
        }
      },
      "source": [
        "!--NotebookApp.iopub_data_rate_limit=1e11"
      ],
      "execution_count": 1,
      "outputs": [
        {
          "output_type": "stream",
          "text": [
            "/bin/bash: --: invalid option\n",
            "Usage:\t/bin/bash [GNU long option] [option] ...\n",
            "\t/bin/bash [GNU long option] [option] script-file ...\n",
            "GNU long options:\n",
            "\t--debug\n",
            "\t--debugger\n",
            "\t--dump-po-strings\n",
            "\t--dump-strings\n",
            "\t--help\n",
            "\t--init-file\n",
            "\t--login\n",
            "\t--noediting\n",
            "\t--noprofile\n",
            "\t--norc\n",
            "\t--posix\n",
            "\t--rcfile\n",
            "\t--restricted\n",
            "\t--verbose\n",
            "\t--version\n",
            "Shell options:\n",
            "\t-ilrsD or -c command or -O shopt_option\t\t(invocation only)\n",
            "\t-abefhkmnptuvxBCHP or -o option\n"
          ],
          "name": "stdout"
        }
      ]
    },
    {
      "cell_type": "code",
      "metadata": {
        "id": "Ky7WF9AuBvkv",
        "colab_type": "code",
        "colab": {}
      },
      "source": [
        "import warnings\n",
        "warnings.filterwarnings('ignore') "
      ],
      "execution_count": 0,
      "outputs": []
    },
    {
      "cell_type": "markdown",
      "metadata": {
        "id": "8AW_r0tMklda",
        "colab_type": "text"
      },
      "source": [
        "# Project Flow Overview\n",
        "\n",
        "1. Load Data\n",
        "2. Cursory Description of Data\n",
        "3. EDA\n",
        "4. Feature Selection/ Extraction\n",
        "5. Modelling\n",
        "6. Prediction\n",
        "7. Optimization\n",
        "8. Modelling\n",
        "9. End Point\n",
        "10. Conclusion and Discussion"
      ]
    },
    {
      "cell_type": "markdown",
      "metadata": {
        "id": "FZdh_qvRlDW0",
        "colab_type": "text"
      },
      "source": [
        "# 1. Load Data"
      ]
    },
    {
      "cell_type": "code",
      "metadata": {
        "id": "N9aXoJbOJdwo",
        "colab_type": "code",
        "outputId": "1251a507-8b53-4def-90cb-70c4146296ad",
        "colab": {
          "base_uri": "https://localhost:8080/",
          "height": 34
        }
      },
      "source": [
        "# Run this cell to mount your Google Drive.\n",
        "from google.colab import drive\n",
        "drive.mount('/content/drive/')"
      ],
      "execution_count": 3,
      "outputs": [
        {
          "output_type": "stream",
          "text": [
            "Drive already mounted at /content/drive/; to attempt to forcibly remount, call drive.mount(\"/content/drive/\", force_remount=True).\n"
          ],
          "name": "stdout"
        }
      ]
    },
    {
      "cell_type": "code",
      "metadata": {
        "id": "kp1Y4_ViMIGt",
        "colab_type": "code",
        "colab": {}
      },
      "source": [
        "# get colmumn names for main dataset with key from other dataset\n",
        "import pandas as pd\n",
        "pd.set_option('display.max_rows', 500)\n",
        "pd.options.display.max_seq_items = 2000\n",
        "import numpy as np\n",
        "\n",
        "col_names = pd.read_csv(\"/content/drive/My Drive/sharpestminds_dataset/CodeBook-SELECT.csv\")\n",
        "col_names = col_names.loc[:, \"VarName\"].values"
      ],
      "execution_count": 0,
      "outputs": []
    },
    {
      "cell_type": "code",
      "metadata": {
        "id": "r-aic2XAMYZ4",
        "colab_type": "code",
        "outputId": "b12cea68-d349-44b9-c694-c45138754640",
        "colab": {
          "base_uri": "https://localhost:8080/",
          "height": 933
        }
      },
      "source": [
        "# load in the actual dataset\n",
        "df = pd.read_csv(\"/content/drive/My Drive/sharpestminds_dataset/hw5-trainingset-cl3770.csv\", header=\"infer\")\n",
        "df.head()"
      ],
      "execution_count": 5,
      "outputs": [
        {
          "output_type": "execute_result",
          "data": {
            "text/html": [
              "<div>\n",
              "<style scoped>\n",
              "    .dataframe tbody tr th:only-of-type {\n",
              "        vertical-align: middle;\n",
              "    }\n",
              "\n",
              "    .dataframe tbody tr th {\n",
              "        vertical-align: top;\n",
              "    }\n",
              "\n",
              "    .dataframe thead th {\n",
              "        text-align: right;\n",
              "    }\n",
              "</style>\n",
              "<table border=\"1\" class=\"dataframe\">\n",
              "  <thead>\n",
              "    <tr style=\"text-align: right;\">\n",
              "      <th></th>\n",
              "      <th>cntryid</th>\n",
              "      <th>cntryid_e</th>\n",
              "      <th>age_r</th>\n",
              "      <th>gender_r</th>\n",
              "      <th>computerexperience</th>\n",
              "      <th>nativespeaker</th>\n",
              "      <th>edlevel3</th>\n",
              "      <th>monthlyincpr</th>\n",
              "      <th>yearlyincpr</th>\n",
              "      <th>lng_home</th>\n",
              "      <th>cnt_h</th>\n",
              "      <th>cnt_brth</th>\n",
              "      <th>reg_tl2</th>\n",
              "      <th>lng_bq</th>\n",
              "      <th>lng_ci</th>\n",
              "      <th>yrsqual</th>\n",
              "      <th>yrsqual_t</th>\n",
              "      <th>yrsget</th>\n",
              "      <th>vet</th>\n",
              "      <th>ctryqual</th>\n",
              "      <th>birthrgn</th>\n",
              "      <th>nativelang</th>\n",
              "      <th>ctryrgn</th>\n",
              "      <th>imyrs</th>\n",
              "      <th>imyrs_c</th>\n",
              "      <th>imyrcat</th>\n",
              "      <th>ageg5lfs</th>\n",
              "      <th>ageg10lfs</th>\n",
              "      <th>ageg10lfs_t</th>\n",
              "      <th>edcat8</th>\n",
              "      <th>edcat7</th>\n",
              "      <th>edcat6</th>\n",
              "      <th>leaver1624</th>\n",
              "      <th>leavedu</th>\n",
              "      <th>fe12</th>\n",
              "      <th>aetpop</th>\n",
              "      <th>faet12</th>\n",
              "      <th>faet12jr</th>\n",
              "      <th>faet12njr</th>\n",
              "      <th>nfe12</th>\n",
              "      <th>...</th>\n",
              "      <th>v253</th>\n",
              "      <th>v132</th>\n",
              "      <th>v284</th>\n",
              "      <th>v267</th>\n",
              "      <th>v260</th>\n",
              "      <th>v26</th>\n",
              "      <th>v171</th>\n",
              "      <th>v14</th>\n",
              "      <th>v7</th>\n",
              "      <th>v240</th>\n",
              "      <th>v186</th>\n",
              "      <th>v162</th>\n",
              "      <th>v149</th>\n",
              "      <th>v228</th>\n",
              "      <th>v28</th>\n",
              "      <th>v237</th>\n",
              "      <th>v280</th>\n",
              "      <th>v175</th>\n",
              "      <th>v288</th>\n",
              "      <th>v15</th>\n",
              "      <th>v208</th>\n",
              "      <th>v43</th>\n",
              "      <th>v27</th>\n",
              "      <th>v114</th>\n",
              "      <th>v191</th>\n",
              "      <th>v170</th>\n",
              "      <th>v65</th>\n",
              "      <th>v57</th>\n",
              "      <th>v177</th>\n",
              "      <th>v69</th>\n",
              "      <th>v85</th>\n",
              "      <th>v50</th>\n",
              "      <th>v89</th>\n",
              "      <th>v127</th>\n",
              "      <th>v239</th>\n",
              "      <th>v224</th>\n",
              "      <th>v71</th>\n",
              "      <th>v105</th>\n",
              "      <th>row</th>\n",
              "      <th>uni</th>\n",
              "    </tr>\n",
              "  </thead>\n",
              "  <tbody>\n",
              "    <tr>\n",
              "      <th>0</th>\n",
              "      <td>Canada</td>\n",
              "      <td>Canada (English)</td>\n",
              "      <td>NaN</td>\n",
              "      <td>Female</td>\n",
              "      <td>Yes</td>\n",
              "      <td>Yes</td>\n",
              "      <td>Medium</td>\n",
              "      <td>50 to less than 75</td>\n",
              "      <td>50 to less than 75</td>\n",
              "      <td>999</td>\n",
              "      <td>NaN</td>\n",
              "      <td>NaN</td>\n",
              "      <td>99999</td>\n",
              "      <td>eng</td>\n",
              "      <td>eng</td>\n",
              "      <td>12.0</td>\n",
              "      <td>12.0</td>\n",
              "      <td>14.0</td>\n",
              "      <td>False</td>\n",
              "      <td>NaN</td>\n",
              "      <td>NaN</td>\n",
              "      <td>Test language same as native language</td>\n",
              "      <td>North America and Western Europe</td>\n",
              "      <td>NaN</td>\n",
              "      <td>NaN</td>\n",
              "      <td>Non-immigrants</td>\n",
              "      <td>Aged 25-29</td>\n",
              "      <td>25-34</td>\n",
              "      <td>25-34</td>\n",
              "      <td>NaN</td>\n",
              "      <td>Upper secondary (ISCED 3A-B, C long)</td>\n",
              "      <td>Upper secondary (ISCED 3A-B, C long)</td>\n",
              "      <td>NaN</td>\n",
              "      <td>NaN</td>\n",
              "      <td>Participated in FE</td>\n",
              "      <td>AET population</td>\n",
              "      <td>Participated in formal AET</td>\n",
              "      <td>Participated in formal AET for JR reasons</td>\n",
              "      <td>Did not participate in FE for NJR reasons</td>\n",
              "      <td>Did not participate in NFE</td>\n",
              "      <td>...</td>\n",
              "      <td>Never</td>\n",
              "      <td>Every day</td>\n",
              "      <td>At least once a week</td>\n",
              "      <td>Never</td>\n",
              "      <td>At least once a week but not every day</td>\n",
              "      <td>At least once a week</td>\n",
              "      <td>At least once a week but not every day</td>\n",
              "      <td>At least once a week but not every day</td>\n",
              "      <td>At least once a week but not every day</td>\n",
              "      <td>At least once a week but not every day</td>\n",
              "      <td>Never</td>\n",
              "      <td>Never</td>\n",
              "      <td>Less than once a week but at least once a month</td>\n",
              "      <td>NaN</td>\n",
              "      <td>Yes</td>\n",
              "      <td>Every day</td>\n",
              "      <td>Every day</td>\n",
              "      <td>At least once a week but not every day</td>\n",
              "      <td>Never</td>\n",
              "      <td>Less than once a week but at least once a month</td>\n",
              "      <td>Never</td>\n",
              "      <td>Never</td>\n",
              "      <td>To a high extent</td>\n",
              "      <td>To a very high extent</td>\n",
              "      <td>To a high extent</td>\n",
              "      <td>To some extent</td>\n",
              "      <td>To a high extent</td>\n",
              "      <td>To a very high extent</td>\n",
              "      <td>Never</td>\n",
              "      <td>Disagree</td>\n",
              "      <td>Neither agree nor disagree</td>\n",
              "      <td>Agree</td>\n",
              "      <td>NaN</td>\n",
              "      <td>NaN</td>\n",
              "      <td>9999.0</td>\n",
              "      <td>9996.0</td>\n",
              "      <td>9999</td>\n",
              "      <td>9999.0</td>\n",
              "      <td>80219</td>\n",
              "      <td>cl3770</td>\n",
              "    </tr>\n",
              "    <tr>\n",
              "      <th>1</th>\n",
              "      <td>United Kingdom</td>\n",
              "      <td>England (UK)</td>\n",
              "      <td>60.0</td>\n",
              "      <td>Male</td>\n",
              "      <td>Yes</td>\n",
              "      <td>Yes</td>\n",
              "      <td>High</td>\n",
              "      <td>75 to less than 90</td>\n",
              "      <td>75 to less than 90</td>\n",
              "      <td>eng</td>\n",
              "      <td>NaN</td>\n",
              "      <td>United Kingdom of Great Britain and Northern I...</td>\n",
              "      <td>UKJ</td>\n",
              "      <td>eng</td>\n",
              "      <td>eng</td>\n",
              "      <td>15.0</td>\n",
              "      <td>15.0</td>\n",
              "      <td>NaN</td>\n",
              "      <td>NaN</td>\n",
              "      <td>NaN</td>\n",
              "      <td>North America and Western Europe</td>\n",
              "      <td>Test language same as native language</td>\n",
              "      <td>North America and Western Europe</td>\n",
              "      <td>NaN</td>\n",
              "      <td>NaN</td>\n",
              "      <td>Non-immigrants</td>\n",
              "      <td>Aged 60-65</td>\n",
              "      <td>55 plus</td>\n",
              "      <td>55 plus</td>\n",
              "      <td>Tertiary – professional degree (ISCED 5B)</td>\n",
              "      <td>Tertiary – professional degree (ISCED 5B)</td>\n",
              "      <td>Tertiary – professional degree (ISCED 5B)</td>\n",
              "      <td>NaN</td>\n",
              "      <td>21.0</td>\n",
              "      <td>Did not participate in FE</td>\n",
              "      <td>AET population</td>\n",
              "      <td>Did not participate in formal AET</td>\n",
              "      <td>Did not participate in formal AET for JR reasons</td>\n",
              "      <td>Did not participate in FE for NJR reasons</td>\n",
              "      <td>Participated in NFE</td>\n",
              "      <td>...</td>\n",
              "      <td>At least once a week</td>\n",
              "      <td>Every day</td>\n",
              "      <td>At least once a week</td>\n",
              "      <td>At least once a week but not every day</td>\n",
              "      <td>Less than once a month</td>\n",
              "      <td>Rarely</td>\n",
              "      <td>At least once a week but not every day</td>\n",
              "      <td>Less than once a month</td>\n",
              "      <td>Every day</td>\n",
              "      <td>Every day</td>\n",
              "      <td>Less than once a week but at least once a month</td>\n",
              "      <td>Less than once a month</td>\n",
              "      <td>Less than once a week but at least once a month</td>\n",
              "      <td>NaN</td>\n",
              "      <td>Yes</td>\n",
              "      <td>Every day</td>\n",
              "      <td>Every day</td>\n",
              "      <td>At least once a week but not every day</td>\n",
              "      <td>At least once a week but not every day</td>\n",
              "      <td>At least once a week but not every day</td>\n",
              "      <td>Less than once a month</td>\n",
              "      <td>Less than once a month</td>\n",
              "      <td>To a high extent</td>\n",
              "      <td>To a high extent</td>\n",
              "      <td>To a high extent</td>\n",
              "      <td>To a high extent</td>\n",
              "      <td>To a high extent</td>\n",
              "      <td>To a very high extent</td>\n",
              "      <td>Never</td>\n",
              "      <td>Agree</td>\n",
              "      <td>Strongly agree</td>\n",
              "      <td>Agree</td>\n",
              "      <td>NaN</td>\n",
              "      <td>NaN</td>\n",
              "      <td>3118.0</td>\n",
              "      <td>9996.0</td>\n",
              "      <td>2520</td>\n",
              "      <td>9996.0</td>\n",
              "      <td>44314</td>\n",
              "      <td>cl3770</td>\n",
              "    </tr>\n",
              "    <tr>\n",
              "      <th>2</th>\n",
              "      <td>United Kingdom</td>\n",
              "      <td>England (UK)</td>\n",
              "      <td>31.0</td>\n",
              "      <td>Male</td>\n",
              "      <td>Yes</td>\n",
              "      <td>Yes</td>\n",
              "      <td>High</td>\n",
              "      <td>75 to less than 90</td>\n",
              "      <td>75 to less than 90</td>\n",
              "      <td>eng</td>\n",
              "      <td>NaN</td>\n",
              "      <td>United Kingdom of Great Britain and Northern I...</td>\n",
              "      <td>UKI</td>\n",
              "      <td>eng</td>\n",
              "      <td>eng</td>\n",
              "      <td>16.0</td>\n",
              "      <td>16.0</td>\n",
              "      <td>NaN</td>\n",
              "      <td>NaN</td>\n",
              "      <td>NaN</td>\n",
              "      <td>North America and Western Europe</td>\n",
              "      <td>Test language same as native language</td>\n",
              "      <td>North America and Western Europe</td>\n",
              "      <td>NaN</td>\n",
              "      <td>NaN</td>\n",
              "      <td>Non-immigrants</td>\n",
              "      <td>Aged 30-34</td>\n",
              "      <td>25-34</td>\n",
              "      <td>25-34</td>\n",
              "      <td>Tertiary - bachelor/master/research degree (IS...</td>\n",
              "      <td>Tertiary - bachelor/master/research degree (IS...</td>\n",
              "      <td>Tertiary - bachelor/master/research degree (IS...</td>\n",
              "      <td>NaN</td>\n",
              "      <td>NaN</td>\n",
              "      <td>Participated in FE</td>\n",
              "      <td>AET population</td>\n",
              "      <td>Participated in formal AET</td>\n",
              "      <td>Participated in formal AET for JR reasons</td>\n",
              "      <td>Did not participate in FE for NJR reasons</td>\n",
              "      <td>Participated in NFE</td>\n",
              "      <td>...</td>\n",
              "      <td>At least once a week</td>\n",
              "      <td>Less than once a week but at least once a month</td>\n",
              "      <td>Less than once a week but at least once a month</td>\n",
              "      <td>Less than once a month</td>\n",
              "      <td>Less than once a month</td>\n",
              "      <td>Rarely</td>\n",
              "      <td>Less than once a month</td>\n",
              "      <td>At least once a week but not every day</td>\n",
              "      <td>At least once a week but not every day</td>\n",
              "      <td>At least once a week but not every day</td>\n",
              "      <td>Never</td>\n",
              "      <td>Less than once a month</td>\n",
              "      <td>At least once a week but not every day</td>\n",
              "      <td>NaN</td>\n",
              "      <td>Yes</td>\n",
              "      <td>At least once a week but not every day</td>\n",
              "      <td>At least once a week but not every day</td>\n",
              "      <td>Less than once a week but at least once a month</td>\n",
              "      <td>At least once a week but not every day</td>\n",
              "      <td>Less than once a week but at least once a month</td>\n",
              "      <td>Never</td>\n",
              "      <td>Never</td>\n",
              "      <td>To some extent</td>\n",
              "      <td>To a high extent</td>\n",
              "      <td>To a high extent</td>\n",
              "      <td>To a very high extent</td>\n",
              "      <td>To a very high extent</td>\n",
              "      <td>To a very high extent</td>\n",
              "      <td>Less than once a month</td>\n",
              "      <td>Disagree</td>\n",
              "      <td>Strongly agree</td>\n",
              "      <td>Agree</td>\n",
              "      <td>NaN</td>\n",
              "      <td>NaN</td>\n",
              "      <td>2421.0</td>\n",
              "      <td>9996.0</td>\n",
              "      <td>3510</td>\n",
              "      <td>9996.0</td>\n",
              "      <td>91755</td>\n",
              "      <td>cl3770</td>\n",
              "    </tr>\n",
              "    <tr>\n",
              "      <th>3</th>\n",
              "      <td>Norway</td>\n",
              "      <td>Norway</td>\n",
              "      <td>33.0</td>\n",
              "      <td>Female</td>\n",
              "      <td>Yes</td>\n",
              "      <td>No</td>\n",
              "      <td>High</td>\n",
              "      <td>25 to less than 50</td>\n",
              "      <td>25 to less than 50</td>\n",
              "      <td>rus</td>\n",
              "      <td>NaN</td>\n",
              "      <td>NaN</td>\n",
              "      <td>99999</td>\n",
              "      <td>eng</td>\n",
              "      <td>nor</td>\n",
              "      <td>18.0</td>\n",
              "      <td>18.0</td>\n",
              "      <td>NaN</td>\n",
              "      <td>NaN</td>\n",
              "      <td>North America and Western Europe</td>\n",
              "      <td>Central Asia</td>\n",
              "      <td>Test language not same as native language</td>\n",
              "      <td>North America and Western Europe</td>\n",
              "      <td>3.0</td>\n",
              "      <td>0-5 years</td>\n",
              "      <td>In host country 5 or fewer years</td>\n",
              "      <td>Aged 30-34</td>\n",
              "      <td>25-34</td>\n",
              "      <td>25-34</td>\n",
              "      <td>Tertiary – master degree (ISCED 5A)</td>\n",
              "      <td>Tertiary – master/research degree (ISCED 5A/6)</td>\n",
              "      <td>Tertiary – master/research degree (ISCED 5A/6)</td>\n",
              "      <td>NaN</td>\n",
              "      <td>31.0</td>\n",
              "      <td>Did not participate in FE</td>\n",
              "      <td>AET population</td>\n",
              "      <td>Did not participate in formal AET</td>\n",
              "      <td>Did not participate in formal AET for JR reasons</td>\n",
              "      <td>Did not participate in FE for NJR reasons</td>\n",
              "      <td>Participated in NFE</td>\n",
              "      <td>...</td>\n",
              "      <td>At least once a week</td>\n",
              "      <td>Every day</td>\n",
              "      <td>At least once a week</td>\n",
              "      <td>At least once a week but not every day</td>\n",
              "      <td>At least once a week but not every day</td>\n",
              "      <td>At least once a week</td>\n",
              "      <td>At least once a week but not every day</td>\n",
              "      <td>At least once a week but not every day</td>\n",
              "      <td>At least once a week but not every day</td>\n",
              "      <td>Every day</td>\n",
              "      <td>Never</td>\n",
              "      <td>Less than once a month</td>\n",
              "      <td>At least once a week but not every day</td>\n",
              "      <td>NaN</td>\n",
              "      <td>Yes</td>\n",
              "      <td>Every day</td>\n",
              "      <td>Every day</td>\n",
              "      <td>Every day</td>\n",
              "      <td>Less than once a week but at least once a month</td>\n",
              "      <td>At least once a week but not every day</td>\n",
              "      <td>Less than once a month</td>\n",
              "      <td>At least once a week but not every day</td>\n",
              "      <td>To some extent</td>\n",
              "      <td>To a high extent</td>\n",
              "      <td>To some extent</td>\n",
              "      <td>To some extent</td>\n",
              "      <td>To some extent</td>\n",
              "      <td>To a high extent</td>\n",
              "      <td>Less than once a month</td>\n",
              "      <td>Neither agree nor disagree</td>\n",
              "      <td>Disagree</td>\n",
              "      <td>Agree</td>\n",
              "      <td>NaN</td>\n",
              "      <td>NaN</td>\n",
              "      <td>334.0</td>\n",
              "      <td>9996.0</td>\n",
              "      <td>82</td>\n",
              "      <td>9996.0</td>\n",
              "      <td>188729</td>\n",
              "      <td>cl3770</td>\n",
              "    </tr>\n",
              "    <tr>\n",
              "      <th>4</th>\n",
              "      <td>United States</td>\n",
              "      <td>United States</td>\n",
              "      <td>NaN</td>\n",
              "      <td>Male</td>\n",
              "      <td>Yes</td>\n",
              "      <td>No</td>\n",
              "      <td>Medium</td>\n",
              "      <td>10 to less than 25</td>\n",
              "      <td>10 to less than 25</td>\n",
              "      <td>999</td>\n",
              "      <td>NaN</td>\n",
              "      <td>NaN</td>\n",
              "      <td>NaN</td>\n",
              "      <td>eng</td>\n",
              "      <td>eng</td>\n",
              "      <td>12.0</td>\n",
              "      <td>12.0</td>\n",
              "      <td>12.0</td>\n",
              "      <td>False</td>\n",
              "      <td>NaN</td>\n",
              "      <td>NaN</td>\n",
              "      <td>Test language not same as native language</td>\n",
              "      <td>North America and Western Europe</td>\n",
              "      <td>NaN</td>\n",
              "      <td>11-15 years</td>\n",
              "      <td>In host country more than 5 years</td>\n",
              "      <td>Aged 20-24</td>\n",
              "      <td>24 or less</td>\n",
              "      <td>24 or less</td>\n",
              "      <td>Upper secondary (ISCED 3A-B, C long)</td>\n",
              "      <td>Upper secondary (ISCED 3A-B, C long)</td>\n",
              "      <td>Upper secondary (ISCED 3A-B, C long)</td>\n",
              "      <td>Completed ISCED 3 or is still in education, ag...</td>\n",
              "      <td>NaN</td>\n",
              "      <td>Participated in FE</td>\n",
              "      <td>Excluded from AET population</td>\n",
              "      <td>NaN</td>\n",
              "      <td>NaN</td>\n",
              "      <td>NaN</td>\n",
              "      <td>Did not participate in NFE</td>\n",
              "      <td>...</td>\n",
              "      <td>At least once a week</td>\n",
              "      <td>At least once a week but not every day</td>\n",
              "      <td>At least once a week</td>\n",
              "      <td>At least once a week but not every day</td>\n",
              "      <td>Less than once a week but at least once a month</td>\n",
              "      <td>Less than once a week but at least once a month</td>\n",
              "      <td>Less than once a week but at least once a month</td>\n",
              "      <td>Every day</td>\n",
              "      <td>At least once a week but not every day</td>\n",
              "      <td>Less than once a week but at least once a month</td>\n",
              "      <td>Never</td>\n",
              "      <td>Never</td>\n",
              "      <td>At least once a week but not every day</td>\n",
              "      <td>NaN</td>\n",
              "      <td>Yes</td>\n",
              "      <td>At least once a week but not every day</td>\n",
              "      <td>At least once a week but not every day</td>\n",
              "      <td>Never</td>\n",
              "      <td>At least once a week but not every day</td>\n",
              "      <td>At least once a week but not every day</td>\n",
              "      <td>Never</td>\n",
              "      <td>Never</td>\n",
              "      <td>To a very high extent</td>\n",
              "      <td>To a high extent</td>\n",
              "      <td>To a high extent</td>\n",
              "      <td>To a very high extent</td>\n",
              "      <td>To a very high extent</td>\n",
              "      <td>To a very high extent</td>\n",
              "      <td>Never</td>\n",
              "      <td>Strongly disagree</td>\n",
              "      <td>Strongly agree</td>\n",
              "      <td>Strongly agree</td>\n",
              "      <td>NaN</td>\n",
              "      <td>NaN</td>\n",
              "      <td>9999.0</td>\n",
              "      <td>9996.0</td>\n",
              "      <td>9999</td>\n",
              "      <td>9996.0</td>\n",
              "      <td>38262</td>\n",
              "      <td>cl3770</td>\n",
              "    </tr>\n",
              "  </tbody>\n",
              "</table>\n",
              "<p>5 rows × 380 columns</p>\n",
              "</div>"
            ],
            "text/plain": [
              "          cntryid         cntryid_e  age_r  ...    v105     row     uni\n",
              "0          Canada  Canada (English)    NaN  ...  9999.0   80219  cl3770\n",
              "1  United Kingdom      England (UK)   60.0  ...  9996.0   44314  cl3770\n",
              "2  United Kingdom      England (UK)   31.0  ...  9996.0   91755  cl3770\n",
              "3          Norway            Norway   33.0  ...  9996.0  188729  cl3770\n",
              "4   United States     United States    NaN  ...  9996.0   38262  cl3770\n",
              "\n",
              "[5 rows x 380 columns]"
            ]
          },
          "metadata": {
            "tags": []
          },
          "execution_count": 5
        }
      ]
    },
    {
      "cell_type": "markdown",
      "metadata": {
        "id": "Dmvh5FescYh3",
        "colab_type": "text"
      },
      "source": [
        "### The dataset is a 93Mb csv file"
      ]
    },
    {
      "cell_type": "code",
      "metadata": {
        "id": "xyIvEzFWcORw",
        "colab_type": "code",
        "outputId": "e6bd603e-cdd1-49b9-a83c-8cb64ecaa0a8",
        "colab": {
          "base_uri": "https://localhost:8080/",
          "height": 34
        }
      },
      "source": [
        "!du -hs \"/content/drive/My Drive/sharpestminds_dataset/hw5-trainingset-cl3770.csv\""
      ],
      "execution_count": 6,
      "outputs": [
        {
          "output_type": "stream",
          "text": [
            "93M\t/content/drive/My Drive/sharpestminds_dataset/hw5-trainingset-cl3770.csv\n"
          ],
          "name": "stdout"
        }
      ]
    },
    {
      "cell_type": "code",
      "metadata": {
        "id": "jVhwlVnWciux",
        "colab_type": "code",
        "outputId": "39f755cf-b751-426a-9e49-2b881fd4e38f",
        "colab": {
          "base_uri": "https://localhost:8080/",
          "height": 330
        }
      },
      "source": [
        "# we have a lot of data here\n",
        "print(\"{} features, {} observations\".format(df.shape[1], df.shape[0]))\n",
        "\n",
        "# we also have a lot of non-numeric data as well\n",
        "print(df.info())\n",
        "\n",
        "print(df.describe())"
      ],
      "execution_count": 7,
      "outputs": [
        {
          "output_type": "stream",
          "text": [
            "380 features, 20000 observations\n",
            "<class 'pandas.core.frame.DataFrame'>\n",
            "RangeIndex: 20000 entries, 0 to 19999\n",
            "Columns: 380 entries, cntryid to uni\n",
            "dtypes: float64(80), int64(5), object(295)\n",
            "memory usage: 58.0+ MB\n",
            "None\n",
            "              age_r       yrsqual  ...          v105            row\n",
            "count  12118.000000  17417.000000  ...  19979.000000   20000.000000\n",
            "mean      39.339412     14.573549  ...   9833.138696   96825.751700\n",
            "std       11.004673      2.703482  ...   1009.110938   57590.955791\n",
            "min       16.000000      5.000000  ...     31.000000      98.000000\n",
            "25%       31.000000     12.000000  ...   9996.000000   46369.000000\n",
            "50%       38.000000     15.000000  ...   9996.000000   94729.000000\n",
            "75%       48.000000     16.000000  ...   9996.000000  147668.500000\n",
            "max       65.000000     22.000000  ...   9999.000000  197786.000000\n",
            "\n",
            "[8 rows x 85 columns]\n"
          ],
          "name": "stdout"
        }
      ]
    },
    {
      "cell_type": "code",
      "metadata": {
        "id": "fFmy5JVRiIiF",
        "colab_type": "code",
        "outputId": "912fd573-50d8-428c-ac4e-80ecd4dec351",
        "colab": {
          "base_uri": "https://localhost:8080/",
          "height": 1000
        }
      },
      "source": [
        "# country based features\n",
        "country_features = ['ctryrgn', 'ctryqual', 'birthrgn', 'reg_tl2', 'cntryid_e', 'cntryid']\n"
      ],
      "execution_count": 8,
      "outputs": [
        {
          "output_type": "stream",
          "text": [
            "@@@ ctryrgn @@@\n",
            "North America and Western Europe                13208\n",
            "Central and Eastern Europe                       3268\n",
            "East Asia and the Pacific (richer countries)     3036\n",
            "Latin America and the Caribbean                   344\n",
            "Name: ctryrgn, dtype: int64\n",
            "Number of unique values: 5\n",
            "\n",
            "\n",
            "@@@ ctryqual @@@\n",
            "North America and Western Europe                5236\n",
            "East Asia and the Pacific (richer countries)    3122\n",
            "Central and Eastern Europe                      2078\n",
            "East Asia and the Pacific (poorer countries)      16\n",
            "Latin America and the Caribbean                   10\n",
            "South and West Asia                                6\n",
            "Sub-Saharan Africa                                 3\n",
            "Arab States                                        2\n",
            "Central Asia                                       1\n",
            "Name: ctryqual, dtype: int64\n",
            "Number of unique values: 10\n",
            "\n",
            "\n",
            "@@@ birthrgn @@@\n",
            "North America and Western Europe                5439\n",
            "Central and Eastern Europe                      3324\n",
            "East Asia and the Pacific (richer countries)    3072\n",
            "Latin America and the Caribbean                  409\n",
            "East Asia and the Pacific (poorer countries)      85\n",
            "Arab States                                       60\n",
            "South and West Asia                               59\n",
            "Sub-Saharan Africa                                53\n",
            "Central Asia                                      16\n",
            "Name: birthrgn, dtype: int64\n",
            "Number of unique values: 10\n",
            "\n",
            "\n",
            "@@@ reg_tl2 @@@\n",
            "99999    5160\n",
            "JPC       629\n",
            "KR01      628\n",
            "JPF       224\n",
            "JPG       214\n",
            "NL3       206\n",
            "FR10      205\n",
            "UKJ       204\n",
            "ES30      197\n",
            "KR02      183\n",
            "JPD       172\n",
            "UKI       169\n",
            "CL13      168\n",
            "PL12      162\n",
            "UKD       161\n",
            "SG00      156\n",
            "UKH       154\n",
            "KR05      143\n",
            "BE2       143\n",
            "FR71      133\n",
            "JPH       126\n",
            "ES61      124\n",
            "JPJ       121\n",
            "ES51      119\n",
            "JPE       117\n",
            "RU01      115\n",
            "UKK       115\n",
            "NZ01      112\n",
            "RU74      110\n",
            "RU28      108\n",
            "KR03      101\n",
            "UKG       100\n",
            "UKF       100\n",
            "GR3        95\n",
            "IE02       93\n",
            "CZ06       91\n",
            "KR04       87\n",
            "NL4        87\n",
            "FR61       87\n",
            "PL22       87\n",
            "RU37       82\n",
            "PL51       80\n",
            "UKE        79\n",
            "NL2        78\n",
            "RU58       77\n",
            "ES52       76\n",
            "PL21       75\n",
            "RU40       73\n",
            "FR82       72\n",
            "RU56       71\n",
            "RU45       68\n",
            "FR62       68\n",
            "RU64       66\n",
            "FR24       66\n",
            "FR30       65\n",
            "FR51       64\n",
            "GR1        63\n",
            "JPB        61\n",
            "CZ01       60\n",
            "ES41       59\n",
            "IL04       58\n",
            "SK03       58\n",
            "RU39       56\n",
            "DK01       55\n",
            "RU41       55\n",
            "RU22       55\n",
            "ES11       52\n",
            "CZ03       50\n",
            "CL05       50\n",
            "FR22       49\n",
            "RU67       49\n",
            "SK02       49\n",
            "ES21       48\n",
            "SE11       48\n",
            "UKC        47\n",
            "SK04       46\n",
            "PL32       44\n",
            "RU50       44\n",
            "FR52       44\n",
            "RU65       44\n",
            "FR41       43\n",
            "PL41       43\n",
            "PL63       43\n",
            "EE00       43\n",
            "PL11       42\n",
            "PL31       42\n",
            "CZ08       42\n",
            "CZ07       41\n",
            "UKN        40\n",
            "SI02       40\n",
            "NL1        40\n",
            "CZ02       40\n",
            "FR81       38\n",
            "CZ05       37\n",
            "ES42       37\n",
            "CL08       36\n",
            "DK04       35\n",
            "PL61       33\n",
            "NZ02       32\n",
            "FR25       32\n",
            "SE23       32\n",
            "GR2        32\n",
            "RU15       31\n",
            "PL33       31\n",
            "SK01       31\n",
            "FR42       31\n",
            "IL05       30\n",
            "JPA        30\n",
            "ES53       29\n",
            "CL14       29\n",
            "RU19       29\n",
            "CZ04       28\n",
            "FR26       28\n",
            "ES12       28\n",
            "ES62       28\n",
            "ES13       27\n",
            "SI01       27\n",
            "IL06       25\n",
            "DK03       24\n",
            "CL01       24\n",
            "KR06       23\n",
            "RU08       23\n",
            "SE12       22\n",
            "FR72       21\n",
            "SE22       21\n",
            "FR23       21\n",
            "FR21       21\n",
            "IL02       20\n",
            "PL52       20\n",
            "IL03       20\n",
            "PL42       19\n",
            "RU27       19\n",
            "IE01       19\n",
            "ES70       19\n",
            "ES24       19\n",
            "PL34       19\n",
            "GR4        18\n",
            "RU16       18\n",
            "JPI        17\n",
            "LT09       17\n",
            "IL01       17\n",
            "ES22       16\n",
            "FR43       14\n",
            "PL62       14\n",
            "PL43       14\n",
            "FR53       12\n",
            "DK02       12\n",
            "CL07       11\n",
            "RU44       10\n",
            "SE21       10\n",
            "FR83        9\n",
            "LT07        9\n",
            "LT08        9\n",
            "CL06        8\n",
            "DK05        8\n",
            "LT03        8\n",
            "CL09        8\n",
            "LT02        8\n",
            "IL07        8\n",
            "CL02        8\n",
            "ES43        7\n",
            "RU54        7\n",
            "FR63        7\n",
            "SE31        7\n",
            "LT04        6\n",
            "LT10        5\n",
            "SE33        5\n",
            "LT06        4\n",
            "ES23        4\n",
            "KR07        4\n",
            "SE32        3\n",
            "LT05        2\n",
            "CL10        2\n",
            "ES63        2\n",
            "LT01        2\n",
            "Name: reg_tl2, dtype: int64\n",
            "Number of unique values: 176\n",
            "\n",
            "\n",
            "@@@ cntryid_e @@@\n",
            "United States            4061\n",
            "Germany                  2061\n",
            "Japan                    1711\n",
            "Russian Federation       1210\n",
            "Korea                    1169\n",
            "France                   1130\n",
            "England (UK)             1129\n",
            "Canada (English)         1079\n",
            "Spain                     891\n",
            "Italy                     806\n",
            "Poland                    768\n",
            "Turkey                    537\n",
            "Netherlands               411\n",
            "Czech Republic            389\n",
            "Chile                     344\n",
            "Greece                    208\n",
            "Finland                   207\n",
            "Canada (French)           194\n",
            "Austria                   186\n",
            "Slovak Republic           184\n",
            "Israel                    178\n",
            "Singapore                 156\n",
            "Sweden                    148\n",
            "New Zealand               144\n",
            "Flanders (Belgium)        143\n",
            "Denmark                   134\n",
            "Ireland                   112\n",
            "Norway                     89\n",
            "Lithuania                  70\n",
            "Slovenia                   67\n",
            "Estonia                    43\n",
            "Northern Ireland (UK)      40\n",
            "Name: cntryid_e, dtype: int64\n",
            "Number of unique values: 33\n",
            "\n",
            "\n",
            "@@@ cntryid @@@\n",
            "United States         4061\n",
            "Germany               2061\n",
            "Japan                 1711\n",
            "Canada                1274\n",
            "Russian Federation    1210\n",
            "Korea                 1169\n",
            "United Kingdom        1169\n",
            "France                1130\n",
            "Spain                  891\n",
            "Italy                  806\n",
            "Poland                 768\n",
            "Turkey                 537\n",
            "Netherlands            411\n",
            "Czech Republic         389\n",
            "Chile                  344\n",
            "Greece                 208\n",
            "Finland                207\n",
            "Austria                186\n",
            "Slovak Republic        184\n",
            "Israel                 178\n",
            "Singapore              156\n",
            "Sweden                 148\n",
            "New Zealand            144\n",
            "Belgium                143\n",
            "Denmark                134\n",
            "Ireland                112\n",
            "Norway                  89\n",
            "Lithuania               70\n",
            "Slovenia                67\n",
            "Estonia                 43\n",
            "Name: cntryid, dtype: int64\n",
            "Number of unique values: 30\n",
            "\n",
            "\n"
          ],
          "name": "stdout"
        }
      ]
    },
    {
      "cell_type": "markdown",
      "metadata": {
        "id": "c99SaK94lqzu",
        "colab_type": "text"
      },
      "source": [
        "# 3. EDA - Missing Values"
      ]
    },
    {
      "cell_type": "markdown",
      "metadata": {
        "id": "tbBmc5nQ4kYu",
        "colab_type": "text"
      },
      "source": [
        "### We print out the the counts of observations with missing values in this dataset"
      ]
    },
    {
      "cell_type": "code",
      "metadata": {
        "id": "5Eqs2evmNAQN",
        "colab_type": "code",
        "colab": {
          "base_uri": "https://localhost:8080/",
          "height": 469
        },
        "outputId": "fc3f8498-bb35-4b3c-cd51-131a8149c7c2"
      },
      "source": [
        "import seaborn as sns\n",
        "import matplotlib.pyplot as plt\n",
        "%matplotlib inline\n",
        "\n",
        "# There are a lot of missing values in this dataset\n",
        "print(df.isnull().sum().sort_values(ascending=False)[df.isnull().sum() > 1000][:25])"
      ],
      "execution_count": 10,
      "outputs": [
        {
          "output_type": "stream",
          "text": [
            "v262    20000\n",
            "v44     19997\n",
            "v76     19993\n",
            "v144    19992\n",
            "v199    19991\n",
            "v159    19985\n",
            "v10     19981\n",
            "v172    19977\n",
            "v110    19956\n",
            "v160    19955\n",
            "v100    19955\n",
            "v109    19954\n",
            "v75     19938\n",
            "v211    19938\n",
            "v215    19936\n",
            "v163    19935\n",
            "v220    19927\n",
            "v254    19923\n",
            "v38     19910\n",
            "v129    19910\n",
            "v266    19907\n",
            "v89     19864\n",
            "v127    19828\n",
            "v117    19793\n",
            "v287    19792\n",
            "dtype: int64\n"
          ],
          "name": "stdout"
        }
      ]
    },
    {
      "cell_type": "markdown",
      "metadata": {
        "id": "KoSrbh7Un5wJ",
        "colab_type": "text"
      },
      "source": [
        "## Missing Data Proportion by Columns\n",
        "We will want to drop a number of the columns have have a significant amount of its data missing. Some features have disproportionately more data missing than others and there will be no way to impute those features. In which case dropping those features might be the best course of action to clean up the dataset. Feature column values that have a proportion of their data missing equal to or greater than an arbitrary threshold will have their columns dropped. Afterwards, a row-wise operation of this procedure will be further applied to include cleaner samples in the dataset. \n",
        "________________\n",
        "\n",
        "We will examine to see which features reach this threshold requirement to be dropped before we do any such dropping. \n",
        "____________ \n",
        "\n",
        "Afterwards, we will want to smarly impute the remaining missing data points as much as we can."
      ]
    },
    {
      "cell_type": "code",
      "metadata": {
        "id": "D-V0WcWv8hOs",
        "colab_type": "code",
        "colab": {
          "base_uri": "https://localhost:8080/",
          "height": 124
        },
        "outputId": "894a3ba6-8de5-429e-dc70-508245bdd882"
      },
      "source": [
        "# features by % of missing data\n",
        "dropthreshold = 50\n",
        "\n",
        "pct_missing_list = list([col for col in df.columns if df[col].isnull().sum()/df.shape[0] * 100 >= dropthreshold])\n",
        "pm_list = []\n",
        "\n",
        "\n",
        "for col in df.columns:\n",
        "    if df[col].isnull().sum()/df.shape[0] * 100 >= dropthreshold:\n",
        "        pm_list.append(df[col].isnull().sum()/df.shape[0] * 100)\n",
        "        \n",
        "missing_data_series = pd.DataFrame(pm_list, columns=['% Missing Data'], index=pct_missing_list).sort_values(by='% Missing Data', ascending=False)\n",
        "\n",
        "# get the data points in the dataframe that have >= 60% of their data missing\n",
        "df_col_drop_gtoe_60 = df[pct_missing_list]\n",
        "kept_feat_cols = list(set(df.columns) - set(pct_missing_list))\n",
        "reduced_cols_gtoe_60_missing_df = df[kept_feat_cols]\n",
        "\n",
        "print(\"The features with {}% or more of it's data missing will be dropped from the dataset.\".format(dropthreshold))\n",
        "print(\"The number of features of the dataset has been reduced by {}% after dropping the columns with a more than {}% of its data missing.\".format(reduced_cols_gtoe_60_missing_df.shape[1]/df.shape[1] * 100, dropthreshold))\n",
        "print(\"This is the size of the dataset before it was reduced: {}\".format(df.shape))\n",
        "print(\"The shape of the data that would be dropped with >= {}% of its data missing : {}\".format(dropthreshold, df_col_drop_gtoe_60.shape))\n",
        "print(\"This is the shape of the remaining dataset, after having dropped the data points with GTOE {}% of the data missing: {}, \" \\\n",
        "\"meaning that {} columns of the original dataframe will be dropped\".format(dropthreshold, reduced_cols_gtoe_60_missing_df.shape, len(df.columns) - len(kept_feat_cols)))\n",
        "\n",
        "# save the results to csv to look at later\n",
        "# missing_data_series.to_csv('./features_greater_{}_percent_missing_data_by_cols.csv'.format(dropthreshold))\n",
        "\n",
        "# write out the dataframe after having dropped the rows\n",
        "# reduced_cols_gtoe_60_missing_df.to_csv('./reduced_cols_gtoe_{}_missing_df.csv'.format(dropthreshold))"
      ],
      "execution_count": 11,
      "outputs": [
        {
          "output_type": "stream",
          "text": [
            "The features with 50% or more of it's data missing will be dropped from the dataset.\n",
            "The number of features of the dataset has been reduced by 63.68421052631579% after dropping the columns with a more than 50% of its data missing.\n",
            "This is the size of the dataset before it was reduced: (20000, 380)\n",
            "The shape of the data that would be dropped with >= 50% of its data missing : (20000, 138)\n",
            "This is the shape of the remaining dataset, after having dropped the data points with GTOE 50% of the data missing: (20000, 242), meaning that 138 columns of the original dataframe will be dropped\n"
          ],
          "name": "stdout"
        }
      ]
    },
    {
      "cell_type": "markdown",
      "metadata": {
        "id": "f7KwoFyV4DyC",
        "colab_type": "text"
      },
      "source": [
        "## Missing Data Proportion By Row \n",
        "An alternative strategy would be just to drop all of the rows with missing values. This step requires a little more wor as we will have more than 0 data points that have missing values and require imputation of missing values.\n",
        "\n",
        "\n",
        "Lets first drop any data ROWS with 50% or more missing values and see what we end up with.\n",
        "\n",
        "________________\n",
        "\n",
        "\n",
        "Just a refresher on how to how to conditionally select rows from a data frame:\n",
        "\n",
        "To select rows whose column value equals a scalar, some_value, use ==:\n",
        "df.loc[df['column_name'] == some_value]\n",
        "\n",
        "\n",
        "To select rows whose column value is in an iterable, some_values, use isin:\n",
        "df.loc[df['column_name'].isin(some_values)]\n",
        "\n",
        "Combine multiple conditions with &:\n",
        "df.loc[(df['column_name'] >= A) & (df['column_name'] <= B)]\n",
        "\n",
        "\n",
        "\n"
      ]
    },
    {
      "cell_type": "code",
      "metadata": {
        "id": "g3PETq5SC7wr",
        "colab_type": "code",
        "colab": {
          "base_uri": "https://localhost:8080/",
          "height": 139
        },
        "outputId": "59cfbe6d-e7bd-4490-cda0-519e6b77faee"
      },
      "source": [
        "# Data points with percentage of data missing and greater will be dropped from the dataset\n",
        "dropthreshold = 20\n",
        "\n",
        "# get the data points in the dataframe that have >= 30% of their data missing\n",
        "df_row_gtoe_20_missing = reduced_cols_gtoe_60_missing_df.loc[(reduced_cols_gtoe_60_missing_df.isnull().sum(axis=1)/reduced_cols_gtoe_60_missing_df.shape[1]*100 >= dropthreshold)]\n",
        "reduced_row_gtoe_20_missing = reduced_cols_gtoe_60_missing_df.loc[(reduced_cols_gtoe_60_missing_df.isnull().sum(axis=1)/reduced_cols_gtoe_60_missing_df.shape[1]*100 <= dropthreshold)]\n",
        "\n",
        "print(\"The data points with {}% or more of it's data missing will be dropped from the dataset.\".format(dropthreshold))\n",
        "print(\"The size of the dataset has been reduced by {}% after dropping the rows with {}% of its data missing.\".format(df_row_gtoe_20_missing.shape[0]/reduced_cols_gtoe_60_missing_df.shape[0] * 100, dropthreshold))\n",
        "print(\"The size of the dataset remaining after the missing data points have been dropped {}%.\".format(reduced_row_gtoe_20_missing.shape[0]/reduced_cols_gtoe_60_missing_df.shape[0] * 100))\n",
        "print(\"This is the size of the dataset before it was reduced: {}\".format(reduced_cols_gtoe_60_missing_df.shape))\n",
        "print(\"The shape of the data that would be dropped with >= {}% of its data missing : {}\".format(dropthreshold, df_row_gtoe_20_missing.shape))\n",
        "print(\"This is the shape of the remaining dataset, after having dropped the data points with GTOE {}% of the data missing: {}\".format(dropthreshold, reduced_row_gtoe_20_missing.shape))\n",
        "print(\"As a result, {} data points have been dropped due to insufficient data\".format(reduced_cols_gtoe_60_missing_df.shape[0] - reduced_row_gtoe_20_missing.shape[0]))\n",
        "\n",
        "# give the new dataframe a better name\n",
        "final_kept_df = reduced_row_gtoe_20_missing\n",
        "\n",
        "# save the dataframe to disk after the processing\n",
        "# final_kept_df.to_csv('./final_kept_df.csv')"
      ],
      "execution_count": 12,
      "outputs": [
        {
          "output_type": "stream",
          "text": [
            "The data points with 20% or more of it's data missing will be dropped from the dataset.\n",
            "The size of the dataset has been reduced by 5.59% after dropping the rows with 20% of its data missing.\n",
            "The size of the dataset remaining after the missing data points have been dropped 94.41000000000001%.\n",
            "This is the size of the dataset before it was reduced: (20000, 242)\n",
            "The shape of the data that would be dropped with >= 20% of its data missing : (1118, 242)\n",
            "This is the shape of the remaining dataset, after having dropped the data points with GTOE 20% of the data missing: (18882, 242)\n",
            "As a result, 1118 data points have been dropped due to insufficient data\n"
          ],
          "name": "stdout"
        }
      ]
    },
    {
      "cell_type": "markdown",
      "metadata": {
        "id": "A6RsGfvzzPce",
        "colab_type": "text"
      },
      "source": [
        "## Missing Data by Data Type\n",
        "We can see that there are a considerable amount of missing values for this dataset. We will have to dig in to understand which features would have missing values, and can we come up with a strategy to handle it."
      ]
    },
    {
      "cell_type": "code",
      "metadata": {
        "id": "LAGegy6qZyLH",
        "colab_type": "code",
        "colab": {
          "base_uri": "https://localhost:8080/",
          "height": 52
        },
        "outputId": "9d173b56-7035-4f5f-c568-fe0708b7be85"
      },
      "source": [
        "# separate out the numeric and categorical variables to see how much of each are missing\n",
        "\n",
        "numeric_df = final_kept_df._get_numeric_data()\n",
        "categorical_df = final_kept_df.select_dtypes(exclude = [int, float])\n",
        "\n",
        "print(\"Number of Numeric Features: {}\".format(numeric_df.shape[1]))\n",
        "print(\"Number of Categorical Features: {}\".format(categorical_df.shape[1]))"
      ],
      "execution_count": 13,
      "outputs": [
        {
          "output_type": "stream",
          "text": [
            "Number of Numeric Features: 37\n",
            "Number of Categorical Features: 205\n"
          ],
          "name": "stdout"
        }
      ]
    },
    {
      "cell_type": "markdown",
      "metadata": {
        "id": "Yc54cbPazRx-",
        "colab_type": "text"
      },
      "source": [
        "## Numeric Feature Missing Values\n",
        "\n",
        "It still appears that after dropping the data points and features with a majority of their data points missing, that about a third of the numeric features containg NaN/missing values in more than 20% of their data points."
      ]
    },
    {
      "cell_type": "code",
      "metadata": {
        "id": "83BqJ9XwGdyJ",
        "colab_type": "code",
        "colab": {
          "base_uri": "https://localhost:8080/",
          "height": 604
        },
        "outputId": "c7dbfc0d-a5da-4c27-c2f7-7c3f11467c03"
      },
      "source": [
        "# take a look at the missing values from the numeric features dataframe\n",
        "print(\"Proportionally, numeric features contribute {0:.2f}% of the total features in the dataset\".format(numeric_df.shape[1]/final_kept_df.shape[1]*100))\n",
        "a = pd.Series(numeric_df.isnull().sum().sort_values(ascending=False)/(numeric_df.shape[0]) * 100)\n",
        "print(a[:12])\n",
        "a.plot(kind='bar')\n",
        "\n",
        "# 9 numeric features of 37 with more than 20% of it's data missing\n",
        "print(\"The number of numeric features with more than 20% of its values missing is: {}, which is {}% of all numeric features\".format(9, (9/numeric_df.shape[1]*100)))"
      ],
      "execution_count": 14,
      "outputs": [
        {
          "output_type": "stream",
          "text": [
            "Proportionally, numeric features contribute 15.29% of the total features in the dataset\n",
            "leavedu      44.020761\n",
            "v202         38.894185\n",
            "age_r        38.703527\n",
            "v231         38.110370\n",
            "nfehrs       37.850863\n",
            "v272         37.612541\n",
            "v52          37.379515\n",
            "v33          37.337146\n",
            "v63          36.987607\n",
            "yrsget       17.847686\n",
            "yrsqual_t    13.372524\n",
            "yrsqual      12.832327\n",
            "dtype: float64\n",
            "The number of numeric features with more than 20% of its values missing is: 9, which is 24.324324324324326% of all numeric features\n"
          ],
          "name": "stdout"
        },
        {
          "output_type": "display_data",
          "data": {
            "image/png": "[encoded data removed]",
            "text/plain": [
              "<Figure size 432x288 with 1 Axes>"
            ]
          },
          "metadata": {
            "tags": []
          }
        }
      ]
    },
    {
      "cell_type": "markdown",
      "metadata": {
        "id": "M_ufjLzSH34y",
        "colab_type": "text"
      },
      "source": [
        "We are going to explore correlation/collinearity between the numeric features and drop redundant features."
      ]
    },
    {
      "cell_type": "code",
      "metadata": {
        "id": "EN8_YTMoMhfb",
        "colab_type": "code",
        "colab": {
          "base_uri": "https://localhost:8080/",
          "height": 156
        },
        "outputId": "ea7f149d-29ec-4d71-a599-ea9f1a9919b0"
      },
      "source": [
        "# categorical feature with numeric encoding\n",
        "\n",
        "cat_feat_with_num_encoding = ['isic2l', 'v224', 'isco1l', 'v105', 'isco1c', 'v239', 'isco2c', 'v105']\n",
        "for i in cat_feat_with_num_encoding:\n",
        "    print(\"This categorical feature with numeric encodings has {} unique values: {}\".format(i, len(numeric_df[i].unique())))"
      ],
      "execution_count": 55,
      "outputs": [
        {
          "output_type": "stream",
          "text": [
            "This categorical feature with numeric encodings has isic2l unique values: 37\n",
            "This categorical feature with numeric encodings has v224 unique values: 62\n",
            "This categorical feature with numeric encodings has isco1l unique values: 11\n",
            "This categorical feature with numeric encodings has v105 unique values: 58\n",
            "This categorical feature with numeric encodings has isco1c unique values: 15\n",
            "This categorical feature with numeric encodings has v239 unique values: 413\n",
            "This categorical feature with numeric encodings has isco2c unique values: 50\n",
            "This categorical feature with numeric encodings has v105 unique values: 58\n"
          ],
          "name": "stdout"
        }
      ]
    },
    {
      "cell_type": "markdown",
      "metadata": {
        "id": "KsUsMHe6IPht",
        "colab_type": "text"
      },
      "source": [
        "## Pre-Imputer Imputation for numeric features\n",
        "Some further processing can be done before the imputation step such as (dropping,casting, merging, etc). The next few segments of code will go through the next preprocessing steps as outlined above."
      ]
    },
    {
      "cell_type": "code",
      "metadata": {
        "id": "sEL-EAuXNRLB",
        "colab_type": "code",
        "colab": {}
      },
      "source": [
        "# we drop 'age_r' as there is another categorical feature containing the same demographic information with more completeness, with the tradeoff of numeric granularity\n",
        "numeric_df.drop(columns='age_r', inplace=True, axis=1)"
      ],
      "execution_count": 0,
      "outputs": []
    },
    {
      "cell_type": "code",
      "metadata": {
        "id": "w_A3eDpsNoZo",
        "colab_type": "code",
        "colab": {}
      },
      "source": [
        "# we drop 'row' because this is a pretty useless category\n",
        "numeric_df.drop(columns='row', inplace=True, axis=1)"
      ],
      "execution_count": 0,
      "outputs": []
    },
    {
      "cell_type": "markdown",
      "metadata": {
        "id": "VJAWL1hje97q",
        "colab_type": "text"
      },
      "source": [
        "## Examination of the categorical features"
      ]
    },
    {
      "cell_type": "code",
      "metadata": {
        "id": "Q0u62ihTGiV-",
        "colab_type": "code",
        "colab": {
          "base_uri": "https://localhost:8080/",
          "height": 761
        },
        "outputId": "25d7194f-9989-4948-c74b-a925b2299fef"
      },
      "source": [
        "# take a look at the missing values for categorical features dataframe\n",
        "print(\"Proportionally, categorical features contribute {0:.2f}% of the total features in the dataset\".format(categorical_df.shape[1]/final_kept_df.shape[1]*100))\n",
        "print((categorical_df.isnull().sum().sort_values(ascending=False)/(categorical_df.shape[0]) * 100 )[:20])\n",
        "b = pd.Series(categorical_df.isnull().sum().sort_values(ascending=False)/(categorical_df.shape[0]) * 100 )\n",
        "b.plot(kind='bar')\n",
        "\n",
        "# 17 features with more than 20% of its values missing of 205 features\n",
        "print(\"The number of categorical features with more than 20% of its values missing is: {}, which is {}% of all categorical features\".format(17, 17/categorical_df.shape[1]*100))"
      ],
      "execution_count": 18,
      "outputs": [
        {
          "output_type": "stream",
          "text": [
            "Proportionally, categorical features contribute 84.71% of the total features in the dataset\n",
            "ctryqual          47.251350\n",
            "v291              45.689016\n",
            "v137              45.122339\n",
            "cnt_brth          43.745366\n",
            "v3                39.725665\n",
            "birthrgn          37.061752\n",
            "v269              35.833069\n",
            "v91               35.817180\n",
            "v47               33.095011\n",
            "v236              32.994386\n",
            "v289              27.846626\n",
            "v96               25.675246\n",
            "earnhrbonusdcl    23.111958\n",
            "earnhrdcl         22.863044\n",
            "v255              22.068637\n",
            "v212              21.787946\n",
            "reg_tl2           20.040250\n",
            "v62               18.011863\n",
            "earnflag          17.365745\n",
            "v8                17.222752\n",
            "dtype: float64\n",
            "The number of categorical features with more than 20% of its values missing is: 17, which is 8.292682926829269% of all categorical features\n"
          ],
          "name": "stdout"
        },
        {
          "output_type": "display_data",
          "data": {
            "image/png": "[encoded data removed]",
            "text/plain": [
              "<Figure size 432x288 with 1 Axes>"
            ]
          },
          "metadata": {
            "tags": []
          }
        }
      ]
    },
    {
      "cell_type": "markdown",
      "metadata": {
        "id": "VVdPuwT73xDS",
        "colab_type": "text"
      },
      "source": [
        "## Unique categorical groupings in the categorical features \n",
        "\n",
        "Just to get a little perspective on how many categories there are for the dataset, we will print each of their unique values for the first several features. This will help us have an idea of how much the dataset will ballon once we onehot encode for each categorical feature value."
      ]
    },
    {
      "cell_type": "code",
      "metadata": {
        "id": "OfCdT__8nJA9",
        "colab_type": "code",
        "colab": {
          "base_uri": "https://localhost:8080/",
          "height": 1000
        },
        "outputId": "522e45ba-40c2-4d8d-a006-f6a0282555e4"
      },
      "source": [
        "# unique values for each categorical feature. need to know how what encoding scheme we should use\n",
        "\n",
        "num_cat_gtoe_10 = []\n",
        "for column in categorical_df.columns:\n",
        "    if len(categorical_df[column].unique()) >= 10:\n",
        "        print(f\"######### {column} ##########\")\n",
        "        print(categorical_df[column].unique()) # returns np.ndarray\n",
        "        print(\"Number of unique values: {}\\n\".format(len(categorical_df[column].unique())))\n",
        "        num_cat_gtoe_10.append(column)\n",
        "print(\"There are {} categorical columns with more than 10 categories\".format(len(num_cat_gtoe_10)))"
      ],
      "execution_count": 19,
      "outputs": [
        {
          "output_type": "stream",
          "text": [
            "######### isic2c ##########\n",
            "['9999' '25' '35' '82' '45' '47' '85' '55' '72' '84' '64' '41' '31' '26'\n",
            " '66' '01' '73' '43' '10' '91' '81' '29' '20' '9996' '71' '86' '46' '56'\n",
            " '49' '61' '28' '22' '21' '63' '30' '52' '69' '77' '62' '51' '42' '33'\n",
            " '14' 'K' '65' '88' '24' '80' '23' '32' '08' '79' '53' 'F' '58' 'C' '92'\n",
            " '75' '27' '9995' '02' '68' '18' '87' '70' '93' '15' 'T' '17' 'G' '16'\n",
            " '74' '9998' '03' '96' '12' nan '13' 'Q' '07' '94' '11' '95' '50' '60'\n",
            " '38' '59' 'A' '78' '06' '36' '09' '19' '39' 'J' '90' '37' 'H' '9997' '05'\n",
            " 'I' '97']\n",
            "Number of unique values: 102\n",
            "\n",
            "######### edcat8 ##########\n",
            "[nan 'Tertiary – professional degree (ISCED 5B)'\n",
            " 'Tertiary - bachelor/master/research degree (ISCED 5A/6)'\n",
            " 'Tertiary – master degree (ISCED 5A)'\n",
            " 'Upper secondary (ISCED 3A-B, C long)'\n",
            " 'Tertiary – bachelor degree (ISCED 5A)'\n",
            " 'Post-secondary, non-tertiary (ISCED 4A-B-C)'\n",
            " 'Tertiary – research degree (ISCED 6)'\n",
            " 'Lower secondary (ISCED 2, ISCED 3C short)'\n",
            " 'Primary or less (ISCED 1 or less)']\n",
            "Number of unique values: 10\n",
            "\n",
            "######### earnhrdcl ##########\n",
            "['7th decile' nan 'Lowest decile' '2nd decile' 'Highest decile'\n",
            " '5th decile' '3rd decile' '4th decile' '6th decile' '9th decile'\n",
            " '8th decile']\n",
            "Number of unique values: 11\n",
            "\n",
            "######### lng_bq ##########\n",
            "['eng' 'rus' 'tur' 'swe' 'deu' 'kor' 'ita' 'pol' 'fra' 'jpn' 'nld' 'spa'\n",
            " 'slv' 'dan' 'slk' 'heb' 'ces' 'est' 'ell' 'fin' 'nor' 'ara' 'cat' 'lit'\n",
            " '999' 'glg' 'hun']\n",
            "Number of unique values: 27\n",
            "\n",
            "######### isic1c ##########\n",
            "['M' 'C' 'D' 'N' 'G' 'P' 'I' 'O' 'K' 'F' 'A' 'L' 'R' '9996' 'Q' 'H' 'J'\n",
            " '9999' 'B' '9995' 'T' '9998' 'S' 'E' '9997']\n",
            "Number of unique values: 25\n",
            "\n",
            "######### reg_tl2 ##########\n",
            "['99999' 'UKJ' 'UKI' nan 'RU40' 'SE11' 'KR01' 'IE02' 'SG00' 'PL22' 'UKD'\n",
            " 'RU28' 'FR71' 'JPH' 'UKH' 'NL3' 'FR10' 'CL09' 'JPD' 'KR03' 'KR05' 'ES12'\n",
            " 'KR04' 'RU74' 'FR22' 'KR02' 'FR81' 'SI01' 'FR43' 'DK04' 'PL11' 'UKG'\n",
            " 'UKF' 'ES13' 'BE2' 'RU64' 'SK02' 'PL12' 'RU37' 'IL04' 'ES22' 'FR21' 'JPG'\n",
            " 'CZ05' 'PL43' 'ES30' 'ES61' 'RU45' 'JPC' 'JPF' 'RU50' 'CL05' 'JPE' 'UKC'\n",
            " 'EE00' 'CZ08' 'GR3' 'FR51' 'JPJ' 'FR30' 'SK01' 'PL32' 'CL13' 'SE33'\n",
            " 'ES51' 'FR24' 'ES70' 'RU01' 'FR52' 'RU19' 'NL4' 'RU27' 'KR06' 'JPI'\n",
            " 'RU54' 'PL63' 'UKE' 'PL41' 'RU41' 'UKN' 'PL21' 'RU22' 'DK01' 'CZ01'\n",
            " 'PL61' 'RU39' 'CZ04' 'JPB' 'NL2' 'FR82' 'NZ01' 'PL52' 'ES52' 'FR23'\n",
            " 'CZ07' 'SE22' 'ES21' 'FR61' 'FR62' 'RU65' 'PL51' 'CL08' 'SK03' 'PL33'\n",
            " 'RU08' 'SE31' 'IL07' 'NZ02' 'IL02' 'PL31' 'RU58' 'PL42' 'ES42' 'GR2'\n",
            " 'ES53' 'SE12' 'UKK' 'IL05' 'RU56' 'CZ06' 'ES23' 'ES62' 'ES41' 'RU67'\n",
            " 'LT08' 'CZ03' 'GR1' 'ES24' 'IE01' 'PL34' 'JPA' 'LT04' 'FR42' 'FR53'\n",
            " 'FR41' 'NL1' 'SE21' 'RU44' 'SI02' 'PL62' 'LT05' 'ES11' 'LT09' 'CZ02'\n",
            " 'RU15' 'FR83' 'DK02' 'FR25' 'ES43' 'CL02' 'IL01' 'ES63' 'CL06' 'IL06'\n",
            " 'DK05' 'RU16' 'SK04' 'DK03' 'CL07' 'LT07' 'IL03' 'LT02' 'FR72' 'LT06'\n",
            " 'SE23' 'CL01' 'CL14' 'LT03' 'GR4' 'LT01' 'LT10' 'FR26' 'KR07' 'SE32'\n",
            " 'FR63' 'CL10']\n",
            "Number of unique values: 176\n",
            "\n",
            "######### birthrgn ##########\n",
            "[nan 'North America and Western Europe' 'Central Asia'\n",
            " 'Central and Eastern Europe'\n",
            " 'East Asia and the Pacific (richer countries)'\n",
            " 'East Asia and the Pacific (poorer countries)'\n",
            " 'Latin America and the Caribbean' 'Sub-Saharan Africa' 'Arab States'\n",
            " 'South and West Asia']\n",
            "Number of unique values: 10\n",
            "\n",
            "######### cntryid_e ##########\n",
            "['Canada (English)' 'England (UK)' 'Norway' 'United States'\n",
            " 'Russian Federation' 'Turkey' 'Sweden' 'Germany' 'Korea' 'Ireland'\n",
            " 'Singapore' 'Italy' 'Poland' 'France' 'Japan' 'Netherlands' 'Chile'\n",
            " 'Spain' 'Slovenia' 'Denmark' 'Canada (French)' 'Flanders (Belgium)'\n",
            " 'Slovak Republic' 'Israel' 'Czech Republic' 'Estonia' 'Greece' 'Finland'\n",
            " 'Austria' 'Northern Ireland (UK)' 'New Zealand' 'Lithuania' nan]\n",
            "Number of unique values: 33\n",
            "\n",
            "######### v212 ##########\n",
            "[nan 'ISCED 3 (without distinction A-B-C, 2y+)' 'ISCED 5B'\n",
            " 'ISCED 5A, bachelor degree' 'ISCED 3A-B' 'ISCED 4C' 'ISCED 4A-B'\n",
            " 'ISCED 5A, master degree'\n",
            " 'ISCED 5A bachelor degree, 5A master degree, and 6 (without distinction)'\n",
            " 'ISCED 6' 'ISCED 1' 'ISCED 4 (without distinction A-B-C)' 'ISCED 2'\n",
            " 'No formal qualification or below ISCED 1' 'ISCED 3C 2 years or more'\n",
            " 'ISCED 3C shorter than 2 years']\n",
            "Number of unique values: 16\n",
            "\n",
            "######### earnmthalldcl ##########\n",
            "['6th decile' '2nd decile' '7th decile' '9th decile' '3rd decile'\n",
            " 'Highest decile' '5th decile' nan 'Lowest decile' '8th decile'\n",
            " '4th decile']\n",
            "Number of unique values: 11\n",
            "\n",
            "######### v59 ##########\n",
            "[nan 'ISCED 5B'\n",
            " 'ISCED 5A bachelor degree, 5A master degree, and 6 (without distinction)'\n",
            " 'ISCED 5A, master degree' 'ISCED 3 (without distinction A-B-C, 2y+)'\n",
            " 'ISCED 5A, bachelor degree' 'ISCED 3A-B' 'ISCED 4A-B'\n",
            " 'ISCED 3C 2 years or more' 'Foreign qualification' 'ISCED 6' 'ISCED 2'\n",
            " 'ISCED 4 (without distinction A-B-C)' 'ISCED 3C shorter than 2 years'\n",
            " 'ISCED 1' 'ISCED 4C' 'No formal qualification or below ISCED 1']\n",
            "Number of unique values: 17\n",
            "\n",
            "######### isic1l ##########\n",
            "['9999' '9996' 'C' 'I' 'P' 'K' '9995' 'G' 'S' 'Q' 'F' 'L' 'O' 'J' 'M' 'N'\n",
            " 'H']\n",
            "Number of unique values: 17\n",
            "\n",
            "######### v19 ##########\n",
            "['Aged 20-24' nan 'Aged 25-29' 'Aged 30-34' 'Aged 35-39' 'Aged 40-44'\n",
            " 'Aged 19 or younger' 'Aged 45-49' 'Aged 50-54' 'Aged 55 or older']\n",
            "Number of unique values: 10\n",
            "\n",
            "######### lng_ci ##########\n",
            "['eng' 'nor' 'rus' 'tur' 'swe' 'deu' 'kor' 'ita' 'pol' 'fra' 'jpn' 'nld'\n",
            " 'spa' 'slv' 'dan' 'slk' 'heb' 'ces' 'est' 'ell' 'fin' 'cat' 'ara' 'lit'\n",
            " '999' 'glg' 'eus' nan 'hun']\n",
            "Number of unique values: 29\n",
            "\n",
            "######### earnhrbonusdcl ##########\n",
            "['7th decile' nan 'Lowest decile' '8th decile' '2nd decile'\n",
            " 'Highest decile' '6th decile' '3rd decile' '4th decile' '5th decile'\n",
            " '9th decile']\n",
            "Number of unique values: 11\n",
            "\n",
            "######### v71 ##########\n",
            "[9999.0 2520.0 3510.0 82.0 4711.0 8510.0 7210.0 3100.0 8521.0 8422.0\n",
            " 2660.0 721.0 149.0 113.0 4322.0 85.0 4751.0 1071.0 9102.0 6419.0 8411.0\n",
            " 4330.0 4730.0 9996.0 4773.0 7110.0 4100.0 41.0 8610.0 8299.0 4610.0\n",
            " 4923.0 8121.0 491.0 61.0 8423.0 4662.0 7310.0 2910.0 4772.0 47.0 2220.0\n",
            " 478.0 2100.0 6311.0 3030.0 5210.0 6920.0 8430.0 1079.0 6110.0 2610.0\n",
            " 8522.0 6201.0 851.0 6430.0 433.0 421.0 3313.0 6202.0 5510.0 2011.0 5610.0\n",
            " 145.0 2651.0 1410.0 651.0 2432.0 8010.0 1.0 2391.0 711.0 4759.0 4753.0\n",
            " 42.0 4690.0 8549.0 4510.0 810.0 7912.0 4663.0 8530.0 731.0 1030.0 5320.0\n",
            " 6492.0 462.0 4652.0 6511.0 4641.0 4321.0 2811.0 4721.0 4764.0 8412.0\n",
            " 1061.0 4752.0 4210.0 1010.0 5820.0 2592.0 692.0 8413.0 331.0 4741.0\n",
            " 4649.0 2710.0 2750.0 5223.0 6499.0 2670.0 4659.0 852.0 6391.0 275.0\n",
            " 4661.0 1811.0 2511.0 4719.0 8211.0 2825.0 4390.0 2013.0 45.0 31.0 4520.0\n",
            " 93.0 1520.0 4771.0 2812.0 4723.0 161.0 4290.0 6512.0 63.0 1623.0 4911.0\n",
            " 561.0 7020.0 2822.0 741.0 6820.0 475.0 9998.0 241.0 2630.0 6209.0 5819.0\n",
            " 6910.0 3290.0 311.0 9601.0 2393.0 5630.0 4761.0 463.0 7710.0 351.0 5224.0\n",
            " 27.0 10.0 2930.0 329.0 611.0 2821.0 6619.0 5120.0 1050.0 8020.0 4912.0\n",
            " 9602.0 8620.0 2591.0 4630.0 8690.0 8790.0 1200.0 474.0 4921.0 4530.0\n",
            " 5110.0 1312.0 2410.0 3314.0 2790.0 7490.0 6622.0 2620.0 65.0 163.0 266.0\n",
            " 28.0 1702.0 4763.0 2219.0 641.0 5812.0 3520.0 1101.0 25.0 471.0 6120.0\n",
            " 6411.0 6612.0 nan 9200.0 7120.0 7410.0 71.0 220.0 9511.0 5012.0 2420.0\n",
            " 1392.0 49.0 2829.0 383.0 6312.0 1020.0 6491.0 5621.0 8542.0 5911.0 86.0\n",
            " 5811.0 6020.0 451.0 4722.0 62.0 30.0 861.0 960.0 2211.0 2817.0 4220.0\n",
            " 5813.0 6810.0 702.0 6621.0 1622.0 620.0 2023.0 7320.0 2819.0 466.0 2824.0\n",
            " 1104.0 9499.0 60.0 68.0 781.0 531.0 201.0 4311.0 4540.0 91.0 3821.0 853.0\n",
            " 2599.0 3600.0 5221.0 990.0 7820.0 7010.0 2593.0 1920.0 4651.0 26.0 2310.0\n",
            " 5310.0 3900.0 6611.0 472.0 1621.0 2392.0 2640.0 3020.0 8110.0 8220.0 46.0\n",
            " 842.0 221.0 8130.0 251.0 7730.0 12.0 5629.0 9000.0 8129.0 6190.0 3250.0\n",
            " 1102.0 2012.0 3830.0 4922.0 8890.0 812.0 7911.0 722.0 4312.0 2513.0\n",
            " 1430.0 23.0 9603.0 43.0 682.0 3315.0 3211.0 803.0 124.0 '86' '6920'\n",
            " '9999' '5221' '8549' '47' '5911' '692' '9996' '8129' '4799' '6120' '4752'\n",
            " '7320' '5610' '8790' '26' '4100' '8413' '8610' '9998' '46' '6411' '0146'\n",
            " '649' '8411' '63' '6430' '7110' '421' '2930' '68' '251' '4711' '2392'\n",
            " '6512' '6419' '4390' '5811' '8510' '852' '2023' '0721' '8521' '731'\n",
            " '8412' '7020' '4669' '16' '4510' '21' '6622' '5819' '5110' '1410' '8690'\n",
            " '851' '4330' '5629' '78' '9200' '4630' '7912' '8710' '3600' '4649' '2790'\n",
            " '6201' '85' '4312' '4771' '3510' '8220' '7310' '3312' '9602' '1101'\n",
            " '8620' '2620' '6202' '711' '6520' '0113' '2910' '6110' '8542' '2220'\n",
            " '1430' '8522' '2593' '2420' '4741' '6619' '4730' '8530' '4322' '282'\n",
            " '9511' '4763' '2599' '2822' '491' '2819' '1312' '2394' '2821' '2100'\n",
            " '8010' 'G' '13' '463' '4321' '4721' '6810' '7210' '8423' '4759' '4923'\n",
            " '4220' '7830' '62' '9312' '2512' '3100' '7010' '3314' '7820' '6621'\n",
            " '3811' '4210' '3030' '2432' '2011' '7220' '7500' '5621' '5510' '4772'\n",
            " '471' '2920' '2812' '7490' '9491' '4659' '2825' '2391' '0210' '1040'\n",
            " '7420' '8422' '4662' '1702' '8110' '6910' '2829' '4719' '6820' '2013'\n",
            " '3020' '4921' '43' '9329' '4773' '5820' '1709' '612' '7410' '2012' '4922'\n",
            " '4610' '5210' '453' '6190' '8730' '6020' '012' '3290' '1811' '41' '4520'\n",
            " '721' '9609' '2813' '2022' '433' '2750' '65' '2610' '9311' '5229' '28'\n",
            " '4290' '2710' '2511' '781' '6612' '7710' '5813' '6511' '4661' '0119'\n",
            " '353' '0161' '5590' '7120' '9411' '1071' '465' '4653' '2211' '1079'\n",
            " '0322' '2410' '8121' '422' '4311' '3700' '8292' '1520' '141' '9103' '451'\n",
            " '10' '0141' '2395' '4722' '27' '3250' '889' '8430' '2591' '351' '4690'\n",
            " '2670' '61' '4663' '4329' '4641' '33' '5120' '5630' '9000' '9499' '2826'\n",
            " '1050' '6492' '4530' '4791' '1073' '6209' '2021' '493' '01' '1102' '1920'\n",
            " '1701' '855' '2630' '2824' '2816' '2219' '7729' '531' '9412' '6499'\n",
            " '0163' '1030' '611' '4742' '0150' '2310' '561' '0990' '60' '8130' '0164'\n",
            " '861' '4753' '49' '4620' '06' '2811' '1010' '56' '5223' '2651' '869'\n",
            " '0810' '0121' '5310' '0910' '0111' '4751' '3092' '93' '9997' '651' '2732'\n",
            " '581' 4669.0 855.0 2395.0 9522.0 9101.0 8292.0 7420.0 1701.0 8730.0\n",
            " 1610.0 111.0 322.0 51.0 202.0 841.0 9997.0 7500.0 119.0 1311.0 105.0 35.0\n",
            " 862.0 551.0 4329.0 473.0 461.0 854.0 9491.0 4799.0 3011.0 5229.0 2399.0\n",
            " 131.0 4653.0 9311.0 9609.0 2431.0 6399.0 869.0 36.0 712.0 2512.0 1080.0\n",
            " 4620.0 1512.0 5912.0 899.0 58.0 9529.0 2826.0 84.0 6.0 210.0 9329.0\n",
            " 8810.0 2813.0 2022.0 3811.0 281.0 146.0 843.0 2021.0 9103.0 889.0 510.0\n",
            " 9312.0 21.0 6420.0 2823.0 410.0 90.0 '4761' '8890' '8020' '741' '2680'\n",
            " '1103' '3520' '502' '84' '2660' '324' '1061' '2592' '3211' '131' '6312'\n",
            " '8421' '900' '1080' '853' '1621' '90' '1629' '4651' '6311' '4762' '64'\n",
            " '8230' '2396' '432' '802' '478' '5224' '473' '1104' '383' '620' '4764'\n",
            " '0510' '6130' '3830' '0124' '275' '6491' '2431' '4774' '0893' '1610' '71'\n",
            " '3315' '108' '8541' '812' '841' '24' '25' '3011' '2733' '8211' '511'\n",
            " '9420' '42' '8550' '2520' '871' '2652' '8291' '2823' '702' '271' '8299'\n",
            " '1812' '2640' '1623' '1622' '0311' '222' '5012' '464' '2029' '9102'\n",
            " '5011' '2740' '20' '266' '1200' '0620' '329' '0149' '281' '263' '110'\n",
            " '0123' '192' '45' '1392' '0729' '5912' '201' '55' '4912' '9319' '439'\n",
            " '5320' '4911' '7911' '9101' '477' '3320' '771' '5222' '4652' '6530' '82'\n",
            " '0899' '682' '6630' '7730' '210' '293' '6629' '8219' '862' '4540' 9321\n",
            " 282 581 8230 3312 6630 7220 4791 64 6629 141 4782 13 103 1812 9521 7830\n",
            " 9412 5914 871 891 8710 941 1073 7810 9411 2720 1709 9319 2816 2733 87 432\n",
            " 5913 1313 492 6530 325 5011 2030 164 453 7990 5222 612 72 261 2680 900\n",
            " 1103 '8810' '105' '3900' '811' '2720' '231' '9601' '202' '742' '11' '30'\n",
            " '842' '77' '681' '653' '492' '07' '3530' '3822' '854' '17' '466' '2513'\n",
            " '161' '9522' '3012' 'C' '7810' '5812' 1074.0 2394.0 3092.0 881.0 6130.0\n",
            " 3099.0 125.0 110.0 16.0 1399.0 2732.0 1075.0 452.0 279.0 910.0 75.0\n",
            " 4742.0 9700.0 123.0 78.0 8550.0 252.0 9524.0 92.0 9420.0 '2399' '92'\n",
            " '0891' '1020' '87' '88' '36' '4781' '472' '773' '74' '0144' '6391' '475'\n",
            " '1311' '259' '09' '15' '474' '31' '0610' '1399' 3320.0 1072.0 7.0 2652.0\n",
            " 11.0 3822.0 879.0 8291.0 17.0 3530.0 3700.0 56.0 477.0 502.0 77.0 74.0]\n",
            "Number of unique values: 946\n",
            "\n",
            "######### ctryqual ##########\n",
            "[nan 'North America and Western Europe' 'Central and Eastern Europe'\n",
            " 'East Asia and the Pacific (richer countries)'\n",
            " 'East Asia and the Pacific (poorer countries)' 'Sub-Saharan Africa'\n",
            " 'Latin America and the Caribbean' 'Arab States' 'South and West Asia'\n",
            " 'Central Asia']\n",
            "Number of unique values: 10\n",
            "\n",
            "######### ageg5lfs ##########\n",
            "['Aged 25-29' 'Aged 60-65' 'Aged 30-34' 'Aged 20-24' 'Aged 35-39'\n",
            " 'Aged 40-44' 'Aged 45-49' 'Aged 55-59' 'Aged 50-54' 'Aged 16-19']\n",
            "Number of unique values: 10\n",
            "\n",
            "######### v92 ##########\n",
            "[nan 'Full-time employed (self-employed, employee)' 'Unemployed'\n",
            " 'Part-time employed (self-employed, employee)'\n",
            " 'Fulfilling domestic tasks or looking after children/family'\n",
            " 'Pupil, student' 'Apprentice, internship' 'Permanently disabled' 'Other'\n",
            " 'In retirement or early retirement'\n",
            " 'In compulsory military or community service']\n",
            "Number of unique values: 11\n",
            "\n",
            "######### lng_home ##########\n",
            "['999' 'eng' 'rus' 'kor' 'pol' 'fra' 'jpn' 'lit' 'nld' 'spa' 'slv' 'dan'\n",
            " 'slk' 'heb' 'ces' 'zho' 'est' 'ell' 'fin' 'deu' 'nor' 'ita' 'cat' 'ara'\n",
            " 'glg' 'guj' 'hye' 'eus' 'por' 'hun' 'hrv' 'swe' 'tam' nan 'fas' 'kur'\n",
            " 'ber' 'ben' 'srp' 'tur' 'hin' 'ron' 'sin' 'urd' 'run' 'phi' 'gla' 'bul'\n",
            " 'sla' 'pap']\n",
            "Number of unique values: 50\n",
            "\n",
            "######### v31 ##########\n",
            "['General programmes' 'Engineering, manufacturing and construction'\n",
            " 'Social sciences, business and law' nan\n",
            " 'Science, mathematics and computing' 'Agriculture and veterinary'\n",
            " 'Health and welfare' 'Humanities, languages and arts' 'Services'\n",
            " 'Teacher training and education science']\n",
            "Number of unique values: 10\n",
            "\n",
            "######### cntryid ##########\n",
            "['Canada' 'United Kingdom' 'Norway' 'United States' 'Russian Federation'\n",
            " 'Turkey' 'Sweden' 'Germany' 'Korea' 'Ireland' 'Singapore' 'Italy'\n",
            " 'Poland' 'France' 'Japan' 'Netherlands' 'Chile' 'Spain' 'Slovenia'\n",
            " 'Denmark' 'Belgium' 'Slovak Republic' 'Israel' 'Czech Republic' 'Estonia'\n",
            " 'Greece' 'Finland' 'Austria' 'New Zealand' 'Lithuania']\n",
            "Number of unique values: 30\n",
            "\n",
            "######### cnt_brth ##########\n",
            "[nan 'United Kingdom of Great Britain and Northern Ireland'\n",
            " 'Russian Federation' 'Turkey' 'Republic of Korea' 'Malaysia' 'Poland'\n",
            " 'France' 'Japan' 'Lithuania' 'Netherlands' 'Chile' 'Ethiopia' 'Spain'\n",
            " 'Croatia' 'Denmark' 'Belgium' 'Slovakia' 'Israel' 'Czech Republic'\n",
            " 'Venezuela (Bolivarian Republic of)' 'Canada' 'Estonia' 'Greece'\n",
            " 'Finland' 'South Africa' 'Austria' 'Republic of Moldova' 'Algeria'\n",
            " 'Italy' 'Morocco' 'Singapore' 'China' 'Australia' 'Colombia' 'Ghana'\n",
            " 'Argentina' 'India' 'Slovenia' 'Armenia' 'Dominican Republic' 'Zimbabwe'\n",
            " 'Tunisia' 'Germany' 'Ukraine' 'Cuba' 'Brazil' 'Uzbekistan' 'Switzerland'\n",
            " 'Senegal' 'Philippines' 'Egypt'\n",
            " 'The former Yugoslav Republic of Macedonia' 'Bosnia and Herzegovina'\n",
            " 'United States of America' 'Peru' 'Thailand' 'Georgia' 'Congo' 'Romania'\n",
            " 'Afghanistan' 'Mexico' 'Saint Lucia' 'Bangladesh' 'Kenya' 'Bolivia'\n",
            " 'Paraguay' 'Indonesia' 'Serbia' 'Cyprus' 'Portugal' 'Ireland' 'Sri Lanka'\n",
            " 'Myanmar' 'Belarus' 'Burundi' 'Cameroon' 'Azerbaijan' 'Mauritius' 'Iraq'\n",
            " 'Albania' 'Viet Nam' 'Sweden' 'Latvia'\n",
            " 'Hong Kong Special Administrative Region of China' 'Norway'\n",
            " 'Trinidad and Tobago' 'Nigeria' 'Kyrgyzstan']\n",
            "Number of unique values: 89\n",
            "\n",
            "######### isic2l ##########\n",
            "[nan 9996.0 21.0 55.0 85.0 66.0 9995.0 10.0 47.0 94.0 86.0 43.0 64.0 41.0\n",
            " 68.0 14.0 31.0 84.0 '9996' '10' '47' '88' '9995' '85' '56' '43' '14' '22'\n",
            " '84' '9999' '62' '28' '68' '21' '86' '64' '61' '31' '29' '66' '69' 9999.0\n",
            " 69.0 46.0 53.0 50.0 '50' '52' '46' '23' '41' '65' '87' '49' '72' '16'\n",
            " 61.0 22.0]\n",
            "Number of unique values: 58\n",
            "\n",
            "There are 24 categorical columns with more than 10 categories\n"
          ],
          "name": "stdout"
        }
      ]
    },
    {
      "cell_type": "markdown",
      "metadata": {
        "id": "WjjAdbrm6j6l",
        "colab_type": "text"
      },
      "source": [
        "## Impressions on missing categorical data\n",
        "Proportionally, there are more missing numerical feature values than there are categorical feature values. There are some categorical feature values that use numeric values to indicate a discrete category or range. This can be gleened by particular values such as '9999' or '999' to indicate a missing value or distinct category. Some of the features that encode their values as such include:\n",
        "* ~~reg_tl2~~\n",
        "* ~~lng_home~~\n",
        "* ~~ageg10lfs~~\n",
        "* ~~ageg10lfs_t~~\n",
        "\n",
        "These features are seemingly identical, and therefore we select one to keep and we drop the other:\n",
        "* ~~ageg10lfs~~\n",
        "* ~~ageg10lfs_t~~\n",
        "\n",
        "One feature has 946 unique values which probably indicates that the values maybe numeric in nature as opposed to categorical. There are also two alphabetical letter values feature, namely : 'C' and 'G'. These values will be imputed as np.nan values before the the numeric casting of the feature column. Additionally, the numeric values in this feature are actually strings and will have to be forced cast to int or float values\n",
        "* ~~v71~~\n",
        "\n",
        "Another categorical feature uses extensive numerical coding, interleaved with few alphabetic numeric coding. The instict is to cast the alphabetical coding can be cast to np.nan before the entire feature category can be cast as a numeric column, however, after looking at the value_counts for each of categories in this feature, we can decide to leave it alone as there are a signficant numer of data points that use the alphabetical encoding:\n",
        "* ~~isic2c~~\n",
        "\n",
        "Can be cast to numeric:\n",
        "* ~~isic2l~~\n",
        "\n",
        "This feature seems to be a more granular subfeature of 'cntryrgn' and a few other of the country based features, however this feature has significantly more unique values (176 unique values). As it is a sparser representation of the other superfeatures, it can be dropped:\n",
        "* ~~reg_tl2~~\n",
        "\n",
        "There are a lot of missing values for the lng_home feature when we look at the value_counts. If questionnaire was completed in English, and the language of the exercise was done in English, then may be safe to assume that the primary language spoken at home maybe the same language. Therefore, we will apply this logic for all the missing values in the lng_home feature. These are the language categorical variables.\n",
        "* ~~lng_bq~~\n",
        "* ~~lng_ci~~\n",
        "* ~~lng_home~~\n",
        "\n",
        "Some features have exactly only one categorical value. These can be dropped as they do no add further information\n",
        "* ~~uni -> only value is 'cl3770'~~\n",
        "\n",
        "Instead of 'No' as the other binary value in a categorical feature, this feature has NaN instead... This value will have to be replaced with the string 'No':\n",
        "* ~~v270~~\n",
        "\n",
        "Some features have a large category space, which would balloon the dataset once onehot-encoded. There are 24 columns with more than 10 categories and they are: \n",
        "* ['isic1l', 'ageg5lfs', 'v71', 'earnmthalldcl', 'earnhrdcl', 'ctryqual', 'cntryid', 'reg_tl2', 'cnt_brth', 'isic1c', 'lng_ci', 'cntryid_e', 'v92', 'v59', 'edcat8', 'v31', 'lng_bq', 'v19', 'isic2l', 'lng_home', 'birthrgn', 'v212', 'earnhrbonusdcl', 'isic2c']\n",
        "\n",
        "There are also many seemingly highly correlated and repeated features that can be dropped which pertain to information about which country or region an employee is from:\n",
        "* 'ctryrgn', 'ctryqual', 'birthrgn', 'cntryid_e', 'cntryid'\n",
        "\n",
        "Our best bet would be to select to keep just one of these features - preferrably a feature with a relatively low number of categories, and then drop the rest.\n",
        "\n",
        "Therefore we will try to do our best to reduce the number of categories by possibly coming up with higher level categories to encompass these features or cast them as numeric features if the majority of their values are numerically encoded."
      ]
    },
    {
      "cell_type": "markdown",
      "metadata": {
        "id": "hbP4o1MWdok5",
        "colab_type": "text"
      },
      "source": [
        "## Pre-Imputer Imputation for categorical features\n",
        "Therefore, some of the imputation and preprocessing can be done before the encoding step of the preprocessing portion of the pipeline (dropping,casting, merging, etc). The next few segments of code will go through the next preprocessing steps as outlined above."
      ]
    },
    {
      "cell_type": "code",
      "metadata": {
        "id": "PmrAYnBWVYco",
        "colab_type": "code",
        "colab": {
          "base_uri": "https://localhost:8080/",
          "height": 34
        },
        "outputId": "fc381958-0ce3-4794-fde1-0f112bb9af71"
      },
      "source": [
        "# NaN's -> 'No' for 'v270'\n",
        "\n",
        "values = {'v270': 'No'}\n",
        "categorical_df.fillna(value=values, inplace=True)\n",
        "print(categorical_df['v270'].unique())"
      ],
      "execution_count": 20,
      "outputs": [
        {
          "output_type": "stream",
          "text": [
            "['Yes' 'No']\n"
          ],
          "name": "stdout"
        }
      ]
    },
    {
      "cell_type": "code",
      "metadata": {
        "id": "TWjzCLPDFXc4",
        "colab_type": "code",
        "colab": {}
      },
      "source": [
        "# address missing values for lng_home  and the other language features\n",
        "\n",
        "categorical_df['lng_home'] = categorical_df['lng_bq'].where(categorical_df['lng_bq'] == categorical_df['lng_ci'])\n",
        "\n",
        "# language features\n",
        "import re\n",
        "language = ['lng_bq', 'lng_ci', 'lng_home']\n",
        "num_pattern = re.compile('\\d\\d\\d')\n",
        "\n",
        "# replace the 999 value with np.nan\n",
        "for col in language:\n",
        "    categorical_df[col].replace(to_replace=num_pattern, value=np.nan, inplace=True)"
      ],
      "execution_count": 0,
      "outputs": []
    },
    {
      "cell_type": "code",
      "metadata": {
        "id": "ly3EHoPutlhU",
        "colab_type": "code",
        "outputId": "e1be672d-e748-4a2b-e297-cb1d4614669f",
        "colab": {
          "base_uri": "https://localhost:8080/",
          "height": 52
        }
      },
      "source": [
        "# categorical features with only one value\n",
        "\n",
        "for column in categorical_df.columns:\n",
        "    if len(categorical_df[column].unique()) <=1:\n",
        "        print(column)\n",
        "        print(\"The only unique value for {} is: {}\".format(column, categorical_df[column].unique()))\n",
        "\n",
        "# dropping column 'uni' with value only cl3770\n",
        "categorical_df.drop(columns='uni', inplace=True, axis=1)"
      ],
      "execution_count": 23,
      "outputs": [
        {
          "output_type": "stream",
          "text": [
            "uni\n",
            "The only unique value for uni is: ['cl3770']\n"
          ],
          "name": "stdout"
        }
      ]
    },
    {
      "cell_type": "code",
      "metadata": {
        "id": "hTC2aJ9VwLpC",
        "colab_type": "code",
        "colab": {}
      },
      "source": [
        "# cast 'isic2l' to numeric\n",
        "\n",
        "categorical_df['isic2l'] = categorical_df['isic2l'].fillna(-1)\n",
        "categorical_df['isic2l'] = categorical_df['isic2l'].astype(int)\n",
        "categorical_df['isic2l'] = categorical_df['isic2l'].astype(str)\n",
        "categorical_df['isic2l'] = categorical_df['isic2l'].replace('-1', np.nan)\n",
        "numeric_df['isic2l'] = categorical_df['isic2l'].values.astype(np.float64)\n",
        "categorical_df.drop(columns='isic2l', axis=1, inplace=True)"
      ],
      "execution_count": 0,
      "outputs": []
    },
    {
      "cell_type": "code",
      "metadata": {
        "id": "HRL3vQQ0zGen",
        "colab_type": "code",
        "colab": {}
      },
      "source": [
        "# use regex to replace the letter values with np.nan values for feature v71\n",
        "import re\n",
        "pattern = re.compile(\"[a-zA-Z]\")\n",
        "\n",
        "categorical_df['v71'].replace(to_replace=pattern, value=np.nan, inplace=True)\n",
        "\n",
        "# then we cast the stringed numeric values in this column to int or float\n",
        "numeric_df['v71'] = categorical_df['v71'].astype(np.float64)\n",
        "categorical_df.drop(columns='v71', inplace=True, axis=1)"
      ],
      "execution_count": 0,
      "outputs": []
    },
    {
      "cell_type": "code",
      "metadata": {
        "id": "j3tGFRn35ETy",
        "colab_type": "code",
        "colab": {}
      },
      "source": [
        "# addressing the missing values of feature reg_tl2\n",
        "\n",
        "categorical_df.drop(columns='reg_tl2', inplace=True, axis=1)"
      ],
      "execution_count": 0,
      "outputs": []
    },
    {
      "cell_type": "code",
      "metadata": {
        "id": "d3wrlIP8DQzP",
        "colab_type": "code",
        "colab": {}
      },
      "source": [
        "# from here, we select only one of these to keep and we will drop the rest\n",
        "\n",
        "country_features = ['ctryrgn', 'ctryqual', 'birthrgn', 'cntryid_e', 'cntryid']\n",
        "# categorical_df[country_features].head()\n",
        "\n",
        "# we decide to only keep the ctryrgn and drop the rest for now, however, cntryid is another candidate to keep if we wanted more granularity with respect to country information\n",
        "categorical_df.drop(columns=['ctryqual', 'birthrgn', 'cntryid_e', 'cntryid'], inplace=True, axis=1)"
      ],
      "execution_count": 0,
      "outputs": []
    },
    {
      "cell_type": "code",
      "metadata": {
        "id": "Qq7HttdTEh3s",
        "colab_type": "code",
        "colab": {}
      },
      "source": [
        "# we drop 'ageg10lfs_t' because it contains identical values to 'ageg10lfs'\n",
        "\n",
        "categorical_df.drop(columns='ageg10lfs_t', inplace=True, axis=1)"
      ],
      "execution_count": 0,
      "outputs": []
    },
    {
      "cell_type": "markdown",
      "metadata": {
        "id": "Hf3eCPwUqDKM",
        "colab_type": "text"
      },
      "source": [
        "# Encoding the Categorical Variables\n",
        "\n",
        "We pick an encoding scheme to create dummy encoded categorical variables from our large array of categorical variables"
      ]
    },
    {
      "cell_type": "code",
      "metadata": {
        "id": "0yqQEDWtygmQ",
        "colab_type": "code",
        "colab": {}
      },
      "source": [
        "# Here, we choose to choose a simple one-hot encoding scheme for our features\n",
        "from sklearn.preprocessing import LabelEncoder\n",
        "enc = LabelEncoder()\n",
        "enc.fit(np.array(drop_null_missing_df))\n",
        "encoded_df = enc.transform(drop_null_missing_df)\n",
        "print(encoded_df(5))"
      ],
      "execution_count": 0,
      "outputs": []
    },
    {
      "cell_type": "code",
      "metadata": {
        "id": "vmwWHJJKIPKg",
        "colab_type": "code",
        "colab": {}
      },
      "source": [
        "# frequency numeric distribution of features \n",
        "feature_labels = [i for i in drop_null_missing_df.columns if i != \"job_performance\"]\n",
        "\n",
        "for i in feature_labels[:5]:\n",
        "    print(\"###### {} ######\\n\".format(i))\n",
        "    print(drop_null_missing_df[i].value_counts())\n",
        "    print(\"\\n\")"
      ],
      "execution_count": 0,
      "outputs": []
    },
    {
      "cell_type": "markdown",
      "metadata": {
        "id": "HCFvnIGg4aUp",
        "colab_type": "text"
      },
      "source": [
        "## Imputation for Missing Values\n",
        "We want to then use an informed approach to imputation of missing data values. One method could be the use of KNN imputation or random forest and proximity matrix to imputing the missing values for our dataset with some similarity metric."
      ]
    },
    {
      "cell_type": "code",
      "metadata": {
        "id": "9GHjiOiAh8J4",
        "colab_type": "code",
        "colab": {}
      },
      "source": [
        "!pip install missingpy"
      ],
      "execution_count": 0,
      "outputs": []
    },
    {
      "cell_type": "code",
      "metadata": {
        "id": "LM23FWFvlWJB",
        "colab_type": "code",
        "colab": {}
      },
      "source": [
        "# missing value imputation with Random Forest\n",
        "# from missingpy import MissForest"
      ],
      "execution_count": 0,
      "outputs": []
    },
    {
      "cell_type": "code",
      "metadata": {
        "id": "YSEwyHGiiBFe",
        "colab_type": "code",
        "colab": {}
      },
      "source": [
        "# missing value imputation with KNN\n",
        "from missingpy import KNNImputer\n",
        "\n",
        "knn = KNNImputer(missing_values=\"NaN\", n_neighbors=3, weights=\"uniform\",\n",
        "                 metric=\"masked_euclidean\", row_max_missing=0.5,\n",
        "                 col_max_missing=0.8, copy=True)\n",
        "\n",
        "knn_missing_imputation = knn.fit_transform(final_kept_df)\n",
        "\n",
        "print(type(knn_missing_imputation))"
      ],
      "execution_count": 0,
      "outputs": []
    },
    {
      "cell_type": "markdown",
      "metadata": {
        "id": "iCen5qo8XrY3",
        "colab_type": "text"
      },
      "source": [
        "## Scaling and Normalization\n",
        "\n",
        "This is a step we may or may not need to undertake based on the regressor that we choose to model with."
      ]
    },
    {
      "cell_type": "markdown",
      "metadata": {
        "id": "um24MZGnJjqm",
        "colab_type": "text"
      },
      "source": [
        "## Feature Selection: Forward Selection\n",
        "\n",
        "We enter our feature selection step of the pipeline and we use an out of the box forward feature selection method from ML XTend to pick the features that result in the best predictive ability of our models. There are a number of different feature selection techniques that we could use (and we may explore that in the future), but for now, using a simple forward selection process is what we are going to stick with."
      ]
    },
    {
      "cell_type": "markdown",
      "metadata": {
        "id": "BX1-22kQqcyB",
        "colab_type": "text"
      },
      "source": [
        "# Dev Branch 1 - Data Visualization for EDA"
      ]
    },
    {
      "cell_type": "code",
      "metadata": {
        "id": "2dPcM7UuxkWK",
        "colab_type": "code",
        "colab": {}
      },
      "source": [
        "# Here, we plot the several categorical variables of interest against the job performance metric to visualize the distribution of job performance among the categories\n",
        "# Make the plots a little bigger\n",
        "sns.set(rc={'figure.figsize':(11.7,8.27)})\n",
        "\n",
        "feature_labels = [i for i in drop_null_missing_df.columns if i != \"job_performance\"]\n",
        "\n",
        "# create a FacetGrib object, on which to map your dataframe data onto\n",
        "g = sns.FacetGrid(drop_null_missing_df, col=\"cntryid\")\n",
        "\n",
        "# Using the FacetGrid.map() function, we will be able to visualize our data. \n",
        "# Provide the map() function with a mapping function and the name of the numeric class variable in your dataframe to plot against\n",
        "# each of your categorical variables\n",
        "g.map(plt.hist, \"job_performance\", alpha=0.7)\n",
        "g.add_legend()"
      ],
      "execution_count": 0,
      "outputs": []
    },
    {
      "cell_type": "code",
      "metadata": {
        "id": "ZlvfFNv6So1S",
        "colab_type": "code",
        "colab": {}
      },
      "source": [
        "# Distribution plots per categorical variable. Using A facetGrid object with the sns.distplot mapping\n",
        "# function works a little differently so you will have to specify a things like row_order\n",
        "categories_list = drop_null_missing_df.cntryid.value_counts().index\n",
        "\n",
        "g = sns.FacetGrid(drop_null_missing_df, row=\"cntryid\", row_order=categories_list,\n",
        "                  height=2.0, aspect=3,)\n",
        "g.map(sns.distplot, \"job_performance\", hist=True, rug=True);"
      ],
      "execution_count": 0,
      "outputs": []
    },
    {
      "cell_type": "code",
      "metadata": {
        "id": "v4VMMccVCdHX",
        "colab_type": "code",
        "colab": {}
      },
      "source": [
        "# groupby country id\n",
        "grouped = drop_null_missing_df.groupby(\"cntryid\").groups\n",
        "print(grouped)"
      ],
      "execution_count": 0,
      "outputs": []
    },
    {
      "cell_type": "code",
      "metadata": {
        "id": "6CO8samBPrJ9",
        "colab_type": "code",
        "colab": {}
      },
      "source": [
        "# Plot the facetgrid for every feature against the job_performance metric\n",
        "for feature in feature_labels:\n",
        "    cat_list = drop_null_missing_df[feature].value_counts().index\n",
        "    g = sns.FacetGrid(drop_null_missing_df, row=feature, row_order=cat_list,\n",
        "                      height=1.7, aspect=4)\n",
        "    g.map(sns.distplot, \"job_performance\", hist=True, rug=True);"
      ],
      "execution_count": 0,
      "outputs": []
    },
    {
      "cell_type": "markdown",
      "metadata": {
        "id": "O_sjwvIKpwbn",
        "colab_type": "text"
      },
      "source": [
        "# Dev Branch 1 - Handling Missing Values - Imputation Step\n",
        "\n",
        "When we pick an imputation strategy for the our data, we have to consider our data is numeric or non-numeric. We also have to consider whether the variable is nominally categorical or ordinally categorical to determine what type of transformative encoding scheme we can apply to those features.\n",
        "\n",
        "We also have to consider that the implications that one-hot encoding would have on our tabular dataset when we already have so many features."
      ]
    },
    {
      "cell_type": "markdown",
      "metadata": {
        "id": "rpmKCm-kGL1w",
        "colab_type": "text"
      },
      "source": [
        "## Imputation with a Strategy - EDA\n",
        "\n",
        "Before we even start imputng, we would want to visually understand the distribution and nature of our missing data.  For example, if the data has seasonality, it would make little sense to impute with a mean value, however - if the data are constant, it may a good idea to impute the missing data value with the mean or median value."
      ]
    },
    {
      "cell_type": "code",
      "metadata": {
        "id": "kYJag0GyFEhW",
        "colab_type": "code",
        "colab": {}
      },
      "source": [
        "# Plot the missing data features\n",
        "\n",
        "missing_val_features = [feature for feature in df if df[feature].isnull().sum() != 0]\n",
        "\n",
        "print(\"There are {} features with missing values\".format(len(missing_val_features)))\n",
        "\n",
        "for i in missing_val_features:\n",
        "    print(\"### {} ###\".format(i))\n",
        "    print(df[i].value_counts())\n",
        "    print(\"\\n\")"
      ],
      "execution_count": 0,
      "outputs": []
    },
    {
      "cell_type": "code",
      "metadata": {
        "id": "LO-VRi-hUgab",
        "colab_type": "code",
        "colab": {}
      },
      "source": [
        "# each element in df.dtypes is the datatype of that feature\n",
        "print(df[missing_val_features].dtypes[:10]) # i is the string of datatypes"
      ],
      "execution_count": 0,
      "outputs": []
    },
    {
      "cell_type": "code",
      "metadata": {
        "id": "96-NzVzrO_Oi",
        "colab_type": "code",
        "colab": {}
      },
      "source": [
        "# have a look at the distribution of the missing values in the features that were dropped containing\n",
        "# missing values\n",
        "\n",
        "# for feature in missing_val_features:\n",
        "#     if df[feature].dtype == \"object\":\n",
        "#         fig = plt.figure(1, figsize=(8, 14), frameon=False, dpi=100)\n",
        "#         g = sns.FacetGrid(df, col=feature)\n",
        "#         g.map(plt.hist, \"job_performance\", alpha=0.7)"
      ],
      "execution_count": 0,
      "outputs": []
    },
    {
      "cell_type": "markdown",
      "metadata": {
        "id": "ZKKHKBn3vo6F",
        "colab_type": "text"
      },
      "source": [
        "## Univariate Crosstab Analysis\n",
        "\n",
        "From what we can see, a portion of our data are categorical variables and it will be important to visually explore and visualize using cross tabulation, which is available from the pandas API."
      ]
    },
    {
      "cell_type": "markdown",
      "metadata": {
        "id": "ZLK_6SQQyArr",
        "colab_type": "text"
      },
      "source": [
        "### Cross Tab Frequency Plots of Features that were dropped due to missing values"
      ]
    },
    {
      "cell_type": "code",
      "metadata": {
        "id": "E0uHYdP5vlcw",
        "colab_type": "code",
        "colab": {}
      },
      "source": [
        "# # create a cross tabulation for each categorical feature and then plot it\n",
        "# # These are frequency plots of each of the values that are categorical\n",
        "# # these plots include the features that were dro\n",
        "\n",
        "# for feature in missing_val_features:\n",
        "#     if df[feature].dtype == \"object\":\n",
        "#         tabulation = pd.crosstab(index=df[feature], columns=\"count\")\n",
        "#         tabulation.plot.bar(color=\"green\")"
      ],
      "execution_count": 0,
      "outputs": []
    },
    {
      "cell_type": "markdown",
      "metadata": {
        "id": "Ol9ldL7ZyHVM",
        "colab_type": "text"
      },
      "source": [
        "### Cross tab frequency plots of categorical features that did not contain any missing values"
      ]
    },
    {
      "cell_type": "code",
      "metadata": {
        "id": "GSLNED39yG9K",
        "colab_type": "code",
        "colab": {}
      },
      "source": [
        "# for feature in feature_labels:\n",
        "#     if drop_null_missing_df[feature].dtype == \"object\":\n",
        "#         tabulation = pd.crosstab(index=drop_null_missing_df[feature], columns=\"count\")\n",
        "#         tabulation.plot.bar(color=\"purple\")"
      ],
      "execution_count": 0,
      "outputs": []
    },
    {
      "cell_type": "markdown",
      "metadata": {
        "id": "D5bVhtyp1bOW",
        "colab_type": "text"
      },
      "source": [
        "## Bivarate Analysis using Box Plots"
      ]
    },
    {
      "cell_type": "code",
      "metadata": {
        "id": "LBN6aCyO1kWP",
        "colab_type": "code",
        "colab": {}
      },
      "source": [
        "# sns.set(style=\"whitegrid\")\n",
        "\n",
        "# for feature in feature_labels:\n",
        "#     if drop_null_missing_df[feature].dtype == \"object\":\n",
        "#         g = sns.catplot(x=feature, \n",
        "#                     y=\"job_performance\", \n",
        "#                     data=drop_null_missing_df,\n",
        "#                     palette=\"Set2\",\n",
        "#                    kind=\"box\")\n",
        "#         g.set_xticklabels(rotation=90)"
      ],
      "execution_count": 0,
      "outputs": []
    },
    {
      "cell_type": "markdown",
      "metadata": {
        "id": "buUHOd-mmcBO",
        "colab_type": "text"
      },
      "source": [
        "# Dev Branch 1 - Pre-Processing: Encoding Categorical Variables\n",
        "\n",
        "For simplicity sake, we go with a one hot encoding scheme for our variables, knowing full well that this will lead to a very sparse datset. We will try and not think too hard about this at this time."
      ]
    },
    {
      "cell_type": "code",
      "metadata": {
        "id": "e0-9CVkcnFQ7",
        "colab_type": "code",
        "colab": {}
      },
      "source": [
        "features_df = drop_null_missing_df.loc[:, drop_null_missing_df.columns != 'job_performance'] # print(pd.get_dummies(data))\n",
        "\n",
        "# Separate out the features from the class\n",
        "dummy_features = pd.get_dummies(drop_null_missing_df.loc[:, drop_null_missing_df.columns != 'job_performance'])\n",
        "X = dummy_features.values\n",
        "y = drop_null_missing_df.loc[:, \"job_performance\"].values\n",
        "\n",
        "dummy_features = pd.get_dummies(drop_null_missing_df.loc[:, drop_null_missing_df.columns != 'job_performance'])\n",
        "dummy_features[\"job_performance\"] = y\n",
        "\n",
        "print(\"Shape of features dataframe before dummification: {}\".format(features_df.shape))\n",
        "print(\"Shape of features dataframe after dummification: {}\".format(dummy_features.shape))\n",
        "print(\"The dataframe has increase {0:.1f}x in feature size after dummification\".format(dummy_features.shape[1]/features_df.shape[1]))"
      ],
      "execution_count": 0,
      "outputs": []
    },
    {
      "cell_type": "code",
      "metadata": {
        "id": "r_7DeDfdx6lB",
        "colab_type": "code",
        "colab": {}
      },
      "source": [
        "# we also need to reset the index\n",
        "dummy_features = dummy_features.reset_index()\n",
        "dummy_features = dummy_features.iloc[:, 2:]"
      ],
      "execution_count": 0,
      "outputs": []
    },
    {
      "cell_type": "markdown",
      "metadata": {
        "id": "P5sUalIx6kBx",
        "colab_type": "text"
      },
      "source": [
        "Indeed, we are working with a much more sparse dataset after we have assigned dummy variables to the categorical features"
      ]
    },
    {
      "cell_type": "code",
      "metadata": {
        "id": "rwcHh42w6rYD",
        "colab_type": "code",
        "colab": {}
      },
      "source": [
        "# Due to the sheer volume of encodings for these listed columns, we will keep these as typed\n",
        "# as integers as opposed to the nominal nature of the their encoding\n",
        "\n",
        "iscolc_columns = [\"isco1c\", \"isco2c\", \"isco1l\", \"isco2l\"]\n",
        "for col in iscolc_columns:\n",
        "    print(f\"#### {i} ###\")\n",
        "    print(drop_null_missing_df[col].value_counts()) #remember, value_counts() is a method\n",
        "    print(\"\\n\")"
      ],
      "execution_count": 0,
      "outputs": []
    },
    {
      "cell_type": "markdown",
      "metadata": {
        "id": "1ThimKJveRr3",
        "colab_type": "text"
      },
      "source": [
        " Multiple Correspondence Analysis with the mca package\n",
        " \n",
        " tetrachoric correlation matrix"
      ]
    },
    {
      "cell_type": "markdown",
      "metadata": {
        "id": "wVWlxUBCp4CH",
        "colab_type": "text"
      },
      "source": [
        "# Separate the Features from the Class Variable"
      ]
    },
    {
      "cell_type": "markdown",
      "metadata": {
        "id": "hvaQzvVdwFf7",
        "colab_type": "text"
      },
      "source": [
        "## Subsetting the dataset\n",
        "We are randomly sampling the dataset for  subset that data so that we can  train much faster."
      ]
    },
    {
      "cell_type": "code",
      "metadata": {
        "id": "GgM1ZnKNwEgB",
        "colab_type": "code",
        "colab": {}
      },
      "source": [
        "subdf = df.sample(n=int(0.6*df.shape[0]), random_state=123)\n",
        "subdf.head(2)"
      ],
      "execution_count": 0,
      "outputs": []
    },
    {
      "cell_type": "markdown",
      "metadata": {
        "id": "nWi977G3nTQs",
        "colab_type": "text"
      },
      "source": [
        "## Non-scaled data partitioning"
      ]
    },
    {
      "cell_type": "code",
      "metadata": {
        "id": "8QQul_MRo-Qn",
        "colab_type": "code",
        "colab": {}
      },
      "source": [
        "from sklearn.model_selection import train_test_split\n",
        "\n",
        "# split into training and testing sets\n",
        "X_train, X_test, y_train, y_test = train_test_split(X,y,test_size=0.30,random_state=42)"
      ],
      "execution_count": 0,
      "outputs": []
    },
    {
      "cell_type": "markdown",
      "metadata": {
        "id": "5H6or-lC9uM2",
        "colab_type": "text"
      },
      "source": [
        "## Standardizing and Normalizing our data\n",
        "\n",
        "Some of the models we use are sensitive to scaling and perform better with it. Some do not require it."
      ]
    },
    {
      "cell_type": "code",
      "metadata": {
        "id": "um-sYGcA9thZ",
        "colab_type": "code",
        "colab": {}
      },
      "source": [
        "from sklearn.preprocessing import StandardScaler\n",
        "\n",
        "scaler = StandardScaler(copy=True, with_mean=True, with_std=True)\n",
        "scaled_X = scaler.fit_transform(X)\n",
        "scaled_y = scaler.fit_transform(y.reshape(-1,1))\n",
        "\n",
        "# split into training and testing sets\n",
        "X_train_scaled, X_test_scaled, y_train_scaled, y_test_scaled = train_test_split(\n",
        "                                                    scaled_X,\n",
        "                                                    y,\n",
        "                                                    test_size=0.30,\n",
        "                                                    random_state=42\n",
        "                                                   )"
      ],
      "execution_count": 0,
      "outputs": []
    },
    {
      "cell_type": "markdown",
      "metadata": {
        "id": "kofMoVAHcmPm",
        "colab_type": "text"
      },
      "source": [
        "# Dev Branch 1a - Create Null Models\n",
        "\n",
        "In this block, we will create our null models to build upon. We will be using SVR, Linear Regression, MLPs and simple neural networks to start off."
      ]
    },
    {
      "cell_type": "markdown",
      "metadata": {
        "id": "W3GuRO7GLst-",
        "colab_type": "text"
      },
      "source": [
        "## Dev Branch 1a -  Simple Linear Regression"
      ]
    },
    {
      "cell_type": "code",
      "metadata": {
        "id": "tyf23iwzclap",
        "colab_type": "code",
        "colab": {}
      },
      "source": [
        "# Simple Linear Model\n",
        "\n",
        "from sklearn.linear_model import LinearRegression\n",
        "\n",
        "# normalization of your features is not advised here because it makes it hard to interpret \n",
        "# the coefficients and they don't normalize well.\n",
        "\n",
        "lm = LinearRegression(fit_intercept=True, normalize=True, copy_X=True, n_jobs=None)\n",
        "lm.fit(X_train, y_train)\n",
        "\n",
        "print(\"Linear Model Score: {}\\n\".format(lm.score(X_train, y_train)))\n",
        "print(\"Linear Model Coefficient:\\n {}\\n\".format(lm.coef_[:10]))\n",
        "print(\"Linear Model Intercept: {}\\n\".format(lm.intercept_ ))\n",
        "y_pred = lm.predict(X_test)"
      ],
      "execution_count": 0,
      "outputs": []
    },
    {
      "cell_type": "code",
      "metadata": {
        "id": "Y7iZFhFgFiqN",
        "colab_type": "code",
        "colab": {}
      },
      "source": [
        "inverse_y_pred = scaler.inverse_transform(y_pred)\n",
        "print(\"Inverse transform of mse pred\\n{}\\n\".format(inverse_y_pred))"
      ],
      "execution_count": 0,
      "outputs": []
    },
    {
      "cell_type": "markdown",
      "metadata": {
        "id": "m47JngTwrH3h",
        "colab_type": "text"
      },
      "source": [
        "## Conclusion\n",
        "Surprisingly, a high dimensional linear model predicting job performance scores, with default parameters,  returns a relatively high coefficient of determination R2 of 0.33490222049791485, wrt to the number of features."
      ]
    },
    {
      "cell_type": "markdown",
      "metadata": {
        "id": "Wzd0EbhRPZ0e",
        "colab_type": "text"
      },
      "source": [
        "## Dev Branch 1a - Support Vector Regression"
      ]
    },
    {
      "cell_type": "code",
      "metadata": {
        "id": "NBiFcxr_PX1w",
        "colab_type": "code",
        "colab": {}
      },
      "source": [
        "# Support Vector Machine for Regression\n",
        "from sklearn.svm import SVR\n",
        "import timeit\n",
        "\n",
        "svr = SVR(kernel=\"rbf\", degree=3, gamma=\"auto_deprecated\", coef0=0.0, tol=0.001, \n",
        "          C=1.0, epsilon=0.1, shrinking=True, cache_size=200, verbose=False, \n",
        "          max_iter=-1)\n",
        "\n",
        "# Using the normalized inputs\n",
        "start_time = timeit.default_timer()\n",
        "y_pred = svr.fit(X_train_scaled, y_train)\n",
        "end_time = timeit.default_timer()\n",
        "print(\"Run time: {}\".format(end_time - start_time))\n",
        "\n",
        "print(\"SVR Model Score: {}\\n\".format(svr.score(X_train_scaled, y_train)))\n",
        "print(\"SVR Model Params:\\n {}\\n\".format(svr.get_params))\n",
        "y_pred = svr.predict(X_test_scaled)\n",
        "print(\"y_pred: \\n{}\".format(y_pred))\n",
        "print()"
      ],
      "execution_count": 0,
      "outputs": []
    },
    {
      "cell_type": "markdown",
      "metadata": {
        "id": "dYLGKWRBqfLQ",
        "colab_type": "text"
      },
      "source": [
        "## Conclusion\n",
        "As we can expect from this high dimensional data modelling, we get a terrible R^2 coefficient of determination of the prediction error of 0.09891703260752771"
      ]
    },
    {
      "cell_type": "markdown",
      "metadata": {
        "id": "LDqlyEnnYaje",
        "colab_type": "text"
      },
      "source": [
        "## Dev Branch 1a - Support Vector Regression with Different kernels"
      ]
    },
    {
      "cell_type": "code",
      "metadata": {
        "id": "Gq-Ay9CeYXbG",
        "colab_type": "code",
        "colab": {}
      },
      "source": [
        "svr_rbf = SVR(kernel='rbf', C=100, gamma=0.1, epsilon=.1)\n",
        "svr_lin = SVR(kernel='linear', C=100, gamma='auto')\n",
        "svr_poly = SVR(kernel='poly', C=100, gamma='auto', degree=3, epsilon=.1,\n",
        "               coef0=1)\n",
        "\n",
        "lw = 2\n",
        "\n",
        "svrs = [svr_rbf, svr_lin, svr_poly]\n",
        "kernel_label = ['RBF', 'Linear', 'Polynomial']\n",
        "model_color = ['m', 'c', 'g']"
      ],
      "execution_count": 0,
      "outputs": []
    },
    {
      "cell_type": "code",
      "metadata": {
        "id": "aQVc93oEvdNO",
        "colab_type": "code",
        "colab": {}
      },
      "source": [
        "y_train_scaled"
      ],
      "execution_count": 0,
      "outputs": []
    },
    {
      "cell_type": "code",
      "metadata": {
        "id": "32_XEagzYlSj",
        "colab_type": "code",
        "colab": {}
      },
      "source": [
        "# plot the results\n",
        "# ig, axes = plt.subplots(nrows=1, ncols=3, figsize=(15, 10), sharey=True)\n",
        "# for ix, svr in enumerate(svrs):\n",
        "#     axes[ix].plot(X_train_scaled, svr.fit(X_train_scaled, y_train_scaled).predict(X_test_scaled), color=model_color[ix], lw=lw,\n",
        "#                   label='{} model'.format(kernel_label[ix]))\n",
        "#     axes[ix].scatter(X_train_scaled[svr.support_], \n",
        "#                      y_train_scaled[svr.support_], \n",
        "#                      facecolor=\"none\", \n",
        "#                      edgecolor=model_color[ix], \n",
        "#                      s=50, \n",
        "#                      label='{} support vectors'.format(kernel_label[ix]))\n",
        "#     axes[ix].scatter(X_train_scaled[np.setdiff1d(np.arange(len(X_train_scaled)), svr.support_)], \n",
        "#                      y_train_scaled[np.setdiff1d(np.arange(len(X_train_scaled)), svr.support_)],\n",
        "#                      facecolor=\"none\", \n",
        "#                      edgecolor=\"k\", s=50,\n",
        "#                      label='other training data')\n",
        "#     axes[ix].legend(loc='upper center', bbox_to_anchor=(0.5, 1.1),\n",
        "#                     ncol=1, fancybox=True, shadow=True)\n",
        "\n",
        "# fig.text(0.5, 0.04, 'data', ha='center', va='center')\n",
        "# fig.text(0.06, 0.5, 'target', ha='center', va='center', rotation='vertical')\n",
        "# fig.suptitle(\"Support Vector Regression\", fontsize=14)\n",
        "# plt.show()"
      ],
      "execution_count": 0,
      "outputs": []
    },
    {
      "cell_type": "markdown",
      "metadata": {
        "colab_type": "text",
        "id": "uovtpBXaxkgm"
      },
      "source": [
        "# 1b - Using Feature Extraction and Factor Analysis\n",
        "\n",
        "We run multiple null models, after having reduced the number of dimensions and exploring the components of maximum variance from our data.\n",
        "\n",
        "Assumptions for Factor Analysis\n",
        "\n",
        "Assumptions:\n",
        "\n",
        "1. There are no outliers in data.\n",
        "2. Sample size should be greater than the factor.\n",
        "3. There should not be perfect multicollinearity.\n",
        "4. There should not be homoscedasticity between the variables.\n",
        "\n",
        "\n",
        "Types of Factor Analysis\n",
        "\n",
        "* Exploratory Factor Analysis: It is the most popular factor analysis approach among social and management researchers. Its basic assumption is that any observed variable is directly associated with any factor.\n",
        "\n",
        "* Confirmatory Factor Analysis (CFA): Its basic assumption is that each factor is associated with a particular set of observed variables. CFA confirms what is expected on the basic.\n"
      ]
    },
    {
      "cell_type": "markdown",
      "metadata": {
        "colab_type": "text",
        "id": "LQm04n3Kxkgu"
      },
      "source": [
        "## Dev Branch 1b - Simple Linear Regression"
      ]
    },
    {
      "cell_type": "code",
      "metadata": {
        "colab_type": "code",
        "id": "LZsUYhkdxkgx",
        "colab": {}
      },
      "source": [
        "# Simple Linear Model\n",
        "\n",
        "from sklearn.linear_model import LinearRegression\n",
        "\n",
        "# normalization of your features is not advised here because it makes it hard to interpret \n",
        "# the coefficients and they don't normalize well.\n",
        "\n",
        "lm = LinearRegression(fit_intercept=True, normalize=True, copy_X=True, n_jobs=None)\n",
        "lm.fit(X_train, y_train)\n",
        "\n",
        "print(\"Linear Model Score: {}\\n\".format(lm.score(X_train, y_train)))\n",
        "print(\"Linear Model Coefficient:\\n {}\\n\".format(lm.coef_))\n",
        "print(\"Linear Model Intercept: {}\\n\".format(lm.intercept_ ))\n",
        "y_pred = lm.predict(X_test)"
      ],
      "execution_count": 0,
      "outputs": []
    },
    {
      "cell_type": "markdown",
      "metadata": {
        "colab_type": "text",
        "id": "GJUmAHCBxkg_"
      },
      "source": [
        "## Plot SLR model performance"
      ]
    },
    {
      "cell_type": "code",
      "metadata": {
        "colab_type": "code",
        "id": "95QecFkUxkhB",
        "colab": {}
      },
      "source": [
        "# plt.scatter(X_train, y_train)\n",
        "# plt.plot(np.sort(X_test, axis=0),y_pred)\n",
        "# plt.show()"
      ],
      "execution_count": 0,
      "outputs": []
    },
    {
      "cell_type": "markdown",
      "metadata": {
        "colab_type": "text",
        "id": "J85swW5txkhH"
      },
      "source": [
        "## Dev Branch 1b -  Support Vector Regression"
      ]
    },
    {
      "cell_type": "code",
      "metadata": {
        "colab_type": "code",
        "id": "xM-HcU6hxkhI",
        "colab": {}
      },
      "source": [
        "# Support Vector Machine for Regression\n",
        "from sklearn.svm import SVR\n",
        "import timeit\n",
        "\n",
        "svr = SVR(kernel=\"rbf\", degree=3, gamma=\"auto_deprecated\", coef0=0.0, tol=0.001, \n",
        "          C=1.0, epsilon=0.1, shrinking=True, cache_size=200, verbose=False, \n",
        "          max_iter=-1)\n",
        "\n",
        "# X_train_scaled\n",
        "start_time = timeit.default_timer()\n",
        "y_pred = svr.fit(X_train, y_train)\n",
        "end_time = timeit.default_timer()\n",
        "print(\"Run time: {}\".format(end_time - start_time))\n",
        "\n",
        "print(\"SVR Model Score: {}\\n\".format(svr.score(X_train, y_train)))\n",
        "print(\"SVR Model Params:\\n {}\\n\".format(svr.get_params))\n",
        "y_pred = svr.predict(X_test)\n",
        "print(\"y_pred: \\n{}\".format(y_pred))"
      ],
      "execution_count": 0,
      "outputs": []
    },
    {
      "cell_type": "markdown",
      "metadata": {
        "colab_type": "text",
        "id": "V8Uc1rc6xkhR"
      },
      "source": [
        "## Plot SVR model performance"
      ]
    },
    {
      "cell_type": "code",
      "metadata": {
        "colab_type": "code",
        "id": "Dmq7b6t6xkhS",
        "colab": {}
      },
      "source": [
        "fig = plt.figure()\n",
        "plt.show()"
      ],
      "execution_count": 0,
      "outputs": []
    },
    {
      "cell_type": "code",
      "metadata": {
        "id": "JLZf-3Z2RlZ8",
        "colab_type": "code",
        "colab": {}
      },
      "source": [
        "# !pip install tpot"
      ],
      "execution_count": 0,
      "outputs": []
    },
    {
      "cell_type": "markdown",
      "metadata": {
        "colab_type": "text",
        "id": "1G9C7IiCxkhY"
      },
      "source": [
        "## Dev Branch 1b -TPOT Model Performance"
      ]
    },
    {
      "cell_type": "markdown",
      "metadata": {
        "id": "JdLlrOs5V0TN",
        "colab_type": "text"
      },
      "source": [
        "Teapot does hyperparameter tuning, model selection and preprocessing all in one pipeline. It takes a while to train the say the least. We will select the best parameter from training on the null dataset (without any feature engineering) to see if we can get a functioning model from this exercise"
      ]
    },
    {
      "cell_type": "code",
      "metadata": {
        "id": "FjhIijPNXEnN",
        "colab_type": "code",
        "colab": {}
      },
      "source": [
        "import timeit\n",
        "from tpot import TPOTClassifier\n",
        "from sklearn.metrics import (\n",
        "    confusion_matrix,\n",
        "    roc_auc_score,\n",
        "    precision_recall_fscore_support,\n",
        "    accuracy_score,\n",
        ")\n",
        "from pprint import pprint\n",
        "\n",
        "\n",
        "tpot = TPOTClassifier(generations=5, population_size=50, verbosity=2, n_jobs=-1)\n",
        "\n",
        "prec_rec_fsc_sup = [\"precision\", \"recall\", \"fscore\", \"support\"]\n",
        "\n",
        "start_time = timeit.default_timer()\n",
        "tpot.fit(X_train, y_train)\n",
        "y_pred = tpot.predict(X_test)\n",
        "end_time = timeit.default_timer()\n",
        "runtime = end_time - start_time\n",
        "print(f\"Total runtime for the {name} dataset: {runtime}s\")\n",
        "\n",
        "\n",
        "print(\"\\nConfusion Matrix for the {} dataset\\n{}\\n\".format(confusion_matrix(name, y_test, y_pred)))\n",
        "\n",
        "print(\"Precision/Recall/FScore/Support for the {} dataset\".format(name))\n",
        "for met, val in zip(prec_rec_fsc_sup, precision_recall_fscore_support(y_test, y_pred)):\n",
        "    pprint(\"{}: {}\".format(met, val))\n",
        "\n",
        "print(\"Accuracy score for the {} dataset: {}\".format(name, accuracy_score(y_test, y_pred)))"
      ],
      "execution_count": 0,
      "outputs": []
    },
    {
      "cell_type": "markdown",
      "metadata": {
        "id": "BTfWeQOiXSSB",
        "colab_type": "text"
      },
      "source": [
        "\n",
        "# Best Performing Models\n",
        "1. LinearSVC\n",
        "Best pipeline: LinearSVC(PolynomialFeatures(input_matrix, degree=2, include_bias=False, interaction_only=False), C=20.0, dual=False, loss=squared_hinge, penalty=l2, tol=0.1)\n",
        "Total runtime: 45.1908969899996s\n",
        "Average Accuracy Score: 0.9666666666666667\n",
        "Best Accuracy Score: 0.9825757575757577\n",
        "\n",
        "2. \n",
        "\n",
        "# Wine Dataset\n",
        "1. GradientBoostingClassifier\n",
        "Best pipeline: GradientBoostingClassifier(input_matrix, learning_rate=0.5, max_depth=3, max_features=0.1, min_samples_leaf=1, min_samples_split=4, n_estimators=100, subsample=0.6500000000000001)\n",
        "Total runtime: 63.685036884999136s\n",
        "Average Accuracy Score: 0.9722222222222222\n",
        "Best Accuracy Score: 0.9928571428571429\n"
      ]
    },
    {
      "cell_type": "markdown",
      "metadata": {
        "id": "sQjp7HwPRlqa",
        "colab_type": "text"
      },
      "source": [
        "# Hyperparameter Tuning\n",
        "\n",
        "After a while, you start getting an intuition of which hyperparameters are more important than others."
      ]
    },
    {
      "cell_type": "code",
      "metadata": {
        "id": "o9-TvxlyRgNJ",
        "colab_type": "code",
        "colab": {}
      },
      "source": [
        "grid search, beam search, bayesian optimization, random search"
      ],
      "execution_count": 0,
      "outputs": []
    },
    {
      "cell_type": "markdown",
      "metadata": {
        "id": "a_lhLXO3ODHS",
        "colab_type": "text"
      },
      "source": [
        "The most successful people are the most effective communicators of results and your visualizations, and why your work matters and what you found"
      ]
    },
    {
      "cell_type": "markdown",
      "metadata": {
        "id": "mQ45fXy-SkH7",
        "colab_type": "text"
      },
      "source": [
        "# Things to do for next week\n",
        "\n",
        "combine all the models into a single classifier\n",
        "weighted stacking of models\n",
        "you can learn this weighting through meta weighting\n",
        "\n",
        "boosting is usually based on weak sequential classifiers\n",
        "this deals with hard edge cases with weak classifiers\n",
        "\n",
        "learn about about whether your model is over fitting\n",
        "to plot, save the RMSE, for each model, and then plot them on a line chart\n",
        "per epoch to see how the different models faired in terms of the number of \n",
        "accuracy vs epochs\n",
        "\n",
        "Also useful for plotting the effects of differnt settings fo different hyperparameters on performance using parallel coordinates\n",
        "\n",
        "experiment managers, such as Sacred, build your own tools for your own experiments. \n",
        "\n",
        "keep iterating model development\n",
        "\n",
        "Finally, think about how do you deploy this model.\n",
        "Deploy this with client facing user input through an app.\n",
        "\n",
        "How do you display this projec tot someone and make it look nice. \n",
        "\n",
        "Simple interface so that they can get predictions for the model. Think about the context , what the model does. \n",
        "Existing tools exist. Think about simple servers, where a user will serve a request, run the model, and then serve the prediction. Just in the http request. You don't even have an interface, you can just have a simple API\n",
        "\n",
        "read about how models get deployed at inference time. Look at AWS EC2 and lambda. How do you deal with data. do you persist those user requests, and things like.\n",
        "Read into flask.\n",
        "\n",
        "set up a siimple server that can handle requests. How to launch an ec2 (hosting servers) instqance and how to store data in an s3 bucket. Dynamo for databases. Lambda for inference that is adaptable.\n",
        "\n",
        "GCP, AWS. server.\n",
        "\n",
        "Think about presentation."
      ]
    }
  ]
}